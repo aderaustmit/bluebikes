{
 "cells": [
  {
   "cell_type": "code",
   "execution_count": 33,
   "id": "f2f393ca",
   "metadata": {},
   "outputs": [],
   "source": [
    "import numpy as np\n",
    "import matplotlib.pyplot as plt\n",
    "import pandas as pd\n",
    "import plotly.express as px\n",
    "\n",
    "# Project for UTM conversion (Universal Traverse Mercator Projection) https://github.com/Turbo87/utm\n",
    "import utm\n",
    "\n",
    "pd.set_option('display.max_columns', 500)"
   ]
  },
  {
   "cell_type": "code",
   "execution_count": 45,
   "id": "59fb3141",
   "metadata": {},
   "outputs": [],
   "source": [
    "#trips_raw = pd.read_csv('202209-bluebikes-tripdata.csv', header=0)\n",
    "salem_demand_raw = pd.read_csv('inputs/salem_demand.csv')\n",
    "salem_demand_raw.columns = [c.replace(' ', '_') for c in salem_demand_raw.columns]\n",
    "salem_demand_df = salem_demand_raw.drop(columns = ['Unnamed:_0'])"
   ]
  },
  {
   "cell_type": "code",
   "execution_count": 46,
   "id": "cdc58556",
   "metadata": {},
   "outputs": [
    {
     "data": {
      "text/html": [
       "<div>\n",
       "<style scoped>\n",
       "    .dataframe tbody tr th:only-of-type {\n",
       "        vertical-align: middle;\n",
       "    }\n",
       "\n",
       "    .dataframe tbody tr th {\n",
       "        vertical-align: top;\n",
       "    }\n",
       "\n",
       "    .dataframe thead th {\n",
       "        text-align: right;\n",
       "    }\n",
       "</style>\n",
       "<table border=\"1\" class=\"dataframe\">\n",
       "  <thead>\n",
       "    <tr style=\"text-align: right;\">\n",
       "      <th></th>\n",
       "      <th>station_id</th>\n",
       "      <th>Number</th>\n",
       "      <th>Name</th>\n",
       "      <th>Latitude</th>\n",
       "      <th>Longitude</th>\n",
       "      <th>Total_docks</th>\n",
       "      <th>count</th>\n",
       "      <th>demand</th>\n",
       "    </tr>\n",
       "  </thead>\n",
       "  <tbody>\n",
       "    <tr>\n",
       "      <th>0</th>\n",
       "      <td>516</td>\n",
       "      <td>T32001</td>\n",
       "      <td>Salem Ferry Landing</td>\n",
       "      <td>42.521893</td>\n",
       "      <td>-70.880691</td>\n",
       "      <td>11</td>\n",
       "      <td>1125</td>\n",
       "      <td>102.272727</td>\n",
       "    </tr>\n",
       "    <tr>\n",
       "      <th>1</th>\n",
       "      <td>517</td>\n",
       "      <td>T32002</td>\n",
       "      <td>Salem Willows Park</td>\n",
       "      <td>42.534669</td>\n",
       "      <td>-70.870214</td>\n",
       "      <td>15</td>\n",
       "      <td>2002</td>\n",
       "      <td>133.466667</td>\n",
       "    </tr>\n",
       "    <tr>\n",
       "      <th>2</th>\n",
       "      <td>518</td>\n",
       "      <td>T32003</td>\n",
       "      <td>Shetland Park - Congress at Peabody St</td>\n",
       "      <td>42.518368</td>\n",
       "      <td>-70.889524</td>\n",
       "      <td>11</td>\n",
       "      <td>1699</td>\n",
       "      <td>154.454545</td>\n",
       "    </tr>\n",
       "    <tr>\n",
       "      <th>3</th>\n",
       "      <td>519</td>\n",
       "      <td>T32004</td>\n",
       "      <td>Mayor Salvo Path at Mill St</td>\n",
       "      <td>42.518035</td>\n",
       "      <td>-70.895701</td>\n",
       "      <td>11</td>\n",
       "      <td>2664</td>\n",
       "      <td>242.181818</td>\n",
       "    </tr>\n",
       "    <tr>\n",
       "      <th>4</th>\n",
       "      <td>520</td>\n",
       "      <td>T32005</td>\n",
       "      <td>Salem MBTA - Washington at Federal St</td>\n",
       "      <td>42.523452</td>\n",
       "      <td>-70.896111</td>\n",
       "      <td>13</td>\n",
       "      <td>2947</td>\n",
       "      <td>226.692308</td>\n",
       "    </tr>\n",
       "    <tr>\n",
       "      <th>5</th>\n",
       "      <td>521</td>\n",
       "      <td>T32006</td>\n",
       "      <td>Lafayette at Leach St</td>\n",
       "      <td>42.511428</td>\n",
       "      <td>-70.891833</td>\n",
       "      <td>11</td>\n",
       "      <td>1114</td>\n",
       "      <td>101.272727</td>\n",
       "    </tr>\n",
       "    <tr>\n",
       "      <th>6</th>\n",
       "      <td>562</td>\n",
       "      <td>T32008</td>\n",
       "      <td>Hawthorne Boulevard</td>\n",
       "      <td>42.522371</td>\n",
       "      <td>-70.890333</td>\n",
       "      <td>9</td>\n",
       "      <td>2669</td>\n",
       "      <td>296.555556</td>\n",
       "    </tr>\n",
       "    <tr>\n",
       "      <th>7</th>\n",
       "      <td>570</td>\n",
       "      <td>T32009</td>\n",
       "      <td>Salem State University - North Campus</td>\n",
       "      <td>42.503332</td>\n",
       "      <td>-70.891444</td>\n",
       "      <td>11</td>\n",
       "      <td>779</td>\n",
       "      <td>70.818182</td>\n",
       "    </tr>\n",
       "    <tr>\n",
       "      <th>8</th>\n",
       "      <td>571</td>\n",
       "      <td>T32010</td>\n",
       "      <td>Forest River Park</td>\n",
       "      <td>42.506395</td>\n",
       "      <td>-70.886930</td>\n",
       "      <td>11</td>\n",
       "      <td>530</td>\n",
       "      <td>48.181818</td>\n",
       "    </tr>\n",
       "    <tr>\n",
       "      <th>9</th>\n",
       "      <td>572</td>\n",
       "      <td>T32011</td>\n",
       "      <td>Essex St at Dalton Parkway</td>\n",
       "      <td>42.516223</td>\n",
       "      <td>-70.905535</td>\n",
       "      <td>11</td>\n",
       "      <td>257</td>\n",
       "      <td>23.363636</td>\n",
       "    </tr>\n",
       "    <tr>\n",
       "      <th>10</th>\n",
       "      <td>573</td>\n",
       "      <td>T32012</td>\n",
       "      <td>Salem MBTA - Lower Level</td>\n",
       "      <td>42.523994</td>\n",
       "      <td>-70.896840</td>\n",
       "      <td>11</td>\n",
       "      <td>189</td>\n",
       "      <td>17.181818</td>\n",
       "    </tr>\n",
       "    <tr>\n",
       "      <th>11</th>\n",
       "      <td>574</td>\n",
       "      <td>T32013</td>\n",
       "      <td>Community Life Center</td>\n",
       "      <td>42.520136</td>\n",
       "      <td>-70.906271</td>\n",
       "      <td>9</td>\n",
       "      <td>42</td>\n",
       "      <td>4.666667</td>\n",
       "    </tr>\n",
       "    <tr>\n",
       "      <th>12</th>\n",
       "      <td>575</td>\n",
       "      <td>T32014</td>\n",
       "      <td>Goodhue St at Grove St</td>\n",
       "      <td>42.520897</td>\n",
       "      <td>-70.910528</td>\n",
       "      <td>11</td>\n",
       "      <td>90</td>\n",
       "      <td>8.181818</td>\n",
       "    </tr>\n",
       "  </tbody>\n",
       "</table>\n",
       "</div>"
      ],
      "text/plain": [
       "    station_id  Number                                    Name   Latitude  \\\n",
       "0          516  T32001                     Salem Ferry Landing  42.521893   \n",
       "1          517  T32002                      Salem Willows Park  42.534669   \n",
       "2          518  T32003  Shetland Park - Congress at Peabody St  42.518368   \n",
       "3          519  T32004             Mayor Salvo Path at Mill St  42.518035   \n",
       "4          520  T32005   Salem MBTA - Washington at Federal St  42.523452   \n",
       "5          521  T32006                   Lafayette at Leach St  42.511428   \n",
       "6          562  T32008                     Hawthorne Boulevard  42.522371   \n",
       "7          570  T32009   Salem State University - North Campus  42.503332   \n",
       "8          571  T32010                       Forest River Park  42.506395   \n",
       "9          572  T32011              Essex St at Dalton Parkway  42.516223   \n",
       "10         573  T32012                Salem MBTA - Lower Level  42.523994   \n",
       "11         574  T32013                   Community Life Center  42.520136   \n",
       "12         575  T32014                  Goodhue St at Grove St  42.520897   \n",
       "\n",
       "    Longitude  Total_docks  count      demand  \n",
       "0  -70.880691           11   1125  102.272727  \n",
       "1  -70.870214           15   2002  133.466667  \n",
       "2  -70.889524           11   1699  154.454545  \n",
       "3  -70.895701           11   2664  242.181818  \n",
       "4  -70.896111           13   2947  226.692308  \n",
       "5  -70.891833           11   1114  101.272727  \n",
       "6  -70.890333            9   2669  296.555556  \n",
       "7  -70.891444           11    779   70.818182  \n",
       "8  -70.886930           11    530   48.181818  \n",
       "9  -70.905535           11    257   23.363636  \n",
       "10 -70.896840           11    189   17.181818  \n",
       "11 -70.906271            9     42    4.666667  \n",
       "12 -70.910528           11     90    8.181818  "
      ]
     },
     "execution_count": 46,
     "metadata": {},
     "output_type": "execute_result"
    }
   ],
   "source": [
    "salem_demand_df"
   ]
  },
  {
   "cell_type": "code",
   "execution_count": 52,
   "id": "7c0c6b88",
   "metadata": {},
   "outputs": [],
   "source": [
    "stations_df = pd.read_csv('data/Stations.csv', header=1)\n",
    "#stations_df = stations_raw.drop(columns = ['Unnamed: 0'])\n",
    "stations_df.columns = [c.replace(' ', '_') for c in stations_df.columns]\n",
    "\n",
    "#stations_df['Name'] = stations_df['Name'].replace(['Linear Park - Mass. Ave. at Cameron Ave.'], 'Linear Park - Mass. Ave. at Cameron Ave. ')\n",
    "\n",
    "#name_replacers = {'Linear Park - Mass. Ave. at Cameron Ave.':'Linear Park - Mass. Ave. at Cameron Ave. ',\n",
    "#                 'Graham and Parks School ? Linnaean St at Walker St':'Graham and Parks School – Linnaean St at Walker St',\n",
    "#                 'Union St at Herrick Rd ? Newton Centre Green Line':'Union St at Herrick Rd – Newton Centre Green Line'}\n",
    "#stations_df['Name'] = stations_df['Name'].replace(name_replacers)\n"
   ]
  },
  {
   "cell_type": "code",
   "execution_count": 53,
   "id": "d1dd7bb0",
   "metadata": {
    "scrolled": true
   },
   "outputs": [
    {
     "data": {
      "text/html": [
       "<div>\n",
       "<style scoped>\n",
       "    .dataframe tbody tr th:only-of-type {\n",
       "        vertical-align: middle;\n",
       "    }\n",
       "\n",
       "    .dataframe tbody tr th {\n",
       "        vertical-align: top;\n",
       "    }\n",
       "\n",
       "    .dataframe thead th {\n",
       "        text-align: right;\n",
       "    }\n",
       "</style>\n",
       "<table border=\"1\" class=\"dataframe\">\n",
       "  <thead>\n",
       "    <tr style=\"text-align: right;\">\n",
       "      <th></th>\n",
       "      <th>Number</th>\n",
       "      <th>Name</th>\n",
       "      <th>Latitude</th>\n",
       "      <th>Longitude</th>\n",
       "      <th>District</th>\n",
       "      <th>Public</th>\n",
       "      <th>Total_docks</th>\n",
       "      <th>Deployment_Year</th>\n",
       "    </tr>\n",
       "  </thead>\n",
       "  <tbody>\n",
       "    <tr>\n",
       "      <th>0</th>\n",
       "      <td>K32015</td>\n",
       "      <td>1200 Beacon St</td>\n",
       "      <td>42.344149</td>\n",
       "      <td>-71.114674</td>\n",
       "      <td>Brookline</td>\n",
       "      <td>Yes</td>\n",
       "      <td>15</td>\n",
       "      <td>2021</td>\n",
       "    </tr>\n",
       "    <tr>\n",
       "      <th>1</th>\n",
       "      <td>W32006</td>\n",
       "      <td>160 Arsenal</td>\n",
       "      <td>42.364664</td>\n",
       "      <td>-71.175694</td>\n",
       "      <td>Watertown</td>\n",
       "      <td>Yes</td>\n",
       "      <td>11</td>\n",
       "      <td>2021</td>\n",
       "    </tr>\n",
       "    <tr>\n",
       "      <th>2</th>\n",
       "      <td>A32019</td>\n",
       "      <td>175 N Harvard St</td>\n",
       "      <td>42.363796</td>\n",
       "      <td>-71.129164</td>\n",
       "      <td>Boston</td>\n",
       "      <td>Yes</td>\n",
       "      <td>17</td>\n",
       "      <td>2014</td>\n",
       "    </tr>\n",
       "    <tr>\n",
       "      <th>3</th>\n",
       "      <td>S32035</td>\n",
       "      <td>191 Beacon St</td>\n",
       "      <td>42.380323</td>\n",
       "      <td>-71.108786</td>\n",
       "      <td>Somerville</td>\n",
       "      <td>Yes</td>\n",
       "      <td>19</td>\n",
       "      <td>2018</td>\n",
       "    </tr>\n",
       "    <tr>\n",
       "      <th>4</th>\n",
       "      <td>C32094</td>\n",
       "      <td>2 Hummingbird Lane at Olmsted Green</td>\n",
       "      <td>42.288870</td>\n",
       "      <td>-71.095003</td>\n",
       "      <td>Boston</td>\n",
       "      <td>Yes</td>\n",
       "      <td>17</td>\n",
       "      <td>2020</td>\n",
       "    </tr>\n",
       "    <tr>\n",
       "      <th>...</th>\n",
       "      <td>...</td>\n",
       "      <td>...</td>\n",
       "      <td>...</td>\n",
       "      <td>...</td>\n",
       "      <td>...</td>\n",
       "      <td>...</td>\n",
       "      <td>...</td>\n",
       "      <td>...</td>\n",
       "    </tr>\n",
       "    <tr>\n",
       "      <th>441</th>\n",
       "      <td>N32005</td>\n",
       "      <td>West Newton</td>\n",
       "      <td>42.349601</td>\n",
       "      <td>-71.226275</td>\n",
       "      <td>Newton</td>\n",
       "      <td>Yes</td>\n",
       "      <td>14</td>\n",
       "      <td>2020</td>\n",
       "    </tr>\n",
       "    <tr>\n",
       "      <th>442</th>\n",
       "      <td>A32043</td>\n",
       "      <td>Western Ave at Richardson St</td>\n",
       "      <td>42.361787</td>\n",
       "      <td>-71.143931</td>\n",
       "      <td>Boston</td>\n",
       "      <td>Yes</td>\n",
       "      <td>0</td>\n",
       "      <td>2019</td>\n",
       "    </tr>\n",
       "    <tr>\n",
       "      <th>443</th>\n",
       "      <td>B32059</td>\n",
       "      <td>Whittier St Health Center</td>\n",
       "      <td>42.332863</td>\n",
       "      <td>-71.092189</td>\n",
       "      <td>Boston</td>\n",
       "      <td>Yes</td>\n",
       "      <td>19</td>\n",
       "      <td>2019</td>\n",
       "    </tr>\n",
       "    <tr>\n",
       "      <th>444</th>\n",
       "      <td>D32040</td>\n",
       "      <td>Williams St at Washington St</td>\n",
       "      <td>42.306539</td>\n",
       "      <td>-71.107669</td>\n",
       "      <td>Boston</td>\n",
       "      <td>Yes</td>\n",
       "      <td>23</td>\n",
       "      <td>2018</td>\n",
       "    </tr>\n",
       "    <tr>\n",
       "      <th>445</th>\n",
       "      <td>S32005</td>\n",
       "      <td>Wilson Square</td>\n",
       "      <td>42.385676</td>\n",
       "      <td>-71.114121</td>\n",
       "      <td>Somerville</td>\n",
       "      <td>Yes</td>\n",
       "      <td>15</td>\n",
       "      <td>2012</td>\n",
       "    </tr>\n",
       "  </tbody>\n",
       "</table>\n",
       "<p>446 rows × 8 columns</p>\n",
       "</div>"
      ],
      "text/plain": [
       "     Number                                 Name   Latitude  Longitude  \\\n",
       "0    K32015                       1200 Beacon St  42.344149 -71.114674   \n",
       "1    W32006                          160 Arsenal  42.364664 -71.175694   \n",
       "2    A32019                     175 N Harvard St  42.363796 -71.129164   \n",
       "3    S32035                        191 Beacon St  42.380323 -71.108786   \n",
       "4    C32094  2 Hummingbird Lane at Olmsted Green  42.288870 -71.095003   \n",
       "..      ...                                  ...        ...        ...   \n",
       "441  N32005                          West Newton  42.349601 -71.226275   \n",
       "442  A32043         Western Ave at Richardson St  42.361787 -71.143931   \n",
       "443  B32059            Whittier St Health Center  42.332863 -71.092189   \n",
       "444  D32040         Williams St at Washington St  42.306539 -71.107669   \n",
       "445  S32005                        Wilson Square  42.385676 -71.114121   \n",
       "\n",
       "       District Public  Total_docks  Deployment_Year  \n",
       "0     Brookline    Yes           15             2021  \n",
       "1     Watertown    Yes           11             2021  \n",
       "2        Boston    Yes           17             2014  \n",
       "3    Somerville    Yes           19             2018  \n",
       "4        Boston    Yes           17             2020  \n",
       "..          ...    ...          ...              ...  \n",
       "441      Newton    Yes           14             2020  \n",
       "442      Boston    Yes            0             2019  \n",
       "443      Boston    Yes           19             2019  \n",
       "444      Boston    Yes           23             2018  \n",
       "445  Somerville    Yes           15             2012  \n",
       "\n",
       "[446 rows x 8 columns]"
      ]
     },
     "execution_count": 53,
     "metadata": {},
     "output_type": "execute_result"
    }
   ],
   "source": [
    "stations_df"
   ]
  },
  {
   "cell_type": "code",
   "execution_count": 61,
   "id": "55083d65",
   "metadata": {},
   "outputs": [
    {
     "data": {
      "image/png": "[encoded data removed]",
      "text/plain": [
       "<Figure size 640x480 with 1 Axes>"
      ]
     },
     "metadata": {},
     "output_type": "display_data"
    }
   ],
   "source": [
    "def add_x_y(input_df):\n",
    "    if \"x\" in input_df.keys() or \"y\" in input_df.keys():\n",
    "        return input_df\n",
    "    \n",
    "    def rule(row):\n",
    "        x, y, zone_number, zone_letter = utm.from_latlon(row[\"Latitude\"], row[\"Longitude\"])\n",
    "        return pd.Series({\"x\": x, \"y\": y, \"zone_number\": zone_number, \"zone_letter\": zone_letter})\n",
    "    output_df = input_df.merge(input_df.apply(rule, axis=1), left_index=True, right_index=True)\n",
    "    \n",
    "    def rule2(row):\n",
    "        xnew, ynew = row[\"x\"]-output_df[\"x\"].min(),row[\"y\"]-output_df[\"y\"].min()\n",
    "        return pd.Series({\"xnew\": xnew, \"ynew\": ynew})\n",
    "    output_df = output_df.merge(output_df.apply(rule2, axis=1), left_index=True, right_index=True)\n",
    "    return output_df\n",
    "    \n",
    "stations_df = add_x_y(stations_df)\n",
    "x_list = stations_df[\"xnew\"].values\n",
    "y_list = stations_df[\"ynew\"].values\n",
    "plt.scatter(x_list, y_list)\n",
    "plt.show()"
   ]
  },
  {
   "cell_type": "code",
   "execution_count": 59,
   "id": "5a0acdaa",
   "metadata": {},
   "outputs": [
    {
     "data": {
      "text/html": [
       "<div>\n",
       "<style scoped>\n",
       "    .dataframe tbody tr th:only-of-type {\n",
       "        vertical-align: middle;\n",
       "    }\n",
       "\n",
       "    .dataframe tbody tr th {\n",
       "        vertical-align: top;\n",
       "    }\n",
       "\n",
       "    .dataframe thead th {\n",
       "        text-align: right;\n",
       "    }\n",
       "</style>\n",
       "<table border=\"1\" class=\"dataframe\">\n",
       "  <thead>\n",
       "    <tr style=\"text-align: right;\">\n",
       "      <th></th>\n",
       "      <th>Number</th>\n",
       "      <th>Name</th>\n",
       "      <th>Latitude</th>\n",
       "      <th>Longitude</th>\n",
       "      <th>District</th>\n",
       "      <th>Public</th>\n",
       "      <th>Total_docks</th>\n",
       "      <th>Deployment_Year</th>\n",
       "      <th>x</th>\n",
       "      <th>y</th>\n",
       "      <th>zone_number</th>\n",
       "      <th>zone_letter</th>\n",
       "      <th>xnew</th>\n",
       "      <th>ynew</th>\n",
       "    </tr>\n",
       "  </thead>\n",
       "  <tbody>\n",
       "    <tr>\n",
       "      <th>0</th>\n",
       "      <td>K32015</td>\n",
       "      <td>1200 Beacon St</td>\n",
       "      <td>42.344149</td>\n",
       "      <td>-71.114674</td>\n",
       "      <td>Brookline</td>\n",
       "      <td>Yes</td>\n",
       "      <td>15</td>\n",
       "      <td>2021</td>\n",
       "      <td>325810.855859</td>\n",
       "      <td>4.690154e+06</td>\n",
       "      <td>19</td>\n",
       "      <td>T</td>\n",
       "      <td>10951.545234</td>\n",
       "      <td>9812.600219</td>\n",
       "    </tr>\n",
       "    <tr>\n",
       "      <th>1</th>\n",
       "      <td>W32006</td>\n",
       "      <td>160 Arsenal</td>\n",
       "      <td>42.364664</td>\n",
       "      <td>-71.175694</td>\n",
       "      <td>Watertown</td>\n",
       "      <td>Yes</td>\n",
       "      <td>11</td>\n",
       "      <td>2021</td>\n",
       "      <td>320842.599964</td>\n",
       "      <td>4.692558e+06</td>\n",
       "      <td>19</td>\n",
       "      <td>T</td>\n",
       "      <td>5983.289340</td>\n",
       "      <td>12217.482920</td>\n",
       "    </tr>\n",
       "    <tr>\n",
       "      <th>2</th>\n",
       "      <td>A32019</td>\n",
       "      <td>175 N Harvard St</td>\n",
       "      <td>42.363796</td>\n",
       "      <td>-71.129164</td>\n",
       "      <td>Boston</td>\n",
       "      <td>Yes</td>\n",
       "      <td>17</td>\n",
       "      <td>2014</td>\n",
       "      <td>324671.851630</td>\n",
       "      <td>4.692365e+06</td>\n",
       "      <td>19</td>\n",
       "      <td>T</td>\n",
       "      <td>9812.541006</td>\n",
       "      <td>12024.051960</td>\n",
       "    </tr>\n",
       "    <tr>\n",
       "      <th>3</th>\n",
       "      <td>S32035</td>\n",
       "      <td>191 Beacon St</td>\n",
       "      <td>42.380323</td>\n",
       "      <td>-71.108786</td>\n",
       "      <td>Somerville</td>\n",
       "      <td>Yes</td>\n",
       "      <td>19</td>\n",
       "      <td>2018</td>\n",
       "      <td>326395.502325</td>\n",
       "      <td>4.694158e+06</td>\n",
       "      <td>19</td>\n",
       "      <td>T</td>\n",
       "      <td>11536.191700</td>\n",
       "      <td>13817.461590</td>\n",
       "    </tr>\n",
       "    <tr>\n",
       "      <th>4</th>\n",
       "      <td>C32094</td>\n",
       "      <td>2 Hummingbird Lane at Olmsted Green</td>\n",
       "      <td>42.288870</td>\n",
       "      <td>-71.095003</td>\n",
       "      <td>Boston</td>\n",
       "      <td>Yes</td>\n",
       "      <td>17</td>\n",
       "      <td>2020</td>\n",
       "      <td>327280.054903</td>\n",
       "      <td>4.683975e+06</td>\n",
       "      <td>19</td>\n",
       "      <td>T</td>\n",
       "      <td>12420.744279</td>\n",
       "      <td>3634.192590</td>\n",
       "    </tr>\n",
       "    <tr>\n",
       "      <th>...</th>\n",
       "      <td>...</td>\n",
       "      <td>...</td>\n",
       "      <td>...</td>\n",
       "      <td>...</td>\n",
       "      <td>...</td>\n",
       "      <td>...</td>\n",
       "      <td>...</td>\n",
       "      <td>...</td>\n",
       "      <td>...</td>\n",
       "      <td>...</td>\n",
       "      <td>...</td>\n",
       "      <td>...</td>\n",
       "      <td>...</td>\n",
       "      <td>...</td>\n",
       "    </tr>\n",
       "    <tr>\n",
       "      <th>441</th>\n",
       "      <td>N32005</td>\n",
       "      <td>West Newton</td>\n",
       "      <td>42.349601</td>\n",
       "      <td>-71.226275</td>\n",
       "      <td>Newton</td>\n",
       "      <td>Yes</td>\n",
       "      <td>14</td>\n",
       "      <td>2020</td>\n",
       "      <td>316633.496002</td>\n",
       "      <td>4.690994e+06</td>\n",
       "      <td>19</td>\n",
       "      <td>T</td>\n",
       "      <td>1774.185377</td>\n",
       "      <td>10652.647341</td>\n",
       "    </tr>\n",
       "    <tr>\n",
       "      <th>442</th>\n",
       "      <td>A32043</td>\n",
       "      <td>Western Ave at Richardson St</td>\n",
       "      <td>42.361787</td>\n",
       "      <td>-71.143931</td>\n",
       "      <td>Boston</td>\n",
       "      <td>Yes</td>\n",
       "      <td>0</td>\n",
       "      <td>2019</td>\n",
       "      <td>323450.159962</td>\n",
       "      <td>4.692173e+06</td>\n",
       "      <td>19</td>\n",
       "      <td>T</td>\n",
       "      <td>8590.849337</td>\n",
       "      <td>11831.582306</td>\n",
       "    </tr>\n",
       "    <tr>\n",
       "      <th>443</th>\n",
       "      <td>B32059</td>\n",
       "      <td>Whittier St Health Center</td>\n",
       "      <td>42.332863</td>\n",
       "      <td>-71.092189</td>\n",
       "      <td>Boston</td>\n",
       "      <td>Yes</td>\n",
       "      <td>19</td>\n",
       "      <td>2019</td>\n",
       "      <td>327632.224059</td>\n",
       "      <td>4.688855e+06</td>\n",
       "      <td>19</td>\n",
       "      <td>T</td>\n",
       "      <td>12772.913435</td>\n",
       "      <td>8513.540453</td>\n",
       "    </tr>\n",
       "    <tr>\n",
       "      <th>444</th>\n",
       "      <td>D32040</td>\n",
       "      <td>Williams St at Washington St</td>\n",
       "      <td>42.306539</td>\n",
       "      <td>-71.107669</td>\n",
       "      <td>Boston</td>\n",
       "      <td>Yes</td>\n",
       "      <td>23</td>\n",
       "      <td>2018</td>\n",
       "      <td>326284.370623</td>\n",
       "      <td>4.685963e+06</td>\n",
       "      <td>19</td>\n",
       "      <td>T</td>\n",
       "      <td>11425.059999</td>\n",
       "      <td>5621.972784</td>\n",
       "    </tr>\n",
       "    <tr>\n",
       "      <th>445</th>\n",
       "      <td>S32005</td>\n",
       "      <td>Wilson Square</td>\n",
       "      <td>42.385676</td>\n",
       "      <td>-71.114121</td>\n",
       "      <td>Somerville</td>\n",
       "      <td>Yes</td>\n",
       "      <td>15</td>\n",
       "      <td>2012</td>\n",
       "      <td>325971.054191</td>\n",
       "      <td>4.694764e+06</td>\n",
       "      <td>19</td>\n",
       "      <td>T</td>\n",
       "      <td>11111.743566</td>\n",
       "      <td>14422.729889</td>\n",
       "    </tr>\n",
       "  </tbody>\n",
       "</table>\n",
       "<p>446 rows × 14 columns</p>\n",
       "</div>"
      ],
      "text/plain": [
       "     Number                                 Name   Latitude  Longitude  \\\n",
       "0    K32015                       1200 Beacon St  42.344149 -71.114674   \n",
       "1    W32006                          160 Arsenal  42.364664 -71.175694   \n",
       "2    A32019                     175 N Harvard St  42.363796 -71.129164   \n",
       "3    S32035                        191 Beacon St  42.380323 -71.108786   \n",
       "4    C32094  2 Hummingbird Lane at Olmsted Green  42.288870 -71.095003   \n",
       "..      ...                                  ...        ...        ...   \n",
       "441  N32005                          West Newton  42.349601 -71.226275   \n",
       "442  A32043         Western Ave at Richardson St  42.361787 -71.143931   \n",
       "443  B32059            Whittier St Health Center  42.332863 -71.092189   \n",
       "444  D32040         Williams St at Washington St  42.306539 -71.107669   \n",
       "445  S32005                        Wilson Square  42.385676 -71.114121   \n",
       "\n",
       "       District Public  Total_docks  Deployment_Year              x  \\\n",
       "0     Brookline    Yes           15             2021  325810.855859   \n",
       "1     Watertown    Yes           11             2021  320842.599964   \n",
       "2        Boston    Yes           17             2014  324671.851630   \n",
       "3    Somerville    Yes           19             2018  326395.502325   \n",
       "4        Boston    Yes           17             2020  327280.054903   \n",
       "..          ...    ...          ...              ...            ...   \n",
       "441      Newton    Yes           14             2020  316633.496002   \n",
       "442      Boston    Yes            0             2019  323450.159962   \n",
       "443      Boston    Yes           19             2019  327632.224059   \n",
       "444      Boston    Yes           23             2018  326284.370623   \n",
       "445  Somerville    Yes           15             2012  325971.054191   \n",
       "\n",
       "                y  zone_number zone_letter          xnew          ynew  \n",
       "0    4.690154e+06           19           T  10951.545234   9812.600219  \n",
       "1    4.692558e+06           19           T   5983.289340  12217.482920  \n",
       "2    4.692365e+06           19           T   9812.541006  12024.051960  \n",
       "3    4.694158e+06           19           T  11536.191700  13817.461590  \n",
       "4    4.683975e+06           19           T  12420.744279   3634.192590  \n",
       "..            ...          ...         ...           ...           ...  \n",
       "441  4.690994e+06           19           T   1774.185377  10652.647341  \n",
       "442  4.692173e+06           19           T   8590.849337  11831.582306  \n",
       "443  4.688855e+06           19           T  12772.913435   8513.540453  \n",
       "444  4.685963e+06           19           T  11425.059999   5621.972784  \n",
       "445  4.694764e+06           19           T  11111.743566  14422.729889  \n",
       "\n",
       "[446 rows x 14 columns]"
      ]
     },
     "execution_count": 59,
     "metadata": {},
     "output_type": "execute_result"
    }
   ],
   "source": [
    "stations_df"
   ]
  },
  {
   "cell_type": "code",
   "execution_count": 55,
   "id": "7f58b31d",
   "metadata": {},
   "outputs": [
    {
     "data": {
      "application/vnd.plotly.v1+json": {
       "config": {
        "plotlyServerURL": "https://plot.ly"
       },
       "data": [
        {
         "customdata": [
          [
           "K32015",
           15,
           2021,
           "Brookline"
          ],
          [
           "W32006",
           11,
           2021,
           "Watertown"
          ],
          [
           "A32019",
           17,
           2014,
           "Boston"
          ],
          [
           "S32035",
           19,
           2018,
           "Somerville"
          ],
          [
           "C32094",
           17,
           2020,
           "Boston"
          ],
          [
           "S32023",
           15,
           2018,
           "Somerville"
          ],
          [
           "M32026",
           23,
           2013,
           "Cambridge"
          ],
          [
           "C32106",
           18,
           2021,
           "Boston"
          ],
          [
           "C32105",
           18,
           2021,
           "Boston"
          ],
          [
           "C32091",
           19,
           2020,
           "Boston"
          ],
          [
           "M32054",
           25,
           2018,
           "Cambridge"
          ],
          [
           "V32001",
           15,
           2019,
           "Everett"
          ],
          [
           "B32060",
           16,
           2019,
           "Boston"
          ],
          [
           "M32060",
           19,
           2018,
           "Cambridge"
          ],
          [
           "M32064",
           19,
           2019,
           "Cambridge"
          ],
          [
           "M32058",
           27,
           2018,
           "Cambridge"
          ],
          [
           "H32006",
           11,
           2021,
           "Chelsea"
          ],
          [
           "M32073",
           19,
           2021,
           "Cambridge"
          ],
          [
           "C32098",
           0,
           2021,
           "Boston"
          ],
          [
           "C32065",
           15,
           2019,
           "Boston"
          ],
          [
           "A32054",
           19,
           2022,
           "Boston"
          ],
          [
           "A32032",
           14,
           2016,
           "Boston"
          ],
          [
           "C32061",
           15,
           2019,
           "Boston"
          ],
          [
           "M32046",
           19,
           2016,
           "Cambridge"
          ],
          [
           "M32033",
           23,
           2014,
           "Cambridge"
          ],
          [
           "C32079",
           15,
           2019,
           "Boston"
          ],
          [
           "C32101",
           18,
           2021,
           "Boston"
          ],
          [
           "M32059",
           19,
           2018,
           "Cambridge"
          ],
          [
           "M32037",
           19,
           2012,
           "Cambridge"
          ],
          [
           "C32012",
           15,
           2013,
           "Boston"
          ],
          [
           "B32004",
           23,
           2011,
           "Boston"
          ],
          [
           "D32004",
           31,
           2011,
           "Boston"
          ],
          [
           "C32048",
           0,
           2018,
           "Boston"
          ],
          [
           "W32004",
           11,
           2020,
           "Watertown"
          ],
          [
           "C32062",
           15,
           2019,
           "Boston"
          ],
          [
           "S32018",
           15,
           2018,
           "Somerville"
          ],
          [
           "N32015",
           15,
           2021,
           "Newton"
          ],
          [
           "A32003",
           11,
           2011,
           "Boston"
          ],
          [
           "C32003",
           19,
           2011,
           "Boston"
          ],
          [
           "N32003",
           11,
           2020,
           "Newton"
          ],
          [
           "S32007",
           19,
           2012,
           "Somerville"
          ],
          [
           "B32055",
           15,
           2018,
           "Boston"
          ],
          [
           "N32012",
           15,
           2021,
           "Newton"
          ],
          [
           "D32024",
           19,
           2013,
           "Boston"
          ],
          [
           "B32016",
           19,
           2011,
           "Boston"
          ],
          [
           "K32002",
           15,
           2012,
           "Brookline"
          ],
          [
           "S32003",
           19,
           2012,
           "Somerville"
          ],
          [
           "C32059",
           15,
           2018,
           "Boston"
          ],
          [
           "C32095",
           0,
           2021,
           "Boston"
          ],
          [
           "H32002",
           11,
           2021,
           "Chelsea"
          ],
          [
           "A32028",
           15,
           2016,
           "Boston"
          ],
          [
           "A32039",
           17,
           2018,
           "Boston"
          ],
          [
           "M32067",
           19,
           2019,
           "Cambridge"
          ],
          [
           "M32027",
           19,
           2013,
           "Cambridge"
          ],
          [
           "D32050",
           15,
           2019,
           "Boston"
          ],
          [
           "C32044",
           19,
           2018,
           "Boston"
          ],
          [
           "C32092",
           18,
           2020,
           "Boston"
          ],
          [
           "B32057",
           0,
           2018,
           "Boston"
          ],
          [
           "B32008",
           25,
           2011,
           "Boston"
          ],
          [
           "N32009",
           17,
           2021,
           "Newton"
          ],
          [
           "D32018",
           23,
           2012,
           "Boston"
          ],
          [
           "A32036",
           15,
           2016,
           "Boston"
          ],
          [
           "A32045",
           7,
           2019,
           "Boston"
          ],
          [
           "C32002",
           19,
           2019,
           "Boston"
          ],
          [
           "B32031",
           15,
           2016,
           "Boston"
          ],
          [
           "D32007",
           31,
           2011,
           "Boston"
          ],
          [
           "D32013",
           15,
           2011,
           "Boston"
          ],
          [
           "D32055",
           23,
           2013,
           "Boston"
          ],
          [
           "D32046",
           19,
           2018,
           "Boston"
          ],
          [
           "C32008",
           3,
           2011,
           "Boston"
          ],
          [
           "B32034",
           15,
           2018,
           "Boston"
          ],
          [
           "B32018",
           15,
           2011,
           "Boston"
          ],
          [
           "B32013",
           15,
           2011,
           "Boston"
          ],
          [
           "D32058",
           19,
           2022,
           "Boston"
          ],
          [
           "D32028",
           16,
           2015,
           "Boston"
          ],
          [
           "A32005",
           15,
           2011,
           "Boston"
          ],
          [
           "M32082",
           19,
           2022,
           "Cambridge"
          ],
          [
           "A32047",
           15,
           2020,
           "Boston"
          ],
          [
           "V32011",
           6,
           2019,
           "Everett"
          ],
          [
           "S32016",
           19,
           2018,
           "Somerville"
          ],
          [
           "H32004",
           11,
           2021,
           "Chelsea"
          ],
          [
           "L32004",
           0,
           2020,
           "Arlington"
          ],
          [
           "V32004",
           15,
           2019,
           "Everett"
          ],
          [
           "V32008",
           14,
           2019,
           "Everett"
          ],
          [
           "S32014",
           19,
           2016,
           "Somerville"
          ],
          [
           "K32005",
           15,
           2016,
           "Brookline"
          ],
          [
           "K32003",
           19,
           2012,
           "Brookline"
          ],
          [
           "A32023",
           23,
           2015,
           "Boston"
          ],
          [
           "B32020",
           0,
           2013,
           "Boston"
          ],
          [
           "N32011",
           12,
           2021,
           "Newton"
          ],
          [
           "M32077",
           23,
           2021,
           "Cambridge"
          ],
          [
           "M32052",
           19,
           2017,
           "Cambridge"
          ],
          [
           "M32013",
           19,
           2012,
           "Cambridge"
          ],
          [
           "M32007",
           15,
           2012,
           "Cambridge"
          ],
          [
           "D32000",
           15,
           2011,
           "Boston"
          ],
          [
           "M32019",
           15,
           2012,
           "Cambridge"
          ],
          [
           "A32046",
           23,
           2020,
           "Boston"
          ],
          [
           "H32001",
           12,
           2021,
           "Chelsea"
          ],
          [
           "C32088",
           0,
           2019,
           "Boston"
          ],
          [
           "M32012",
           17,
           2012,
           "Cambridge"
          ],
          [
           "M32011",
           19,
           2012,
           "Cambridge"
          ],
          [
           "A32041",
           14,
           2019,
           "Boston"
          ],
          [
           "C32086",
           19,
           2019,
           "Boston"
          ],
          [
           "E32008",
           0,
           2018,
           "Boston"
          ],
          [
           "C32085",
           19,
           2019,
           "Boston"
          ],
          [
           "N32000",
           11,
           2020,
           "Newton"
          ],
          [
           "D32016",
           19,
           2011,
           "Boston"
          ],
          [
           "D32039",
           23,
           2018,
           "Boston"
          ],
          [
           "H32003",
           11,
           2021,
           "Chelsea"
          ],
          [
           "V32009",
           15,
           2019,
           "Everett"
          ],
          [
           "H32005",
           11,
           2021,
           "Chelsea"
          ],
          [
           "M32049",
           23,
           2016,
           "Cambridge"
          ],
          [
           "D32015",
           19,
           2011,
           "Boston"
          ],
          [
           "D32019",
           19,
           2012,
           "Boston"
          ],
          [
           "B32005",
           19,
           2011,
           "Boston"
          ],
          [
           "C32099",
           19,
           2021,
           "Boston"
          ],
          [
           "S32010",
           15,
           2013,
           "Somerville"
          ],
          [
           "D32047",
           13,
           2019,
           "Boston"
          ],
          [
           "C32104",
           16,
           2021,
           "Boston"
          ],
          [
           "B32035",
           15,
           2018,
           "Boston"
          ],
          [
           "D32057",
           18,
           2021,
           "Boston"
          ],
          [
           "C32055",
           17,
           2018,
           "Boston"
          ],
          [
           "B32006",
           14,
           2011,
           "Boston"
          ],
          [
           "B32029",
           15,
           2016,
           "Boston"
          ],
          [
           "C32052",
           19,
           2018,
           "Boston"
          ],
          [
           "C32077",
           19,
           2019,
           "Boston"
          ],
          [
           "A32002",
           15,
           2011,
           "Boston"
          ],
          [
           "K32006",
           15,
           2017,
           "Brookline"
          ],
          [
           "D32033",
           19,
           2018,
           "Boston"
          ],
          [
           "A32017",
           15,
           2012,
           "Boston"
          ],
          [
           "D32034",
           15,
           2018,
           "Boston"
          ],
          [
           "T32013",
           9,
           2022,
           "Salem"
          ],
          [
           "S32022",
           15,
           2018,
           "Somerville"
          ],
          [
           "S32040",
           19,
           2020,
           "Somerville"
          ],
          [
           "M32074",
           19,
           2021,
           "Cambridge"
          ],
          [
           "D32009",
           23,
           2011,
           "Boston"
          ],
          [
           "C32032",
           14,
           2016,
           "Boston"
          ],
          [
           "C32010",
           19,
           2011,
           "Boston"
          ],
          [
           "S32004",
           23,
           2012,
           "Somerville"
          ],
          [
           "K32001",
           19,
           2012,
           "Brookline"
          ],
          [
           "W32001",
           12,
           2020,
           "Watertown"
          ],
          [
           "D32005",
           32,
           2011,
           "Boston"
          ],
          [
           "S32037",
           19,
           2019,
           "Somerville"
          ],
          [
           "D32010",
           19,
           2011,
           "Boston"
          ],
          [
           "E32001",
           15,
           2013,
           "Boston"
          ],
          [
           "K32009",
           15,
           2018,
           "Brookline"
          ],
          [
           "M32030",
           19,
           2014,
           "Cambridge"
          ],
          [
           "M32031",
           17,
           2014,
           "Cambridge"
          ],
          [
           "M32075",
           19,
           2021,
           "Cambridge"
          ],
          [
           "D32045",
           19,
           2018,
           "Boston"
          ],
          [
           "S32006",
           25,
           2012,
           "Somerville"
          ],
          [
           "A32051",
           16,
           2020,
           "Boston"
          ],
          [
           "B32037",
           18,
           2018,
           "Boston"
          ],
          [
           "M32066",
           23,
           2019,
           "Cambridge"
          ],
          [
           "C32009",
           15,
           2011,
           "Boston"
          ],
          [
           "B32017",
           18,
           2011,
           "Boston"
          ],
          [
           "C32015",
           0,
           2012,
           "Boston"
          ],
          [
           "C32018",
           0,
           2013,
           "Boston"
          ],
          [
           "A32031",
           16,
           2016,
           "Boston"
          ],
          [
           "S32017",
           15,
           2018,
           "Somerville"
          ],
          [
           "S32038",
           15,
           2019,
           "Somerville"
          ],
          [
           "A32022",
           19,
           2015,
           "Boston"
          ],
          [
           "M32034",
           23,
           2014,
           "Cambridge"
          ],
          [
           "E32004",
           15,
           2013,
           "Boston"
          ],
          [
           "S32039",
           19,
           2019,
           "Somerville"
          ],
          [
           "V32005",
           15,
           2019,
           "Everett"
          ],
          [
           "T32011",
           11,
           2022,
           "Salem"
          ],
          [
           "V32003",
           16,
           2019,
           "Everett"
          ],
          [
           "A32000",
           15,
           2011,
           "Boston"
          ],
          [
           "A32038",
           15,
           2018,
           "Boston"
          ],
          [
           "C32051",
           22,
           2018,
           "Boston"
          ],
          [
           "C32041",
           0,
           2018,
           "Boston"
          ],
          [
           "B32064",
           15,
           2022,
           "Boston"
          ],
          [
           "S32047",
           19,
           2021,
           "Somerville"
          ],
          [
           "E32010",
           40,
           2019,
           "Boston"
          ],
          [
           "T32010",
           11,
           2022,
           "Salem"
          ],
          [
           "B32062",
           15,
           2021,
           "Boston"
          ],
          [
           "S32015",
           15,
           2018,
           "Somerville"
          ],
          [
           "C32037",
           11,
           2018,
           "Boston"
          ],
          [
           "C32027",
           15,
           2015,
           "Boston"
          ],
          [
           "C32030",
           13,
           2015,
           "Boston"
          ],
          [
           "M32051",
           17,
           2017,
           "Cambridge"
          ],
          [
           "M32078",
           19,
           2022,
           "Cambridge"
          ],
          [
           "M32072",
           19,
           2020,
           "Cambridge"
          ],
          [
           "C32040",
           15,
           2018,
           "Boston"
          ],
          [
           "C32090",
           19,
           2019,
           "Boston"
          ],
          [
           "S32046",
           19,
           2021,
           "Somerville"
          ],
          [
           "V32006",
           15,
           2019,
           "Everett"
          ],
          [
           "A32034",
           0,
           2016,
           "Boston"
          ],
          [
           "T32014",
           11,
           2022,
           "Salem"
          ],
          [
           "M32081",
           19,
           2022,
           "Cambridge"
          ],
          [
           "A32049",
           19,
           2020,
           "Boston"
          ],
          [
           "B32032",
           35,
           2018,
           "Boston"
          ],
          [
           "M32068",
           19,
           2020,
           "Cambridge"
          ],
          [
           "V32015",
           14,
           2022,
           "Everett"
          ],
          [
           "E32005",
           23,
           2013,
           "Boston"
          ],
          [
           "B32028",
           15,
           2016,
           "Boston"
          ],
          [
           "S32019",
           15,
           2018,
           "Somerville"
          ],
          [
           "V32012",
           11,
           2020,
           "Everett"
          ],
          [
           "D32043",
           19,
           2018,
           "Boston"
          ],
          [
           "C32093",
           19,
           2020,
           "Boston"
          ],
          [
           "C32057",
           19,
           2018,
           "Boston"
          ],
          [
           "D32035",
           15,
           2018,
           "Boston"
          ],
          [
           "M32016",
           23,
           2012,
           "Cambridge"
          ],
          [
           "M32020",
           19,
           2012,
           "Cambridge"
          ],
          [
           "M32017",
           15,
           2012,
           "Cambridge"
          ],
          [
           "M32018",
           19,
           2012,
           "Cambridge"
          ],
          [
           "K32017",
           15,
           2021,
           "Brookline"
          ],
          [
           "M32055",
           19,
           2018,
           "Cambridge"
          ],
          [
           "A32052",
           15,
           2020,
           "Boston"
          ],
          [
           "M32023",
           17,
           2012,
           "Cambridge"
          ],
          [
           "M32021",
           15,
           2013,
           "Cambridge"
          ],
          [
           "M32014",
           15,
           2012,
           "Cambridge"
          ],
          [
           "M32024",
           19,
           2012,
           "Cambridge"
          ],
          [
           "M32038",
           19,
           2012,
           "Cambridge"
          ],
          [
           "T32008",
           9,
           2022,
           "Salem"
          ],
          [
           "D32026",
           19,
           2013,
           "Boston"
          ],
          [
           "K32010",
           15,
           2019,
           "Brookline"
          ],
          [
           "B32003",
           25,
           2011,
           "Boston"
          ],
          [
           "A32040",
           15,
           2018,
           "Boston"
          ],
          [
           "D32060",
           23,
           2022,
           "Boston"
          ],
          [
           "B32033",
           15,
           2018,
           "Boston"
          ],
          [
           "M32044",
           19,
           2017,
           "Cambridge"
          ],
          [
           "C32100",
           0,
           2021,
           "Boston"
          ],
          [
           "C32089",
           15,
           2019,
           "Boston"
          ],
          [
           "E32013",
           15,
           2021,
           "Boston"
          ],
          [
           "E32003",
           15,
           2013,
           "Boston"
          ],
          [
           "C32020",
           17,
           2014,
           "Boston"
          ],
          [
           "C32021",
           19,
           2014,
           "Boston"
          ],
          [
           "C32025",
           27,
           2015,
           "Boston"
          ],
          [
           "M32062",
           25,
           2019,
           "Cambridge"
          ],
          [
           "A32011",
           19,
           2011,
           "Boston"
          ],
          [
           "E32006",
           18,
           2013,
           "Boston"
          ],
          [
           "D32052",
           19,
           2019,
           "Boston"
          ],
          [
           "K32004",
           15,
           2013,
           "Brookline"
          ],
          [
           "C32013",
           15,
           2012,
           "Boston"
          ],
          [
           "V32013",
           11,
           2020,
           "Everett"
          ],
          [
           "M32032",
           15,
           2014,
           "Cambridge"
          ],
          [
           "M32004",
           23,
           2016,
           "Cambridge"
          ],
          [
           "B32010",
           26,
           2011,
           "Boston"
          ],
          [
           "M32065",
           19,
           2019,
           "Cambridge"
          ],
          [
           "C32096",
           0,
           2021,
           "Boston"
          ],
          [
           "T32006",
           11,
           2021,
           "Salem"
          ],
          [
           "M32009",
           15,
           2012,
           "Cambridge"
          ],
          [
           "B32015",
           15,
           2011,
           "Boston"
          ],
          [
           "N32008",
           11,
           2020,
           "Newton"
          ],
          [
           "B32058",
           27,
           2019,
           "Boston"
          ],
          [
           "M32001",
           19,
           2012,
           "Cambridge"
          ],
          [
           "M32039",
           15,
           2015,
           "Cambridge"
          ],
          [
           "D32006",
           19,
           2011,
           "Boston"
          ],
          [
           "M32025",
           19,
           2013,
           "Cambridge"
          ],
          [
           "L32002",
           11,
           2020,
           "Arlington"
          ],
          [
           "A32004",
           15,
           2011,
           "Boston"
          ],
          [
           "M32022",
           19,
           2012,
           "Cambridge"
          ],
          [
           "S32013",
           19,
           2014,
           "Somerville"
          ],
          [
           "D32020",
           11,
           2012,
           "Boston"
          ],
          [
           "D32036",
           19,
           2018,
           "Boston"
          ],
          [
           "F32001",
           11,
           2022,
           "Medford"
          ],
          [
           "D32038",
           15,
           2018,
           "Boston"
          ],
          [
           "M32080",
           23,
           2022,
           "Cambridge"
          ],
          [
           "G32001",
           11,
           2022,
           "Malden"
          ],
          [
           "G32003",
           11,
           2022,
           null
          ],
          [
           "K32012",
           15,
           2019,
           "Brookline"
          ],
          [
           "A32048",
           0,
           2020,
           "Boston"
          ],
          [
           "E32012",
           16,
           2020,
           "Boston"
          ],
          [
           "M32061",
           18,
           2019,
           "Cambridge"
          ],
          [
           "L32006",
           0,
           2021,
           "Arlington"
          ],
          [
           "L32003",
           0,
           2020,
           "Arlington"
          ],
          [
           "M32056",
           19,
           2018,
           "Cambridge"
          ],
          [
           "C32063",
           16,
           2019,
           "Boston"
          ],
          [
           "C32004",
           14,
           2011,
           "Boston"
          ],
          [
           "C32050",
           15,
           2018,
           "Boston"
          ],
          [
           "C32045",
           15,
           2018,
           "Boston"
          ],
          [
           "A32030",
           33,
           2016,
           "Boston"
          ],
          [
           "A32044",
           15,
           2019,
           "Boston"
          ],
          [
           "T32004",
           11,
           2021,
           "Salem"
          ],
          [
           "F32002",
           11,
           2022,
           "Medford"
          ],
          [
           "D32037",
           19,
           2018,
           "Boston"
          ],
          [
           "M32006",
           27,
           2012,
           "Cambridge"
          ],
          [
           "M32070",
           27,
           2020,
           "Cambridge"
          ],
          [
           "M32071",
           27,
           2020,
           "Cambridge"
          ],
          [
           "M32041",
           19,
           2015,
           "Cambridge"
          ],
          [
           "M32005",
           35,
           2012,
           "Cambridge"
          ],
          [
           "M32042",
           53,
           2015,
           "Cambridge"
          ],
          [
           "B32023",
           15,
           2016,
           "Boston"
          ],
          [
           "C32103",
           15,
           2021,
           "Boston"
          ],
          [
           "C23045",
           0,
           2018,
           "Boston"
          ],
          [
           "M32043",
           19,
           2015,
           "Cambridge"
          ],
          [
           "C32080",
           0,
           2019,
           "Boston"
          ],
          [
           "D32017",
           19,
           2011,
           "Boston"
          ],
          [
           "C32023",
           19,
           2014,
           "Boston"
          ],
          [
           "M32045",
           19,
           2017,
           "Cambridge"
          ],
          [
           "A32025",
           36,
           2016,
           "Boston"
          ],
          [
           "B32027",
           15,
           2016,
           "Boston"
          ],
          [
           "D32001",
           15,
           2011,
           "Boston"
          ],
          [
           "B32000",
           23,
           2011,
           "Boston"
          ],
          [
           "C32022",
           15,
           2014,
           "Boston"
          ],
          [
           "N32010",
           15,
           2021,
           "Newton"
          ],
          [
           "N32013",
           13,
           2021,
           "Newton"
          ],
          [
           "W32007",
           12,
           2021,
           "Watertown"
          ],
          [
           "N32002",
           15,
           2020,
           "Newton"
          ],
          [
           "T32015",
           11,
           2022,
           null
          ],
          [
           "C32078",
           0,
           2019,
           "Boston"
          ],
          [
           "B32012",
           15,
           2011,
           "Boston"
          ],
          [
           "G32002",
           11,
           2022,
           "Malden"
          ],
          [
           "D32031",
           15,
           2016,
           "Boston"
          ],
          [
           "M32076",
           15,
           2021,
           "Cambridge"
          ],
          [
           "B32061",
           16,
           2021,
           "Boston"
          ],
          [
           "B32036",
           15,
           2018,
           "Boston"
          ],
          [
           "M32003",
           23,
           2012,
           "Cambridge"
          ],
          [
           "M32002",
           19,
           2012,
           "Cambridge"
          ],
          [
           "M32053",
           19,
           2017,
           "Cambridge"
          ],
          [
           "A32035",
           19,
           2016,
           "Boston"
          ],
          [
           "R32002",
           11,
           2021,
           "Revere"
          ],
          [
           "S32009",
           15,
           2013,
           "Somerville"
          ],
          [
           "A32012",
           27,
           2011,
           "Boston"
          ],
          [
           "A32008",
           15,
           2012,
           "Boston"
          ],
          [
           "D32042",
           19,
           2018,
           "Boston"
          ],
          [
           "C32039",
           0,
           2018,
           "Boston"
          ],
          [
           "S32034",
           19,
           2018,
           "Somerville"
          ],
          [
           "C32107",
           19,
           2022,
           "Boston"
          ],
          [
           "A32029",
           0,
           2016,
           "Boston"
          ],
          [
           "M32029",
           19,
           2013,
           "Cambridge"
          ],
          [
           "A32050",
           17,
           2020,
           "Boston"
          ],
          [
           "D32012",
           19,
           2011,
           "Boston"
          ],
          [
           "S32008",
           15,
           2012,
           "Somerville"
          ],
          [
           "C32007",
           18,
           2011,
           "Boston"
          ],
          [
           "A32026",
           19,
           2016,
           "Boston"
          ],
          [
           "L32001",
           11,
           2020,
           "Arlington"
          ],
          [
           "M32079",
           19,
           2022,
           "Cambridge"
          ],
          [
           "R32006",
           11,
           2020,
           "Revere"
          ],
          [
           "R32007",
           11,
           2020,
           "Revere"
          ],
          [
           "M32036",
           19,
           2014,
           "Cambridge"
          ],
          [
           "C32058",
           15,
           2018,
           "Boston"
          ],
          [
           "M32035",
           19,
           2018,
           "Cambridge"
          ],
          [
           "C32097",
           12,
           2021,
           "Boston"
          ],
          [
           "C32047",
           15,
           2018,
           "Boston"
          ],
          [
           "C32046",
           15,
           2018,
           "Boston"
          ],
          [
           "E32014",
           19,
           2022,
           "Boston"
          ],
          [
           "D32008",
           14,
           2011,
           "Boston"
          ],
          [
           "C32001",
           23,
           2011,
           "Boston"
          ],
          [
           "B32022",
           10,
           2016,
           "Boston"
          ],
          [
           "B32002",
           26,
           2011,
           "Boston"
          ],
          [
           "C32031",
           0,
           2015,
           "Boston"
          ],
          [
           "E32007",
           15,
           2015,
           "Boston"
          ],
          [
           "T32001",
           11,
           2021,
           "Salem"
          ],
          [
           "T32012",
           11,
           2022,
           "Salem"
          ],
          [
           "T32005",
           13,
           2021,
           "Salem"
          ],
          [
           "T32009",
           11,
           2022,
           "Salem"
          ],
          [
           "T32002",
           15,
           2021,
           "Salem"
          ],
          [
           "C32033",
           14,
           2016,
           "Boston"
          ],
          [
           "C32036",
           15,
           2017,
           "Boston"
          ],
          [
           "B32014",
           19,
           2011,
           "Boston"
          ],
          [
           "B32007",
           19,
           2011,
           "Boston"
          ],
          [
           "M32063",
           19,
           2019,
           "Cambridge"
          ],
          [
           "D32059",
           19,
           2022,
           "Boston"
          ],
          [
           "D32048",
           15,
           2019,
           "Boston"
          ],
          [
           "E32009",
           19,
           2019,
           "Boston"
          ],
          [
           "T32003",
           11,
           2021,
           "Salem"
          ],
          [
           "M32047",
           19,
           2016,
           "Cambridge"
          ],
          [
           "D32032",
           19,
           2017,
           "Boston"
          ],
          [
           "M32069",
           19,
           2020,
           "Cambridge"
          ],
          [
           "A32006",
           15,
           2011,
           "Boston"
          ],
          [
           "S32001",
           19,
           2012,
           "Somerville"
          ],
          [
           "S32036",
           19,
           2019,
           "Somerville"
          ],
          [
           "S32048",
           17,
           2021,
           "Somerville"
          ],
          [
           "S32020",
           15,
           2018,
           "Somerville"
          ],
          [
           "C32017",
           15,
           2013,
           "Boston"
          ],
          [
           "A32009",
           15,
           2011,
           "Boston"
          ],
          [
           "A32010",
           45,
           2011,
           "Boston"
          ],
          [
           "D32023",
           19,
           2012,
           "Boston"
          ],
          [
           "C32087",
           19,
           2019,
           "Boston"
          ],
          [
           "K32007",
           15,
           2018,
           "Brookline"
          ],
          [
           "B32063",
           18,
           2022,
           "Boston"
          ],
          [
           "C32024",
           19,
           2014,
           "Boston"
          ],
          [
           "D32041",
           19,
           2018,
           "Boston"
          ],
          [
           "D32049",
           19,
           2019,
           "Boston"
          ],
          [
           "D32011",
           17,
           2011,
           "Boston"
          ],
          [
           "D32053",
           19,
           2019,
           "Boston"
          ],
          [
           "R32001",
           11,
           2021,
           "Revere"
          ],
          [
           "A32013",
           19,
           2015,
           "Boston"
          ],
          [
           "A32042",
           27,
           2019,
           "Boston"
          ],
          [
           "V32007",
           15,
           2019,
           "Everett"
          ],
          [
           "C32064",
           19,
           2019,
           "Boston"
          ],
          [
           "C32043",
           15,
           2018,
           "Boston"
          ],
          [
           "K32008",
           15,
           2018,
           "Brookline"
          ],
          [
           "S32011",
           15,
           2013,
           "Somerville"
          ],
          [
           "E32011",
           16,
           2019,
           "Boston"
          ],
          [
           "A32033",
           15,
           2016,
           "Boston"
          ],
          [
           "C32028",
           19,
           2015,
           "Boston"
          ],
          [
           "D32054",
           19,
           2020,
           "Boston"
          ],
          [
           "C32049",
           0,
           2018,
           "Boston"
          ],
          [
           "M32048",
           15,
           2016,
           "Cambridge"
          ],
          [
           "L32005",
           11,
           2020,
           "Arlington"
          ],
          [
           "C32000",
           19,
           2011,
           "Boston"
          ],
          [
           "B32056",
           19,
           2018,
           "Boston"
          ],
          [
           "C32056",
           19,
           2018,
           "Boston"
          ],
          [
           "C32060",
           15,
           2019,
           "Boston"
          ],
          [
           "D32014",
           15,
           2011,
           "Boston"
          ],
          [
           "C32035",
           14,
           2017,
           "Boston"
          ],
          [
           "F32003",
           11,
           2022,
           "Medford"
          ],
          [
           "A32001",
           19,
           2011,
           "Boston"
          ],
          [
           "S32002",
           19,
           2012,
           "Somerville"
          ],
          [
           "S32041",
           19,
           2021,
           "Somerville"
          ],
          [
           "N32004",
           11,
           2020,
           "Newton"
          ],
          [
           "C32014",
           19,
           2012,
           "Boston"
          ],
          [
           "M32040",
           19,
           2015,
           "Cambridge"
          ],
          [
           "C32019",
           0,
           2013,
           "Boston"
          ],
          [
           "B32025",
           0,
           2016,
           "Boston"
          ],
          [
           "A32053",
           24,
           2021,
           "Boston"
          ],
          [
           "M32057",
           19,
           2018,
           "Cambridge"
          ],
          [
           "M32050",
           19,
           2017,
           "Cambridge"
          ],
          [
           "C32029",
           23,
           2015,
           "Boston"
          ],
          [
           "C32016",
           17,
           2013,
           "Boston"
          ],
          [
           "C32102",
           19,
           2021,
           "Boston"
          ],
          [
           "B32030",
           0,
           2016,
           "Boston"
          ],
          [
           "D32021",
           23,
           2012,
           "Boston"
          ],
          [
           "V32010",
           15,
           2019,
           "Everett"
          ],
          [
           "K32011",
           15,
           2020,
           "Brookline"
          ],
          [
           "C32042",
           0,
           2020,
           "Boston"
          ],
          [
           "D32029",
           15,
           2020,
           "Boston"
          ],
          [
           "N32001",
           11,
           2022,
           "Newton"
          ],
          [
           "C32081",
           0,
           2019,
           "Boston"
          ],
          [
           "A32037",
           0,
           2018,
           "Boston"
          ],
          [
           "C32084",
           15,
           2020,
           "Boston"
          ],
          [
           "C32005",
           15,
           2011,
           "Boston"
          ],
          [
           "B32026",
           19,
           2016,
           "Boston"
          ],
          [
           "S32021",
           15,
           2018,
           "Somerville"
          ],
          [
           "C32067",
           19,
           2019,
           "Boston"
          ],
          [
           "C32006",
           27,
           2011,
           "Boston"
          ],
          [
           "C32038",
           17,
           2018,
           "Boston"
          ],
          [
           "N32014",
           11,
           2021,
           "Newton"
          ],
          [
           "C32083",
           19,
           2019,
           "Boston"
          ],
          [
           "D32002",
           15,
           2011,
           "Boston"
          ],
          [
           "C32034",
           15,
           2016,
           "Boston"
          ],
          [
           "W32002",
           15,
           2020,
           "Watertown"
          ],
          [
           "N32006",
           11,
           2020,
           "Newton"
          ],
          [
           "W32005",
           11,
           2020,
           "Watertown"
          ],
          [
           "V32014",
           19,
           2022,
           "Everett"
          ],
          [
           "B32021",
           14,
           2015,
           "Boston"
          ],
          [
           "D32022",
           35,
           2012,
           "Boston"
          ],
          [
           "N32005",
           14,
           2020,
           "Newton"
          ],
          [
           "A32043",
           0,
           2019,
           "Boston"
          ],
          [
           "B32059",
           19,
           2019,
           "Boston"
          ],
          [
           "D32040",
           23,
           2018,
           "Boston"
          ],
          [
           "S32005",
           15,
           2012,
           "Somerville"
          ]
         ],
         "hovertemplate": "<b>%{hovertext}</b><br><br>Latitude=%{lat}<br>Longitude=%{lon}<br>Number=%{customdata[0]}<br>Total_docks=%{customdata[1]}<br>Deployment_Year=%{customdata[2]}<br>District=%{customdata[3]}<extra></extra>",
         "hovertext": [
          "1200 Beacon St",
          "160 Arsenal",
          "175 N Harvard St",
          "191 Beacon St",
          "2 Hummingbird Lane at Olmsted Green",
          "30 Dane St",
          "359 Broadway - Broadway at Fayette Street",
          "555 Metropolitan Ave",
          "606 American Legion Hwy at Canterbury St",
          "645 Summer St",
          "699 Mt Auburn St",
          "7 Acre Park",
          "700 Commonwealth Ave.",
          "700 Huron Ave",
          "75 Binney St",
          "84 Cambridgepark Dr",
          "855 Broadway",
          "955 Mass Ave",
          "Adams Branch Library",
          "Adams St at Lonsdale St",
          "Addison St at Saratoga St",
          "Airport T Stop - Bremen St at Brooks St",
          "Albany St at E. Brookline St",
          "Alewife MBTA at Steel Place",
          "Alewife Station at Russell Field",
          "American Legion Hwy at Cummins Hwy",
          "American Legion Hwy at Hyde Park Ave",
          "Ames St at Broadway",
          "Ames St at Main St",
          "Andrew T Stop - Dorchester Ave at Dexter St",
          "Aquarium T Stop - 200 Atlantic Ave",
          "Arch St at Franklin St",
          "Archdale Rd at Washington St",
          "Arsenal Yards",
          "Ashmont T Stop",
          "Assembly Square T",
          "Auburndale",
          "B.U. Central - 725 Comm. Ave.",
          "Back Bay T Stop - Dartmouth St at Stuart St",
          "Bacon St at Washington St",
          "Ball Sq",
          "Bartlett St at John Elliot Sq",
          "Beacon at Walnut",
          "Beacon St at Charles St",
          "Beacon St at Massachusetts Ave",
          "Beacon St at Tappan St",
          "Beacon St at Washington / Kirkland",
          "Belgrade Ave at Walworth St",
          "Bellevue T Stop",
          "Bellingham Square",
          "Bennington St at Byron St",
          "Bennington St at Constitution Beach",
          "Berkshire Street at Cambridge Street",
          "Binney St / Sixth St",
          "Blossom St at Charles St",
          "Blue Hill Ave at Almont St",
          "Blue Hill Ave at Havelock St",
          "Blue Hill Ave at Southwood St",
          "Boston City Hall - 28 State St",
          "Boston College T",
          "Boston Convention and Exhibition Center - Summer St at West Side Dr",
          "Boston East - 126 Border St",
          "Boston Landing",
          "Boston Medical Center - E Concord St at Harrison Ave",
          "Bowdoin St at Quincy St",
          "Boylston St at Arlington St",
          "Boylston St at Berkeley St",
          "Boylston St at Dartmouth St",
          "Boylston St at Exeter St",
          "Boylston St at Fairfield St",
          "Boylston St at Jersey St",
          "Boylston St at Massachusetts Ave",
          "Brigham Circle - Francis St at Huntington Ave",
          "Brighton Ave at Linden St",
          "Brighton Center - Washington St at Cambridge St",
          "Brighton Mills - 370 Western Ave",
          "Broad Canal Way at Third Street",
          "Broad St at Central St",
          "Broadway at Beacham St",
          "Broadway at Central St",
          "Broadway at Gerrish Ave",
          "Broadway at Grafton St",
          "Broadway at Lynde St",
          "Broadway at Maple St",
          "Broadway St at Mt Pleasant St",
          "Brookline Town Hall",
          "Brookline Village - Station Street at MBTA",
          "Bunker Hill Community College",
          "Burlington Ave at Brookline Ave",
          "California at Chapel",
          "Cambridge Crossing at North First Street",
          "Cambridge Dept. of Public Works -147 Hampshire St.",
          "Cambridge Main Library at Broadway / Trowbridge St",
          "Cambridge St - at Columbia St / Webster Ave",
          "Cambridge St at Joy St",
          "CambridgeSide Galleria - CambridgeSide PL at Land Blvd",
          "Canal St at Causeway St",
          "Cary Square",
          "Central Ave at River St",
          "Central Sq Post Office / Cambridge City Hall at Mass Ave / Pleasant St",
          "Central Square at Mass Ave / Essex St",
          "Central Square East Boston",
          "Centre St at Parkway YMCA",
          "Centre St at Seaverns Ave",
          "Centre St at W. Roxbury Post Office",
          "Centre St at Washington St",
          "Charles Circle - Charles St at Cambridge St",
          "Charlestown Navy Yard",
          "Chelsea Square",
          "Chelsea St at Vine St",
          "Chelsea Station",
          "Child Street at Brian P. Murphy Staircase",
          "Chinatown Gate Plaza",
          "Chinatown T Stop",
          "Christian Science Plaza - Massachusetts Ave at Westland Ave",
          "Circuit Drive at American Legion Hwy",
          "Clarendon Hill at Broadway",
          "Clarendon St at Newbury St",
          "Cleary Sq",
          "Cleveland Circle",
          "Clinton St at North St",
          "Codman Square Library",
          "Colleges of the Fenway - Fenway at Avenue Louis Pasteur",
          "Columbia Rd at Ceylon St",
          "Columbia Rd at Tierney Community Center",
          "Columbus Ave at W. Canton St",
          "Commonwealth Ave at Agganis Way",
          "Commonwealth Ave At Babcock St",
          "Commonwealth Ave at Chiswick Rd",
          "Commonwealth Ave at Griggs St",
          "Commonwealth Ave at Kelton St",
          "Community Life Center",
          "Community Path at Cedar Street",
          "Community Path at Lowell St",
          "Concord Ave at Spinelli Place",
          "Congress St at Boston City Hall",
          "Congress St at Northern Ave",
          "Congress St at Sleeper St",
          "Conway Park - Somerville Avenue",
          "Coolidge Corner - Beacon St at Centre St",
          "Coolidge Sq.",
          "Copley Square - Dartmouth St at Boylston St",
          "Craigie at Summer St",
          "Cross St at Hanover St",
          "Curtis Hall - South St at Centre St",
          "Cypress St at Clark Playground",
          "Dana Park",
          "Danehy Park",
          "Danehy Park at New Street",
          "Dartmouth St at Newbury St",
          "Davis Square",
          "Day Sq",
          "Deerfield St at Commonwealth Ave",
          "Discovery Park - 30 Acorn Park Drive",
          "Dorchester Ave at Gillette Park",
          "Dudley Square - Bolling Building",
          "Dudley Town Common - Mt Pleasant Ave at Blue Hill Ave",
          "E Cottage St at Columbia Rd",
          "East Boston Neighborhood Health Center - 20 Maverick Square",
          "East Somerville Library (Broadway and Illinois)",
          "Edgerly Education Center",
          "Edwards Playground - Main St at Eden St",
          "EF - North Point Park",
          "Egleston Square - Atherton St at Washington St",
          "Elm St at White St",
          "Encore",
          "Essex St at Dalton Parkway",
          "Everett Square (Broadway at Chelsea St)",
          "Fan Pier",
          "Faneuil St at Arlington St",
          "Farragut Rd at E. 6th St",
          "Fields Corner T Stop",
          "Flat 9 at Whittier",
          "Foley St at Grand Union Blvd",
          "Forest Hills",
          "Forest River Park",
          "Forsyth St at Huntington Ave",
          "Foss Park",
          "Four Corners - 157 Washington St",
          "Franklin Park - Seaver St at Humboldt Ave",
          "Franklin Park Zoo - Franklin Park Rd at Blue Hill Ave",
          "Fresh Pond Reservation",
          "Galileo Galilei Way at Fulkerson St/Binney St",
          "Galileo Galilei Way at Main Street",
          "Gallivan Blvd at Adams St",
          "Geiger Gibson Community Health Center",
          "Gilman Square T at Medford St",
          "Glendale Square (Ferry St at Broadway)",
          "Glendon St at Condor St",
          "Goodhue St at Grove St",
          "Gore Street at Lambert Street",
          "Gove St at Orleans St",
          "Government Center - Cambridge St at Court St",
          "Graham and Parks School ? Linnaean St at Walker St",
          "Gramsdorf Playground",
          "Green Street T Stop - Green St at Amory St",
          "Grove Hall Library - 41 Geneva Ave",
          "Grove St at Community Path",
          "Hale Park",
          "Harrison Ave at Bennet St",
          "Harrison Ave at E. Dedham St",
          "Harrison Ave at Mullins Way",
          "Harvard Ave at Brainerd Rd",
          "Harvard Kennedy School at Bennett St / Eliot St",
          "Harvard Law School at Mass Ave / Jarvis St",
          "Harvard Square at Brattle St / Eliot St",
          "Harvard Square at Mass Ave/ Dunster",
          "Harvard St and Stedman St",
          "Harvard St at Greene-Rose Heritage Park",
          "Harvard Stadium: N. Harvard St at Soldiers Field Rd",
          "Harvard University / SEAS Cruft-Pierce Halls at 29 Oxford St",
          "Harvard University Gund Hall at Quincy St / Kirkland St",
          "Harvard University Housing - 115 Putnam Ave at Peabody Terrace",
          "Harvard University Radcliffe Quadrangle at Shepard St / Garden St",
          "Harvard University River Houses at DeWolfe St / Cowperthwaite St",
          "Hawthorne Boulevard",
          "Hayes Square - Vine St at Moulton St",
          "High St at Cypress St",
          "HMS/HSPH - Avenue Louis Pasteur at Longwood Ave",
          "Honan Library",
          "Hood Park",
          "Huntington Ave at Mass Art",
          "Huron Ave At Vassal Lane",
          "Hyde Park Ave at Arlington St",
          "Hyde Park Ave at Walk Hill St",
          "Hyde Park Library",
          "Hyde Square - Barbara St at Centre St",
          "ID Building East",
          "ID Building West",
          "Ink Block - Harrison Ave at Herald St",
          "Inman Square at Springfield St.",
          "Innovation Lab - 125 Western Ave at Batten Way",
          "Jackson Square T Stop",
          "Jamaica St at South St",
          "JFK Crossing at Harvard St. / Thorndike St.",
          "JFK/UMass T Stop",
          "Kearins Playground",
          "Kendall Street",
          "Kendall T",
          "Kenmore Square",
          "Kennedy-Longfellow School 158 Spring St",
          "Knoll St at Centre St",
          "Lafayette at Leach St",
          "Lafayette Square at Mass Ave / Main St / Columbia St",
          "Landmark Center - Brookline Ave at Park Dr",
          "Langley Lot",
          "Lansdowne T Stop",
          "Lechmere Station at Cambridge St / First St",
          "Lesley University",
          "Lewis Wharf at Atlantic Ave",
          "Linear Park - Mass. Ave. at Cameron Ave. ",
          "Linwood St at Minuteman Bikeway",
          "Longwood Ave at Binney St",
          "Lower Cambridgeport at Magazine St / Riverside Rd",
          "Magoun Square at Trum Field",
          "Main St at Austin St",
          "Main St at Baldwin St",
          "Main St at Brooks Park",
          "Main St at Thompson Sq",
          "Main Street/Albany Street/Technology Square",
          "Malden Center T Station",
          "Malden High School",
          "Marion St at Harvard St",
          "Marion St at White St",
          "Martha Eliot Health Center",
          "Mass Ave at Albany St",
          "Mass Ave at Broadway",
          "Mass Ave at Grafton St",
          "Mass Ave at Hadley/Walden",
          "Mass Ave T Station",
          "Massachusetts Ave at Columbus Ave",
          "Mattapan Library",
          "Mattapan T Stop",
          "Maverick Square - Lewis Mall",
          "Maverick St at Massport Path",
          "Mayor Salvo Path at Mill St",
          "Medford Sq - Riverside Ave at River St",
          "Medford St at Charlestown BCYF",
          "MIT at Mass Ave / Amherst St",
          "MIT Carleton St at Amherst St",
          "MIT Hayward St at Amherst St",
          "MIT Pacific St at Purrington St",
          "MIT Stata Center at Vassar St / Main St",
          "MIT Vassar St",
          "MLK Blvd at Washington St",
          "Morton St at Gallivan Blvd",
          "Morton St T",
          "Mt Auburn",
          "Mt. Hope St at Hyde Park Ave",
          "Mugar Way at Beacon St",
          "Murphy Skating Rink - 1880 Day Blvd",
          "Museum of Science",
          "Nashua Street at Red Auerbach Way",
          "NCAAA - Walnut Ave at Crawford St",
          "New Balance - 20 Guest St",
          "Newbury St at Hereford St",
          "Newmarket Square T Stop - Massachusetts Ave at Newmarket Square",
          "Newton Highlands T",
          "Newton Library",
          "Nichols Ave. at Watertown Greenway",
          "Nonantum Library",
          "North St at Liberty Hill Ave",
          "Northbourne Rd at Hyde Park Ave",
          "Northeastern University - North Parking Lot",
          "Northern Strand at Main St",
          "Oak Square - 615 Washington St",
          "Old Morse Park at Putnam Ave",
          "One Beacon St",
          "One Brigham Circle",
          "One Broadway / Kendall Sq at Main St / 3rd St",
          "One Kendall Square at Hampshire St / Portland St",
          "One Memorial Drive",
          "Orient Heights T Stop - Bennington St at Saratoga St",
          "Orr Sq (Shirley Ave)",
          "Packard Ave at Powderhouse Blvd",
          "Packard's Corner - Commonwealth Ave at Brighton Ave",
          "Park Dr at Buswell St",
          "Park Plaza at Charles St S.",
          "Park St at Norwell St",
          "Perry Park",
          "Pier 4 Blvd at Autumn Ln",
          "Piers Park",
          "Porter Square Station",
          "Porzio Park",
          "Post Office Square",
          "Powder House Circle - Nathan Tufts Park",
          "Prudential Center - 101 Huntington Ave",
          "Purchase St at Pearl St",
          "Railroad Lot and Minuteman Bikeway",
          "Raymond Park at Walden St",
          "Revere City Hall",
          "Revere Public Library",
          "Rindge Avenue - O'Neill Library",
          "Ring Rd",
          "Rogers St & Land Blvd",
          "Roseland St At Dorchester Ave",
          "Roslindale Village - South St",
          "Roslindale Village - Washington St",
          "Ross Playground",
          "Rowes Wharf at Atlantic Ave",
          "Roxbury Crossing T Stop - Columbus Ave at Tremont St",
          "Roxbury YMCA - Warren St at MLK Blvd",
          "Ruggles T Stop - Columbus Ave at Melnea Cass Blvd",
          "Ryan Playground - Dorchester Ave at Harbor View St",
          "S Huntington Ave at Heath St",
          "Salem Ferry Landing",
          "Salem MBTA - Lower Level",
          "Salem MBTA - Washington at Federal St",
          "Salem State University - North Campus",
          "Salem Willows Park",
          "Savin Hill T Stop - S Sydney St at Bay St",
          "Seaport Blvd at Sleeper St",
          "Seaport Hotel - Congress St at Seaport Ln",
          "Seaport Square - Seaport Blvd at Northern Ave",
          "Sennott Park Broadway at Norfolk Street",
          "Shawmut Ave at Lenox St",
          "Shawmut Ave at Oak St W",
          "Shawmut T Stop",
          "Shetland Park - Congress at Peabody St",
          "Sidney Research Campus/Erie Street at Waverly",
          "Silber Way",
          "Smith Pl at Wilson Rd",
          "Soldiers Field Park - 111 Western Ave",
          "Somerville City Hall",
          "Somerville City Hall Annex",
          "Somerville High School & Central Library",
          "Somerville Hospital",
          "South Boston Library - 646 E Broadway",
          "South End Library - Tremont St at W Newton St",
          "South Station - 700 Atlantic Ave",
          "Spaulding Rehabilitation Hospital - Charlestown Navy Yard",
          "Spring St at Powell St",
          "St Mary's",
          "St. Alphonsus St at Tremont St",
          "State Street at Channel Center",
          "Stony Brook T Stop",
          "Stuart St at Berkeley St",
          "Stuart St at Charles St",
          "Sullivan Square",
          "Sumner St at Shirley Ave",
          "Surface Rd at India St",
          "Surface Rd at Summer St",
          "Swan St. Park",
          "Sydney St at Carson St",
          "Talbot Ave At Blue Hill Ave",
          "Tappan St at Brookline Hills MBTA",
          "Teele Square",
          "The Dimock Center",
          "The Eddy - New St at Sumner St",
          "The Lawn on D",
          "The Overlook at St. Gabriel's",
          "Thetford Ave at Norfolk St",
          "Third at Binney",
          "Thorndike Field at Minuteman Bikeway",
          "Tremont St at E Berkeley St",
          "Tremont St at Hamilton Pl",
          "Tremont St at Northampton St",
          "Tremont St at W. Dedham St",
          "Tremont St at West St",
          "Troy Boston",
          "Tufts Sq - Main St at Medford St",
          "Union Square - Brighton Ave at Cambridge St",
          "Union Square - Somerville",
          "Union Square East",
          "Union St at Herrick Rd ? Newton Centre Green Line",
          "University of Massachusetts Boston - Campus Center",
          "University Park",
          "Uphams Corner",
          "Uphams Corner T Stop - Magnolia St at Dudley St",
          "Valenti Way at Haverhill St",
          "Vassal Lane at Tobin/VLUS",
          "Verizon Innovation Hub 10 Ware Street",
          "W Broadway at D St",
          "W Broadway at Dorchester St",
          "Walnut Ave at School St",
          "Walnut Ave at Warren St",
          "Warren St at Chelsea St",
          "Wasgott Playground",
          "Washington Sq",
          "Washington St at Bowdoin St",
          "Washington St at Brock St",
          "Washington St at Crafts St",
          "Washington St at Denton Terr",
          "Washington St at Egremont Rd",
          "Washington St at Fuller St",
          "Washington St at Lenox St",
          "Washington St at Melnea Cass Blvd",
          "Washington St at Myrtle St",
          "Washington St at Peters Park",
          "Washington St at Rutland St",
          "Washington St at Talbot Ave",
          "Washington St at Walnut St",
          "Washington St at Walsh Playground",
          "Washington St at Waltham St",
          "Watermark Seaport - Boston Wharf Rd at Seaport Blvd",
          "Watertown Sq",
          "Watertown St at Albemarle Rd",
          "Watertown Town Hall",
          "Wellington MBTA",
          "Wentworth Institute of Technology - Huntington Ave at Vancouver St",
          "West End Park",
          "West Newton",
          "Western Ave at Richardson St",
          "Whittier St Health Center",
          "Williams St at Washington St",
          "Wilson Square"
         ],
         "lat": [
          42.34414899,
          42.36466403,
          42.363796,
          42.38032335,
          42.28887,
          42.38100143,
          42.370803,
          42.2681,
          42.28578,
          42.34178089,
          42.37500235,
          42.41143223,
          42.34960945,
          42.38078817,
          42.36550729,
          42.3936,
          42.39841773,
          42.36895181,
          42.286011,
          42.29167943,
          42.38518147,
          42.37534193,
          42.33664795,
          42.39558846,
          42.396105,
          42.27881158,
          42.27265394,
          42.3636929,
          42.3625,
          42.33073333,
          42.35991176,
          42.35533502,
          42.29266593,
          42.36277389,
          42.2856944,
          42.39223284,
          42.34805541,
          42.350406,
          42.34807412,
          42.35711921,
          42.39920336,
          42.3294633,
          42.33006232,
          42.356052,
          42.35082681,
          42.3382668,
          42.37875351,
          42.28634589,
          42.28611421,
          42.39319611,
          42.38353252,
          42.38522394,
          42.37207658,
          42.36608797,
          42.36435589,
          42.27462067,
          42.286012,
          42.31786021,
          42.35892,
          42.33987892,
          42.34776345,
          42.37331213,
          42.35656092,
          42.33639915,
          42.30785224,
          42.35200961,
          42.35114198,
          42.3501932,
          42.34958942,
          42.34908155,
          42.34465063,
          42.34740621,
          42.33462893,
          42.3528376,
          42.34894857,
          42.36154571,
          42.3630455,
          42.35849449,
          42.3983606,
          42.3951715,
          42.39453079,
          42.40994213,
          42.39648358,
          42.41034691,
          42.38614141,
          42.33376473,
          42.33274392,
          42.37408991,
          42.345733,
          42.36514871,
          42.371141,
          42.37119728,
          42.373379,
          42.372969,
          42.36125722,
          42.36707407,
          42.36530095,
          42.39813565,
          42.27094707,
          42.366426,
          42.36507,
          42.37544913,
          42.28277901,
          42.3121203,
          42.28633199,
          42.35574335,
          42.36079297,
          42.37412455,
          42.39022671,
          42.40328057,
          42.39636528,
          42.37197678,
          42.351356,
          42.352409,
          42.34366582,
          42.29704126,
          42.406302,
          42.35159662,
          42.2556,
          42.33554308,
          42.36070284,
          42.2873611,
          42.34011512,
          42.309572,
          42.33023071,
          42.34474225,
          42.35169202,
          42.35154735,
          42.34024645,
          42.34922469,
          42.34835863,
          42.520136,
          42.39407224,
          42.392525,
          42.390719,
          42.36041775,
          42.3481,
          42.3510045,
          42.38363895,
          42.341598,
          42.37207611,
          42.34992828,
          42.38831608,
          42.362811,
          42.309054,
          42.32784317,
          42.36178044,
          42.388966,
          42.389456,
          42.35096144,
          42.396969,
          42.379295,
          42.34924377,
          42.39790817,
          42.34404051,
          42.32984299,
          42.325333,
          42.320561,
          42.369536,
          42.38762811,
          42.38717463,
          42.378965,
          42.369885,
          42.315692,
          42.38952436,
          42.39329263,
          42.516223,
          42.40695679,
          42.35339051,
          42.35276621,
          42.3334,
          42.29963349,
          42.33420351,
          42.3930184,
          42.300923,
          42.506395,
          42.339202,
          42.39108438,
          42.30412793,
          42.309796,
          42.303469,
          42.38267828,
          42.3664204,
          42.36300378,
          42.28297568,
          42.31886468,
          42.3867355,
          42.41427294,
          42.38240378,
          42.520897,
          42.3730798,
          42.37057753,
          42.3598254,
          42.3829443,
          42.408156,
          42.310579,
          42.30791,
          42.39638681,
          42.4206487,
          42.3494261,
          42.339194,
          42.34521562,
          42.34953017,
          42.3722168,
          42.379011,
          42.3733288,
          42.373268,
          42.34435176,
          42.36599433,
          42.368019,
          42.377945,
          42.376369,
          42.366621,
          42.380287,
          42.36923907,
          42.5223714,
          42.377022,
          42.32464511,
          42.33741748,
          42.3602737,
          42.38004535,
          42.33658555,
          42.38165061,
          42.26286746,
          42.29606705,
          42.2568376,
          42.32176526,
          42.344827,
          42.344796,
          42.345901,
          42.37426714,
          42.36371276,
          42.32293117,
          42.30604563,
          42.34655124,
          42.32033974,
          42.40616124,
          42.36356016,
          42.36242784,
          42.348706,
          42.36955298,
          42.29376656,
          42.51142784,
          42.36346469,
          42.34369056,
          42.330528,
          42.34734473,
          42.370677,
          42.38674802,
          42.363871,
          42.397828,
          42.40935396,
          42.338629,
          42.3572185,
          42.3977834,
          42.375603,
          42.380857,
          42.411709,
          42.37487847,
          42.3629016,
          42.426541,
          42.42653766,
          42.34012243,
          42.38066931,
          42.324173,
          42.36135838,
          42.41420213,
          42.40726052,
          42.39120972,
          42.34135616,
          42.340814,
          42.2773889,
          42.267902,
          42.36884408,
          42.36774122,
          42.5180352,
          42.417724,
          42.38042947,
          42.3581,
          42.36054174,
          42.36085937,
          42.3595732,
          42.36213123,
          42.35560121,
          42.32143814,
          42.278747,
          42.28072514,
          42.37478629,
          42.28484472,
          42.35553628,
          42.336448,
          42.36769018,
          42.365673,
          42.316902,
          42.35732922,
          42.348717,
          42.326599,
          42.32206566,
          42.33620337,
          42.36762049,
          42.36068456,
          42.52989965,
          42.29118035,
          42.341814,
          42.42386,
          42.35057,
          42.35766248,
          42.35847764,
          42.3339227,
          42.36224179,
          42.366277,
          42.36161932,
          42.386781,
          42.40715656,
          42.40449,
          42.352261,
          42.347241,
          42.35182807,
          42.29442579,
          42.37927325,
          42.3502102,
          42.3650112,
          42.387995,
          42.36411904,
          42.35585436,
          42.400877,
          42.34652004,
          42.354659,
          42.41606457,
          42.38736954,
          42.40741,
          42.408088,
          42.392766,
          42.34827839,
          42.36644674,
          42.29116853,
          42.287072,
          42.28630716,
          42.2645666,
          42.357143,
          42.331184,
          42.31787329,
          42.33624445,
          42.317642,
          42.32760387,
          42.52189284,
          42.523994,
          42.52345239,
          42.503332,
          42.53466911,
          42.3106,
          42.35317809,
          42.34881026,
          42.35148193,
          42.36860524,
          42.33584613,
          42.34854543,
          42.292917,
          42.51836788,
          42.35775309,
          42.349496,
          42.39239749,
          42.36426344,
          42.386844,
          42.39189812,
          42.3864,
          42.39044622,
          42.335741,
          42.341332,
          42.352175,
          42.378338,
          42.27748444,
          42.34619708,
          42.33329255,
          42.344137,
          42.316966,
          42.34954403,
          42.351146,
          42.38445226,
          42.40833706,
          42.358155,
          42.3529457,
          42.41250451,
          42.32039374,
          42.2945833,
          42.33137017,
          42.4008795,
          42.31930943,
          42.370744,
          42.344792,
          42.34679008,
          42.28621295,
          42.36544486,
          42.40016805,
          42.345392,
          42.35668335,
          42.3384318,
          42.34254914,
          42.354979,
          42.343749,
          42.401697,
          42.353334,
          42.3796479,
          42.380078,
          42.32956868,
          42.31218918,
          42.36264779,
          42.31727474,
          42.31869734,
          42.36473899,
          42.38536765,
          42.37250865,
          42.3391085,
          42.33595898,
          42.31242399,
          42.324081,
          42.371848,
          42.40933007,
          42.33985827,
          42.29916498,
          42.34895285,
          42.35389024,
          42.28072815,
          42.34286835,
          42.28198628,
          42.33509899,
          42.332817,
          42.3817508,
          42.34303291,
          42.3385146,
          42.290333,
          42.35145812,
          42.2771947,
          42.34157472,
          42.351586,
          42.36526032,
          42.35410408,
          42.367621,
          42.4023682,
          42.33758601,
          42.36590788,
          42.3496005,
          42.36178741,
          42.33286288,
          42.306539,
          42.38567579
         ],
         "legendgroup": "",
         "lon": [
          -71.11467361,
          -71.17569387,
          -71.129164,
          -71.10878613,
          -71.095003,
          -71.10402523,
          -71.104412,
          -71.11924,
          -71.109725,
          -71.03987017,
          -71.14871614,
          -71.06823265,
          -71.10391524,
          -71.15412891,
          -71.0801376,
          -71.143941,
          -71.02390923,
          -71.1099878,
          -71.054689,
          -71.05726346,
          -71.0151367,
          -71.0312891,
          -71.0689446,
          -71.14260614,
          -71.139459,
          -71.11687703,
          -71.11990392,
          -71.0875672,
          -71.08822,
          -71.05699851,
          -71.05142981,
          -71.05822917,
          -71.12119539,
          -71.15764854,
          -71.0641389,
          -71.07746601,
          -71.24775946,
          -71.108279,
          -71.07657015,
          -71.18604537,
          -71.11102236,
          -71.0901582,
          -71.20668411,
          -71.069849,
          -71.08981088,
          -71.13894682,
          -71.10707223,
          -71.1367213,
          -71.14636928,
          -71.0334456,
          -71.01619095,
          -71.01063069,
          -71.08995434,
          -71.08633604,
          -71.06959369,
          -71.09372552,
          -71.090986,
          -71.07798629,
          -71.057629,
          -71.16708934,
          -71.04535997,
          -71.04102008,
          -71.14167538,
          -71.07306711,
          -71.06512249,
          -71.07060295,
          -71.07329249,
          -71.07744187,
          -71.07946779,
          -71.08192384,
          -71.09732501,
          -71.08678415,
          -71.10407918,
          -71.1296752,
          -71.15027189,
          -71.13776207,
          -71.08287079,
          -71.0542647,
          -71.06373843,
          -71.09850592,
          -71.03085594,
          -71.1400932,
          -71.0654676,
          -71.05260458,
          -71.0782814,
          -71.12046447,
          -71.11626681,
          -71.06905997,
          -71.100694,
          -71.20236039,
          -71.076198,
          -71.09759867,
          -71.111075,
          -71.094445,
          -71.06528744,
          -71.07679278,
          -71.06092191,
          -71.03070972,
          -71.07337901,
          -71.105495,
          -71.1031,
          -71.03918549,
          -71.15728851,
          -71.1142981,
          -71.15344755,
          -71.18641943,
          -71.07118962,
          -71.054812,
          -71.03857018,
          -71.0476264,
          -71.03987179,
          -71.07200496,
          -71.059367,
          -71.062679,
          -71.08582377,
          -71.09171927,
          -71.132446,
          -71.07561663,
          -71.12444,
          -71.1506152,
          -71.05524927,
          -71.071111,
          -71.10061884,
          -71.0729,
          -71.05060093,
          -71.07648162,
          -71.11903489,
          -71.12126246,
          -71.15168806,
          -71.13275303,
          -71.13997217,
          -70.906271,
          -71.11133695,
          -71.105587,
          -71.1538877,
          -71.05752244,
          -71.03764,
          -71.04930013,
          -71.10853672,
          -71.123338,
          -71.15683131,
          -71.07739207,
          -71.11068249,
          -71.056067,
          -71.11543,
          -71.12536222,
          -71.10809952,
          -71.132788,
          -71.139019,
          -71.07782811,
          -71.123024,
          -71.027733,
          -71.0972821,
          -71.14797131,
          -71.05737627,
          -71.08386572,
          -71.075354,
          -71.06198,
          -71.039431,
          -71.08318716,
          -71.08714389,
          -71.068607,
          -71.069957,
          -71.098634,
          -71.1169414,
          -71.0724476,
          -70.905535,
          -71.0565029,
          -71.0445714,
          -71.15988486,
          -71.02495,
          -71.06068976,
          -71.08767617,
          -71.08071685,
          -71.114249,
          -70.88693,
          -71.090511,
          -71.09039426,
          -71.07929528,
          -71.092225,
          -71.085347,
          -71.14347895,
          -71.0885418,
          -71.08974038,
          -71.05466698,
          -71.04536798,
          -71.0946444,
          -71.04479656,
          -71.03024304,
          -70.910528,
          -71.08634234,
          -71.0355854,
          -71.05979576,
          -71.12449831,
          -71.0429,
          -71.107341,
          -71.080952,
          -71.12011306,
          -71.0437126,
          -71.0620996,
          -71.06975,
          -71.06384031,
          -71.13022771,
          -71.12188071,
          -71.119945,
          -71.12098601,
          -71.118579,
          -71.12490356,
          -71.09522222,
          -71.1242,
          -71.116865,
          -71.114025,
          -71.114214,
          -71.125107,
          -71.11687034,
          -70.8903331,
          -71.056605,
          -71.12135231,
          -71.10286117,
          -71.12852452,
          -71.07304573,
          -71.09886996,
          -71.13426981,
          -71.12163126,
          -71.116012,
          -71.122509,
          -71.10984161,
          -71.028664,
          -71.031614,
          -71.063187,
          -71.10026479,
          -71.12459779,
          -71.10014141,
          -71.11570891,
          -71.12833211,
          -71.05118036,
          -71.06041655,
          -71.08216792,
          -71.08495474,
          -71.097009,
          -71.08579015,
          -71.1365658,
          -70.89183301,
          -71.10057324,
          -71.10235287,
          -71.192861,
          -71.10016808,
          -71.076529,
          -71.11901879,
          -71.050877,
          -71.130516,
          -71.14906519,
          -71.1065,
          -71.11387163,
          -71.10594004,
          -71.064608,
          -71.070629,
          -71.110444,
          -71.06383499,
          -71.0915669,
          -71.073179,
          -71.06393695,
          -71.12070564,
          -71.03907316,
          -71.10196,
          -71.09670274,
          -71.15051883,
          -71.14382132,
          -71.12260755,
          -71.08336953,
          -71.0816197,
          -71.09325,
          -71.093641,
          -71.03977829,
          -71.03335975,
          -70.89570075,
          -71.108102,
          -71.06055722,
          -71.093198,
          -71.08669817,
          -71.08551858,
          -71.10129476,
          -71.09115601,
          -71.10394478,
          -71.09126061,
          -71.080286,
          -71.08617242,
          -71.13320231,
          -71.11874517,
          -71.0728687,
          -71.023739,
          -71.07116282,
          -71.064263,
          -71.091946,
          -71.1467354,
          -71.085954,
          -71.066498,
          -71.20637298,
          -71.20779455,
          -71.15656637,
          -71.201462,
          -70.90614259,
          -71.11773666,
          -71.090179,
          -71.067793,
          -71.166491,
          -71.10841334,
          -71.0613513,
          -71.10446509,
          -71.08311072,
          -71.09169,
          -71.08043551,
          -71.006098,
          -70.9927243,
          -71.123413,
          -71.123831,
          -71.105301,
          -71.06781138,
          -71.07821761,
          -71.10341903,
          -71.0446705,
          -71.03528559,
          -71.119084,
          -71.02876782,
          -71.05459746,
          -71.116772,
          -71.08065777,
          -71.053181,
          -71.15336637,
          -71.12761001,
          -71.0139,
          -71.008942,
          -71.129042,
          -71.08044855,
          -71.07654601,
          -71.0630089,
          -71.127754,
          -71.12820532,
          -71.1145523,
          -71.050699,
          -71.095171,
          -71.08243078,
          -71.08798563,
          -71.056664,
          -71.1108917,
          -70.88069111,
          -70.89684,
          -70.89611113,
          -70.891444,
          -70.8702144,
          -71.0539,
          -71.04817357,
          -71.04167744,
          -71.04436085,
          -71.09930186,
          -71.08038157,
          -71.06559185,
          -71.06575,
          -70.88952363,
          -71.10393405,
          -71.10057592,
          -71.15058332,
          -71.1182757,
          -71.09812,
          -71.09745376,
          -71.09601,
          -71.10856622,
          -71.03877,
          -71.076847,
          -71.055547,
          -71.048927,
          -71.16341468,
          -71.10728681,
          -71.10124648,
          -71.052608,
          -71.104374,
          -71.07242074,
          -71.066289,
          -71.07514855,
          -70.99804848,
          -71.052163,
          -71.05656401,
          -71.05842225,
          -71.05355408,
          -71.087111,
          -71.12688361,
          -71.12590793,
          -71.09639924,
          -71.044201,
          -71.044024,
          -71.14549814,
          -71.07942931,
          -71.08277142,
          -71.14456963,
          -71.069616,
          -71.06166646,
          -71.0816905,
          -71.07421449,
          -71.063348,
          -71.062256,
          -71.106128,
          -71.137313,
          -71.09540476,
          -71.090098,
          -71.19367272,
          -71.03648586,
          -71.10006094,
          -71.06537004,
          -71.06978148,
          -71.05934903,
          -71.13775671,
          -71.11305356,
          -71.0514432,
          -71.046229,
          -71.09616905,
          -71.083235,
          -71.060292,
          -71.06381878,
          -71.13421171,
          -71.07345872,
          -71.16031677,
          -71.19943707,
          -71.13423757,
          -71.14127841,
          -71.07147925,
          -71.07903779,
          -71.081198,
          -71.0839523,
          -71.0668873,
          -71.07404083,
          -71.071806,
          -71.20764971,
          -71.06955614,
          -71.0689044,
          -71.04569256,
          -71.18573324,
          -71.21382214,
          -71.187936,
          -71.07573182,
          -71.09627098,
          -71.06446669,
          -71.22627497,
          -71.14393111,
          -71.09218862,
          -71.107669,
          -71.11412136
         ],
         "marker": {
          "color": "fuchsia"
         },
         "mode": "markers",
         "name": "",
         "showlegend": false,
         "subplot": "mapbox",
         "type": "scattermapbox"
        }
       ],
       "layout": {
        "height": 900,
        "legend": {
         "tracegroupgap": 0
        },
        "mapbox": {
         "center": {
          "lat": 42.3581893356278,
          "lon": -71.08706758179372
         },
         "domain": {
          "x": [
           0,
           1
          ],
          "y": [
           0,
           1
          ]
         },
         "style": "open-street-map",
         "zoom": 12
        },
        "margin": {
         "b": 0,
         "l": 0,
         "r": 0,
         "t": 0
        },
        "template": {
         "data": {
          "bar": [
           {
            "error_x": {
             "color": "#2a3f5f"
            },
            "error_y": {
             "color": "#2a3f5f"
            },
            "marker": {
             "line": {
              "color": "#E5ECF6",
              "width": 0.5
             },
             "pattern": {
              "fillmode": "overlay",
              "size": 10,
              "solidity": 0.2
             }
            },
            "type": "bar"
           }
          ],
          "barpolar": [
           {
            "marker": {
             "line": {
              "color": "#E5ECF6",
              "width": 0.5
             },
             "pattern": {
              "fillmode": "overlay",
              "size": 10,
              "solidity": 0.2
             }
            },
            "type": "barpolar"
           }
          ],
          "carpet": [
           {
            "aaxis": {
             "endlinecolor": "#2a3f5f",
             "gridcolor": "white",
             "linecolor": "white",
             "minorgridcolor": "white",
             "startlinecolor": "#2a3f5f"
            },
            "baxis": {
             "endlinecolor": "#2a3f5f",
             "gridcolor": "white",
             "linecolor": "white",
             "minorgridcolor": "white",
             "startlinecolor": "#2a3f5f"
            },
            "type": "carpet"
           }
          ],
          "choropleth": [
           {
            "colorbar": {
             "outlinewidth": 0,
             "ticks": ""
            },
            "type": "choropleth"
           }
          ],
          "contour": [
           {
            "colorbar": {
             "outlinewidth": 0,
             "ticks": ""
            },
            "colorscale": [
             [
              0,
              "#0d0887"
             ],
             [
              0.1111111111111111,
              "#46039f"
             ],
             [
              0.2222222222222222,
              "#7201a8"
             ],
             [
              0.3333333333333333,
              "#9c179e"
             ],
             [
              0.4444444444444444,
              "#bd3786"
             ],
             [
              0.5555555555555556,
              "#d8576b"
             ],
             [
              0.6666666666666666,
              "#ed7953"
             ],
             [
              0.7777777777777778,
              "#fb9f3a"
             ],
             [
              0.8888888888888888,
              "#fdca26"
             ],
             [
              1,
              "#f0f921"
             ]
            ],
            "type": "contour"
           }
          ],
          "contourcarpet": [
           {
            "colorbar": {
             "outlinewidth": 0,
             "ticks": ""
            },
            "type": "contourcarpet"
           }
          ],
          "heatmap": [
           {
            "colorbar": {
             "outlinewidth": 0,
             "ticks": ""
            },
            "colorscale": [
             [
              0,
              "#0d0887"
             ],
             [
              0.1111111111111111,
              "#46039f"
             ],
             [
              0.2222222222222222,
              "#7201a8"
             ],
             [
              0.3333333333333333,
              "#9c179e"
             ],
             [
              0.4444444444444444,
              "#bd3786"
             ],
             [
              0.5555555555555556,
              "#d8576b"
             ],
             [
              0.6666666666666666,
              "#ed7953"
             ],
             [
              0.7777777777777778,
              "#fb9f3a"
             ],
             [
              0.8888888888888888,
              "#fdca26"
             ],
             [
              1,
              "#f0f921"
             ]
            ],
            "type": "heatmap"
           }
          ],
          "heatmapgl": [
           {
            "colorbar": {
             "outlinewidth": 0,
             "ticks": ""
            },
            "colorscale": [
             [
              0,
              "#0d0887"
             ],
             [
              0.1111111111111111,
              "#46039f"
             ],
             [
              0.2222222222222222,
              "#7201a8"
             ],
             [
              0.3333333333333333,
              "#9c179e"
             ],
             [
              0.4444444444444444,
              "#bd3786"
             ],
             [
              0.5555555555555556,
              "#d8576b"
             ],
             [
              0.6666666666666666,
              "#ed7953"
             ],
             [
              0.7777777777777778,
              "#fb9f3a"
             ],
             [
              0.8888888888888888,
              "#fdca26"
             ],
             [
              1,
              "#f0f921"
             ]
            ],
            "type": "heatmapgl"
           }
          ],
          "histogram": [
           {
            "marker": {
             "pattern": {
              "fillmode": "overlay",
              "size": 10,
              "solidity": 0.2
             }
            },
            "type": "histogram"
           }
          ],
          "histogram2d": [
           {
            "colorbar": {
             "outlinewidth": 0,
             "ticks": ""
            },
            "colorscale": [
             [
              0,
              "#0d0887"
             ],
             [
              0.1111111111111111,
              "#46039f"
             ],
             [
              0.2222222222222222,
              "#7201a8"
             ],
             [
              0.3333333333333333,
              "#9c179e"
             ],
             [
              0.4444444444444444,
              "#bd3786"
             ],
             [
              0.5555555555555556,
              "#d8576b"
             ],
             [
              0.6666666666666666,
              "#ed7953"
             ],
             [
              0.7777777777777778,
              "#fb9f3a"
             ],
             [
              0.8888888888888888,
              "#fdca26"
             ],
             [
              1,
              "#f0f921"
             ]
            ],
            "type": "histogram2d"
           }
          ],
          "histogram2dcontour": [
           {
            "colorbar": {
             "outlinewidth": 0,
             "ticks": ""
            },
            "colorscale": [
             [
              0,
              "#0d0887"
             ],
             [
              0.1111111111111111,
              "#46039f"
             ],
             [
              0.2222222222222222,
              "#7201a8"
             ],
             [
              0.3333333333333333,
              "#9c179e"
             ],
             [
              0.4444444444444444,
              "#bd3786"
             ],
             [
              0.5555555555555556,
              "#d8576b"
             ],
             [
              0.6666666666666666,
              "#ed7953"
             ],
             [
              0.7777777777777778,
              "#fb9f3a"
             ],
             [
              0.8888888888888888,
              "#fdca26"
             ],
             [
              1,
              "#f0f921"
             ]
            ],
            "type": "histogram2dcontour"
           }
          ],
          "mesh3d": [
           {
            "colorbar": {
             "outlinewidth": 0,
             "ticks": ""
            },
            "type": "mesh3d"
           }
          ],
          "parcoords": [
           {
            "line": {
             "colorbar": {
              "outlinewidth": 0,
              "ticks": ""
             }
            },
            "type": "parcoords"
           }
          ],
          "pie": [
           {
            "automargin": true,
            "type": "pie"
           }
          ],
          "scatter": [
           {
            "fillpattern": {
             "fillmode": "overlay",
             "size": 10,
             "solidity": 0.2
            },
            "type": "scatter"
           }
          ],
          "scatter3d": [
           {
            "line": {
             "colorbar": {
              "outlinewidth": 0,
              "ticks": ""
             }
            },
            "marker": {
             "colorbar": {
              "outlinewidth": 0,
              "ticks": ""
             }
            },
            "type": "scatter3d"
           }
          ],
          "scattercarpet": [
           {
            "marker": {
             "colorbar": {
              "outlinewidth": 0,
              "ticks": ""
             }
            },
            "type": "scattercarpet"
           }
          ],
          "scattergeo": [
           {
            "marker": {
             "colorbar": {
              "outlinewidth": 0,
              "ticks": ""
             }
            },
            "type": "scattergeo"
           }
          ],
          "scattergl": [
           {
            "marker": {
             "colorbar": {
              "outlinewidth": 0,
              "ticks": ""
             }
            },
            "type": "scattergl"
           }
          ],
          "scattermapbox": [
           {
            "marker": {
             "colorbar": {
              "outlinewidth": 0,
              "ticks": ""
             }
            },
            "type": "scattermapbox"
           }
          ],
          "scatterpolar": [
           {
            "marker": {
             "colorbar": {
              "outlinewidth": 0,
              "ticks": ""
             }
            },
            "type": "scatterpolar"
           }
          ],
          "scatterpolargl": [
           {
            "marker": {
             "colorbar": {
              "outlinewidth": 0,
              "ticks": ""
             }
            },
            "type": "scatterpolargl"
           }
          ],
          "scatterternary": [
           {
            "marker": {
             "colorbar": {
              "outlinewidth": 0,
              "ticks": ""
             }
            },
            "type": "scatterternary"
           }
          ],
          "surface": [
           {
            "colorbar": {
             "outlinewidth": 0,
             "ticks": ""
            },
            "colorscale": [
             [
              0,
              "#0d0887"
             ],
             [
              0.1111111111111111,
              "#46039f"
             ],
             [
              0.2222222222222222,
              "#7201a8"
             ],
             [
              0.3333333333333333,
              "#9c179e"
             ],
             [
              0.4444444444444444,
              "#bd3786"
             ],
             [
              0.5555555555555556,
              "#d8576b"
             ],
             [
              0.6666666666666666,
              "#ed7953"
             ],
             [
              0.7777777777777778,
              "#fb9f3a"
             ],
             [
              0.8888888888888888,
              "#fdca26"
             ],
             [
              1,
              "#f0f921"
             ]
            ],
            "type": "surface"
           }
          ],
          "table": [
           {
            "cells": {
             "fill": {
              "color": "#EBF0F8"
             },
             "line": {
              "color": "white"
             }
            },
            "header": {
             "fill": {
              "color": "#C8D4E3"
             },
             "line": {
              "color": "white"
             }
            },
            "type": "table"
           }
          ]
         },
         "layout": {
          "annotationdefaults": {
           "arrowcolor": "#2a3f5f",
           "arrowhead": 0,
           "arrowwidth": 1
          },
          "autotypenumbers": "strict",
          "coloraxis": {
           "colorbar": {
            "outlinewidth": 0,
            "ticks": ""
           }
          },
          "colorscale": {
           "diverging": [
            [
             0,
             "#8e0152"
            ],
            [
             0.1,
             "#c51b7d"
            ],
            [
             0.2,
             "#de77ae"
            ],
            [
             0.3,
             "#f1b6da"
            ],
            [
             0.4,
             "#fde0ef"
            ],
            [
             0.5,
             "#f7f7f7"
            ],
            [
             0.6,
             "#e6f5d0"
            ],
            [
             0.7,
             "#b8e186"
            ],
            [
             0.8,
             "#7fbc41"
            ],
            [
             0.9,
             "#4d9221"
            ],
            [
             1,
             "#276419"
            ]
           ],
           "sequential": [
            [
             0,
             "#0d0887"
            ],
            [
             0.1111111111111111,
             "#46039f"
            ],
            [
             0.2222222222222222,
             "#7201a8"
            ],
            [
             0.3333333333333333,
             "#9c179e"
            ],
            [
             0.4444444444444444,
             "#bd3786"
            ],
            [
             0.5555555555555556,
             "#d8576b"
            ],
            [
             0.6666666666666666,
             "#ed7953"
            ],
            [
             0.7777777777777778,
             "#fb9f3a"
            ],
            [
             0.8888888888888888,
             "#fdca26"
            ],
            [
             1,
             "#f0f921"
            ]
           ],
           "sequentialminus": [
            [
             0,
             "#0d0887"
            ],
            [
             0.1111111111111111,
             "#46039f"
            ],
            [
             0.2222222222222222,
             "#7201a8"
            ],
            [
             0.3333333333333333,
             "#9c179e"
            ],
            [
             0.4444444444444444,
             "#bd3786"
            ],
            [
             0.5555555555555556,
             "#d8576b"
            ],
            [
             0.6666666666666666,
             "#ed7953"
            ],
            [
             0.7777777777777778,
             "#fb9f3a"
            ],
            [
             0.8888888888888888,
             "#fdca26"
            ],
            [
             1,
             "#f0f921"
            ]
           ]
          },
          "colorway": [
           "#636efa",
           "#EF553B",
           "#00cc96",
           "#ab63fa",
           "#FFA15A",
           "#19d3f3",
           "#FF6692",
           "#B6E880",
           "#FF97FF",
           "#FECB52"
          ],
          "font": {
           "color": "#2a3f5f"
          },
          "geo": {
           "bgcolor": "white",
           "lakecolor": "white",
           "landcolor": "#E5ECF6",
           "showlakes": true,
           "showland": true,
           "subunitcolor": "white"
          },
          "hoverlabel": {
           "align": "left"
          },
          "hovermode": "closest",
          "mapbox": {
           "style": "light"
          },
          "paper_bgcolor": "white",
          "plot_bgcolor": "#E5ECF6",
          "polar": {
           "angularaxis": {
            "gridcolor": "white",
            "linecolor": "white",
            "ticks": ""
           },
           "bgcolor": "#E5ECF6",
           "radialaxis": {
            "gridcolor": "white",
            "linecolor": "white",
            "ticks": ""
           }
          },
          "scene": {
           "xaxis": {
            "backgroundcolor": "#E5ECF6",
            "gridcolor": "white",
            "gridwidth": 2,
            "linecolor": "white",
            "showbackground": true,
            "ticks": "",
            "zerolinecolor": "white"
           },
           "yaxis": {
            "backgroundcolor": "#E5ECF6",
            "gridcolor": "white",
            "gridwidth": 2,
            "linecolor": "white",
            "showbackground": true,
            "ticks": "",
            "zerolinecolor": "white"
           },
           "zaxis": {
            "backgroundcolor": "#E5ECF6",
            "gridcolor": "white",
            "gridwidth": 2,
            "linecolor": "white",
            "showbackground": true,
            "ticks": "",
            "zerolinecolor": "white"
           }
          },
          "shapedefaults": {
           "line": {
            "color": "#2a3f5f"
           }
          },
          "ternary": {
           "aaxis": {
            "gridcolor": "white",
            "linecolor": "white",
            "ticks": ""
           },
           "baxis": {
            "gridcolor": "white",
            "linecolor": "white",
            "ticks": ""
           },
           "bgcolor": "#E5ECF6",
           "caxis": {
            "gridcolor": "white",
            "linecolor": "white",
            "ticks": ""
           }
          },
          "title": {
           "x": 0.05
          },
          "xaxis": {
           "automargin": true,
           "gridcolor": "white",
           "linecolor": "white",
           "ticks": "",
           "title": {
            "standoff": 15
           },
           "zerolinecolor": "white",
           "zerolinewidth": 2
          },
          "yaxis": {
           "automargin": true,
           "gridcolor": "white",
           "linecolor": "white",
           "ticks": "",
           "title": {
            "standoff": 15
           },
           "zerolinecolor": "white",
           "zerolinewidth": 2
          }
         }
        }
       }
      }
     },
     "metadata": {},
     "output_type": "display_data"
    }
   ],
   "source": [
    "# Plot a map of the stations\n",
    "fig = px.scatter_mapbox(stations_df, lat=\"Latitude\", lon=\"Longitude\", hover_name=\"Name\", hover_data=[\"Number\", \"Total_docks\", \"Deployment_Year\", \"District\"], color_discrete_sequence=[\"fuchsia\"], zoom=12, height=900)\n",
    "fig.update_layout(mapbox_style=\"open-street-map\")\n",
    "fig.update_layout(margin={\"r\":0,\"t\":0,\"l\":0,\"b\":0})\n",
    "fig.show()"
   ]
  },
  {
   "cell_type": "code",
   "execution_count": 59,
   "id": "4a29be26",
   "metadata": {},
   "outputs": [
    {
     "data": {
      "text/html": [
       "<div>\n",
       "<style scoped>\n",
       "    .dataframe tbody tr th:only-of-type {\n",
       "        vertical-align: middle;\n",
       "    }\n",
       "\n",
       "    .dataframe tbody tr th {\n",
       "        vertical-align: top;\n",
       "    }\n",
       "\n",
       "    .dataframe thead th {\n",
       "        text-align: right;\n",
       "    }\n",
       "</style>\n",
       "<table border=\"1\" class=\"dataframe\">\n",
       "  <thead>\n",
       "    <tr style=\"text-align: right;\">\n",
       "      <th></th>\n",
       "      <th>Number</th>\n",
       "      <th>Name</th>\n",
       "      <th>Latitude</th>\n",
       "      <th>Longitude</th>\n",
       "      <th>District</th>\n",
       "      <th>Public</th>\n",
       "      <th>Total_docks</th>\n",
       "      <th>Deployment_Year</th>\n",
       "      <th>x</th>\n",
       "      <th>y</th>\n",
       "      <th>zone_number</th>\n",
       "      <th>zone_letter</th>\n",
       "      <th>xnew</th>\n",
       "      <th>ynew</th>\n",
       "    </tr>\n",
       "  </thead>\n",
       "  <tbody>\n",
       "    <tr>\n",
       "      <th>6</th>\n",
       "      <td>M32026</td>\n",
       "      <td>359 Broadway - Broadway at Fayette Street</td>\n",
       "      <td>42.370803</td>\n",
       "      <td>-71.104412</td>\n",
       "      <td>Cambridge</td>\n",
       "      <td>Yes</td>\n",
       "      <td>23</td>\n",
       "      <td>2013.0</td>\n",
       "      <td>326729.433011</td>\n",
       "      <td>4.693092e+06</td>\n",
       "      <td>19</td>\n",
       "      <td>T</td>\n",
       "      <td>11870.122387</td>\n",
       "      <td>12751.363501</td>\n",
       "    </tr>\n",
       "    <tr>\n",
       "      <th>10</th>\n",
       "      <td>M32054</td>\n",
       "      <td>699 Mt Auburn St</td>\n",
       "      <td>42.375002</td>\n",
       "      <td>-71.148716</td>\n",
       "      <td>Cambridge</td>\n",
       "      <td>Yes</td>\n",
       "      <td>25</td>\n",
       "      <td>2018.0</td>\n",
       "      <td>323093.205093</td>\n",
       "      <td>4.693650e+06</td>\n",
       "      <td>19</td>\n",
       "      <td>T</td>\n",
       "      <td>8233.894468</td>\n",
       "      <td>13308.964079</td>\n",
       "    </tr>\n",
       "    <tr>\n",
       "      <th>13</th>\n",
       "      <td>M32060</td>\n",
       "      <td>700 Huron Ave</td>\n",
       "      <td>42.380788</td>\n",
       "      <td>-71.154129</td>\n",
       "      <td>Cambridge</td>\n",
       "      <td>Yes</td>\n",
       "      <td>19</td>\n",
       "      <td>2018.0</td>\n",
       "      <td>322663.833283</td>\n",
       "      <td>4.694304e+06</td>\n",
       "      <td>19</td>\n",
       "      <td>T</td>\n",
       "      <td>7804.522659</td>\n",
       "      <td>13962.725687</td>\n",
       "    </tr>\n",
       "    <tr>\n",
       "      <th>14</th>\n",
       "      <td>M32064</td>\n",
       "      <td>75 Binney St</td>\n",
       "      <td>42.365507</td>\n",
       "      <td>-71.080138</td>\n",
       "      <td>Cambridge</td>\n",
       "      <td>Yes</td>\n",
       "      <td>19</td>\n",
       "      <td>2019.0</td>\n",
       "      <td>328713.798515</td>\n",
       "      <td>4.692455e+06</td>\n",
       "      <td>19</td>\n",
       "      <td>T</td>\n",
       "      <td>13854.487890</td>\n",
       "      <td>12114.101714</td>\n",
       "    </tr>\n",
       "    <tr>\n",
       "      <th>15</th>\n",
       "      <td>M32058</td>\n",
       "      <td>84 Cambridgepark Dr</td>\n",
       "      <td>42.393600</td>\n",
       "      <td>-71.143941</td>\n",
       "      <td>Cambridge</td>\n",
       "      <td>Yes</td>\n",
       "      <td>27</td>\n",
       "      <td>2018.0</td>\n",
       "      <td>323538.481986</td>\n",
       "      <td>4.695705e+06</td>\n",
       "      <td>19</td>\n",
       "      <td>T</td>\n",
       "      <td>8679.171362</td>\n",
       "      <td>15364.181862</td>\n",
       "    </tr>\n",
       "    <tr>\n",
       "      <th>...</th>\n",
       "      <td>...</td>\n",
       "      <td>...</td>\n",
       "      <td>...</td>\n",
       "      <td>...</td>\n",
       "      <td>...</td>\n",
       "      <td>...</td>\n",
       "      <td>...</td>\n",
       "      <td>...</td>\n",
       "      <td>...</td>\n",
       "      <td>...</td>\n",
       "      <td>...</td>\n",
       "      <td>...</td>\n",
       "      <td>...</td>\n",
       "      <td>...</td>\n",
       "    </tr>\n",
       "    <tr>\n",
       "      <th>360</th>\n",
       "      <td>M32069</td>\n",
       "      <td>Smith Pl at Wilson Rd</td>\n",
       "      <td>42.392397</td>\n",
       "      <td>-71.150583</td>\n",
       "      <td>Cambridge</td>\n",
       "      <td>Yes</td>\n",
       "      <td>19</td>\n",
       "      <td>2020.0</td>\n",
       "      <td>322988.367546</td>\n",
       "      <td>4.695585e+06</td>\n",
       "      <td>19</td>\n",
       "      <td>T</td>\n",
       "      <td>8129.056922</td>\n",
       "      <td>15244.471827</td>\n",
       "    </tr>\n",
       "    <tr>\n",
       "      <th>391</th>\n",
       "      <td>M32048</td>\n",
       "      <td>Third at Binney</td>\n",
       "      <td>42.365445</td>\n",
       "      <td>-71.082771</td>\n",
       "      <td>Cambridge</td>\n",
       "      <td>Yes</td>\n",
       "      <td>15</td>\n",
       "      <td>2016.0</td>\n",
       "      <td>328496.741251</td>\n",
       "      <td>4.692453e+06</td>\n",
       "      <td>19</td>\n",
       "      <td>T</td>\n",
       "      <td>13637.430627</td>\n",
       "      <td>12112.481078</td>\n",
       "    </tr>\n",
       "    <tr>\n",
       "      <th>405</th>\n",
       "      <td>M32040</td>\n",
       "      <td>University Park</td>\n",
       "      <td>42.362648</td>\n",
       "      <td>-71.100061</td>\n",
       "      <td>Cambridge</td>\n",
       "      <td>Yes</td>\n",
       "      <td>19</td>\n",
       "      <td>2015.0</td>\n",
       "      <td>327065.322993</td>\n",
       "      <td>4.692178e+06</td>\n",
       "      <td>19</td>\n",
       "      <td>T</td>\n",
       "      <td>12206.012368</td>\n",
       "      <td>11836.922051</td>\n",
       "    </tr>\n",
       "    <tr>\n",
       "      <th>409</th>\n",
       "      <td>M32057</td>\n",
       "      <td>Vassal Lane at Tobin/VLUS</td>\n",
       "      <td>42.385368</td>\n",
       "      <td>-71.137757</td>\n",
       "      <td>Cambridge</td>\n",
       "      <td>Yes</td>\n",
       "      <td>19</td>\n",
       "      <td>2018.0</td>\n",
       "      <td>324024.509647</td>\n",
       "      <td>4.694778e+06</td>\n",
       "      <td>19</td>\n",
       "      <td>T</td>\n",
       "      <td>9165.199023</td>\n",
       "      <td>14437.202597</td>\n",
       "    </tr>\n",
       "    <tr>\n",
       "      <th>410</th>\n",
       "      <td>M32050</td>\n",
       "      <td>Verizon Innovation Hub 10 Ware Street</td>\n",
       "      <td>42.372509</td>\n",
       "      <td>-71.113054</td>\n",
       "      <td>Cambridge</td>\n",
       "      <td>Yes</td>\n",
       "      <td>19</td>\n",
       "      <td>2017.0</td>\n",
       "      <td>326022.594148</td>\n",
       "      <td>4.693299e+06</td>\n",
       "      <td>19</td>\n",
       "      <td>T</td>\n",
       "      <td>11163.283524</td>\n",
       "      <td>12958.421036</td>\n",
       "    </tr>\n",
       "  </tbody>\n",
       "</table>\n",
       "<p>78 rows × 14 columns</p>\n",
       "</div>"
      ],
      "text/plain": [
       "     Number                                       Name   Latitude  Longitude  \\\n",
       "6    M32026  359 Broadway - Broadway at Fayette Street  42.370803 -71.104412   \n",
       "10   M32054                           699 Mt Auburn St  42.375002 -71.148716   \n",
       "13   M32060                              700 Huron Ave  42.380788 -71.154129   \n",
       "14   M32064                               75 Binney St  42.365507 -71.080138   \n",
       "15   M32058                        84 Cambridgepark Dr  42.393600 -71.143941   \n",
       "..      ...                                        ...        ...        ...   \n",
       "360  M32069                      Smith Pl at Wilson Rd  42.392397 -71.150583   \n",
       "391  M32048                            Third at Binney  42.365445 -71.082771   \n",
       "405  M32040                            University Park  42.362648 -71.100061   \n",
       "409  M32057                  Vassal Lane at Tobin/VLUS  42.385368 -71.137757   \n",
       "410  M32050      Verizon Innovation Hub 10 Ware Street  42.372509 -71.113054   \n",
       "\n",
       "      District Public  Total_docks  Deployment_Year              x  \\\n",
       "6    Cambridge    Yes           23           2013.0  326729.433011   \n",
       "10   Cambridge    Yes           25           2018.0  323093.205093   \n",
       "13   Cambridge    Yes           19           2018.0  322663.833283   \n",
       "14   Cambridge    Yes           19           2019.0  328713.798515   \n",
       "15   Cambridge    Yes           27           2018.0  323538.481986   \n",
       "..         ...    ...          ...              ...            ...   \n",
       "360  Cambridge    Yes           19           2020.0  322988.367546   \n",
       "391  Cambridge    Yes           15           2016.0  328496.741251   \n",
       "405  Cambridge    Yes           19           2015.0  327065.322993   \n",
       "409  Cambridge    Yes           19           2018.0  324024.509647   \n",
       "410  Cambridge    Yes           19           2017.0  326022.594148   \n",
       "\n",
       "                y  zone_number zone_letter          xnew          ynew  \n",
       "6    4.693092e+06           19           T  11870.122387  12751.363501  \n",
       "10   4.693650e+06           19           T   8233.894468  13308.964079  \n",
       "13   4.694304e+06           19           T   7804.522659  13962.725687  \n",
       "14   4.692455e+06           19           T  13854.487890  12114.101714  \n",
       "15   4.695705e+06           19           T   8679.171362  15364.181862  \n",
       "..            ...          ...         ...           ...           ...  \n",
       "360  4.695585e+06           19           T   8129.056922  15244.471827  \n",
       "391  4.692453e+06           19           T  13637.430627  12112.481078  \n",
       "405  4.692178e+06           19           T  12206.012368  11836.922051  \n",
       "409  4.694778e+06           19           T   9165.199023  14437.202597  \n",
       "410  4.693299e+06           19           T  11163.283524  12958.421036  \n",
       "\n",
       "[78 rows x 14 columns]"
      ]
     },
     "execution_count": 59,
     "metadata": {},
     "output_type": "execute_result"
    }
   ],
   "source": [
    "#let's filter down to just cambridge for now\n",
    "cambridge_stations = stations_df[stations_df.District == \"Cambridge\"]\n",
    "cambridge_stations"
   ]
  },
  {
   "cell_type": "code",
   "execution_count": 56,
   "id": "73fbc4c8",
   "metadata": {},
   "outputs": [
    {
     "ename": "NameError",
     "evalue": "name 'cambridge_stations' is not defined",
     "output_type": "error",
     "traceback": [
      "\u001b[0;31m---------------------------------------------------------------------------\u001b[0m",
      "\u001b[0;31mNameError\u001b[0m                                 Traceback (most recent call last)",
      "\u001b[1;32m/Users/Estella/Desktop/15.093_Optimization_Methods/Opti Project/bluebikes/BlueBikes.ipynb Cell 10\u001b[0m in \u001b[0;36m<cell line: 2>\u001b[0;34m()\u001b[0m\n\u001b[1;32m      <a href='vscode-notebook-cell:/Users/Estella/Desktop/15.093_Optimization_Methods/Opti%20Project/bluebikes/BlueBikes.ipynb#X51sZmlsZQ%3D%3D?line=0'>1</a>\u001b[0m \u001b[39m# Plot a map of the cambridge stations\u001b[39;00m\n\u001b[0;32m----> <a href='vscode-notebook-cell:/Users/Estella/Desktop/15.093_Optimization_Methods/Opti%20Project/bluebikes/BlueBikes.ipynb#X51sZmlsZQ%3D%3D?line=1'>2</a>\u001b[0m fig \u001b[39m=\u001b[39m px\u001b[39m.\u001b[39mscatter_mapbox(cambridge_stations, lat\u001b[39m=\u001b[39m\u001b[39m\"\u001b[39m\u001b[39mLatitude\u001b[39m\u001b[39m\"\u001b[39m, lon\u001b[39m=\u001b[39m\u001b[39m\"\u001b[39m\u001b[39mLongitude\u001b[39m\u001b[39m\"\u001b[39m, hover_name\u001b[39m=\u001b[39m\u001b[39m\"\u001b[39m\u001b[39mName\u001b[39m\u001b[39m\"\u001b[39m, hover_data\u001b[39m=\u001b[39m[\u001b[39m\"\u001b[39m\u001b[39mNumber\u001b[39m\u001b[39m\"\u001b[39m, \u001b[39m\"\u001b[39m\u001b[39mTotal_docks\u001b[39m\u001b[39m\"\u001b[39m, \u001b[39m\"\u001b[39m\u001b[39mDeployment_Year\u001b[39m\u001b[39m\"\u001b[39m, \u001b[39m\"\u001b[39m\u001b[39mDistrict\u001b[39m\u001b[39m\"\u001b[39m], color_discrete_sequence\u001b[39m=\u001b[39m[\u001b[39m\"\u001b[39m\u001b[39mfuchsia\u001b[39m\u001b[39m\"\u001b[39m], zoom\u001b[39m=\u001b[39m\u001b[39m12\u001b[39m, height\u001b[39m=\u001b[39m\u001b[39m900\u001b[39m)\n\u001b[1;32m      <a href='vscode-notebook-cell:/Users/Estella/Desktop/15.093_Optimization_Methods/Opti%20Project/bluebikes/BlueBikes.ipynb#X51sZmlsZQ%3D%3D?line=2'>3</a>\u001b[0m fig\u001b[39m.\u001b[39mupdate_layout(mapbox_style\u001b[39m=\u001b[39m\u001b[39m\"\u001b[39m\u001b[39mopen-street-map\u001b[39m\u001b[39m\"\u001b[39m)\n\u001b[1;32m      <a href='vscode-notebook-cell:/Users/Estella/Desktop/15.093_Optimization_Methods/Opti%20Project/bluebikes/BlueBikes.ipynb#X51sZmlsZQ%3D%3D?line=3'>4</a>\u001b[0m fig\u001b[39m.\u001b[39mupdate_layout(margin\u001b[39m=\u001b[39m{\u001b[39m\"\u001b[39m\u001b[39mr\u001b[39m\u001b[39m\"\u001b[39m:\u001b[39m0\u001b[39m,\u001b[39m\"\u001b[39m\u001b[39mt\u001b[39m\u001b[39m\"\u001b[39m:\u001b[39m0\u001b[39m,\u001b[39m\"\u001b[39m\u001b[39ml\u001b[39m\u001b[39m\"\u001b[39m:\u001b[39m0\u001b[39m,\u001b[39m\"\u001b[39m\u001b[39mb\u001b[39m\u001b[39m\"\u001b[39m:\u001b[39m0\u001b[39m})\n",
      "\u001b[0;31mNameError\u001b[0m: name 'cambridge_stations' is not defined"
     ]
    }
   ],
   "source": [
    "# Plot a map of the cambridge stations\n",
    "fig = px.scatter_mapbox(cambridge_stations, lat=\"Latitude\", lon=\"Longitude\", hover_name=\"Name\", hover_data=[\"Number\", \"Total_docks\", \"Deployment_Year\", \"District\"], color_discrete_sequence=[\"fuchsia\"], zoom=12, height=900)\n",
    "fig.update_layout(mapbox_style=\"open-street-map\")\n",
    "fig.update_layout(margin={\"r\":0,\"t\":0,\"l\":0,\"b\":0})\n",
    "fig.show()"
   ]
  },
  {
   "cell_type": "code",
   "execution_count": 62,
   "id": "bebfbff1",
   "metadata": {},
   "outputs": [
    {
     "ename": "AttributeError",
     "evalue": "'DataFrame' object has no attribute 'start_station_longitude'",
     "output_type": "error",
     "traceback": [
      "\u001b[0;31m---------------------------------------------------------------------------\u001b[0m",
      "\u001b[0;31mAttributeError\u001b[0m                            Traceback (most recent call last)",
      "\u001b[1;32m/Users/Estella/Desktop/15.093_Optimization_Methods/Opti Project/bluebikes/BlueBikes.ipynb Cell 11\u001b[0m in \u001b[0;36m<cell line: 20>\u001b[0;34m()\u001b[0m\n\u001b[1;32m     <a href='vscode-notebook-cell:/Users/Estella/Desktop/15.093_Optimization_Methods/Opti%20Project/bluebikes/BlueBikes.ipynb#X52sZmlsZQ%3D%3D?line=16'>17</a>\u001b[0m     km \u001b[39m=\u001b[39m \u001b[39m6371\u001b[39m\u001b[39m*\u001b[39m c\n\u001b[1;32m     <a href='vscode-notebook-cell:/Users/Estella/Desktop/15.093_Optimization_Methods/Opti%20Project/bluebikes/BlueBikes.ipynb#X52sZmlsZQ%3D%3D?line=17'>18</a>\u001b[0m     \u001b[39mreturn\u001b[39;00m km\n\u001b[0;32m---> <a href='vscode-notebook-cell:/Users/Estella/Desktop/15.093_Optimization_Methods/Opti%20Project/bluebikes/BlueBikes.ipynb#X52sZmlsZQ%3D%3D?line=19'>20</a>\u001b[0m trips_df[\u001b[39m'\u001b[39m\u001b[39mEucl\u001b[39m\u001b[39m'\u001b[39m] \u001b[39m=\u001b[39m [haversine(trips_df\u001b[39m.\u001b[39mstart_station_longitude[i],trips_df\u001b[39m.\u001b[39mstart_station_latitude[i],trips_df\u001b[39m.\u001b[39mend_station_longitude[i],trips_df\u001b[39m.\u001b[39mend_station_latitude[i]) \u001b[39mfor\u001b[39;00m i \u001b[39min\u001b[39;00m \u001b[39mrange\u001b[39m(\u001b[39mlen\u001b[39m(trips_df))]\n",
      "\u001b[1;32m/Users/Estella/Desktop/15.093_Optimization_Methods/Opti Project/bluebikes/BlueBikes.ipynb Cell 11\u001b[0m in \u001b[0;36m<listcomp>\u001b[0;34m(.0)\u001b[0m\n\u001b[1;32m     <a href='vscode-notebook-cell:/Users/Estella/Desktop/15.093_Optimization_Methods/Opti%20Project/bluebikes/BlueBikes.ipynb#X52sZmlsZQ%3D%3D?line=16'>17</a>\u001b[0m     km \u001b[39m=\u001b[39m \u001b[39m6371\u001b[39m\u001b[39m*\u001b[39m c\n\u001b[1;32m     <a href='vscode-notebook-cell:/Users/Estella/Desktop/15.093_Optimization_Methods/Opti%20Project/bluebikes/BlueBikes.ipynb#X52sZmlsZQ%3D%3D?line=17'>18</a>\u001b[0m     \u001b[39mreturn\u001b[39;00m km\n\u001b[0;32m---> <a href='vscode-notebook-cell:/Users/Estella/Desktop/15.093_Optimization_Methods/Opti%20Project/bluebikes/BlueBikes.ipynb#X52sZmlsZQ%3D%3D?line=19'>20</a>\u001b[0m trips_df[\u001b[39m'\u001b[39m\u001b[39mEucl\u001b[39m\u001b[39m'\u001b[39m] \u001b[39m=\u001b[39m [haversine(trips_df\u001b[39m.\u001b[39;49mstart_station_longitude[i],trips_df\u001b[39m.\u001b[39mstart_station_latitude[i],trips_df\u001b[39m.\u001b[39mend_station_longitude[i],trips_df\u001b[39m.\u001b[39mend_station_latitude[i]) \u001b[39mfor\u001b[39;00m i \u001b[39min\u001b[39;00m \u001b[39mrange\u001b[39m(\u001b[39mlen\u001b[39m(trips_df))]\n",
      "File \u001b[0;32m~/.julia/conda/3/lib/python3.9/site-packages/pandas/core/generic.py:5907\u001b[0m, in \u001b[0;36mNDFrame.__getattr__\u001b[0;34m(self, name)\u001b[0m\n\u001b[1;32m   5900\u001b[0m \u001b[39mif\u001b[39;00m (\n\u001b[1;32m   5901\u001b[0m     name \u001b[39mnot\u001b[39;00m \u001b[39min\u001b[39;00m \u001b[39mself\u001b[39m\u001b[39m.\u001b[39m_internal_names_set\n\u001b[1;32m   5902\u001b[0m     \u001b[39mand\u001b[39;00m name \u001b[39mnot\u001b[39;00m \u001b[39min\u001b[39;00m \u001b[39mself\u001b[39m\u001b[39m.\u001b[39m_metadata\n\u001b[1;32m   5903\u001b[0m     \u001b[39mand\u001b[39;00m name \u001b[39mnot\u001b[39;00m \u001b[39min\u001b[39;00m \u001b[39mself\u001b[39m\u001b[39m.\u001b[39m_accessors\n\u001b[1;32m   5904\u001b[0m     \u001b[39mand\u001b[39;00m \u001b[39mself\u001b[39m\u001b[39m.\u001b[39m_info_axis\u001b[39m.\u001b[39m_can_hold_identifiers_and_holds_name(name)\n\u001b[1;32m   5905\u001b[0m ):\n\u001b[1;32m   5906\u001b[0m     \u001b[39mreturn\u001b[39;00m \u001b[39mself\u001b[39m[name]\n\u001b[0;32m-> 5907\u001b[0m \u001b[39mreturn\u001b[39;00m \u001b[39mobject\u001b[39;49m\u001b[39m.\u001b[39;49m\u001b[39m__getattribute__\u001b[39;49m(\u001b[39mself\u001b[39;49m, name)\n",
      "\u001b[0;31mAttributeError\u001b[0m: 'DataFrame' object has no attribute 'start_station_longitude'"
     ]
    }
   ],
   "source": [
    "#get euclidean distances between stations\n",
    "\n",
    "from math import radians, cos, sin, asin, sqrt\n",
    "def haversine(lon1, lat1, lon2, lat2):\n",
    "    \"\"\"\n",
    "    Calculate the great circle distance between two points \n",
    "    on the earth (specified in decimal degrees)\n",
    "    \"\"\"\n",
    "    # convert decimal degrees to radians \n",
    "    lon1, lat1, lon2, lat2 = map(radians, [lon1, lat1, lon2, lat2])\n",
    "    # haversine formula \n",
    "    dlon = lon2 - lon1 \n",
    "    dlat = lat2 - lat1 \n",
    "    a = sin(dlat/2)**2 + cos(lat1) * cos(lat2) * sin(dlon/2)**2\n",
    "    c = 2 * asin(sqrt(a)) \n",
    "    # Radius of earth in kilometers is 6371\n",
    "    km = 6371* c\n",
    "    return km\n",
    "\n",
    "trips_df['Eucl'] = [haversine(trips_df.start_station_longitude[i],trips_df.start_station_latitude[i],trips_df.end_station_longitude[i],trips_df.end_station_latitude[i]) for i in range(len(trips_df))]\n"
   ]
  },
  {
   "cell_type": "code",
   "execution_count": null,
   "id": "8afa9e14",
   "metadata": {},
   "outputs": [],
   "source": [
    "#maybe we don't need this\n",
    "\n",
    "merged_start = pd.merge(trips_df, stations_df, \n",
    "                        left_on=\"start_station_name\",\n",
    "                        right_on=\"Name\",\n",
    "                        how=\"left\")\n",
    "\n",
    "dict_start = {'District': 'Start_District',\n",
    "              'Total_docks': 'Start_Total docks',\n",
    "              'Number': 'Start_Number',\n",
    "             'Deployment_Year':'Start_Deployment_Year',\n",
    "             'Public':'Start_Public'}\n",
    " \n",
    "merged_start.rename(columns=dict_start,inplace=True)\n",
    "\n",
    "merged_start_df = merged_start.drop(columns = ['Name','Latitude','Longitude'])\n",
    "\n",
    "merged_end = pd.merge(merged_start_df, stations_df,\n",
    "                     left_on=\"end_station_name\",\n",
    "                     right_on=\"Name\",\n",
    "                     how=\"left\")\n",
    "\n",
    "dict_end = {'District':'End_District',\n",
    "           'Total_docks':'End_Total docks',\n",
    "           'Number':'End_Number',\n",
    "           'Deployment_Year':'End_Deployment_Year',\n",
    "           'Public':'End_Public'}\n",
    "\n",
    "merged_end.rename(columns=dict_end, inplace=True)\n",
    "\n",
    "merged_end_df = merged_end.drop(columns = ['Name','Latitude','Longitude','Start_Deployment_Year','End_Deployment_Year'])\n",
    "\n",
    "merged_end_df #601,049 rows\n",
    "\n",
    "merged_df = merged_end_df.dropna() #599899 rows\n",
    "\n",
    "#natest = merged_end_df.drop(columns = ['Start_Deployment_Year'])\n",
    "\n",
    "#natest = natest[natest.isna().any(axis=1)]\n",
    "\n",
    "merged_df"
   ]
  },
  {
   "cell_type": "code",
   "execution_count": null,
   "id": "ae5ab7b8",
   "metadata": {},
   "outputs": [],
   "source": [
    "stations_df[stations_df.District == \"Cambridge\"]"
   ]
  },
  {
   "cell_type": "code",
   "execution_count": 28,
   "id": "09622e29",
   "metadata": {},
   "outputs": [
    {
     "data": {
      "text/html": [
       "<div>\n",
       "<style scoped>\n",
       "    .dataframe tbody tr th:only-of-type {\n",
       "        vertical-align: middle;\n",
       "    }\n",
       "\n",
       "    .dataframe tbody tr th {\n",
       "        vertical-align: top;\n",
       "    }\n",
       "\n",
       "    .dataframe thead th {\n",
       "        text-align: right;\n",
       "    }\n",
       "</style>\n",
       "<table border=\"1\" class=\"dataframe\">\n",
       "  <thead>\n",
       "    <tr style=\"text-align: right;\">\n",
       "      <th></th>\n",
       "      <th>Number</th>\n",
       "      <th>Name</th>\n",
       "      <th>Latitude</th>\n",
       "      <th>Longitude</th>\n",
       "      <th>District</th>\n",
       "      <th>Public</th>\n",
       "      <th>Total_docks</th>\n",
       "      <th>Deployment_Year</th>\n",
       "      <th>x</th>\n",
       "      <th>y</th>\n",
       "      <th>xnew</th>\n",
       "      <th>ynew</th>\n",
       "    </tr>\n",
       "  </thead>\n",
       "  <tbody>\n",
       "    <tr>\n",
       "      <th>132</th>\n",
       "      <td>T32013</td>\n",
       "      <td>Community Life Center</td>\n",
       "      <td>42.520136</td>\n",
       "      <td>-70.906271</td>\n",
       "      <td>Salem</td>\n",
       "      <td>Yes</td>\n",
       "      <td>9</td>\n",
       "      <td>2022.0</td>\n",
       "      <td>343416.800817</td>\n",
       "      <td>4.709290e+06</td>\n",
       "      <td>28557.490192</td>\n",
       "      <td>28948.778483</td>\n",
       "    </tr>\n",
       "    <tr>\n",
       "      <th>167</th>\n",
       "      <td>T32011</td>\n",
       "      <td>Essex St at Dalton Parkway</td>\n",
       "      <td>42.516223</td>\n",
       "      <td>-70.905535</td>\n",
       "      <td>Salem</td>\n",
       "      <td>Yes</td>\n",
       "      <td>11</td>\n",
       "      <td>2022.0</td>\n",
       "      <td>343467.488614</td>\n",
       "      <td>4.708854e+06</td>\n",
       "      <td>28608.177989</td>\n",
       "      <td>28512.902279</td>\n",
       "    </tr>\n",
       "    <tr>\n",
       "      <th>176</th>\n",
       "      <td>T32010</td>\n",
       "      <td>Forest River Park</td>\n",
       "      <td>42.506395</td>\n",
       "      <td>-70.886930</td>\n",
       "      <td>Salem</td>\n",
       "      <td>Yes</td>\n",
       "      <td>11</td>\n",
       "      <td>2022.0</td>\n",
       "      <td>344971.572526</td>\n",
       "      <td>4.707728e+06</td>\n",
       "      <td>30112.261901</td>\n",
       "      <td>27387.364540</td>\n",
       "    </tr>\n",
       "    <tr>\n",
       "      <th>190</th>\n",
       "      <td>T32014</td>\n",
       "      <td>Goodhue St at Grove St</td>\n",
       "      <td>42.520897</td>\n",
       "      <td>-70.910528</td>\n",
       "      <td>Salem</td>\n",
       "      <td>Yes</td>\n",
       "      <td>11</td>\n",
       "      <td>2022.0</td>\n",
       "      <td>343069.019881</td>\n",
       "      <td>4.709382e+06</td>\n",
       "      <td>28209.709256</td>\n",
       "      <td>29041.158023</td>\n",
       "    </tr>\n",
       "    <tr>\n",
       "      <th>215</th>\n",
       "      <td>T32008</td>\n",
       "      <td>Hawthorne Boulevard</td>\n",
       "      <td>42.522371</td>\n",
       "      <td>-70.890333</td>\n",
       "      <td>Salem</td>\n",
       "      <td>Yes</td>\n",
       "      <td>9</td>\n",
       "      <td>2022.0</td>\n",
       "      <td>344731.536647</td>\n",
       "      <td>4.709509e+06</td>\n",
       "      <td>29872.226023</td>\n",
       "      <td>29167.680582</td>\n",
       "    </tr>\n",
       "    <tr>\n",
       "      <th>242</th>\n",
       "      <td>T32006</td>\n",
       "      <td>Lafayette at Leach St</td>\n",
       "      <td>42.511428</td>\n",
       "      <td>-70.891833</td>\n",
       "      <td>Salem</td>\n",
       "      <td>Yes</td>\n",
       "      <td>11</td>\n",
       "      <td>2021.0</td>\n",
       "      <td>344581.206188</td>\n",
       "      <td>4.708296e+06</td>\n",
       "      <td>29721.895563</td>\n",
       "      <td>27955.210664</td>\n",
       "    </tr>\n",
       "    <tr>\n",
       "      <th>274</th>\n",
       "      <td>T32004</td>\n",
       "      <td>Mayor Salvo Path at Mill St</td>\n",
       "      <td>42.518035</td>\n",
       "      <td>-70.895701</td>\n",
       "      <td>Salem</td>\n",
       "      <td>Yes</td>\n",
       "      <td>11</td>\n",
       "      <td>2021.0</td>\n",
       "      <td>344279.862496</td>\n",
       "      <td>4.709037e+06</td>\n",
       "      <td>29420.551871</td>\n",
       "      <td>28696.019426</td>\n",
       "    </tr>\n",
       "    <tr>\n",
       "      <th>343</th>\n",
       "      <td>T32001</td>\n",
       "      <td>Salem Ferry Landing</td>\n",
       "      <td>42.521893</td>\n",
       "      <td>-70.880691</td>\n",
       "      <td>Salem</td>\n",
       "      <td>Yes</td>\n",
       "      <td>11</td>\n",
       "      <td>2021.0</td>\n",
       "      <td>345522.357606</td>\n",
       "      <td>4.709438e+06</td>\n",
       "      <td>30663.046981</td>\n",
       "      <td>29096.917117</td>\n",
       "    </tr>\n",
       "    <tr>\n",
       "      <th>344</th>\n",
       "      <td>T32012</td>\n",
       "      <td>Salem MBTA - Lower Level</td>\n",
       "      <td>42.523994</td>\n",
       "      <td>-70.896840</td>\n",
       "      <td>Salem</td>\n",
       "      <td>Yes</td>\n",
       "      <td>11</td>\n",
       "      <td>2022.0</td>\n",
       "      <td>344201.087965</td>\n",
       "      <td>4.709701e+06</td>\n",
       "      <td>29341.777341</td>\n",
       "      <td>29359.804453</td>\n",
       "    </tr>\n",
       "    <tr>\n",
       "      <th>345</th>\n",
       "      <td>T32005</td>\n",
       "      <td>Salem MBTA - Washington at Federal St</td>\n",
       "      <td>42.523452</td>\n",
       "      <td>-70.896111</td>\n",
       "      <td>Salem</td>\n",
       "      <td>Yes</td>\n",
       "      <td>13</td>\n",
       "      <td>2021.0</td>\n",
       "      <td>344259.610632</td>\n",
       "      <td>4.709639e+06</td>\n",
       "      <td>29400.300007</td>\n",
       "      <td>29298.321831</td>\n",
       "    </tr>\n",
       "    <tr>\n",
       "      <th>346</th>\n",
       "      <td>T32007</td>\n",
       "      <td>Salem State University - Bike Path at Loring Ave</td>\n",
       "      <td>42.501824</td>\n",
       "      <td>-70.894781</td>\n",
       "      <td>Salem</td>\n",
       "      <td>Yes</td>\n",
       "      <td>15</td>\n",
       "      <td>NaN</td>\n",
       "      <td>344315.195121</td>\n",
       "      <td>4.707235e+06</td>\n",
       "      <td>29455.884496</td>\n",
       "      <td>26894.169514</td>\n",
       "    </tr>\n",
       "    <tr>\n",
       "      <th>347</th>\n",
       "      <td>T32009</td>\n",
       "      <td>Salem State University - North Campus</td>\n",
       "      <td>42.503332</td>\n",
       "      <td>-70.891444</td>\n",
       "      <td>Salem</td>\n",
       "      <td>Yes</td>\n",
       "      <td>11</td>\n",
       "      <td>2022.0</td>\n",
       "      <td>344593.105338</td>\n",
       "      <td>4.707396e+06</td>\n",
       "      <td>29733.794713</td>\n",
       "      <td>27055.502342</td>\n",
       "    </tr>\n",
       "    <tr>\n",
       "      <th>348</th>\n",
       "      <td>T32002</td>\n",
       "      <td>Salem Willows Park</td>\n",
       "      <td>42.534669</td>\n",
       "      <td>-70.870214</td>\n",
       "      <td>Salem</td>\n",
       "      <td>Yes</td>\n",
       "      <td>15</td>\n",
       "      <td>2021.0</td>\n",
       "      <td>346414.242823</td>\n",
       "      <td>4.710838e+06</td>\n",
       "      <td>31554.932199</td>\n",
       "      <td>30496.603891</td>\n",
       "    </tr>\n",
       "    <tr>\n",
       "      <th>357</th>\n",
       "      <td>T32003</td>\n",
       "      <td>Shetland Park - Congress at Peabody St</td>\n",
       "      <td>42.518368</td>\n",
       "      <td>-70.889524</td>\n",
       "      <td>Salem</td>\n",
       "      <td>Yes</td>\n",
       "      <td>11</td>\n",
       "      <td>2021.0</td>\n",
       "      <td>344788.114754</td>\n",
       "      <td>4.709063e+06</td>\n",
       "      <td>29928.804129</td>\n",
       "      <td>28721.629659</td>\n",
       "    </tr>\n",
       "  </tbody>\n",
       "</table>\n",
       "</div>"
      ],
      "text/plain": [
       "     Number                                              Name   Latitude  \\\n",
       "132  T32013                             Community Life Center  42.520136   \n",
       "167  T32011                        Essex St at Dalton Parkway  42.516223   \n",
       "176  T32010                                 Forest River Park  42.506395   \n",
       "190  T32014                            Goodhue St at Grove St  42.520897   \n",
       "215  T32008                               Hawthorne Boulevard  42.522371   \n",
       "242  T32006                             Lafayette at Leach St  42.511428   \n",
       "274  T32004                       Mayor Salvo Path at Mill St  42.518035   \n",
       "343  T32001                               Salem Ferry Landing  42.521893   \n",
       "344  T32012                          Salem MBTA - Lower Level  42.523994   \n",
       "345  T32005             Salem MBTA - Washington at Federal St  42.523452   \n",
       "346  T32007  Salem State University - Bike Path at Loring Ave  42.501824   \n",
       "347  T32009             Salem State University - North Campus  42.503332   \n",
       "348  T32002                                Salem Willows Park  42.534669   \n",
       "357  T32003            Shetland Park - Congress at Peabody St  42.518368   \n",
       "\n",
       "     Longitude District Public  Total_docks  Deployment_Year              x  \\\n",
       "132 -70.906271    Salem    Yes            9           2022.0  343416.800817   \n",
       "167 -70.905535    Salem    Yes           11           2022.0  343467.488614   \n",
       "176 -70.886930    Salem    Yes           11           2022.0  344971.572526   \n",
       "190 -70.910528    Salem    Yes           11           2022.0  343069.019881   \n",
       "215 -70.890333    Salem    Yes            9           2022.0  344731.536647   \n",
       "242 -70.891833    Salem    Yes           11           2021.0  344581.206188   \n",
       "274 -70.895701    Salem    Yes           11           2021.0  344279.862496   \n",
       "343 -70.880691    Salem    Yes           11           2021.0  345522.357606   \n",
       "344 -70.896840    Salem    Yes           11           2022.0  344201.087965   \n",
       "345 -70.896111    Salem    Yes           13           2021.0  344259.610632   \n",
       "346 -70.894781    Salem    Yes           15              NaN  344315.195121   \n",
       "347 -70.891444    Salem    Yes           11           2022.0  344593.105338   \n",
       "348 -70.870214    Salem    Yes           15           2021.0  346414.242823   \n",
       "357 -70.889524    Salem    Yes           11           2021.0  344788.114754   \n",
       "\n",
       "                y          xnew          ynew  \n",
       "132  4.709290e+06  28557.490192  28948.778483  \n",
       "167  4.708854e+06  28608.177989  28512.902279  \n",
       "176  4.707728e+06  30112.261901  27387.364540  \n",
       "190  4.709382e+06  28209.709256  29041.158023  \n",
       "215  4.709509e+06  29872.226023  29167.680582  \n",
       "242  4.708296e+06  29721.895563  27955.210664  \n",
       "274  4.709037e+06  29420.551871  28696.019426  \n",
       "343  4.709438e+06  30663.046981  29096.917117  \n",
       "344  4.709701e+06  29341.777341  29359.804453  \n",
       "345  4.709639e+06  29400.300007  29298.321831  \n",
       "346  4.707235e+06  29455.884496  26894.169514  \n",
       "347  4.707396e+06  29733.794713  27055.502342  \n",
       "348  4.710838e+06  31554.932199  30496.603891  \n",
       "357  4.709063e+06  29928.804129  28721.629659  "
      ]
     },
     "execution_count": 28,
     "metadata": {},
     "output_type": "execute_result"
    }
   ],
   "source": [
    "stations_df[stations_df.District == \"Salem\"]"
   ]
  },
  {
   "cell_type": "code",
   "execution_count": 63,
   "id": "cb6456b1",
   "metadata": {},
   "outputs": [
    {
     "data": {
      "image/png": "[encoded data removed]",
      "text/plain": [
       "<Figure size 640x480 with 1 Axes>"
      ]
     },
     "metadata": {},
     "output_type": "display_data"
    }
   ],
   "source": [
    "#create grid of potential new stations\n",
    "\n",
    "salemCenter = stations_df[stations_df.District == \"Salem\"][['x','y']].mean().values\n",
    "GRID_DIM = 12\n",
    "SCALE_X = 1200\n",
    "SCALE_Y = 1200\n",
    "x_vals = np.linspace(-SCALE_X, SCALE_X, GRID_DIM)\n",
    "y_vals = np.linspace(-SCALE_Y, SCALE_Y, GRID_DIM)\n",
    "xx, yy = np.meshgrid(x_vals, y_vals)\n",
    "xx, yy = xx.flatten().tolist(), yy.flatten().tolist()\n",
    "points = list(zip(xx, yy))\n",
    "points = np.array(points).reshape(-1, 2)\n",
    "points\n",
    "\n",
    "salemCenter + points\n",
    "    \n",
    "grid = salemCenter + points\n",
    "x_list = stations_df[stations_df.District == \"Salem\"][\"x\"].values\n",
    "y_list = stations_df[stations_df.District == \"Salem\"][\"y\"].values\n",
    "plt.scatter(x_list, y_list)\n",
    "plt.scatter(grid[:,0],grid[:,1],c=\"green\")\n",
    "plt.show()"
   ]
  },
  {
   "cell_type": "code",
   "execution_count": 65,
   "id": "bc27da77",
   "metadata": {},
   "outputs": [],
   "source": [
    "#get lat,lon of potential stations\n",
    "lats = []\n",
    "lons = []\n",
    "names = []\n",
    "colors = []\n",
    "xcoord = []\n",
    "ycoord = []\n",
    "zone_number = stations_df.iloc[0]['zone_number']\n",
    "zone_letter = stations_df.iloc[0]['zone_letter']\n",
    "for p in grid:\n",
    "    lat, lon = utm.to_latlon(p[0], p[1], zone_number, zone_letter)\n",
    "    lats.append(lat)\n",
    "    lons.append(lon)\n",
    "    names.append(\"grid\")\n",
    "    colors.append(\"green\")\n",
    "    xcoord.append(p[0])\n",
    "    ycoord.append(p[1])\n",
    "\n",
    "grid_df = pd.DataFrame(data={\n",
    "    \"Latitude\": lats,\n",
    "    \"Longitude\": lons,\n",
    "    \"Name\": names,\n",
    "    \"x\": xcoord,\n",
    "    \"y\": ycoord,\n",
    "    \"Colors\": colors,\n",
    "})\n",
    "grid_df\n",
    "grid_df[\"Size\"] = 0.5"
   ]
  },
  {
   "cell_type": "code",
   "execution_count": 66,
   "id": "02a71c8f",
   "metadata": {},
   "outputs": [
    {
     "data": {
      "application/vnd.plotly.v1+json": {
       "config": {
        "plotlyServerURL": "https://plot.ly"
       },
       "data": [
        {
         "hovertemplate": "Size=%{marker.size}<br>Latitude=%{lat}<br>Longitude=%{lon}<extra></extra>",
         "lat": [
          42.50751058258621,
          42.507554744643365,
          42.507598845267154,
          42.50764288445722,
          42.50768686221315,
          42.507730778534565,
          42.50777463342108,
          42.507818426872326,
          42.5078621588879,
          42.50790582946742,
          42.507949438610495,
          42.507992986316765,
          42.50947440786584,
          42.50951857294165,
          42.50956267657992,
          42.50960671878025,
          42.509650699542256,
          42.50969461886556,
          42.509738476749774,
          42.5097822731945,
          42.50982600819937,
          42.50986968176399,
          42.50991329388798,
          42.50995684457096,
          42.51143823240198,
          42.511482400496654,
          42.51152650714957,
          42.51157055236036,
          42.51161453612864,
          42.51165845845401,
          42.51170231933609,
          42.511746118774504,
          42.51178985676885,
          42.51183353331876,
          42.51187714842384,
          42.51192070208372,
          42.51340205619466,
          42.513446227308364,
          42.513490336976126,
          42.513534385197566,
          42.513578371972294,
          42.51362229729991,
          42.513666161180055,
          42.513709963612335,
          42.51375370459635,
          42.513797384131735,
          42.513841002218086,
          42.51388455885505,
          42.51536587924384,
          42.51541005337677,
          42.51545416605956,
          42.51549821729182,
          42.51554220707319,
          42.51558613540326,
          42.51563000228165,
          42.51567380770797,
          42.515717551681846,
          42.515761234202884,
          42.5158048552707,
          42.51584841488492,
          42.517329701549514,
          42.51737387870185,
          42.51741799439985,
          42.51746204864315,
          42.51750604143133,
          42.51754997276403,
          42.51759384264084,
          42.517637651061406,
          42.51768139802532,
          42.51772508353219,
          42.51776870758166,
          42.51781227017332,
          42.519293523111656,
          42.51933770328359,
          42.519381821996994,
          42.5194258792515,
          42.51946987504669,
          42.519513809382204,
          42.519557682257634,
          42.51960149367262,
          42.51964524362675,
          42.51968893211965,
          42.51973255915095,
          42.519776124720245,
          42.52125734393027,
          42.521301527122,
          42.521345648850996,
          42.52138970911688,
          42.52143370791927,
          42.52147764525778,
          42.521521521132016,
          42.5215653355416,
          42.521609088486144,
          42.521652779965265,
          42.521696409978574,
          42.521739978525694,
          42.52322116400535,
          42.523265350217045,
          42.52330947496182,
          42.523353538239284,
          42.523397540049054,
          42.52344148039075,
          42.52348535926398,
          42.523529176668355,
          42.523572932603486,
          42.523616627069,
          42.52366026006451,
          42.523703831589636,
          42.52518498333687,
          42.52522917256873,
          42.52527330032947,
          42.525317366618694,
          42.52536137143604,
          42.525405314781096,
          42.5254491966535,
          42.52549301705285,
          42.52553677597877,
          42.525580473430864,
          42.52562410940876,
          42.52566768391207,
          42.52714880192481,
          42.527192994177014,
          42.5272371249539,
          42.52728119425509,
          42.527325202080185,
          42.527369148428804,
          42.52741303330057,
          42.527456856695075,
          42.52750061861196,
          42.52754431905082,
          42.52758795801128,
          42.52763153549296,
          42.52911261976919,
          42.529156815041915,
          42.52920094883514,
          42.52924502114846,
          42.5292890319815,
          42.52933298133386,
          42.529376869205166,
          42.52942069559503,
          42.52946446050306,
          42.529508163928874,
          42.52955180587209,
          42.52959538633233
         ],
         "legendgroup": "",
         "lon": [
          -70.90749981469762,
          -70.9048455943075,
          -70.90219136795292,
          -70.89953713564222,
          -70.89688289738366,
          -70.89422865318552,
          -70.89157440305611,
          -70.8889201470037,
          -70.88626588503658,
          -70.88361161716306,
          -70.8809573433914,
          -70.87830306372989,
          -70.90755954668975,
          -70.90490524330721,
          -70.90225093395956,
          -70.89959661865505,
          -70.896942297402,
          -70.89428797020868,
          -70.89163363708339,
          -70.8889792980344,
          -70.88632495307002,
          -70.88367060219852,
          -70.88101624542821,
          -70.87836188276736,
          -70.90761928465531,
          -70.90496489827208,
          -70.90231050592304,
          -70.89965610761645,
          -70.89700170336063,
          -70.89434729316383,
          -70.89169287703436,
          -70.88903845498052,
          -70.88638402701058,
          -70.88372959313283,
          -70.88107515335558,
          -70.8784207076871,
          -70.907679028595,
          -70.9050245592028,
          -70.90237008384408,
          -70.89971560252712,
          -70.89706111526023,
          -70.89440662205166,
          -70.89175212290974,
          -70.88909761784274,
          -70.88644310685893,
          -70.88378858996666,
          -70.88113406717417,
          -70.87847953848978,
          -70.90773877850951,
          -70.90508422610006,
          -70.90242966772337,
          -70.89977510338774,
          -70.89712053310147,
          -70.89446595687286,
          -70.89181137471019,
          -70.88915678662174,
          -70.88650219261582,
          -70.8838475927007,
          -70.8811929868847,
          -70.87853837517609,
          -70.90779853439956,
          -70.90514389896454,
          -70.9024892575616,
          -70.89983461019904,
          -70.89717995688511,
          -70.89452529762815,
          -70.89187063243642,
          -70.88921596131824,
          -70.8865612842819,
          -70.88390660133565,
          -70.88125191248784,
          -70.87859721774673,
          -70.90785829626584,
          -70.90520357779697,
          -70.90254885335948,
          -70.89989412296165,
          -70.8972393866118,
          -70.89458464431819,
          -70.89192989608914,
          -70.88927514193293,
          -70.88662038185785,
          -70.88396561587221,
          -70.8813108439843,
          -70.87865606620238,
          -70.90791806410904,
          -70.90526326259803,
          -70.9026084551177,
          -70.89995364167635,
          -70.89729882228224,
          -70.89464399694371,
          -70.89198916566903,
          -70.8893343284665,
          -70.8866794853444,
          -70.88402463631104,
          -70.88136978137472,
          -70.87871492054373,
          -70.90797783792989,
          -70.90532295336844,
          -70.90266806283697,
          -70.90001316634378,
          -70.89735826389715,
          -70.8947033555054,
          -70.89204844117678,
          -70.88939352091963,
          -70.88673859474223,
          -70.88408366265287,
          -70.88142872465984,
          -70.87877378077147,
          -70.90803761772905,
          -70.90538265010888,
          -70.90272767651797,
          -70.90007269696466,
          -70.89741771145721,
          -70.89476272000392,
          -70.89210772261309,
          -70.88945271929303,
          -70.88679771005202,
          -70.88414269489836,
          -70.88148767384035,
          -70.8788326468863,
          -70.90809740350724,
          -70.90544235282005,
          -70.90278729616142,
          -70.90013223353968,
          -70.89747716496309,
          -70.89482209044,
          -70.89216700997866,
          -70.88951192358739,
          -70.88685683127447,
          -70.88420173304823,
          -70.88154662891692,
          -70.87889151888888,
          -70.90815719526518,
          -70.90550206150265,
          -70.902846921768,
          -70.90019177606953,
          -70.89753662441555,
          -70.89488146681433,
          -70.89222630327417,
          -70.88957113380339,
          -70.88691595841027,
          -70.88426077710314,
          -70.88160558989026,
          -70.87895039677994
         ],
         "marker": {
          "color": "grey",
          "size": [
           0.5,
           0.5,
           0.5,
           0.5,
           0.5,
           0.5,
           0.5,
           0.5,
           0.5,
           0.5,
           0.5,
           0.5,
           0.5,
           0.5,
           0.5,
           0.5,
           0.5,
           0.5,
           0.5,
           0.5,
           0.5,
           0.5,
           0.5,
           0.5,
           0.5,
           0.5,
           0.5,
           0.5,
           0.5,
           0.5,
           0.5,
           0.5,
           0.5,
           0.5,
           0.5,
           0.5,
           0.5,
           0.5,
           0.5,
           0.5,
           0.5,
           0.5,
           0.5,
           0.5,
           0.5,
           0.5,
           0.5,
           0.5,
           0.5,
           0.5,
           0.5,
           0.5,
           0.5,
           0.5,
           0.5,
           0.5,
           0.5,
           0.5,
           0.5,
           0.5,
           0.5,
           0.5,
           0.5,
           0.5,
           0.5,
           0.5,
           0.5,
           0.5,
           0.5,
           0.5,
           0.5,
           0.5,
           0.5,
           0.5,
           0.5,
           0.5,
           0.5,
           0.5,
           0.5,
           0.5,
           0.5,
           0.5,
           0.5,
           0.5,
           0.5,
           0.5,
           0.5,
           0.5,
           0.5,
           0.5,
           0.5,
           0.5,
           0.5,
           0.5,
           0.5,
           0.5,
           0.5,
           0.5,
           0.5,
           0.5,
           0.5,
           0.5,
           0.5,
           0.5,
           0.5,
           0.5,
           0.5,
           0.5,
           0.5,
           0.5,
           0.5,
           0.5,
           0.5,
           0.5,
           0.5,
           0.5,
           0.5,
           0.5,
           0.5,
           0.5,
           0.5,
           0.5,
           0.5,
           0.5,
           0.5,
           0.5,
           0.5,
           0.5,
           0.5,
           0.5,
           0.5,
           0.5,
           0.5,
           0.5,
           0.5,
           0.5,
           0.5,
           0.5,
           0.5,
           0.5,
           0.5,
           0.5,
           0.5,
           0.5
          ],
          "sizemode": "area",
          "sizeref": 0.005
         },
         "mode": "markers",
         "name": "",
         "showlegend": false,
         "subplot": "mapbox",
         "type": "scattermapbox"
        }
       ],
       "layout": {
        "height": 900,
        "legend": {
         "itemsizing": "constant",
         "tracegroupgap": 0
        },
        "mapbox": {
         "center": {
          "lat": 42.51855346392395,
          "lon": -70.89322761761804
         },
         "domain": {
          "x": [
           0,
           1
          ],
          "y": [
           0,
           1
          ]
         },
         "style": "open-street-map",
         "zoom": 12
        },
        "margin": {
         "b": 0,
         "l": 0,
         "r": 0,
         "t": 0
        },
        "template": {
         "data": {
          "bar": [
           {
            "error_x": {
             "color": "#2a3f5f"
            },
            "error_y": {
             "color": "#2a3f5f"
            },
            "marker": {
             "line": {
              "color": "#E5ECF6",
              "width": 0.5
             },
             "pattern": {
              "fillmode": "overlay",
              "size": 10,
              "solidity": 0.2
             }
            },
            "type": "bar"
           }
          ],
          "barpolar": [
           {
            "marker": {
             "line": {
              "color": "#E5ECF6",
              "width": 0.5
             },
             "pattern": {
              "fillmode": "overlay",
              "size": 10,
              "solidity": 0.2
             }
            },
            "type": "barpolar"
           }
          ],
          "carpet": [
           {
            "aaxis": {
             "endlinecolor": "#2a3f5f",
             "gridcolor": "white",
             "linecolor": "white",
             "minorgridcolor": "white",
             "startlinecolor": "#2a3f5f"
            },
            "baxis": {
             "endlinecolor": "#2a3f5f",
             "gridcolor": "white",
             "linecolor": "white",
             "minorgridcolor": "white",
             "startlinecolor": "#2a3f5f"
            },
            "type": "carpet"
           }
          ],
          "choropleth": [
           {
            "colorbar": {
             "outlinewidth": 0,
             "ticks": ""
            },
            "type": "choropleth"
           }
          ],
          "contour": [
           {
            "colorbar": {
             "outlinewidth": 0,
             "ticks": ""
            },
            "colorscale": [
             [
              0,
              "#0d0887"
             ],
             [
              0.1111111111111111,
              "#46039f"
             ],
             [
              0.2222222222222222,
              "#7201a8"
             ],
             [
              0.3333333333333333,
              "#9c179e"
             ],
             [
              0.4444444444444444,
              "#bd3786"
             ],
             [
              0.5555555555555556,
              "#d8576b"
             ],
             [
              0.6666666666666666,
              "#ed7953"
             ],
             [
              0.7777777777777778,
              "#fb9f3a"
             ],
             [
              0.8888888888888888,
              "#fdca26"
             ],
             [
              1,
              "#f0f921"
             ]
            ],
            "type": "contour"
           }
          ],
          "contourcarpet": [
           {
            "colorbar": {
             "outlinewidth": 0,
             "ticks": ""
            },
            "type": "contourcarpet"
           }
          ],
          "heatmap": [
           {
            "colorbar": {
             "outlinewidth": 0,
             "ticks": ""
            },
            "colorscale": [
             [
              0,
              "#0d0887"
             ],
             [
              0.1111111111111111,
              "#46039f"
             ],
             [
              0.2222222222222222,
              "#7201a8"
             ],
             [
              0.3333333333333333,
              "#9c179e"
             ],
             [
              0.4444444444444444,
              "#bd3786"
             ],
             [
              0.5555555555555556,
              "#d8576b"
             ],
             [
              0.6666666666666666,
              "#ed7953"
             ],
             [
              0.7777777777777778,
              "#fb9f3a"
             ],
             [
              0.8888888888888888,
              "#fdca26"
             ],
             [
              1,
              "#f0f921"
             ]
            ],
            "type": "heatmap"
           }
          ],
          "heatmapgl": [
           {
            "colorbar": {
             "outlinewidth": 0,
             "ticks": ""
            },
            "colorscale": [
             [
              0,
              "#0d0887"
             ],
             [
              0.1111111111111111,
              "#46039f"
             ],
             [
              0.2222222222222222,
              "#7201a8"
             ],
             [
              0.3333333333333333,
              "#9c179e"
             ],
             [
              0.4444444444444444,
              "#bd3786"
             ],
             [
              0.5555555555555556,
              "#d8576b"
             ],
             [
              0.6666666666666666,
              "#ed7953"
             ],
             [
              0.7777777777777778,
              "#fb9f3a"
             ],
             [
              0.8888888888888888,
              "#fdca26"
             ],
             [
              1,
              "#f0f921"
             ]
            ],
            "type": "heatmapgl"
           }
          ],
          "histogram": [
           {
            "marker": {
             "pattern": {
              "fillmode": "overlay",
              "size": 10,
              "solidity": 0.2
             }
            },
            "type": "histogram"
           }
          ],
          "histogram2d": [
           {
            "colorbar": {
             "outlinewidth": 0,
             "ticks": ""
            },
            "colorscale": [
             [
              0,
              "#0d0887"
             ],
             [
              0.1111111111111111,
              "#46039f"
             ],
             [
              0.2222222222222222,
              "#7201a8"
             ],
             [
              0.3333333333333333,
              "#9c179e"
             ],
             [
              0.4444444444444444,
              "#bd3786"
             ],
             [
              0.5555555555555556,
              "#d8576b"
             ],
             [
              0.6666666666666666,
              "#ed7953"
             ],
             [
              0.7777777777777778,
              "#fb9f3a"
             ],
             [
              0.8888888888888888,
              "#fdca26"
             ],
             [
              1,
              "#f0f921"
             ]
            ],
            "type": "histogram2d"
           }
          ],
          "histogram2dcontour": [
           {
            "colorbar": {
             "outlinewidth": 0,
             "ticks": ""
            },
            "colorscale": [
             [
              0,
              "#0d0887"
             ],
             [
              0.1111111111111111,
              "#46039f"
             ],
             [
              0.2222222222222222,
              "#7201a8"
             ],
             [
              0.3333333333333333,
              "#9c179e"
             ],
             [
              0.4444444444444444,
              "#bd3786"
             ],
             [
              0.5555555555555556,
              "#d8576b"
             ],
             [
              0.6666666666666666,
              "#ed7953"
             ],
             [
              0.7777777777777778,
              "#fb9f3a"
             ],
             [
              0.8888888888888888,
              "#fdca26"
             ],
             [
              1,
              "#f0f921"
             ]
            ],
            "type": "histogram2dcontour"
           }
          ],
          "mesh3d": [
           {
            "colorbar": {
             "outlinewidth": 0,
             "ticks": ""
            },
            "type": "mesh3d"
           }
          ],
          "parcoords": [
           {
            "line": {
             "colorbar": {
              "outlinewidth": 0,
              "ticks": ""
             }
            },
            "type": "parcoords"
           }
          ],
          "pie": [
           {
            "automargin": true,
            "type": "pie"
           }
          ],
          "scatter": [
           {
            "fillpattern": {
             "fillmode": "overlay",
             "size": 10,
             "solidity": 0.2
            },
            "type": "scatter"
           }
          ],
          "scatter3d": [
           {
            "line": {
             "colorbar": {
              "outlinewidth": 0,
              "ticks": ""
             }
            },
            "marker": {
             "colorbar": {
              "outlinewidth": 0,
              "ticks": ""
             }
            },
            "type": "scatter3d"
           }
          ],
          "scattercarpet": [
           {
            "marker": {
             "colorbar": {
              "outlinewidth": 0,
              "ticks": ""
             }
            },
            "type": "scattercarpet"
           }
          ],
          "scattergeo": [
           {
            "marker": {
             "colorbar": {
              "outlinewidth": 0,
              "ticks": ""
             }
            },
            "type": "scattergeo"
           }
          ],
          "scattergl": [
           {
            "marker": {
             "colorbar": {
              "outlinewidth": 0,
              "ticks": ""
             }
            },
            "type": "scattergl"
           }
          ],
          "scattermapbox": [
           {
            "marker": {
             "colorbar": {
              "outlinewidth": 0,
              "ticks": ""
             }
            },
            "type": "scattermapbox"
           }
          ],
          "scatterpolar": [
           {
            "marker": {
             "colorbar": {
              "outlinewidth": 0,
              "ticks": ""
             }
            },
            "type": "scatterpolar"
           }
          ],
          "scatterpolargl": [
           {
            "marker": {
             "colorbar": {
              "outlinewidth": 0,
              "ticks": ""
             }
            },
            "type": "scatterpolargl"
           }
          ],
          "scatterternary": [
           {
            "marker": {
             "colorbar": {
              "outlinewidth": 0,
              "ticks": ""
             }
            },
            "type": "scatterternary"
           }
          ],
          "surface": [
           {
            "colorbar": {
             "outlinewidth": 0,
             "ticks": ""
            },
            "colorscale": [
             [
              0,
              "#0d0887"
             ],
             [
              0.1111111111111111,
              "#46039f"
             ],
             [
              0.2222222222222222,
              "#7201a8"
             ],
             [
              0.3333333333333333,
              "#9c179e"
             ],
             [
              0.4444444444444444,
              "#bd3786"
             ],
             [
              0.5555555555555556,
              "#d8576b"
             ],
             [
              0.6666666666666666,
              "#ed7953"
             ],
             [
              0.7777777777777778,
              "#fb9f3a"
             ],
             [
              0.8888888888888888,
              "#fdca26"
             ],
             [
              1,
              "#f0f921"
             ]
            ],
            "type": "surface"
           }
          ],
          "table": [
           {
            "cells": {
             "fill": {
              "color": "#EBF0F8"
             },
             "line": {
              "color": "white"
             }
            },
            "header": {
             "fill": {
              "color": "#C8D4E3"
             },
             "line": {
              "color": "white"
             }
            },
            "type": "table"
           }
          ]
         },
         "layout": {
          "annotationdefaults": {
           "arrowcolor": "#2a3f5f",
           "arrowhead": 0,
           "arrowwidth": 1
          },
          "autotypenumbers": "strict",
          "coloraxis": {
           "colorbar": {
            "outlinewidth": 0,
            "ticks": ""
           }
          },
          "colorscale": {
           "diverging": [
            [
             0,
             "#8e0152"
            ],
            [
             0.1,
             "#c51b7d"
            ],
            [
             0.2,
             "#de77ae"
            ],
            [
             0.3,
             "#f1b6da"
            ],
            [
             0.4,
             "#fde0ef"
            ],
            [
             0.5,
             "#f7f7f7"
            ],
            [
             0.6,
             "#e6f5d0"
            ],
            [
             0.7,
             "#b8e186"
            ],
            [
             0.8,
             "#7fbc41"
            ],
            [
             0.9,
             "#4d9221"
            ],
            [
             1,
             "#276419"
            ]
           ],
           "sequential": [
            [
             0,
             "#0d0887"
            ],
            [
             0.1111111111111111,
             "#46039f"
            ],
            [
             0.2222222222222222,
             "#7201a8"
            ],
            [
             0.3333333333333333,
             "#9c179e"
            ],
            [
             0.4444444444444444,
             "#bd3786"
            ],
            [
             0.5555555555555556,
             "#d8576b"
            ],
            [
             0.6666666666666666,
             "#ed7953"
            ],
            [
             0.7777777777777778,
             "#fb9f3a"
            ],
            [
             0.8888888888888888,
             "#fdca26"
            ],
            [
             1,
             "#f0f921"
            ]
           ],
           "sequentialminus": [
            [
             0,
             "#0d0887"
            ],
            [
             0.1111111111111111,
             "#46039f"
            ],
            [
             0.2222222222222222,
             "#7201a8"
            ],
            [
             0.3333333333333333,
             "#9c179e"
            ],
            [
             0.4444444444444444,
             "#bd3786"
            ],
            [
             0.5555555555555556,
             "#d8576b"
            ],
            [
             0.6666666666666666,
             "#ed7953"
            ],
            [
             0.7777777777777778,
             "#fb9f3a"
            ],
            [
             0.8888888888888888,
             "#fdca26"
            ],
            [
             1,
             "#f0f921"
            ]
           ]
          },
          "colorway": [
           "#636efa",
           "#EF553B",
           "#00cc96",
           "#ab63fa",
           "#FFA15A",
           "#19d3f3",
           "#FF6692",
           "#B6E880",
           "#FF97FF",
           "#FECB52"
          ],
          "font": {
           "color": "#2a3f5f"
          },
          "geo": {
           "bgcolor": "white",
           "lakecolor": "white",
           "landcolor": "#E5ECF6",
           "showlakes": true,
           "showland": true,
           "subunitcolor": "white"
          },
          "hoverlabel": {
           "align": "left"
          },
          "hovermode": "closest",
          "mapbox": {
           "style": "light"
          },
          "paper_bgcolor": "white",
          "plot_bgcolor": "#E5ECF6",
          "polar": {
           "angularaxis": {
            "gridcolor": "white",
            "linecolor": "white",
            "ticks": ""
           },
           "bgcolor": "#E5ECF6",
           "radialaxis": {
            "gridcolor": "white",
            "linecolor": "white",
            "ticks": ""
           }
          },
          "scene": {
           "xaxis": {
            "backgroundcolor": "#E5ECF6",
            "gridcolor": "white",
            "gridwidth": 2,
            "linecolor": "white",
            "showbackground": true,
            "ticks": "",
            "zerolinecolor": "white"
           },
           "yaxis": {
            "backgroundcolor": "#E5ECF6",
            "gridcolor": "white",
            "gridwidth": 2,
            "linecolor": "white",
            "showbackground": true,
            "ticks": "",
            "zerolinecolor": "white"
           },
           "zaxis": {
            "backgroundcolor": "#E5ECF6",
            "gridcolor": "white",
            "gridwidth": 2,
            "linecolor": "white",
            "showbackground": true,
            "ticks": "",
            "zerolinecolor": "white"
           }
          },
          "shapedefaults": {
           "line": {
            "color": "#2a3f5f"
           }
          },
          "ternary": {
           "aaxis": {
            "gridcolor": "white",
            "linecolor": "white",
            "ticks": ""
           },
           "baxis": {
            "gridcolor": "white",
            "linecolor": "white",
            "ticks": ""
           },
           "bgcolor": "#E5ECF6",
           "caxis": {
            "gridcolor": "white",
            "linecolor": "white",
            "ticks": ""
           }
          },
          "title": {
           "x": 0.05
          },
          "xaxis": {
           "automargin": true,
           "gridcolor": "white",
           "linecolor": "white",
           "ticks": "",
           "title": {
            "standoff": 15
           },
           "zerolinecolor": "white",
           "zerolinewidth": 2
          },
          "yaxis": {
           "automargin": true,
           "gridcolor": "white",
           "linecolor": "white",
           "ticks": "",
           "title": {
            "standoff": 15
           },
           "zerolinecolor": "white",
           "zerolinewidth": 2
          }
         }
        }
       }
      }
     },
     "metadata": {},
     "output_type": "display_data"
    }
   ],
   "source": [
    "#plot attractions with values for report\n",
    "fig = px.scatter_mapbox(grid_df, lat=\"Latitude\", lon=\"Longitude\", color_discrete_sequence=[\"grey\"], zoom=12, height=900, size=grid_df[\"Size\"], size_max=10)\n",
    "fig.update_layout(mapbox_style=\"open-street-map\")\n",
    "fig.update_layout(margin={\"r\":0,\"t\":0,\"l\":0,\"b\":0})\n",
    "fig.show()"
   ]
  },
  {
   "cell_type": "code",
   "execution_count": 117,
   "id": "b4fbb822",
   "metadata": {},
   "outputs": [],
   "source": [
    "#write csv of grid (potential stations)\n",
    "new_stations_df = grid_df.drop(columns = ['Name','Colors','x','y'])\n",
    "\n",
    "new_stations_df['index'] = np.arange(len(new_stations_df))\n",
    "\n",
    "new_stations_df.to_csv('new_stations_df')"
   ]
  },
  {
   "cell_type": "code",
   "execution_count": null,
   "id": "9dca1884",
   "metadata": {},
   "outputs": [],
   "source": [
    "#lets look at how much trip data we have for Salem\n",
    "\n",
    "merged_df[merged_df.Start_District == \"Salem\"] #2401 trips starting from Salem\n",
    "merged_df[merged_df.End_District == \"Salem\"] #2407 trips ending in Salem"
   ]
  },
  {
   "cell_type": "code",
   "execution_count": 82,
   "id": "e3fb4026",
   "metadata": {},
   "outputs": [
    {
     "data": {
      "text/html": [
       "<div>\n",
       "<style scoped>\n",
       "    .dataframe tbody tr th:only-of-type {\n",
       "        vertical-align: middle;\n",
       "    }\n",
       "\n",
       "    .dataframe tbody tr th {\n",
       "        vertical-align: top;\n",
       "    }\n",
       "\n",
       "    .dataframe thead th {\n",
       "        text-align: right;\n",
       "    }\n",
       "</style>\n",
       "<table border=\"1\" class=\"dataframe\">\n",
       "  <thead>\n",
       "    <tr style=\"text-align: right;\">\n",
       "      <th></th>\n",
       "      <th>is_installed</th>\n",
       "      <th>is_renting</th>\n",
       "      <th>num_bikes_disabled</th>\n",
       "      <th>num_ebikes_available</th>\n",
       "      <th>num_bikes_available</th>\n",
       "      <th>station_id</th>\n",
       "      <th>num_docks_disabled</th>\n",
       "      <th>num_docks_available</th>\n",
       "      <th>is_returning</th>\n",
       "      <th>station_status</th>\n",
       "      <th>eightd_has_available_keys</th>\n",
       "      <th>last_reported</th>\n",
       "      <th>legacy_id</th>\n",
       "    </tr>\n",
       "  </thead>\n",
       "  <tbody>\n",
       "    <tr>\n",
       "      <th>0</th>\n",
       "      <td>1</td>\n",
       "      <td>1</td>\n",
       "      <td>1</td>\n",
       "      <td>0</td>\n",
       "      <td>5</td>\n",
       "      <td>3</td>\n",
       "      <td>0</td>\n",
       "      <td>9</td>\n",
       "      <td>1</td>\n",
       "      <td>active</td>\n",
       "      <td>False</td>\n",
       "      <td>1667537239</td>\n",
       "      <td>3</td>\n",
       "    </tr>\n",
       "    <tr>\n",
       "      <th>1</th>\n",
       "      <td>1</td>\n",
       "      <td>1</td>\n",
       "      <td>5</td>\n",
       "      <td>0</td>\n",
       "      <td>13</td>\n",
       "      <td>4</td>\n",
       "      <td>0</td>\n",
       "      <td>1</td>\n",
       "      <td>1</td>\n",
       "      <td>active</td>\n",
       "      <td>False</td>\n",
       "      <td>1667537364</td>\n",
       "      <td>4</td>\n",
       "    </tr>\n",
       "    <tr>\n",
       "      <th>2</th>\n",
       "      <td>1</td>\n",
       "      <td>1</td>\n",
       "      <td>1</td>\n",
       "      <td>0</td>\n",
       "      <td>0</td>\n",
       "      <td>5</td>\n",
       "      <td>0</td>\n",
       "      <td>14</td>\n",
       "      <td>1</td>\n",
       "      <td>active</td>\n",
       "      <td>False</td>\n",
       "      <td>1667538094</td>\n",
       "      <td>5</td>\n",
       "    </tr>\n",
       "    <tr>\n",
       "      <th>3</th>\n",
       "      <td>1</td>\n",
       "      <td>0</td>\n",
       "      <td>0</td>\n",
       "      <td>0</td>\n",
       "      <td>9</td>\n",
       "      <td>6</td>\n",
       "      <td>0</td>\n",
       "      <td>6</td>\n",
       "      <td>0</td>\n",
       "      <td>active</td>\n",
       "      <td>False</td>\n",
       "      <td>1667531392</td>\n",
       "      <td>6</td>\n",
       "    </tr>\n",
       "    <tr>\n",
       "      <th>4</th>\n",
       "      <td>1</td>\n",
       "      <td>1</td>\n",
       "      <td>0</td>\n",
       "      <td>0</td>\n",
       "      <td>0</td>\n",
       "      <td>7</td>\n",
       "      <td>0</td>\n",
       "      <td>15</td>\n",
       "      <td>1</td>\n",
       "      <td>active</td>\n",
       "      <td>False</td>\n",
       "      <td>1667526449</td>\n",
       "      <td>7</td>\n",
       "    </tr>\n",
       "    <tr>\n",
       "      <th>...</th>\n",
       "      <td>...</td>\n",
       "      <td>...</td>\n",
       "      <td>...</td>\n",
       "      <td>...</td>\n",
       "      <td>...</td>\n",
       "      <td>...</td>\n",
       "      <td>...</td>\n",
       "      <td>...</td>\n",
       "      <td>...</td>\n",
       "      <td>...</td>\n",
       "      <td>...</td>\n",
       "      <td>...</td>\n",
       "      <td>...</td>\n",
       "    </tr>\n",
       "    <tr>\n",
       "      <th>445</th>\n",
       "      <td>1</td>\n",
       "      <td>1</td>\n",
       "      <td>0</td>\n",
       "      <td>0</td>\n",
       "      <td>12</td>\n",
       "      <td>583</td>\n",
       "      <td>0</td>\n",
       "      <td>7</td>\n",
       "      <td>1</td>\n",
       "      <td>active</td>\n",
       "      <td>False</td>\n",
       "      <td>1667531573</td>\n",
       "      <td>583</td>\n",
       "    </tr>\n",
       "    <tr>\n",
       "      <th>446</th>\n",
       "      <td>1</td>\n",
       "      <td>1</td>\n",
       "      <td>0</td>\n",
       "      <td>0</td>\n",
       "      <td>4</td>\n",
       "      <td>584</td>\n",
       "      <td>0</td>\n",
       "      <td>7</td>\n",
       "      <td>1</td>\n",
       "      <td>active</td>\n",
       "      <td>False</td>\n",
       "      <td>1667529128</td>\n",
       "      <td>584</td>\n",
       "    </tr>\n",
       "    <tr>\n",
       "      <th>447</th>\n",
       "      <td>1</td>\n",
       "      <td>1</td>\n",
       "      <td>0</td>\n",
       "      <td>0</td>\n",
       "      <td>1</td>\n",
       "      <td>585</td>\n",
       "      <td>0</td>\n",
       "      <td>10</td>\n",
       "      <td>1</td>\n",
       "      <td>active</td>\n",
       "      <td>False</td>\n",
       "      <td>1667514876</td>\n",
       "      <td>585</td>\n",
       "    </tr>\n",
       "    <tr>\n",
       "      <th>448</th>\n",
       "      <td>1</td>\n",
       "      <td>1</td>\n",
       "      <td>0</td>\n",
       "      <td>0</td>\n",
       "      <td>13</td>\n",
       "      <td>586</td>\n",
       "      <td>0</td>\n",
       "      <td>1</td>\n",
       "      <td>1</td>\n",
       "      <td>active</td>\n",
       "      <td>False</td>\n",
       "      <td>1667530085</td>\n",
       "      <td>586</td>\n",
       "    </tr>\n",
       "    <tr>\n",
       "      <th>449</th>\n",
       "      <td>0</td>\n",
       "      <td>1</td>\n",
       "      <td>0</td>\n",
       "      <td>0</td>\n",
       "      <td>4</td>\n",
       "      <td>587</td>\n",
       "      <td>0</td>\n",
       "      <td>7</td>\n",
       "      <td>1</td>\n",
       "      <td>out_of_service</td>\n",
       "      <td>False</td>\n",
       "      <td>1667510515</td>\n",
       "      <td>587</td>\n",
       "    </tr>\n",
       "  </tbody>\n",
       "</table>\n",
       "<p>450 rows × 13 columns</p>\n",
       "</div>"
      ],
      "text/plain": [
       "     is_installed  is_renting  num_bikes_disabled  num_ebikes_available  \\\n",
       "0               1           1                   1                     0   \n",
       "1               1           1                   5                     0   \n",
       "2               1           1                   1                     0   \n",
       "3               1           0                   0                     0   \n",
       "4               1           1                   0                     0   \n",
       "..            ...         ...                 ...                   ...   \n",
       "445             1           1                   0                     0   \n",
       "446             1           1                   0                     0   \n",
       "447             1           1                   0                     0   \n",
       "448             1           1                   0                     0   \n",
       "449             0           1                   0                     0   \n",
       "\n",
       "     num_bikes_available  station_id  num_docks_disabled  num_docks_available  \\\n",
       "0                      5           3                   0                    9   \n",
       "1                     13           4                   0                    1   \n",
       "2                      0           5                   0                   14   \n",
       "3                      9           6                   0                    6   \n",
       "4                      0           7                   0                   15   \n",
       "..                   ...         ...                 ...                  ...   \n",
       "445                   12         583                   0                    7   \n",
       "446                    4         584                   0                    7   \n",
       "447                    1         585                   0                   10   \n",
       "448                   13         586                   0                    1   \n",
       "449                    4         587                   0                    7   \n",
       "\n",
       "     is_returning  station_status  eightd_has_available_keys  last_reported  \\\n",
       "0               1          active                      False     1667537239   \n",
       "1               1          active                      False     1667537364   \n",
       "2               1          active                      False     1667538094   \n",
       "3               0          active                      False     1667531392   \n",
       "4               1          active                      False     1667526449   \n",
       "..            ...             ...                        ...            ...   \n",
       "445             1          active                      False     1667531573   \n",
       "446             1          active                      False     1667529128   \n",
       "447             1          active                      False     1667514876   \n",
       "448             1          active                      False     1667530085   \n",
       "449             1  out_of_service                      False     1667510515   \n",
       "\n",
       "     legacy_id  \n",
       "0            3  \n",
       "1            4  \n",
       "2            5  \n",
       "3            6  \n",
       "4            7  \n",
       "..         ...  \n",
       "445        583  \n",
       "446        584  \n",
       "447        585  \n",
       "448        586  \n",
       "449        587  \n",
       "\n",
       "[450 rows x 13 columns]"
      ]
     },
     "execution_count": 82,
     "metadata": {},
     "output_type": "execute_result"
    }
   ],
   "source": [
    "#import real time data for bike station utilization\n",
    "utilization_raw = pd.read_csv('bluebikes_free.csv', header=0)\n",
    "utilization_raw\n",
    "\n",
    "utilization_df = utilization_raw[(utilization_raw.is_installed == 1) & \n",
    "                                 (utilization_raw.is_renting == 1) &\n",
    "                                (utilization_raw.is_returning == 1) &\n",
    "                                (utilization_raw.station_status == 'active')]\n",
    "#utilization_df = utilization_df.drop(columns = ['is_installed','is_renting','is_returning','station_status'])\n",
    "utilization_df = utilization_df[['num_bikes_available','station_id','num_docks_available']]\n",
    "utilization_df\n"
   ]
  },
  {
   "cell_type": "code",
   "execution_count": 17,
   "id": "e3e523d7",
   "metadata": {},
   "outputs": [
    {
     "ename": "NameError",
     "evalue": "name 'utilization_df' is not defined",
     "output_type": "error",
     "traceback": [
      "\u001b[0;31m---------------------------------------------------------------------------\u001b[0m",
      "\u001b[0;31mNameError\u001b[0m                                 Traceback (most recent call last)",
      "Input \u001b[0;32mIn [17]\u001b[0m, in \u001b[0;36m<cell line: 5>\u001b[0;34m()\u001b[0m\n\u001b[1;32m      2\u001b[0m station_info_raw\n\u001b[1;32m      4\u001b[0m \u001b[38;5;66;03m#join with utilization data\u001b[39;00m\n\u001b[0;32m----> 5\u001b[0m merged_station_info \u001b[38;5;241m=\u001b[39m pd\u001b[38;5;241m.\u001b[39mmerge(\u001b[43mutilization_df\u001b[49m, station_info_raw, \n\u001b[1;32m      6\u001b[0m                         left_on\u001b[38;5;241m=\u001b[39m\u001b[38;5;124m\"\u001b[39m\u001b[38;5;124mstation_id\u001b[39m\u001b[38;5;124m\"\u001b[39m,\n\u001b[1;32m      7\u001b[0m                         right_on\u001b[38;5;241m=\u001b[39m\u001b[38;5;124m\"\u001b[39m\u001b[38;5;124mstation_id\u001b[39m\u001b[38;5;124m\"\u001b[39m,\n\u001b[1;32m      8\u001b[0m                         how\u001b[38;5;241m=\u001b[39m\u001b[38;5;124m\"\u001b[39m\u001b[38;5;124minner\u001b[39m\u001b[38;5;124m\"\u001b[39m)\n\u001b[1;32m      9\u001b[0m merged_station_info\n\u001b[1;32m     11\u001b[0m \u001b[38;5;66;03m#join with stations data\u001b[39;00m\n",
      "\u001b[0;31mNameError\u001b[0m: name 'utilization_df' is not defined"
     ]
    }
   ],
   "source": [
    "station_info_raw = pd.read_csv('bluebikes.csv',header=0)\n",
    "station_info_raw\n",
    "\n",
    "#join with utilization data\n",
    "merged_station_info = pd.merge(utilization_df, station_info_raw, \n",
    "                        left_on=\"station_id\",\n",
    "                        right_on=\"station_id\",\n",
    "                        how=\"inner\")\n",
    "merged_station_info\n",
    "\n",
    "#join with stations data\n",
    "merged_stations = pd.merge(merged_station_info, stations_df,\n",
    "                          left_on=\"short_name\",\n",
    "                          right_on=\"Number\",\n",
    "                          how=\"inner\")\n",
    "\n",
    "merged_stations = merged_stations.drop(columns = ['lon','lat','has_kiosk','electric_bike_surcharge_waiver','eightd_station_services','rental_methods','external_id','eightd_has_key_dispenser'])\n",
    "\n",
    "#add availability column\n",
    "merged_stations['bike_availability'] = merged_stations['num_bikes_available']/merged_stations['capacity']\n",
    "merged_stations\n"
   ]
  },
  {
   "cell_type": "code",
   "execution_count": 109,
   "id": "089f0e94",
   "metadata": {},
   "outputs": [
    {
     "data": {
      "text/html": [
       "<div>\n",
       "<style scoped>\n",
       "    .dataframe tbody tr th:only-of-type {\n",
       "        vertical-align: middle;\n",
       "    }\n",
       "\n",
       "    .dataframe tbody tr th {\n",
       "        vertical-align: top;\n",
       "    }\n",
       "\n",
       "    .dataframe thead th {\n",
       "        text-align: right;\n",
       "    }\n",
       "</style>\n",
       "<table border=\"1\" class=\"dataframe\">\n",
       "  <thead>\n",
       "    <tr style=\"text-align: right;\">\n",
       "      <th></th>\n",
       "      <th>station_id</th>\n",
       "      <th>count</th>\n",
       "      <th>capacity</th>\n",
       "      <th>station_key</th>\n",
       "      <th>demand</th>\n",
       "    </tr>\n",
       "  </thead>\n",
       "  <tbody>\n",
       "    <tr>\n",
       "      <th>1</th>\n",
       "      <td>3</td>\n",
       "      <td>3759</td>\n",
       "      <td>15.0</td>\n",
       "      <td>B32006</td>\n",
       "      <td>250.600000</td>\n",
       "    </tr>\n",
       "    <tr>\n",
       "      <th>2</th>\n",
       "      <td>4</td>\n",
       "      <td>4612</td>\n",
       "      <td>19.0</td>\n",
       "      <td>C32000</td>\n",
       "      <td>242.736842</td>\n",
       "    </tr>\n",
       "    <tr>\n",
       "      <th>3</th>\n",
       "      <td>5</td>\n",
       "      <td>6931</td>\n",
       "      <td>15.0</td>\n",
       "      <td>B32012</td>\n",
       "      <td>462.066667</td>\n",
       "    </tr>\n",
       "    <tr>\n",
       "      <th>4</th>\n",
       "      <td>6</td>\n",
       "      <td>5949</td>\n",
       "      <td>15.0</td>\n",
       "      <td>D32000</td>\n",
       "      <td>396.600000</td>\n",
       "    </tr>\n",
       "    <tr>\n",
       "      <th>5</th>\n",
       "      <td>7</td>\n",
       "      <td>2270</td>\n",
       "      <td>15.0</td>\n",
       "      <td>A32000</td>\n",
       "      <td>151.333333</td>\n",
       "    </tr>\n",
       "    <tr>\n",
       "      <th>...</th>\n",
       "      <td>...</td>\n",
       "      <td>...</td>\n",
       "      <td>...</td>\n",
       "      <td>...</td>\n",
       "      <td>...</td>\n",
       "    </tr>\n",
       "    <tr>\n",
       "      <th>436</th>\n",
       "      <td>576</td>\n",
       "      <td>49</td>\n",
       "      <td>11.0</td>\n",
       "      <td>F32001</td>\n",
       "      <td>4.454545</td>\n",
       "    </tr>\n",
       "    <tr>\n",
       "      <th>437</th>\n",
       "      <td>577</td>\n",
       "      <td>66</td>\n",
       "      <td>11.0</td>\n",
       "      <td>F32002</td>\n",
       "      <td>6.000000</td>\n",
       "    </tr>\n",
       "    <tr>\n",
       "      <th>438</th>\n",
       "      <td>578</td>\n",
       "      <td>134</td>\n",
       "      <td>11.0</td>\n",
       "      <td>F32003</td>\n",
       "      <td>12.181818</td>\n",
       "    </tr>\n",
       "    <tr>\n",
       "      <th>439</th>\n",
       "      <td>582</td>\n",
       "      <td>310</td>\n",
       "      <td>19.0</td>\n",
       "      <td>M32081</td>\n",
       "      <td>16.315789</td>\n",
       "    </tr>\n",
       "    <tr>\n",
       "      <th>440</th>\n",
       "      <td>583</td>\n",
       "      <td>73</td>\n",
       "      <td>19.0</td>\n",
       "      <td>M32082</td>\n",
       "      <td>3.842105</td>\n",
       "    </tr>\n",
       "  </tbody>\n",
       "</table>\n",
       "<p>439 rows × 5 columns</p>\n",
       "</div>"
      ],
      "text/plain": [
       "     station_id  count  capacity station_key      demand\n",
       "1             3   3759      15.0      B32006  250.600000\n",
       "2             4   4612      19.0      C32000  242.736842\n",
       "3             5   6931      15.0      B32012  462.066667\n",
       "4             6   5949      15.0      D32000  396.600000\n",
       "5             7   2270      15.0      A32000  151.333333\n",
       "..          ...    ...       ...         ...         ...\n",
       "436         576     49      11.0      F32001    4.454545\n",
       "437         577     66      11.0      F32002    6.000000\n",
       "438         578    134      11.0      F32003   12.181818\n",
       "439         582    310      19.0      M32081   16.315789\n",
       "440         583     73      19.0      M32082    3.842105\n",
       "\n",
       "[439 rows x 5 columns]"
      ]
     },
     "execution_count": 109,
     "metadata": {},
     "output_type": "execute_result"
    }
   ],
   "source": [
    "#utilization from trip histories data\n",
    "\n",
    "start_stations = pd.DataFrame().assign(station_id = trips_df['start_station_id'])\n",
    "\n",
    "end_stations = pd.DataFrame().assign(station_id = trips_df['end_station_id'])\n",
    "\n",
    "start_end_stations = pd.concat([start_stations,end_stations])\n",
    "\n",
    "#get counts of station uses\n",
    "station_counts = start_end_stations.groupby(['station_id'])['station_id'].count().reset_index(name=\"count\")\n",
    "\n",
    "#load station info data\n",
    "station_info_raw = pd.read_csv('bluebikes.csv',header=0)\n",
    "\n",
    "station_info = pd.DataFrame().assign(station_id = station_info_raw['station_id'], capacity = station_info_raw['capacity'], station_key = station_info_raw['short_name'])\n",
    "\n",
    "#merge station capacity data with station count data\n",
    "stations_count_cap_m = pd.merge(station_counts, station_info,\n",
    "        left_on=\"station_id\",\n",
    "        right_on=\"station_id\",\n",
    "        how=\"left\")\n",
    "\n",
    "stations_count_cap = stations_count_cap_m.dropna()\n",
    "\n",
    "stations_demand = stations_count_cap.assign(demand = stations_count_cap['count']/stations_count_cap['capacity'])\n",
    "stations_demand\n",
    "\n",
    "#write to csv\n",
    "#stations_demand.to_csv('stations_demand_df')"
   ]
  },
  {
   "cell_type": "code",
   "execution_count": 127,
   "id": "dff08334",
   "metadata": {},
   "outputs": [],
   "source": [
    "# join salem station grid data with demand\n",
    "\n",
    "salem_stations\n",
    "salem_df = pd.merge(salem_stations, stations_demand,\n",
    "        left_on=\"Number\",\n",
    "        right_on=\"station_key\",\n",
    "        how=\"left\")\n",
    "\n",
    "salem_df.drop(columns=['x','y','Colors','Number'])\n",
    "salem_df.to_csv('salem_df')"
   ]
  },
  {
   "cell_type": "markdown",
   "id": "3dce30df",
   "metadata": {},
   "source": [
    "Post Optimization Plotting"
   ]
  },
  {
   "cell_type": "code",
   "execution_count": null,
   "id": "43cd195e",
   "metadata": {},
   "outputs": [],
   "source": [
    "candidates_df = pd.read_csv('inputs/candidate_address.csv', header=0)\n",
    "salem_demand_df = pd.read_csv('inputs/salem_demand.csv', header=0)\n",
    "\n",
    "split = candidates_df[\"Coordinates\"].str.split(\",\", n = 1, expand = True)\n",
    "candidates_df[\"Latitude\"]= split[0]\n",
    "candidates_df[\"Longitude\"]= split[1]\n",
    "candidates_df[\"Latitude\"] = candidates_df['Latitude'].str[1:].astype(np.float64)\n",
    "candidates_df[\"Longitude\"] = candidates_df['Longitude'].str[:-1].astype(np.float64)\n",
    "#candidates_df[\"Latitude\"] = candidates_df['Latitude'].astype(np.float64)\n",
    "#candidates_df['Longitude'].astype(np.float64)\n",
    "\n",
    "salem_stations = stations_df[stations_df.District == \"Salem\"][['Latitude','Longitude','Name','Number','x','y']]\n",
    "#salem_stations['Colors'] = [\"fuchsia\" for _ in range(len(salem_stations))]\n",
    "salem_demand_df['Colors'] = [\"fuchsia\" for _ in range(len(salem_demand_df))]\n",
    "\n",
    "candidates_df['index'] = np.arange(len(candidates_df))\n",
    "stations_chosen = (5,17,54,69,126)\n",
    "candidates_df['Colors'] = np.where(candidates_df['index'].isin(stations_chosen), \"darkgreen\", \"black\")\n",
    "\n",
    "# Plot a map of the potential stations\n",
    "fig = px.scatter_mapbox(pd.concat([candidates_df,salem_demand_df]), lat=\"Latitude\", lon=\"Longitude\", hover_name = \"demand\", color=\"Colors\", zoom=12, height=900)\n",
    "fig.update_layout(mapbox_style=\"open-street-map\")\n",
    "fig.update_layout(margin={\"r\":0,\"t\":0,\"l\":0,\"b\":0})\n",
    "fig.show()"
   ]
  },
  {
   "cell_type": "code",
   "execution_count": null,
   "id": "c6ace1f9",
   "metadata": {},
   "outputs": [],
   "source": [
    "#ideas\n",
    "#plot lines for top 10-50 most travelled paths\n",
    "#plot bigger dot size for more traveled stations\n",
    "#unmet demand: utilization for each station - this goes in the objective function\n",
    "##node = station: how many bikes left station (demand) how many bikes entered station (supply)\n",
    "### how often there are 0 bikes left, how many bikes remaining/total bikes\n",
    "### at each hour on the hour, how many bikes our available/total bikes? average over time to get utilization\n",
    "#unmet demand: population data?\n",
    "\n",
    "#convexity???\n",
    "\n",
    "#cost to penalize stations far away - use centroid"
   ]
  },
  {
   "cell_type": "code",
   "execution_count": null,
   "id": "3656f0c2",
   "metadata": {},
   "outputs": [],
   "source": []
  }
 ],
 "metadata": {
  "kernelspec": {
   "display_name": "Python 3 (ipykernel)",
   "language": "python",
   "name": "python3"
  },
  "language_info": {
   "codemirror_mode": {
    "name": "ipython",
    "version": 3
   },
   "file_extension": ".py",
   "mimetype": "text/x-python",
   "name": "python",
   "nbconvert_exporter": "python",
   "pygments_lexer": "ipython3",
   "version": "3.9.13"
  }
 },
 "nbformat": 4,
 "nbformat_minor": 5
}
