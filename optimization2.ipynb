{
 "cells": [
  {
   "cell_type": "code",
   "execution_count": 2,
   "metadata": {},
   "outputs": [],
   "source": [
    "using DataFrames, CSV\n",
    "using JuMP, Gurobi\n",
    "using LinearAlgebra\n",
    "using JSON"
   ]
  },
  {
   "cell_type": "code",
   "execution_count": 131,
   "metadata": {},
   "outputs": [],
   "source": [
    "config = JSON.parsefile(\"config.json\")\n",
    "\n",
    "#existing_distance = Matrix(CSV.read(\"inputs/candidate_existing_distance.csv\", DataFrame, header = true))\n",
    "existing_distance_raw = Matrix(CSV.read(\"inputs/standardized_existing_distance.csv\", DataFrame, header = true))\n",
    "existing_distance1 = existing_distance_raw[:,2:14]\n",
    "#attraction_distance = Matrix(CSV.read(\"inputs/candidate_attraction_distance.csv\", DataFrame, header = true))\n",
    "attraction_distance_raw = Matrix(CSV.read(\"inputs/standardized_attractions_distance.csv\", DataFrame, header = true))\n",
    "attraction_distance = attraction_distance_raw[:,2:23]\n",
    "demand_raw = Matrix(CSV.read(\"inputs/standardized_salem_demand.csv\", DataFrame, header = true))\n",
    "demand = demand_raw[:, 17]\n",
    "attraction_values_raw = Matrix(CSV.read(\"inputs/standardized_attractions_weights.csv\", DataFrame, header = true))\n",
    "attraction_values = attraction_values_raw[:,6]\n",
    "candidate_addresses_raw = Matrix(CSV.read(\"inputs/candidate_address.csv\", DataFrame, header = true));\n"
   ]
  },
  {
   "cell_type": "code",
   "execution_count": null,
   "metadata": {},
   "outputs": [],
   "source": [
    "#raw = Matrix(CSV.read(\"inputs/candidate_existing_distance.csv\", DataFrame, header = false))\n",
    "#raw_sorted = raw[:,sortperm(raw[1,:])] \n",
    "#raw_strings = raw_sorted[2:110,:]\n",
    "#existing_distance = parse.(Int64,string.(raw_strings))\n",
    "attraction_distance"
   ]
  },
  {
   "cell_type": "code",
   "execution_count": 44,
   "metadata": {},
   "outputs": [
    {
     "data": {
      "text/plain": [
       "4-element Vector{Any}:\n",
       "    \"24 Fort Ave, Salem, MA 01970, USA\"\n",
       "    \"(42.5251058, -70.8774911)\"\n",
       "  42.5251058\n",
       " -70.8774911"
      ]
     },
     "execution_count": 44,
     "metadata": {},
     "output_type": "execute_result"
    }
   ],
   "source": [
    "existing_distance_raw\n",
    "candidate_addresses_raw[91,:]"
   ]
  },
  {
   "cell_type": "code",
   "execution_count": null,
   "metadata": {},
   "outputs": [],
   "source": [
    "demand_raw"
   ]
  },
  {
   "cell_type": "code",
   "execution_count": 132,
   "metadata": {},
   "outputs": [
    {
     "data": {
      "text/plain": [
       "107×4 Matrix{Any}:\n",
       " \"90 Willson St, Salem, MA 01970, USA\"                           …  42.5074  -70.9075\n",
       " \"29 Horton St, Salem, MA 01970, USA\"                               42.5077  -70.9046\n",
       " \"2 Laurent Rd, Salem, MA 01970, USA\"                               42.5076  -70.9025\n",
       " \"13 Brooks St, Salem, MA 01970, USA\"                               42.5076  -70.8996\n",
       " \"3 Broadway, Salem, MA 01970, USA\"                                 42.5075  -70.897\n",
       " \"79 Ocean Ave, Salem, MA 01970, USA\"                            …  42.5078  -70.8943\n",
       " \"292 Lafayette St, Salem, MA 01970, USA\"                           42.5078  -70.8917\n",
       " \"10 Cliff St, Salem, MA 01970, USA\"                                42.5079  -70.8891\n",
       " \"32 Shore Ave, Salem, MA 01970, USA\"                               42.508   -70.8867\n",
       " \"19 Greenway Rd, Salem, MA 01970, USA\"                             42.5096  -70.9077\n",
       " \"34 Horton St, Salem, MA 01970, USA\"                            …  42.5088  -70.9036\n",
       " \"192 Jefferson Ave, Salem, MA 01970, USA\"                          42.5094  -70.9016\n",
       " \"20 Colonial Rd, Salem, MA 01970, USA\"                             42.5099  -70.8996\n",
       " ⋮                                                               ⋱           \n",
       " \"13 Pleasant St, Salem, MA 01970, USA\"                          …  42.5274  -70.8897\n",
       " \"25 Memorial Dr, Salem, MA 01970, USA\"                             42.5279  -70.881\n",
       " \"6 Victory Rd, Salem, MA 01970, USA\"                               42.5278  -70.879\n",
       " \"23 Northend Ave, Salem, MA 01970, USA\"                            42.529   -70.9081\n",
       " \"1 Bryant St, Salem, MA 01970, USA\"                                42.5291  -70.9056\n",
       " \"35 Upham St, Salem, MA 01970, USA\"                             …  42.5293  -70.9028\n",
       " \"5 Southwick St, Salem, MA 01970, USA\"                             42.5291  -70.9001\n",
       " \"24 Saunders St, Salem, MA 01970, USA\"                             42.5295  -70.8921\n",
       " \"89 Bridge St, Salem, MA 01970, USA\"                               42.5295  -70.8895\n",
       " \"Collins Cove Playground, 32 Collins St, Salem, MA 01970, USA\"     42.5296  -70.8869\n",
       " \"13 Settlers Way, Salem, MA 01970, USA\"                         …  42.5294  -70.8813\n",
       " \"40 Memorial Dr, Salem, MA 01970, USA\"                             42.5297  -70.8791"
      ]
     },
     "execution_count": 132,
     "metadata": {},
     "output_type": "execute_result"
    }
   ],
   "source": [
    "#remove stations inside gas company\n",
    "\n",
    "existing_distance2 = existing_distance1[1:end .!= 80,:] \n",
    "#existing_distance = existing_distance[1:end .!= 83,:]\n",
    "existing_distance = existing_distance2[1:end .!= 91,:]\n",
    "\n",
    "attraction_distance = attraction_distance[1:end .!= 80,:] \n",
    "attraction_distance = attraction_distance[1:end .!= 91,:] \n",
    "\n",
    "candidate_addresses_raw1 = candidate_addresses_raw[1:end .!= 80,:] \n",
    "candidate_addresses_raw2 = candidate_addresses_raw1[1:end .!= 91,:] "
   ]
  },
  {
   "cell_type": "code",
   "execution_count": 133,
   "metadata": {},
   "outputs": [
    {
     "data": {
      "text/plain": [
       "107×5 Matrix{Any}:\n",
       "   1.0  …  42.5074  -70.9075\n",
       "   2.0     42.5077  -70.9046\n",
       "   3.0     42.5076  -70.9025\n",
       "   4.0     42.5076  -70.8996\n",
       "   5.0     42.5075  -70.897\n",
       "   6.0  …  42.5078  -70.8943\n",
       "   7.0     42.5078  -70.8917\n",
       "   8.0     42.5079  -70.8891\n",
       "   9.0     42.508   -70.8867\n",
       "  10.0     42.5096  -70.9077\n",
       "  11.0  …  42.5088  -70.9036\n",
       "  12.0     42.5094  -70.9016\n",
       "  13.0     42.5099  -70.8996\n",
       "   ⋮    ⋱           \n",
       "  96.0  …  42.5274  -70.8897\n",
       "  97.0     42.5279  -70.881\n",
       "  98.0     42.5278  -70.879\n",
       "  99.0     42.529   -70.9081\n",
       " 100.0     42.5291  -70.9056\n",
       " 101.0  …  42.5293  -70.9028\n",
       " 102.0     42.5291  -70.9001\n",
       " 103.0     42.5295  -70.8921\n",
       " 104.0     42.5295  -70.8895\n",
       " 105.0     42.5296  -70.8869\n",
       " 106.0  …  42.5294  -70.8813\n",
       " 107.0     42.5297  -70.8791"
      ]
     },
     "execution_count": 133,
     "metadata": {},
     "output_type": "execute_result"
    }
   ],
   "source": [
    "row_num =  zeros(size(candidate_addresses_raw2,1), 1)\n",
    "for i=1:size(candidate_addresses_raw2,1)\n",
    "    row_num[i] = i\n",
    "end\n",
    "row_num\n",
    "candidate_addresses = [row_num candidate_addresses_raw2]\n",
    "candidate_addresses"
   ]
  },
  {
   "cell_type": "code",
   "execution_count": null,
   "metadata": {},
   "outputs": [],
   "source": [
    "demand"
   ]
  },
  {
   "cell_type": "code",
   "execution_count": null,
   "metadata": {},
   "outputs": [],
   "source": [
    "existing_distance"
   ]
  },
  {
   "cell_type": "code",
   "execution_count": null,
   "metadata": {},
   "outputs": [],
   "source": [
    "attraction_distance"
   ]
  },
  {
   "cell_type": "code",
   "execution_count": null,
   "metadata": {},
   "outputs": [],
   "source": [
    "attraction_values"
   ]
  },
  {
   "cell_type": "code",
   "execution_count": 134,
   "metadata": {},
   "outputs": [
    {
     "data": {
      "text/plain": [
       "0.2006853446636252"
      ]
     },
     "execution_count": 134,
     "metadata": {},
     "output_type": "execute_result"
    }
   ],
   "source": [
    "# parameters\n",
    "\n",
    "N_CANDIDATE_STATIONS = size(existing_distance)[1]\n",
    "N_NEW_STATIONS = config[\"N_NEW_STATIONS\"]\n",
    "#DISTANCE_THRESHOLD = config[\"DISTANCE_THRESHOLD\"]\n",
    "N_CURRENT_STATIONS = size(demand)[1]\n",
    "N_ATTRACTIONS = size(attraction_distance)[2]\n",
    "\n",
    "DISTANCE_THRESHOLD = 0.2006853446636252 #need to normalize the 800 meteres value to fit our data"
   ]
  },
  {
   "cell_type": "code",
   "execution_count": null,
   "metadata": {},
   "outputs": [],
   "source": [
    "###FIRST VERSION OF MODEL\n",
    "\n",
    "model = Model(Gurobi.Optimizer)\n",
    "set_optimizer_attribute(model, \"OutputFlag\", 0) \n",
    "\n",
    "M = 1_000_000\n",
    "\n",
    "# @variable(model, x[i=1:50, j=1:15] >= 0) # amount of waste transported\n",
    "@variable(model, z[i=1:N_CANDIDATE_STATIONS], Bin) # z: binary variable to indicate whether or not station is selected\n",
    "\n",
    "# @constraint(model, [i=1:50], sum(x[i, j] for j in 1:15) == q[i])\n",
    "# @constraint(model, [i=1:50, j=1:15], x[i, j] <= M * z[j])\n",
    "\n",
    "# add constraint that two candidate stations cannot be too close to each other or existing stations\n",
    "\n",
    "@constraint(model, sum(z[i] for i in 1:N_CANDIDATE_STATIONS) == N_NEW_STATIONS)\n",
    "@constraint(model, [i=1:N_CANDIDATE_STATIONS, j=1:N_CURRENT_STATIONS], distance[i, j] >=  1000 * z[i])\n",
    "\n",
    "@objective(model, Max, sum(-distance[i, j] * demand[j] * z[i] for i=1:N_CANDIDATE_STATIONS, j=1:N_CURRENT_STATIONS))\n",
    "\n",
    "optimize!(model)\n",
    "\n",
    "optimal_cost = objective_value(model)\n",
    "stations_chosen = value.(z)\n",
    "\n",
    "\n",
    "println(\"Optimal stations: $stations_chosen\")\n",
    "\n",
    "\n",
    "# printing optimal cost\n",
    "pretty_optimal_cost = round(optimal_cost)\n",
    "println(\"Total Cost: $pretty_optimal_cost\")"
   ]
  },
  {
   "cell_type": "code",
   "execution_count": null,
   "metadata": {},
   "outputs": [],
   "source": [
    "candidate_station_addresses[findall(x -> x==1, stations_chosen)]"
   ]
  },
  {
   "cell_type": "code",
   "execution_count": null,
   "metadata": {},
   "outputs": [],
   "source": [
    "findall(stations_chosen)"
   ]
  },
  {
   "cell_type": "code",
   "execution_count": null,
   "metadata": {},
   "outputs": [],
   "source": [
    "###SECOND VERSION OF MODEL\n",
    "\n",
    "model = Model(Gurobi.Optimizer)\n",
    "set_optimizer_attribute(model, \"OutputFlag\", 0) \n",
    "\n",
    "M = 1_000_000\n",
    "\n",
    "# i - candidate stations\n",
    "# j - current stations\n",
    "# k - attractions\n",
    "\n",
    "@variable(model, z[i=1:N_CANDIDATE_STATIONS], Bin) # z: binary variable to indicate whether or not station is selected\n",
    "\n",
    "# add constraint that two candidate stations cannot be too close to each other or existing stations\n",
    "\n",
    "@constraint(model, sum(z[i] for i in 1:N_CANDIDATE_STATIONS) == N_NEW_STATIONS) #can add up to N new stations\n",
    "@constraint(model, [i=1:N_CANDIDATE_STATIONS, j=1:N_CURRENT_STATIONS], existing_distance[i, j] >= 0.1 * z[i]) #distance between existing and candidate stations must be at least 400 meters CHECK VALUE\n",
    "\n",
    "@objective(model, Max, \n",
    "    sum(-existing_distance[i, j] * z[i] * demand[j] for i=1:N_CANDIDATE_STATIONS, j=1:N_CURRENT_STATIONS) +\n",
    "    sum(-attraction_distance[i, k] * z[i] * attraction_values[k] * 0 for i=1:N_CANDIDATE_STATIONS, k=1:N_ATTRACTIONS))\n",
    "\n",
    "optimize!(model)\n",
    "\n",
    "optimal_cost = objective_value(model)\n",
    "stations_chosen = value.(z)\n",
    "\n",
    "println(\"Optimal stations: $stations_chosen\")\n",
    "\n",
    "\n",
    "# printing optimal cost\n",
    "pretty_optimal_cost = round(optimal_cost)\n",
    "println(\"Total Cost: $pretty_optimal_cost\")"
   ]
  },
  {
   "cell_type": "code",
   "execution_count": null,
   "metadata": {},
   "outputs": [],
   "source": [
    "candidate_addresses[findall(x -> x==1, stations_chosen)]"
   ]
  },
  {
   "cell_type": "code",
   "execution_count": null,
   "metadata": {},
   "outputs": [],
   "source": [
    "###THIRD VERSION OF MODEL\n",
    "\n",
    "model = Model(Gurobi.Optimizer)\n",
    "set_optimizer_attribute(model, \"OutputFlag\", 0) \n",
    "\n",
    "M = 1_000_000\n",
    "\n",
    "# i - candidate stations\n",
    "# j - current stations\n",
    "# k - attractions\n",
    "\n",
    "#logistic curve\n",
    "L = 1\n",
    "w = -100\n",
    "q = 0.3\n",
    "alpha = 0#0.0000004*6\n",
    "beta = 0#6\n",
    "gamma = 0#0.0000012\n",
    "kappa = 1#1\n",
    "\n",
    "@variable(model, z[i=1:N_CANDIDATE_STATIONS], Bin) # z: binary variable to indicate whether or not station is selected\n",
    "\n",
    "# add constraint that two candidate stations cannot be too close to each other or existing stations\n",
    "\n",
    "@constraint(model, sum(z[i] for i in 1:N_CANDIDATE_STATIONS) == N_NEW_STATIONS) #can add up to N new stations\n",
    "@constraint(model, [i=1:N_CANDIDATE_STATIONS, j=1:N_CURRENT_STATIONS], existing_distance[i, j] >= 0.1 * z[i]) #distance between existing and candidate stations must be at least 400 meters CHECK VALUE\n",
    "\n",
    "@objective(model, Max, \n",
    "    alpha * sum(-existing_distance[i, j] * z[i] for i=1:N_CANDIDATE_STATIONS, j=1:N_CURRENT_STATIONS) +\n",
    "    beta * sum(demand[j] * z[i] * (L/(1+exp(-w*(existing_distance[i,j]-q)))) for i=1:N_CANDIDATE_STATIONS, j=1:N_CURRENT_STATIONS) + #enforce that demand for stations further away from candidate stations count less\n",
    "    gamma * sum(-attraction_distance[i, k] * z[i] for i=1:N_CANDIDATE_STATIONS, k=1:N_ATTRACTIONS) + \n",
    "    kappa * sum(attraction_values[k] * z[i] * (L/(1+exp(-w*(attraction_distance[i,k]-q)))) for i=1:N_CANDIDATE_STATIONS, k=1:N_ATTRACTIONS))\n",
    "\n",
    "optimize!(model)\n",
    "\n",
    "optimal_cost = objective_value(model)\n",
    "stations_chosen = value.(z)\n",
    "\n",
    "println(\"Optimal stations: $stations_chosen\")\n",
    "\n",
    "\n",
    "# printing optimal cost\n",
    "pretty_optimal_cost = round(optimal_cost)\n",
    "println(\"Total Cost: $pretty_optimal_cost\")"
   ]
  },
  {
   "cell_type": "code",
   "execution_count": null,
   "metadata": {},
   "outputs": [],
   "source": [
    "candidate_addresses[findall(x -> x==1, stations_chosen)]"
   ]
  },
  {
   "cell_type": "markdown",
   "metadata": {},
   "source": [
    "**OPTIMIZATION FORMULATION:**\n",
    "\n",
    "Sets:\n",
    "- candidate stations $i\\in \\mathcal{I}=\\{1,\\ldots,n\\}$\n",
    "- existing stations $j\\in \\mathcal{J}=\\{1,\\ldots,m\\}$\n",
    "- attractions $k\\in \\mathcal{K}=\\{1,\\ldots,q\\}$\n",
    "\n",
    "Decision variable: $z_{i} $ = 1 if candidate station i is built, 0 otherwise\n",
    "\n",
    "Parameters:\n",
    "- $e_{ij} $ = distance between candidate station i and existing station j\n",
    "- $a_{ik} $ = distance between candidate station i and attraction k\n",
    "- $d_{j} $ = demand at existing station j\n",
    "- $v_{k} $ = number of google reviews for attraction k\n",
    "- all parameters are normalized to be between 0 and 1 \n",
    "    - add epsilon in the denominator to account for distance = 0\n",
    "\n",
    "Hyperparameters:\n",
    "- Weights for each term:\n",
    "    - alpha = weight on distance between candidate station i and existing station j\n",
    "    - beta = weight on demand at existing station j\n",
    "    - gamma = weight on distance between candidate station i and attraction k\n",
    "    - kappa = weight on number of google reviews for attraction k\n",
    "- Logistic Function:\n",
    "    - We apply a logistic function to both the demand and google reviews terms\n",
    "    - This gives more weight to demand/reviews for stations/attractions that are closer to the candidates\n",
    "    - and less weight to the demand/reviews for stations/attractions that are further from the candidates\n",
    "    - $\\frac{L}{1+e^{-w(distance-q)}} $\n",
    "    - L = the curve's maximum value\n",
    "    - w = steepness of the curve\n",
    "    - q = the distance value of the sigmoid midpoint\n",
    "\n",
    "$$ \n",
    "\\max \\quad \n",
    "\\alpha(\\sum_{i=1}^{n} \\sum_{j=1}^{m} \\frac{1}{e_{ij}+\\epsilon} * z_i) +\n",
    "\\beta(\\sum_{i=1}^{n} \\sum_{j=1}^{m} d_{j}z_i*\\frac{L}{1+e^{-w(e_{ij}-q)}}) +\n",
    "\\gamma(\\sum_{i=1}^{n} \\sum_{k=1}^{q} \\frac{1}{a_{ik}+\\epsilon} * z_i) +\n",
    "\\kappa(\\sum_{i=1}^{n} \\sum_{k=1}^{q} v_{k}z_i*\\frac{L}{1+e^{-w(a_{ik}-q)}})\n",
    "\\\\\n",
    "\n",
    "\\text{s.t.} \\quad \\sum_{i = 1}^{n} z_i <= 5\\\\\n",
    "\n",
    "e_{ij} >= 0.1z_i \\quad \\forall i,j\\\\\n",
    "\n",
    "z_i\\in\\{0,1\\}\n",
    "\n",
    "$$\n",
    "\n"
   ]
  },
  {
   "cell_type": "markdown",
   "metadata": {},
   "source": [
    "\\begin{equation*}\n",
    "\\begin{split}\n",
    "\\max_z & \\quad \\alpha(\\sum_{i=1}^{n} \\sum_{j=1}^{m} \\frac{1}{e_{ij}+\\epsilon}\\ z_i)+ \\beta(\\sum_{i=1}^{n} \\sum_{j=1}^{m} d_jz_i\\frac{L}{1+e^{-w(e_{ij}-q)}}) + \\gamma(\\sum_{i=1}^{n} \\sum_{k=1}^{q} \\frac{1}{a_{ik}+\\epsilon}z_i) + \\kappa(\\sum_{i=1}^{n} \\sum_{k=1}^{q}v_kz_i \\frac{L}{1+e^{-w(a_{ik}-q)}}) \\\\\n",
    "\\end{split}\n",
    "\\end{equation*}"
   ]
  },
  {
   "cell_type": "markdown",
   "metadata": {},
   "source": [
    "\\begin{equation*}\n",
    "\\begin{split}\n",
    "\\text{s.t.} & \\quad \\sum_{i=1}^{n}z_i \\leq 5 \\quad (1)\n",
    "\\end{split}\n",
    "\\end{equation*}"
   ]
  },
  {
   "cell_type": "markdown",
   "metadata": {},
   "source": [
    "\\begin{equation*}\n",
    "\\begin{split}\n",
    "\\quad e_{ij} \\geq 0.1z_i \\quad \\forall i,j \\quad (2)\n",
    "\\end{split}\n",
    "\\end{equation*}"
   ]
  },
  {
   "cell_type": "markdown",
   "metadata": {},
   "source": [
    "\\begin{equation*}\n",
    "\\begin{split}\n",
    "\\quad z_i\\in\\{0,1\\} \\quad (3)\n",
    "\\end{split}\n",
    "\\end{equation*}"
   ]
  },
  {
   "cell_type": "code",
   "execution_count": 141,
   "metadata": {},
   "outputs": [
    {
     "name": "stdout",
     "output_type": "stream",
     "text": [
      "Set parameter Username\n",
      "Academic license - for non-commercial use only - expires 2023-08-19\n",
      "Optimal stations: [0.0, 0.0, 0.0, 0.0, 0.0, 0.0, 0.0, 0.0, 0.0, 0.0, 0.0, 0.0, 0.0, 0.0, 0.0, 0.0, 0.0, 0.0, 0.0, 0.0, 0.0, 0.0, 0.0, 0.0, 0.0, 0.0, 0.0, 0.0, 0.0, 0.0, 0.0, 0.0, 0.0, 0.0, 0.0, 0.0, 0.0, 0.0, 0.0, 0.0, 0.0, 0.0, 0.0, 0.0, 0.0, 0.0, 0.0, 1.0, 0.0, 0.0, 0.0, 0.0, 0.0, 1.0, 0.0, 0.0, 0.0, 0.0, 0.0, 0.0, 0.0, 0.0, 0.0, 0.0, 0.0, 0.0, 0.0, 0.0, 0.0, 0.0, 0.0, 0.0, 0.0, 0.0, 0.0, 0.0, 0.0, 0.0, 0.0, 0.0, 0.0, 0.0, 0.0, 0.0, 0.0, 1.0, 0.0, 0.0, 0.0, 0.0, 0.0, 0.0, 0.0, 0.0, 0.0, 1.0, 0.0, 0.0, 0.0, 0.0, 0.0, 0.0, 0.0, 1.0, 0.0, 0.0, 0.0]\n",
      "Total Cost: 422.0\n"
     ]
    }
   ],
   "source": [
    "###FOURTH VERSION OF MODEL\n",
    "\n",
    "using Random\n",
    "\n",
    "Random.seed!(15093)\n",
    "model = Model(Gurobi.Optimizer)\n",
    "set_optimizer_attribute(model, \"OutputFlag\", 0) \n",
    "\n",
    "M = 1_000_000\n",
    "\n",
    "# i - candidate stations\n",
    "# j - current stations\n",
    "# k - attractions\n",
    "\n",
    "#logistic curve\n",
    "L = 1\n",
    "w = -100\n",
    "q = 0.3\n",
    "alpha = 0.468#0.5\n",
    "beta = 7.8#8\n",
    "gamma = 0.000003\n",
    "kappa = 2.5\n",
    "\n",
    "# z: binary variable to indicate whether or not station is selected\n",
    "@variable(model, z[i=1:N_CANDIDATE_STATIONS], Bin) \n",
    "\n",
    "#can add up to 5 new stations\n",
    "@constraint(model, sum(z[i] for i in 1:N_CANDIDATE_STATIONS) <= N_NEW_STATIONS) #can add up to N new stations\n",
    "\n",
    "# add constraint that two candidate stations cannot be too close to existing stations (400 meters)\n",
    "@constraint(model, [i=1:N_CANDIDATE_STATIONS, j=1:N_CURRENT_STATIONS], existing_distance[i, j] >= 0.1 * z[i]) \n",
    "\n",
    "@objective(model, Max, \n",
    "    alpha * sum((1/(existing_distance[i, j]+0.0000001)) * z[i] for i=1:N_CANDIDATE_STATIONS, j=1:N_CURRENT_STATIONS) +\n",
    "    beta * sum(demand[j] * z[i] * (L/(1+exp(-w*(existing_distance[i,j]-q)))) for i=1:N_CANDIDATE_STATIONS, j=1:N_CURRENT_STATIONS) + \n",
    "    gamma * sum((1/(attraction_distance[i, k]+0.0000001)) * z[i] for i=1:N_CANDIDATE_STATIONS, k=1:N_ATTRACTIONS) + \n",
    "    kappa * sum(attraction_values[k] * z[i] * (L/(1+exp(-w*(attraction_distance[i,k]-q)))) for i=1:N_CANDIDATE_STATIONS, k=1:N_ATTRACTIONS))\n",
    "\n",
    "optimize!(model)\n",
    "\n",
    "optimal_cost = objective_value(model)\n",
    "stations_chosen = value.(z)\n",
    "\n",
    "println(\"Optimal stations: $stations_chosen\")\n",
    "\n",
    "\n",
    "# printing optimal cost\n",
    "pretty_optimal_cost = round(optimal_cost)\n",
    "println(\"Total Cost: $pretty_optimal_cost\")"
   ]
  },
  {
   "cell_type": "code",
   "execution_count": 142,
   "metadata": {},
   "outputs": [
    {
     "data": {
      "text/plain": [
       "5-element Vector{Any}:\n",
       "  48.0\n",
       "  54.0\n",
       "  86.0\n",
       "  96.0\n",
       " 104.0"
      ]
     },
     "execution_count": 142,
     "metadata": {},
     "output_type": "execute_result"
    }
   ],
   "source": [
    "candidate_addresses[findall(x -> x==1, stations_chosen)]"
   ]
  },
  {
   "cell_type": "code",
   "execution_count": 143,
   "metadata": {},
   "outputs": [
    {
     "data": {
      "text/plain": [
       "5-element Vector{Any}:\n",
       " \"20 Harbor St, Salem, MA 01970, USA\"\n",
       " \"15 Chestnut St, Salem, MA 01970, USA\"\n",
       " \"33 Williams St, Salem, MA 01970, USA\"\n",
       " \"Furlong Park, Franklin St, Salem, MA 01970, USA\"\n",
       " \"5 Southwick St, Salem, MA 01970, USA\""
      ]
     },
     "execution_count": 143,
     "metadata": {},
     "output_type": "execute_result"
    }
   ],
   "source": [
    "candidate_addresses_raw[findall(x -> x==1, stations_chosen)]"
   ]
  },
  {
   "cell_type": "code",
   "execution_count": null,
   "metadata": {},
   "outputs": [],
   "source": [
    "candidate_addresses[104,:]"
   ]
  },
  {
   "cell_type": "markdown",
   "metadata": {},
   "source": [
    "**OPTIMIZATION FORMULATION:**\n",
    "\n",
    "Same as above except we add robustness to account for uncertainty on demand and Google reviews.\n",
    "\n",
    "We use the box uncertainty set for both terms.\n",
    "\n",
    "Additional Parameters:\n",
    "- $t $ = demand term\n",
    "- $s $ = Google reviews term\n",
    "- $g_i $ = used to linearize the L1 norm in the regularization term for demand uncertainty\n",
    "- $h_i $ = used to linearize the L1 norm in the regularization term for Google reviews uncertainty\n",
    "\n",
    "Additional Hyperparameters:\n",
    "- $\\rho $ = choice of uncertainty set\n",
    "    - we use the same value of $\\rho $ for each term\n",
    "    - both demand and Google reviews were normalized to be between 0 and 1\n",
    "    \n",
    "Constraint 3: Robust counterpart for demand using box uncertainty set\n",
    "\n",
    "Constraints 4 and 5: Linearize term inside L1 norm for Gurobi\n",
    "\n",
    "Constraint 6: Robust counterpart for Google reviews using box uncertainty set\n",
    "\n",
    "Constraints 7 and 8: Linearize term inside L1 norm for Gurobi"
   ]
  },
  {
   "cell_type": "markdown",
   "metadata": {},
   "source": [
    "# ROBUST"
   ]
  },
  {
   "cell_type": "markdown",
   "metadata": {},
   "source": [
    "\\begin{equation*}\n",
    "\\begin{split}\n",
    "\\max_z & \\quad \\alpha(\\sum_{i=1}^{n} \\sum_{j=1}^{m} \\frac{1}{e_{ij}+\\epsilon}\\ z_i)+ \\beta(t) + \\gamma(\\sum_{i=1}^{n} \\sum_{k=1}^{q} \\frac{1}{a_{ik}+\\epsilon}z_i) + \\kappa(s) \\\\\n",
    "\\end{split}\n",
    "\\end{equation*}"
   ]
  },
  {
   "cell_type": "markdown",
   "metadata": {},
   "source": [
    "\\begin{equation*}\n",
    "\\begin{split}\n",
    "\\text{s.t.} & \\quad \\sum_{i=1}^{n}z_i \\leq 5 \\quad (1)\n",
    "\\end{split}\n",
    "\\end{equation*}"
   ]
  },
  {
   "cell_type": "markdown",
   "metadata": {},
   "source": [
    "\\begin{equation*}\n",
    "\\begin{split}\n",
    "\\quad e_{ij} \\geq 0.1z_i \\quad \\forall i,j \\quad (2)\n",
    "\\end{split}\n",
    "\\end{equation*}"
   ]
  },
  {
   "cell_type": "markdown",
   "metadata": {},
   "source": [
    "\\begin{equation*}\n",
    "\\begin{split}\n",
    "\\quad-t \\geq (\\sum_{i=1}^{n} \\sum_{j=1}^{m} -d_jz_i\\frac{L}{1+e^{-w(e_{ij}-q)}}) + \\rho \\sum_{i=1}^{n} g_i \\quad (3)\n",
    "\\end{split}\n",
    "\\end{equation*}"
   ]
  },
  {
   "cell_type": "markdown",
   "metadata": {},
   "source": [
    "\\begin{equation*}\n",
    "\\begin{split}\n",
    "\\quad g_i \\geq z_i \\frac{L}{1+e^{-w(e_{ij}-q)}} \\quad (4)\n",
    "\\end{split}\n",
    "\\end{equation*}"
   ]
  },
  {
   "cell_type": "markdown",
   "metadata": {},
   "source": [
    "\\begin{equation*}\n",
    "\\begin{split}\n",
    "\\quad g_i \\geq -z_i \\frac{L}{1+e^{-w(e_{ij}-q)}} \\quad (5)\n",
    "\\end{split}\n",
    "\\end{equation*}"
   ]
  },
  {
   "cell_type": "markdown",
   "metadata": {},
   "source": [
    "\\begin{equation*}\n",
    "\\begin{split}\n",
    "\\quad -s \\geq (\\sum_{i=1}^{n} \\sum_{k=1}^{q} -v_kz_i\\frac{L}{1+e^{-w(a_{ik}-q)}}) + \\rho \\sum_{i=1}^{n} h_i \\quad (6)\n",
    "\\end{split}\n",
    "\\end{equation*}"
   ]
  },
  {
   "cell_type": "markdown",
   "metadata": {},
   "source": [
    "\\begin{equation*}\n",
    "\\begin{split}\n",
    "\\quad h_i \\geq z_i \\frac{L}{1+e^{-w(a_{ik}-q)}} \\quad (7)\n",
    "\\end{split}\n",
    "\\end{equation*}"
   ]
  },
  {
   "cell_type": "markdown",
   "metadata": {},
   "source": [
    "\\begin{equation*}\n",
    "\\begin{split}\n",
    "\\quad h_i \\geq -z_i \\frac{L}{1+e^{-w(a_{ik}-q)}} \\quad (8)\n",
    "\\end{split}\n",
    "\\end{equation*}"
   ]
  },
  {
   "cell_type": "markdown",
   "metadata": {},
   "source": [
    "\\begin{equation*}\n",
    "\\begin{split}\n",
    "\\quad z_i\\in\\{0,1\\} \\quad (9)\n",
    "\\end{split}\n",
    "\\end{equation*}"
   ]
  },
  {
   "cell_type": "code",
   "execution_count": 129,
   "metadata": {},
   "outputs": [
    {
     "name": "stdout",
     "output_type": "stream",
     "text": [
      "Set parameter Username\n",
      "Academic license - for non-commercial use only - expires 2023-08-19\n",
      "Optimal stations: [-0.0, -0.0, -0.0, -0.0, 0.0, 0.0, 0.0, 0.0, 0.0, -0.0, -0.0, -0.0, -0.0, -0.0, 0.0, 0.0, -0.0, -0.0, -0.0, -0.0, -0.0, 0.0, 0.0, 0.0, 0.0, 0.0, 0.0, -0.0, -0.0, -0.0, 0.0, -0.0, -0.0, 0.0, -0.0, -0.0, 0.0, -0.0, -0.0, 0.0, -0.0, 0.0, 0.0, 0.0, 0.0, 0.0, -0.0, 1.0, 0.0, 0.0, 0.0, 0.0, -0.0, 1.0, 0.0, 0.0, 0.0, 0.0, 0.0, 0.0, 0.0, -0.0, 0.0, 0.0, 0.0, 0.0, 0.0, 0.0, 0.0, -0.0, -0.0, 0.0, 0.0, 0.0, 0.0, 0.0, 0.0, 0.0, 0.0, 1.0, -0.0, -0.0, -0.0, 0.0, 0.0, 0.0, 1.0, -0.0, 0.0, -0.0, -0.0, -0.0, -0.0, -0.0, -0.0, -0.0, -0.0, -0.0, -0.0, 0.0, -0.0, -0.0, -0.0, -0.0, -0.0, 1.0, -0.0, 0.0, 0.0]\n",
      "Total Cost: 397.0\n"
     ]
    }
   ],
   "source": [
    "###ROBUST VERSION OF MODEL\n",
    "\n",
    "model = Model(Gurobi.Optimizer)\n",
    "set_optimizer_attribute(model, \"OutputFlag\", 0) \n",
    "\n",
    "M = 1_000_000\n",
    "\n",
    "# i - candidate stations\n",
    "# j - current stations\n",
    "# k - attractions\n",
    "\n",
    "#logistic curve\n",
    "L = 1\n",
    "w = -100\n",
    "q = 0.3\n",
    "alpha = 0.468\n",
    "beta = 7.8\n",
    "gamma = 0.000003\n",
    "kappa = 2.5\n",
    "\n",
    "#robust\n",
    "rho1 = 3\n",
    "rho2 = 3\n",
    "\n",
    "# z: binary variable to indicate whether or not station is selected\n",
    "@variable(model, z[i=1:N_CANDIDATE_STATIONS], Bin) \n",
    "@variable(model, t)\n",
    "@variable(model, g[i=1:N_CANDIDATE_STATIONS])\n",
    "@variable(model, s)\n",
    "@variable(model, h[i=1:N_CANDIDATE_STATIONS])\n",
    "\n",
    "#can add up to 5 new stations\n",
    "@constraint(model, sum(z[i] for i in 1:N_CANDIDATE_STATIONS) <= N_NEW_STATIONS) \n",
    "\n",
    "# add constraint that two candidate stations cannot be too close to existing stations (400 meters)\n",
    "@constraint(model, [i=1:N_CANDIDATE_STATIONS, j=1:N_CURRENT_STATIONS], existing_distance[i, j] >= 0.1 * z[i]) \n",
    "\n",
    "##robust constraints\n",
    "\n",
    "#demand\n",
    "@constraint(model, [i=1:N_CANDIDATE_STATIONS, j=1:N_CURRENT_STATIONS], sum(-demand[j] * z[i] * (L/(1+exp(-w*(existing_distance[i,j]-q)))) \n",
    "        for i=1:N_CANDIDATE_STATIONS, j=1:N_CURRENT_STATIONS)+ (rho1 * sum(g[i])) <= -t) \n",
    "@constraint(model, [i=1:N_CANDIDATE_STATIONS, j=1:N_CURRENT_STATIONS], g[i] >= z[i]*(L/(1+exp(-w*(existing_distance[i,j]-q)))))\n",
    "@constraint(model, [i=1:N_CANDIDATE_STATIONS, j=1:N_CURRENT_STATIONS], g[i] >= -z[i]*(L/(1+exp(-w*(existing_distance[i,j]-q)))))\n",
    "\n",
    "#attraction value\n",
    "@constraint(model, [i=1:N_CANDIDATE_STATIONS, k=1:N_ATTRACTIONS], sum(-attraction_values[k] * z[i] * (L/(1+exp(-w*(attraction_distance[i,k]-q)))) \n",
    "        for i=1:N_CANDIDATE_STATIONS, k=1:N_ATTRACTIONS)+ (rho2 * sum(h[i])) <= -s) \n",
    "@constraint(model, [i=1:N_CANDIDATE_STATIONS, k=1:N_ATTRACTIONS], h[i] >= z[i]*(L/(1+exp(-w*(attraction_distance[i,k]-q)))))\n",
    "@constraint(model, [i=1:N_CANDIDATE_STATIONS, k=1:N_ATTRACTIONS], h[i] >= -z[i]*(L/(1+exp(-w*(attraction_distance[i,k]-q)))))\n",
    "\n",
    "@objective(model, Max, \n",
    "    alpha * sum((1/(existing_distance[i, j]+0.0000001)) * z[i] for i=1:N_CANDIDATE_STATIONS, j=1:N_CURRENT_STATIONS) +\n",
    "    beta*(t) +\n",
    "    gamma * sum((1/(attraction_distance[i, k]+0.0000001)) * z[i] for i=1:N_CANDIDATE_STATIONS, k=1:N_ATTRACTIONS) + \n",
    "    kappa*(s))\n",
    "\n",
    "optimize!(model)\n",
    "\n",
    "optimal_cost = objective_value(model)\n",
    "stations_chosen = value.(z)\n",
    "\n",
    "println(\"Optimal stations: $stations_chosen\")\n",
    "\n",
    "\n",
    "# printing optimal cost\n",
    "pretty_optimal_cost = round(optimal_cost)\n",
    "println(\"Total Cost: $pretty_optimal_cost\")"
   ]
  },
  {
   "cell_type": "code",
   "execution_count": 130,
   "metadata": {},
   "outputs": [
    {
     "data": {
      "text/plain": [
       "5-element Vector{Any}:\n",
       "  48.0\n",
       "  54.0\n",
       "  80.0\n",
       "  87.0\n",
       " 106.0"
      ]
     },
     "execution_count": 130,
     "metadata": {},
     "output_type": "execute_result"
    }
   ],
   "source": [
    "candidate_addresses[findall(x -> x==1, stations_chosen)]"
   ]
  },
  {
   "cell_type": "code",
   "execution_count": null,
   "metadata": {},
   "outputs": [],
   "source": [
    "48\n",
    "54\n",
    "80\n",
    "87\n",
    "106"
   ]
  }
 ],
 "metadata": {
  "kernelspec": {
   "display_name": "Julia 1.8.0",
   "language": "julia",
   "name": "julia-1.8"
  },
  "language_info": {
   "file_extension": ".jl",
   "mimetype": "application/julia",
   "name": "julia",
   "version": "1.8.0"
  },
  "vscode": {
   "interpreter": {
    "hash": "63d6f127d86314a340b3d99087fc86c7028b66270812fa264f7e46306cfcc6bd"
   }
  }
 },
 "nbformat": 4,
 "nbformat_minor": 2
}
