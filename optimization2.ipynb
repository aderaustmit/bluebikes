{
 "cells": [
  {
   "cell_type": "code",
   "execution_count": 3,
   "metadata": {},
   "outputs": [],
   "source": [
    "using DataFrames, CSV\n",
    "using JuMP, Gurobi\n",
    "using LinearAlgebra\n",
    "using JSON"
   ]
  },
  {
   "cell_type": "code",
   "execution_count": 4,
   "metadata": {},
   "outputs": [],
   "source": [
    "config = JSON.parsefile(\"config.json\")\n",
    "\n",
    "#existing_distance = Matrix(CSV.read(\"inputs/candidate_existing_distance.csv\", DataFrame, header = true))\n",
    "existing_distance_raw = Matrix(CSV.read(\"inputs/standardized_existing_distance.csv\", DataFrame, header = true))\n",
    "existing_distance = existing_distance_raw[:,2:14]\n",
    "#attraction_distance = Matrix(CSV.read(\"inputs/candidate_attraction_distance.csv\", DataFrame, header = true))\n",
    "attraction_distance_raw = Matrix(CSV.read(\"inputs/standardized_attractions_distance.csv\", DataFrame, header = true))\n",
    "attraction_distance = attraction_distance_raw[:,2:23]\n",
    "demand_raw = Matrix(CSV.read(\"inputs/standardized_salem_demand.csv\", DataFrame, header = true))\n",
    "demand = demand_raw[:, 17]\n",
    "attraction_values_raw = Matrix(CSV.read(\"inputs/standardized_attractions_weights.csv\", DataFrame, header = true))\n",
    "attraction_values = attraction_values_raw[:,6]\n",
    "candidate_addresses_raw = Matrix(CSV.read(\"inputs/candidate_address.csv\", DataFrame, header = true));\n"
   ]
  },
  {
   "cell_type": "code",
   "execution_count": 221,
   "metadata": {},
   "outputs": [
    {
     "data": {
      "text/plain": [
       "109×22 Matrix{Float64}:\n",
       " 0.694083  0.74502    0.941823   0.647519  …  0.639801  0.355531  0.625909\n",
       " 0.649063  0.699743   0.896545   0.612275     0.604557  0.491363  0.580632\n",
       " 0.553877  0.604557   0.801617   0.517089     0.509371  0.396178  0.485446\n",
       " 0.604042  0.654722   0.851525   0.567254     0.559537  0.446343  0.535612\n",
       " 0.499081  0.549761   0.746821   0.46255      0.454833  0.482359  0.430908\n",
       " 0.486733  0.537413   0.734472   0.483903  …  0.476185  0.503712  0.418302\n",
       " 0.438368  0.489048   0.685851   0.463579     0.434509  0.483388  0.369937\n",
       " 0.491878  0.542558   0.739618   0.517346     0.488019  0.537155  0.423447\n",
       " 0.525321  0.576001   0.772804   0.550533     0.521463  0.570342  0.456891\n",
       " 0.644175  0.694855   0.891657   0.597354     0.589636  0.305366  0.575744\n",
       " 0.572142  0.622822   0.819882   0.535354  …  0.527637  0.414443  0.503712\n",
       " 0.501396  0.552076   0.749136   0.464608     0.456891  0.343697  0.432966\n",
       " 0.518118  0.568798   0.765858   0.48133      0.473612  0.360419  0.449687\n",
       " ⋮                                         ⋱            ⋮         \n",
       " 0.116281  0.0576259  0.0648291  0.222014     0.139177  0.374568  0.16979\n",
       " 0.251341  0.215582   0.269607   0.37997      0.297133  0.493421  0.290445\n",
       " 0.311283  0.275781   0.329548   0.439912     0.357332  0.553363  0.387688\n",
       " 0.551819  0.587321   0.635171   0.485961  …  0.478243  0.342411  0.546417\n",
       " 0.490592  0.526093   0.573943   0.424733     0.417016  0.280926  0.485189\n",
       " 0.453289  0.488791   0.536898   0.387431     0.379713  0.243881  0.447887\n",
       " 0.450459  0.492135   0.539985   0.342411     0.351415  0.306137  0.510143\n",
       " 0.203749  0.145094   0.0679162  0.211209     0.135318  0.323888  0.257001\n",
       " 0.176479  0.117824   0.0        0.282212  …  0.199375  0.434766  0.229989\n",
       " 0.24774   0.188828   0.022896   0.353216     0.270636  0.50577   0.300992\n",
       " 0.275781  0.240022   0.294046   0.40441      0.321573  0.517861  0.314884\n",
       " 0.307938  0.272437   0.326203   0.436825     0.353987  0.550018  0.347041"
      ]
     },
     "execution_count": 221,
     "metadata": {},
     "output_type": "execute_result"
    }
   ],
   "source": [
    "#raw = Matrix(CSV.read(\"inputs/candidate_existing_distance.csv\", DataFrame, header = false))\n",
    "#raw_sorted = raw[:,sortperm(raw[1,:])] \n",
    "#raw_strings = raw_sorted[2:110,:]\n",
    "#existing_distance = parse.(Int64,string.(raw_strings))\n",
    "attraction_distance"
   ]
  },
  {
   "cell_type": "code",
   "execution_count": 213,
   "metadata": {},
   "outputs": [
    {
     "data": {
      "text/plain": [
       "109×14 Matrix{Float64}:\n",
       "   0.0  0.816019  1.0        0.703437  …  0.580837  0.423961  0.394695\n",
       "   1.0  0.769615  1.0        0.612212     0.587955  0.648333  0.630141\n",
       "   2.0  0.672062  0.937301   0.514659     0.490666  0.55078   0.532587\n",
       "   3.0  0.723475  0.988451   0.566072     0.541815  0.602193  0.584001\n",
       "   4.0  0.616167  0.881142   0.458763     0.432398  0.67839   0.724266\n",
       "   5.0  0.603247  0.868487   0.398122  …  0.454545  0.700537  0.746413\n",
       "   6.0  0.55368   0.818655   0.348291     0.433716  0.679708  0.725321\n",
       "   7.0  0.608521  0.87376    0.403395     0.488557  0.734549  0.780425\n",
       "   8.0  0.642796  0.907771   0.437671     0.522832  0.768824  0.814701\n",
       "   9.0  0.764606  1.0        0.652024     0.529424  0.372548  0.343282\n",
       "  10.0  0.690782  0.956021   0.533378  …  0.509386  0.401286  0.37202\n",
       "  11.0  0.618276  0.883515   0.460873     0.43688   0.496994  0.478801\n",
       "  12.0  0.635414  0.900653   0.47801      0.454018  0.514131  0.495939\n",
       "   ⋮                                   ⋱                      \n",
       "  97.0  0.22279   0.276313   0.264975     0.18166   0.533642  0.502003\n",
       "  98.0  0.150548  0.1168     0.380985     0.424488  0.655188  0.744831\n",
       "  99.0  0.21198   0.0864795  0.442417     0.48592   0.71662   0.806263\n",
       " 100.0  0.734549  0.964194   0.621967  …  0.325353  0.481174  0.185087\n",
       " 101.0  0.671798  0.901444   0.559217     0.262602  0.41816   0.258911\n",
       " 102.0  0.633832  0.863477   0.52125      0.224636  0.380194  0.270249\n",
       " 103.0  0.697373  0.866641   0.584791     0.320607  0.443999  0.472474\n",
       " 104.0  0.278949  0.361474   0.354355     0.148439  0.466409  0.468782\n",
       " 105.0  0.234391  0.333526   0.326671  …  0.221472  0.539706  0.541815\n",
       " 106.0  0.242828  0.325353   0.399441     0.321662  0.668107  0.642005\n",
       " 107.0  0.175596  0.0722421  0.406032     0.449535  0.680235  0.769879\n",
       " 108.0  0.208553  0.0        0.439253     0.482756  0.713456  0.8031"
      ]
     },
     "execution_count": 213,
     "metadata": {},
     "output_type": "execute_result"
    }
   ],
   "source": [
    "#raw = Matrix(CSV.read(\"inputs/standardized_existing_distance.csv\", DataFrame, header = true))"
   ]
  },
  {
   "cell_type": "code",
   "execution_count": 222,
   "metadata": {},
   "outputs": [
    {
     "data": {
      "text/plain": [
       "13×18 Matrix{Any}:\n",
       "  0  516  \"T32001\"  …  \"Existing Stations\"\n",
       "  1  517  \"T32002\"     \"Existing Stations\"\n",
       "  2  518  \"T32003\"     \"Existing Stations\"\n",
       "  3  519  \"T32004\"     \"Existing Stations\"\n",
       "  4  520  \"T32005\"     \"Existing Stations\"\n",
       "  5  521  \"T32006\"  …  \"Existing Stations\"\n",
       "  6  562  \"T32008\"     \"Existing Stations\"\n",
       "  7  570  \"T32009\"     \"Existing Stations\"\n",
       "  8  571  \"T32010\"     \"Existing Stations\"\n",
       "  9  572  \"T32011\"     \"Existing Stations\"\n",
       " 10  573  \"T32012\"  …  \"Existing Stations\"\n",
       " 11  574  \"T32013\"     \"Existing Stations\"\n",
       " 12  575  \"T32014\"     \"Existing Stations\""
      ]
     },
     "execution_count": 222,
     "metadata": {},
     "output_type": "execute_result"
    }
   ],
   "source": [
    "demand_raw"
   ]
  },
  {
   "cell_type": "code",
   "execution_count": 5,
   "metadata": {},
   "outputs": [
    {
     "data": {
      "text/plain": [
       "109×5 Matrix{Any}:\n",
       "   1.0  …  42.5074  -70.9075\n",
       "   2.0     42.5077  -70.9046\n",
       "   3.0     42.5076  -70.9025\n",
       "   4.0     42.5076  -70.8996\n",
       "   5.0     42.5075  -70.897\n",
       "   6.0  …  42.5078  -70.8943\n",
       "   7.0     42.5078  -70.8917\n",
       "   8.0     42.5079  -70.8891\n",
       "   9.0     42.508   -70.8867\n",
       "  10.0     42.5096  -70.9077\n",
       "  11.0  …  42.5088  -70.9036\n",
       "  12.0     42.5094  -70.9016\n",
       "  13.0     42.5099  -70.8996\n",
       "   ⋮    ⋱           \n",
       "  98.0     42.5274  -70.8897\n",
       "  99.0     42.5279  -70.881\n",
       " 100.0     42.5278  -70.879\n",
       " 101.0  …  42.529   -70.9081\n",
       " 102.0     42.5291  -70.9056\n",
       " 103.0     42.5293  -70.9028\n",
       " 104.0     42.5291  -70.9001\n",
       " 105.0     42.5295  -70.8921\n",
       " 106.0  …  42.5295  -70.8895\n",
       " 107.0     42.5296  -70.8869\n",
       " 108.0     42.5294  -70.8813\n",
       " 109.0     42.5297  -70.8791"
      ]
     },
     "execution_count": 5,
     "metadata": {},
     "output_type": "execute_result"
    }
   ],
   "source": [
    "row_num =  zeros(size(candidate_addresses_raw,1), 1)\n",
    "for i=1:size(candidate_addresses_raw,1)\n",
    "    row_num[i] = i\n",
    "end\n",
    "row_num\n",
    "candidate_addresses = [row_num candidate_addresses_raw]"
   ]
  },
  {
   "cell_type": "code",
   "execution_count": 353,
   "metadata": {},
   "outputs": [
    {
     "data": {
      "text/plain": [
       "13-element Vector{Any}:\n",
       " 0.3343945738311936\n",
       " 0.44126379901027796\n",
       " 0.5131674568294288\n",
       " 0.8137176869571238\n",
       " 0.7606512254399579\n",
       " 0.33096861265875355\n",
       " 1.0\n",
       " 0.22663252240717027\n",
       " 0.14908121950375472\n",
       " 0.06405509222410631\n",
       " 0.042876423158113304\n",
       " 0.0\n",
       " 0.012042772606152887"
      ]
     },
     "execution_count": 353,
     "metadata": {},
     "output_type": "execute_result"
    }
   ],
   "source": [
    "demand"
   ]
  },
  {
   "cell_type": "code",
   "execution_count": 225,
   "metadata": {},
   "outputs": [
    {
     "data": {
      "text/plain": [
       "109×13 Matrix{Float64}:\n",
       " 0.816019  1.0        0.703437  0.526787  …  0.580837  0.423961  0.394695\n",
       " 0.769615  1.0        0.612212  0.426334     0.587955  0.648333  0.630141\n",
       " 0.672062  0.937301   0.514659  0.32878      0.490666  0.55078   0.532587\n",
       " 0.723475  0.988451   0.566072  0.380194     0.541815  0.602193  0.584001\n",
       " 0.616167  0.881142   0.458763  0.282904     0.432398  0.67839   0.724266\n",
       " 0.603247  0.868487   0.398122  0.304788  …  0.454545  0.700537  0.746413\n",
       " 0.55368   0.818655   0.348291  0.409723     0.433716  0.679708  0.725321\n",
       " 0.608521  0.87376    0.403395  0.438725     0.488557  0.734549  0.780425\n",
       " 0.642796  0.907771   0.437671  0.473001     0.522832  0.768824  0.814701\n",
       " 0.764606  1.0        0.652024  0.475374     0.529424  0.372548  0.343282\n",
       " 0.690782  0.956021   0.533378  0.3475    …  0.509386  0.401286  0.37202\n",
       " 0.618276  0.883515   0.460873  0.274994     0.43688   0.496994  0.478801\n",
       " 0.635414  0.900653   0.47801   0.292132     0.454018  0.514131  0.495939\n",
       " ⋮                                        ⋱  ⋮                   \n",
       " 0.22279   0.276313   0.264975  0.378612     0.18166   0.533642  0.502003\n",
       " 0.150548  0.1168     0.380985  0.502267     0.424488  0.655188  0.744831\n",
       " 0.21198   0.0864795  0.442417  0.601929     0.48592   0.71662   0.806263\n",
       " 0.734549  0.964194   0.621967  0.494093  …  0.325353  0.481174  0.185087\n",
       " 0.671798  0.901444   0.559217  0.431079     0.262602  0.41816   0.258911\n",
       " 0.633832  0.863477   0.52125   0.393113     0.224636  0.380194  0.270249\n",
       " 0.697373  0.866641   0.584791  0.456918     0.320607  0.443999  0.472474\n",
       " 0.278949  0.361474   0.354355  0.467991     0.148439  0.466409  0.468782\n",
       " 0.234391  0.333526   0.326671  0.440044  …  0.221472  0.539706  0.541815\n",
       " 0.242828  0.325353   0.399441  0.513077     0.321662  0.668107  0.642005\n",
       " 0.175596  0.0722421  0.406032  0.527314     0.449535  0.680235  0.769879\n",
       " 0.208553  0.0        0.439253  0.560271     0.482756  0.713456  0.8031"
      ]
     },
     "execution_count": 225,
     "metadata": {},
     "output_type": "execute_result"
    }
   ],
   "source": [
    "existing_distance"
   ]
  },
  {
   "cell_type": "code",
   "execution_count": 226,
   "metadata": {},
   "outputs": [
    {
     "data": {
      "text/plain": [
       "109×22 Matrix{Float64}:\n",
       " 0.694083  0.74502    0.941823   0.647519  …  0.639801  0.355531  0.625909\n",
       " 0.649063  0.699743   0.896545   0.612275     0.604557  0.491363  0.580632\n",
       " 0.553877  0.604557   0.801617   0.517089     0.509371  0.396178  0.485446\n",
       " 0.604042  0.654722   0.851525   0.567254     0.559537  0.446343  0.535612\n",
       " 0.499081  0.549761   0.746821   0.46255      0.454833  0.482359  0.430908\n",
       " 0.486733  0.537413   0.734472   0.483903  …  0.476185  0.503712  0.418302\n",
       " 0.438368  0.489048   0.685851   0.463579     0.434509  0.483388  0.369937\n",
       " 0.491878  0.542558   0.739618   0.517346     0.488019  0.537155  0.423447\n",
       " 0.525321  0.576001   0.772804   0.550533     0.521463  0.570342  0.456891\n",
       " 0.644175  0.694855   0.891657   0.597354     0.589636  0.305366  0.575744\n",
       " 0.572142  0.622822   0.819882   0.535354  …  0.527637  0.414443  0.503712\n",
       " 0.501396  0.552076   0.749136   0.464608     0.456891  0.343697  0.432966\n",
       " 0.518118  0.568798   0.765858   0.48133      0.473612  0.360419  0.449687\n",
       " ⋮                                         ⋱            ⋮         \n",
       " 0.116281  0.0576259  0.0648291  0.222014     0.139177  0.374568  0.16979\n",
       " 0.251341  0.215582   0.269607   0.37997      0.297133  0.493421  0.290445\n",
       " 0.311283  0.275781   0.329548   0.439912     0.357332  0.553363  0.387688\n",
       " 0.551819  0.587321   0.635171   0.485961  …  0.478243  0.342411  0.546417\n",
       " 0.490592  0.526093   0.573943   0.424733     0.417016  0.280926  0.485189\n",
       " 0.453289  0.488791   0.536898   0.387431     0.379713  0.243881  0.447887\n",
       " 0.450459  0.492135   0.539985   0.342411     0.351415  0.306137  0.510143\n",
       " 0.203749  0.145094   0.0679162  0.211209     0.135318  0.323888  0.257001\n",
       " 0.176479  0.117824   0.0        0.282212  …  0.199375  0.434766  0.229989\n",
       " 0.24774   0.188828   0.022896   0.353216     0.270636  0.50577   0.300992\n",
       " 0.275781  0.240022   0.294046   0.40441      0.321573  0.517861  0.314884\n",
       " 0.307938  0.272437   0.326203   0.436825     0.353987  0.550018  0.347041"
      ]
     },
     "execution_count": 226,
     "metadata": {},
     "output_type": "execute_result"
    }
   ],
   "source": [
    "attraction_distance"
   ]
  },
  {
   "cell_type": "code",
   "execution_count": 227,
   "metadata": {},
   "outputs": [
    {
     "data": {
      "text/plain": [
       "22-element Vector{Any}:\n",
       " 0.8535697367384464\n",
       " 1.0\n",
       " 0.402167146978068\n",
       " 0.5283888069049109\n",
       " 0.8463603805568455\n",
       " 0.7570449986188506\n",
       " 0.8621694197704257\n",
       " 0.8433954146326935\n",
       " 0.755968231778163\n",
       " 0.45859285575399256\n",
       " 0.0\n",
       " 0.6226808891280088\n",
       " 0.45382457456576775\n",
       " 0.5629452465022411\n",
       " 0.1525324732821192\n",
       " 0.3898999062087589\n",
       " 0.2750003728506587\n",
       " 0.4998646003644476\n",
       " 0.7915084035356388\n",
       " 0.7254775242798713\n",
       " 0.29650829186240163\n",
       " 0.402167146978068"
      ]
     },
     "execution_count": 227,
     "metadata": {},
     "output_type": "execute_result"
    }
   ],
   "source": [
    "attraction_values"
   ]
  },
  {
   "cell_type": "code",
   "execution_count": 6,
   "metadata": {},
   "outputs": [
    {
     "data": {
      "text/plain": [
       "0.2006853446636252"
      ]
     },
     "execution_count": 6,
     "metadata": {},
     "output_type": "execute_result"
    }
   ],
   "source": [
    "# parameters\n",
    "\n",
    "N_CANDIDATE_STATIONS = size(existing_distance)[1]\n",
    "N_NEW_STATIONS = config[\"N_NEW_STATIONS\"]\n",
    "#DISTANCE_THRESHOLD = config[\"DISTANCE_THRESHOLD\"]\n",
    "N_CURRENT_STATIONS = size(demand)[1]\n",
    "N_ATTRACTIONS = size(attraction_distance)[2]\n",
    "\n",
    "DISTANCE_THRESHOLD = 0.2006853446636252 #need to normalize the 800 meteres value to fit our data"
   ]
  },
  {
   "cell_type": "code",
   "execution_count": 4,
   "metadata": {},
   "outputs": [
    {
     "name": "stdout",
     "output_type": "stream",
     "text": [
      "Set parameter Username\n",
      "Academic license - for non-commercial use only - expires 2023-08-16\n",
      "Optimal stations: [0.0, 0.0, 0.0, 0.0, 0.0, 0.0, 0.0, 0.0, 0.0, 0.0, 0.0, 0.0, 0.0, 0.0, 0.0, 0.0, 0.0, 0.0, 0.0, 0.0, 0.0, 0.0, 0.0, 0.0, 0.0, 0.0, 1.0, 0.0, 0.0, 0.0, 0.0, 0.0, 0.0, 0.0, 0.0, 0.0, 0.0, 0.0, 0.0, 0.0, 0.0, 0.0, 0.0, 0.0, 0.0, 0.0, 0.0, 1.0, 0.0, 0.0, 0.0, 0.0, 0.0, 0.0, 0.0, 0.0, 0.0, 1.0, 1.0, 0.0, 0.0, 0.0, 0.0, 0.0, 0.0, 0.0, 0.0, 0.0, 0.0, 0.0, 0.0, 0.0, 0.0, 0.0, 0.0, 0.0, 0.0, 0.0, 0.0, 0.0, 0.0, 0.0, 0.0, 0.0, 0.0, 0.0, 0.0, 0.0, 0.0, 0.0, 0.0, 0.0, 0.0, 0.0, 0.0, 0.0, 0.0, 0.0, 0.0, 0.0, 0.0, 0.0, 0.0, 0.0, 0.0, 0.0, 0.0, 0.0, 0.0, 0.0, 0.0, 0.0, 0.0, 0.0, 0.0, 0.0, 0.0, 0.0, 0.0, 0.0, 0.0, 0.0, 0.0, 0.0, 0.0, 0.0, 0.0, 0.0, 0.0, 0.0, 0.0, 0.0, 0.0, 0.0, 0.0, 0.0, 0.0, 1.0, 0.0, 0.0, 0.0, 0.0]\n",
      "Total Cost: -3.04235e6\n"
     ]
    }
   ],
   "source": [
    "###FIRST VERSION OF MODEL\n",
    "\n",
    "model = Model(Gurobi.Optimizer)\n",
    "set_optimizer_attribute(model, \"OutputFlag\", 0) \n",
    "\n",
    "M = 1_000_000\n",
    "\n",
    "# @variable(model, x[i=1:50, j=1:15] >= 0) # amount of waste transported\n",
    "@variable(model, z[i=1:N_CANDIDATE_STATIONS], Bin) # z: binary variable to indicate whether or not station is selected\n",
    "\n",
    "# @constraint(model, [i=1:50], sum(x[i, j] for j in 1:15) == q[i])\n",
    "# @constraint(model, [i=1:50, j=1:15], x[i, j] <= M * z[j])\n",
    "\n",
    "# add constraint that two candidate stations cannot be too close to each other or existing stations\n",
    "\n",
    "@constraint(model, sum(z[i] for i in 1:N_CANDIDATE_STATIONS) == N_NEW_STATIONS)\n",
    "@constraint(model, [i=1:N_CANDIDATE_STATIONS, j=1:N_CURRENT_STATIONS], distance[i, j] >=  1000 * z[i])\n",
    "\n",
    "@objective(model, Max, sum(-distance[i, j] * demand[j] * z[i] for i=1:N_CANDIDATE_STATIONS, j=1:N_CURRENT_STATIONS))\n",
    "\n",
    "optimize!(model)\n",
    "\n",
    "optimal_cost = objective_value(model)\n",
    "stations_chosen = value.(z)\n",
    "\n",
    "\n",
    "println(\"Optimal stations: $stations_chosen\")\n",
    "\n",
    "\n",
    "# printing optimal cost\n",
    "pretty_optimal_cost = round(optimal_cost)\n",
    "println(\"Total Cost: $pretty_optimal_cost\")"
   ]
  },
  {
   "cell_type": "code",
   "execution_count": 41,
   "metadata": {},
   "outputs": [
    {
     "data": {
      "text/plain": [
       "5-element Vector{Any}:\n",
       " \"Unnamed Road, Salem, MA 01970, USA\"\n",
       " \"91 Leach St, Salem, MA 01970, USA\"\n",
       " \"Building 4, Suite 160 Shetland Park, 45 Congress St, Salem, MA 01970, USA\"\n",
       " \"Unnamed Road, Salem, MA 01970, USA\"\n",
       " \"98 Collins St, Salem, MA 01970, USA\""
      ]
     },
     "execution_count": 41,
     "metadata": {},
     "output_type": "execute_result"
    }
   ],
   "source": [
    "candidate_station_addresses[findall(x -> x==1, stations_chosen)]"
   ]
  },
  {
   "cell_type": "code",
   "execution_count": 29,
   "metadata": {},
   "outputs": [
    {
     "ename": "LoadError",
     "evalue": "TypeError: non-boolean (Float64) used in boolean context",
     "output_type": "error",
     "traceback": [
      "TypeError: non-boolean (Float64) used in boolean context",
      "",
      "Stacktrace:",
      " [1] iterate",
      "   @ ./iterators.jl:447 [inlined]",
      " [2] iterate",
      "   @ ./generator.jl:44 [inlined]",
      " [3] grow_to!(dest::Vector{Int64}, itr::Base.Generator{Base.Iterators.Filter{Base.var\"#108#110\", Base.Pairs{Int64, Float64, LinearIndices{1, Tuple{Base.OneTo{Int64}}}, Vector{Float64}}}, Base.var\"#107#109\"})",
      "   @ Base ./array.jl:797",
      " [4] collect",
      "   @ ./array.jl:721 [inlined]",
      " [5] findall(A::Vector{Float64})",
      "   @ Base ./array.jl:2300",
      " [6] top-level scope",
      "   @ In[29]:1",
      " [7] eval",
      "   @ ./boot.jl:373 [inlined]",
      " [8] include_string(mapexpr::typeof(REPL.softscope), mod::Module, code::String, filename::String)",
      "   @ Base ./loading.jl:1196"
     ]
    }
   ],
   "source": [
    "findall(stations_chosen)"
   ]
  },
  {
   "cell_type": "code",
   "execution_count": 363,
   "metadata": {},
   "outputs": [
    {
     "name": "stdout",
     "output_type": "stream",
     "text": [
      "Set parameter Username\n",
      "Academic license - for non-commercial use only - expires 2023-08-19\n",
      "Optimal stations: [0.0, 0.0, 0.0, 0.0, 0.0, 0.0, 0.0, 0.0, 0.0, 0.0, 0.0, 0.0, 0.0, 0.0, 0.0, 0.0, 0.0, 0.0, 0.0, 0.0, 0.0, 0.0, 0.0, 0.0, 0.0, 0.0, 0.0, 0.0, 0.0, 0.0, 0.0, 0.0, 0.0, 0.0, 0.0, 0.0, 0.0, 0.0, 1.0, 0.0, 0.0, 0.0, 0.0, 0.0, 0.0, 0.0, 1.0, 1.0, 0.0, 0.0, 0.0, 0.0, 0.0, 1.0, 0.0, 0.0, 0.0, 0.0, 0.0, 0.0, 0.0, 0.0, 0.0, 0.0, 0.0, 0.0, 0.0, 0.0, 0.0, 0.0, 0.0, 0.0, 0.0, 0.0, 0.0, 0.0, 0.0, 0.0, 0.0, 0.0, 0.0, 0.0, 0.0, 0.0, 0.0, 0.0, 1.0, 0.0, 0.0, 0.0, 0.0, 0.0, 0.0, 0.0, 0.0, 0.0, 0.0, 0.0, 0.0, 0.0, 0.0, 0.0, 0.0, 0.0, 0.0, 0.0, 0.0, 0.0, 0.0]\n",
      "Total Cost: -6.0\n"
     ]
    }
   ],
   "source": [
    "###SECOND VERSION OF MODEL\n",
    "\n",
    "model = Model(Gurobi.Optimizer)\n",
    "set_optimizer_attribute(model, \"OutputFlag\", 0) \n",
    "\n",
    "M = 1_000_000\n",
    "\n",
    "# i - candidate stations\n",
    "# j - current stations\n",
    "# k - attractions\n",
    "\n",
    "@variable(model, z[i=1:N_CANDIDATE_STATIONS], Bin) # z: binary variable to indicate whether or not station is selected\n",
    "\n",
    "# add constraint that two candidate stations cannot be too close to each other or existing stations\n",
    "\n",
    "@constraint(model, sum(z[i] for i in 1:N_CANDIDATE_STATIONS) == N_NEW_STATIONS) #can add up to N new stations\n",
    "@constraint(model, [i=1:N_CANDIDATE_STATIONS, j=1:N_CURRENT_STATIONS], existing_distance[i, j] >= 0.1 * z[i]) #distance between existing and candidate stations must be at least 400 meters CHECK VALUE\n",
    "\n",
    "@objective(model, Max, \n",
    "    sum(-existing_distance[i, j] * z[i] * demand[j] for i=1:N_CANDIDATE_STATIONS, j=1:N_CURRENT_STATIONS) +\n",
    "    sum(-attraction_distance[i, k] * z[i] * attraction_values[k] * 0 for i=1:N_CANDIDATE_STATIONS, k=1:N_ATTRACTIONS))\n",
    "\n",
    "optimize!(model)\n",
    "\n",
    "optimal_cost = objective_value(model)\n",
    "stations_chosen = value.(z)\n",
    "\n",
    "println(\"Optimal stations: $stations_chosen\")\n",
    "\n",
    "\n",
    "# printing optimal cost\n",
    "pretty_optimal_cost = round(optimal_cost)\n",
    "println(\"Total Cost: $pretty_optimal_cost\")"
   ]
  },
  {
   "cell_type": "code",
   "execution_count": 364,
   "metadata": {},
   "outputs": [
    {
     "data": {
      "text/plain": [
       "5-element Vector{Any}:\n",
       " 39.0\n",
       " 47.0\n",
       " 48.0\n",
       " 54.0\n",
       " 87.0"
      ]
     },
     "execution_count": 364,
     "metadata": {},
     "output_type": "execute_result"
    }
   ],
   "source": [
    "candidate_addresses[findall(x -> x==1, stations_chosen)]"
   ]
  },
  {
   "cell_type": "code",
   "execution_count": 375,
   "metadata": {},
   "outputs": [
    {
     "name": "stdout",
     "output_type": "stream",
     "text": [
      "Set parameter Username\n",
      "Academic license - for non-commercial use only - expires 2023-08-19\n",
      "Optimal stations: [0.0, 0.0, 0.0, 0.0, 0.0, 0.0, 0.0, 0.0, 0.0, 0.0, 0.0, 0.0, 0.0, 0.0, 0.0, 0.0, 0.0, 0.0, 0.0, 0.0, 0.0, 0.0, 0.0, 0.0, 0.0, 0.0, 0.0, 0.0, 0.0, 0.0, 0.0, 0.0, 0.0, 0.0, 0.0, 0.0, 0.0, 0.0, 0.0, 0.0, 0.0, 0.0, 0.0, 0.0, 0.0, 0.0, 0.0, 1.0, 0.0, 0.0, 0.0, 0.0, 0.0, 0.0, 0.0, 0.0, 0.0, 0.0, 0.0, 0.0, 0.0, 0.0, 0.0, 0.0, 0.0, 0.0, 0.0, 0.0, 0.0, 0.0, 0.0, 0.0, 0.0, 0.0, 0.0, 0.0, 0.0, 0.0, 0.0, 0.0, 0.0, 0.0, 0.0, 0.0, 0.0, 0.0, 1.0, 1.0, 0.0, 0.0, 0.0, 0.0, 0.0, 0.0, 0.0, 0.0, 0.0, 1.0, 0.0, 0.0, 0.0, 0.0, 0.0, 0.0, 1.0, 0.0, 0.0, 0.0, 0.0]\n",
      "Total Cost: 48.0\n"
     ]
    }
   ],
   "source": [
    "###THIRD VERSION OF MODEL\n",
    "\n",
    "model = Model(Gurobi.Optimizer)\n",
    "set_optimizer_attribute(model, \"OutputFlag\", 0) \n",
    "\n",
    "M = 1_000_000\n",
    "\n",
    "# i - candidate stations\n",
    "# j - current stations\n",
    "# k - attractions\n",
    "\n",
    "#logistic curve\n",
    "L = 1\n",
    "w = -100\n",
    "q = 0.3\n",
    "alpha = 0#0.0000004*6\n",
    "beta = 0#6\n",
    "gamma = 0#0.0000012\n",
    "kappa = 1#1\n",
    "\n",
    "@variable(model, z[i=1:N_CANDIDATE_STATIONS], Bin) # z: binary variable to indicate whether or not station is selected\n",
    "\n",
    "# add constraint that two candidate stations cannot be too close to each other or existing stations\n",
    "\n",
    "@constraint(model, sum(z[i] for i in 1:N_CANDIDATE_STATIONS) == N_NEW_STATIONS) #can add up to N new stations\n",
    "@constraint(model, [i=1:N_CANDIDATE_STATIONS, j=1:N_CURRENT_STATIONS], existing_distance[i, j] >= 0.1 * z[i]) #distance between existing and candidate stations must be at least 400 meters CHECK VALUE\n",
    "\n",
    "@objective(model, Max, \n",
    "    alpha * sum(-existing_distance[i, j] * z[i] for i=1:N_CANDIDATE_STATIONS, j=1:N_CURRENT_STATIONS) +\n",
    "    beta * sum(demand[j] * z[i] * (L/(1+exp(-w*(existing_distance[i,j]-q)))) for i=1:N_CANDIDATE_STATIONS, j=1:N_CURRENT_STATIONS) + #enforce that demand for stations further away from candidate stations count less\n",
    "    gamma * sum(-attraction_distance[i, k] * z[i] for i=1:N_CANDIDATE_STATIONS, k=1:N_ATTRACTIONS) + \n",
    "    kappa * sum(attraction_values[k] * z[i] * (L/(1+exp(-w*(attraction_distance[i,k]-q)))) for i=1:N_CANDIDATE_STATIONS, k=1:N_ATTRACTIONS))\n",
    "\n",
    "optimize!(model)\n",
    "\n",
    "optimal_cost = objective_value(model)\n",
    "stations_chosen = value.(z)\n",
    "\n",
    "println(\"Optimal stations: $stations_chosen\")\n",
    "\n",
    "\n",
    "# printing optimal cost\n",
    "pretty_optimal_cost = round(optimal_cost)\n",
    "println(\"Total Cost: $pretty_optimal_cost\")"
   ]
  },
  {
   "cell_type": "code",
   "execution_count": 377,
   "metadata": {},
   "outputs": [
    {
     "data": {
      "text/plain": [
       "5-element Vector{Any}:\n",
       "  48.0\n",
       "  87.0\n",
       "  88.0\n",
       "  98.0\n",
       " 105.0"
      ]
     },
     "execution_count": 377,
     "metadata": {},
     "output_type": "execute_result"
    }
   ],
   "source": [
    "candidate_addresses[findall(x -> x==1, stations_chosen)]"
   ]
  },
  {
   "cell_type": "markdown",
   "metadata": {},
   "source": [
    "**OPTIMIZATION FORMULATION:**\n",
    "\n",
    "Sets:\n",
    "- candidate stations $i\\in \\mathcal{I}=\\{1,\\ldots,n\\}$\n",
    "- existing stations $j\\in \\mathcal{J}=\\{1,\\ldots,m\\}$\n",
    "- attractions $k\\in \\mathcal{K}=\\{1,\\ldots,q\\}$\n",
    "\n",
    "Decision variable: $z_{i} $ = 1 if candidate station i is built, 0 otherwise\n",
    "\n",
    "Parameters:\n",
    "- $e_{ij} $ = distance between candidate station i and existing station j\n",
    "- $a_{ik} $ = distance between candidate station i and attraction k\n",
    "- $d_{j} $ = demand at existing station j\n",
    "- $v_{k} $ = number of google reviews for attraction k\n",
    "- all parameters are normalized to be between 0 and 1 \n",
    "    - add epsilon in the denominator to account for distance = 0\n",
    "\n",
    "Hyperparameters:\n",
    "- Weights for each term:\n",
    "    - alpha = weight on distance between candidate station i and existing station j\n",
    "    - beta = weight on demand at existing station j\n",
    "    - gamma = weight on distance between candidate station i and attraction k\n",
    "    - kappa = weight on number of google reviews for attraction k\n",
    "- Logistic Function:\n",
    "    - We apply a logistic function to both the demand and google reviews terms\n",
    "    - This gives more weight to demand/reviews for stations/attractions that are closer to the candidates\n",
    "    - and less weight to the demand/reviews for stations/attractions that are further from the candidates\n",
    "    - $\\frac{L}{1+e^{-w(distance-q)}} $\n",
    "    - L = the curve's maximum value\n",
    "    - w = steepness of the curve\n",
    "    - q = the distance value of the sigmoid midpoint\n",
    "\n",
    "$$ \n",
    "\\max \\quad \n",
    "\\alpha(\\sum_{i=1}^{n} \\sum_{j=1}^{m} \\frac{1}{e_{ij}+\\epsilon} * z_i) +\n",
    "\\beta(\\sum_{i=1}^{n} \\sum_{j=1}^{m} d_{j}z_i*\\frac{L}{1+e^{-w(e_{ij}-q)}}) +\n",
    "\\gamma(\\sum_{i=1}^{n} \\sum_{k=1}^{q} \\frac{1}{a_{ik}+\\epsilon} * z_i) +\n",
    "\\kappa(\\sum_{i=1}^{n} \\sum_{k=1}^{q} v_{k}z_i*\\frac{L}{1+e^{-w(a_{ik}-q)}})\n",
    "\\\\\n",
    "\n",
    "\\text{s.t.} \\quad \\sum_{i = 1}^{n} z_i <= 5\\\\\n",
    "\n",
    "e_{ij} >= 0.1z_i \\quad \\forall i,j\\\\\n",
    "\n",
    "z_i\\in\\{0,1\\}\n",
    "\n",
    "$$\n",
    "\n"
   ]
  },
  {
   "cell_type": "markdown",
   "metadata": {},
   "source": [
    "\\begin{equation*}\n",
    "\\begin{split}\n",
    "\\max_z & \\quad \\alpha(\\sum_{i=1}^{n} \\sum_{j=1}^{m} \\frac{1}{e_{ij}+\\epsilon}\\ z_i)+ \\beta(\\sum_{i=1}^{n} \\sum_{j=1}^{m} d_jz_i\\frac{L}{1+e^{-w(e_{ij}-q)}}) + \\gamma(\\sum_{i=1}^{n} \\sum_{k=1}^{q} \\frac{1}{a_{ik}+\\epsilon}z_i) + \\kappa(\\sum_{i=1}^{n} \\sum_{k=1}^{q}v_kz_i \\frac{L}{1+e^{-w(a_{ik}-q)}}) \\\\\n",
    "\\end{split}\n",
    "\\end{equation*}"
   ]
  },
  {
   "cell_type": "markdown",
   "metadata": {},
   "source": [
    "\\begin{equation*}\n",
    "\\begin{split}\n",
    "\\text{s.t.} & \\quad \\sum_{i=1}^{n}z_i <= 5\n",
    "\\end{split}\n",
    "\\end{equation*}"
   ]
  },
  {
   "cell_type": "markdown",
   "metadata": {},
   "source": [
    "\\begin{equation*}\n",
    "\\begin{split}\n",
    "\\text{s.t.} & \\quad e_{ij} >= 0.1z_i \\quad \\forall i,j\n",
    "\\end{split}\n",
    "\\end{equation*}"
   ]
  },
  {
   "cell_type": "markdown",
   "metadata": {},
   "source": [
    "\\begin{equation*}\n",
    "\\begin{split}\n",
    "\\text{s.t.} & \\quad z_i\\in\\{0,1\\}\n",
    "\\end{split}\n",
    "\\end{equation*}"
   ]
  },
  {
   "cell_type": "code",
   "execution_count": 2,
   "metadata": {},
   "outputs": [
    {
     "ename": "LoadError",
     "evalue": "UndefVarError: Gurobi not defined",
     "output_type": "error",
     "traceback": [
      "UndefVarError: Gurobi not defined",
      "",
      "Stacktrace:",
      " [1] top-level scope",
      "   @ In[2]:3",
      " [2] eval",
      "   @ ./boot.jl:368 [inlined]",
      " [3] include_string(mapexpr::typeof(REPL.softscope), mod::Module, code::String, filename::String)",
      "   @ Base ./loading.jl:1428"
     ]
    }
   ],
   "source": [
    "###FOURTH VERSION OF MODEL\n",
    "\n",
    "model = Model(Gurobi.Optimizer)\n",
    "set_optimizer_attribute(model, \"OutputFlag\", 0) \n",
    "\n",
    "M = 1_000_000\n",
    "\n",
    "# i - candidate stations\n",
    "# j - current stations\n",
    "# k - attractions\n",
    "\n",
    "#logistic curve\n",
    "L = 1\n",
    "w = -100\n",
    "q = 0.3\n",
    "alpha = 0.5#0.0000004*6\n",
    "beta = 8#6\n",
    "gamma = 0.000003#0.0000012\n",
    "kappa = 2.5#1\n",
    "\n",
    "@variable(model, z[i=1:N_CANDIDATE_STATIONS], Bin) # z: binary variable to indicate whether or not station is selected\n",
    "\n",
    "# add constraint that two candidate stations cannot be too close to each other or existing stations\n",
    "\n",
    "@constraint(model, sum(z[i] for i in 1:N_CANDIDATE_STATIONS) <= N_NEW_STATIONS) #can add up to N new stations\n",
    "@constraint(model, [i=1:N_CANDIDATE_STATIONS, j=1:N_CURRENT_STATIONS], existing_distance[i, j] >= 0.1 * z[i]) #distance between existing and candidate stations must be at least 400 meters CHECK VALUE\n",
    "\n",
    "@objective(model, Max, \n",
    "    alpha * sum((1/(existing_distance[i, j]+0.0000001)) * z[i] for i=1:N_CANDIDATE_STATIONS, j=1:N_CURRENT_STATIONS) +\n",
    "    beta * sum(demand[j] * z[i] * (L/(1+exp(-w*(existing_distance[i,j]-q)))) for i=1:N_CANDIDATE_STATIONS, j=1:N_CURRENT_STATIONS) + #enforce that demand for stations further away from candidate stations count less\n",
    "    gamma * sum((1/(attraction_distance[i, k]+0.0000001)) * z[i] for i=1:N_CANDIDATE_STATIONS, k=1:N_ATTRACTIONS) + \n",
    "    kappa * sum(attraction_values[k] * z[i] * (L/(1+exp(-w*(attraction_distance[i,k]-q)))) for i=1:N_CANDIDATE_STATIONS, k=1:N_ATTRACTIONS))\n",
    "\n",
    "optimize!(model)\n",
    "\n",
    "optimal_cost = objective_value(model)\n",
    "stations_chosen = value.(z)\n",
    "\n",
    "println(\"Optimal stations: $stations_chosen\")\n",
    "\n",
    "\n",
    "# printing optimal cost\n",
    "pretty_optimal_cost = round(optimal_cost)\n",
    "println(\"Total Cost: $pretty_optimal_cost\")"
   ]
  },
  {
   "cell_type": "code",
   "execution_count": 6,
   "metadata": {},
   "outputs": [
    {
     "data": {
      "text/plain": [
       "5-element Vector{Any}:\n",
       "  48.0\n",
       "  54.0\n",
       "  80.0\n",
       "  87.0\n",
       " 106.0"
      ]
     },
     "execution_count": 6,
     "metadata": {},
     "output_type": "execute_result"
    }
   ],
   "source": [
    "candidate_addresses[findall(x -> x==1, stations_chosen)]"
   ]
  },
  {
   "cell_type": "code",
   "execution_count": 7,
   "metadata": {},
   "outputs": [
    {
     "data": {
      "text/plain": [
       "5-element Vector{Any}:\n",
       " \"20 Harbor St, Salem, MA 01970, USA\"\n",
       " \"15 Chestnut St, Salem, MA 01970, USA\"\n",
       " \"23 Derby St, Salem, MA 01970, USA\"\n",
       " \"41 Washington Square, Salem, MA 01970, USA\"\n",
       " \"89 Bridge St, Salem, MA 01970, USA\""
      ]
     },
     "execution_count": 7,
     "metadata": {},
     "output_type": "execute_result"
    }
   ],
   "source": [
    "candidate_addresses_raw[findall(x -> x==1, stations_chosen)]"
   ]
  },
  {
   "cell_type": "code",
   "execution_count": 35,
   "metadata": {},
   "outputs": [
    {
     "name": "stdout",
     "output_type": "stream",
     "text": [
      "Set parameter Username\n",
      "Academic license - for non-commercial use only - expires 2023-08-19\n"
     ]
    },
    {
     "ename": "LoadError",
     "evalue": "UndefVarError: j not defined",
     "output_type": "error",
     "traceback": [
      "UndefVarError: j not defined",
      "",
      "Stacktrace:",
      "  [1] macro expansion",
      "    @ /Users/iai/builds/e7x1Q22r/0/InterpretableAI/SystemImage/SysImgBuilder/.julia/packages/MutableArithmetics/maUDe/src/rewrite.jl:294 [inlined]",
      "  [2] macro expansion",
      "    @ /Users/iai/builds/e7x1Q22r/0/InterpretableAI/SystemImage/SysImgBuilder/.julia/packages/JuMP/gVq7V/src/macros.jl:819 [inlined]",
      "  [3] (::var\"#229#230\")(i::Int64)",
      "    @ Main /Users/iai/builds/e7x1Q22r/0/InterpretableAI/SystemImage/SysImgBuilder/.julia/packages/JuMP/gVq7V/src/Containers/macro.jl:304",
      "  [4] #42",
      "    @ /Users/iai/builds/e7x1Q22r/0/InterpretableAI/SystemImage/SysImgBuilder/.julia/packages/JuMP/gVq7V/src/Containers/container.jl:72 [inlined]",
      "  [5] iterate",
      "    @ ./generator.jl:47 [inlined]",
      "  [6] collect(itr::Base.Generator{JuMP.Containers.VectorizedProductIterator{Tuple{Base.OneTo{Int64}}}, JuMP.Containers.var\"#42#43\"{var\"#229#230\"}})",
      "    @ Base ./array.jl:787",
      "  [7] map(f::Function, A::JuMP.Containers.VectorizedProductIterator{Tuple{Base.OneTo{Int64}}})",
      "    @ Base /Applications/Julia-1.8.app/Contents/Resources/julia/lib/julia/sys.dylib:-1",
      "  [8] container",
      "    @ /Users/iai/builds/e7x1Q22r/0/InterpretableAI/SystemImage/SysImgBuilder/.julia/packages/JuMP/gVq7V/src/Containers/container.jl:72 [inlined]",
      "  [9] container(f::Function, indices::JuMP.Containers.VectorizedProductIterator{Tuple{Base.OneTo{Int64}}})",
      "    @ JuMP.Containers /Users/iai/builds/e7x1Q22r/0/InterpretableAI/SystemImage/SysImgBuilder/.julia/packages/JuMP/gVq7V/src/Containers/container.jl:66",
      " [10] top-level scope",
      "    @ In[35]:34",
      " [11] eval",
      "    @ ./boot.jl:368 [inlined]",
      " [12] include_string(mapexpr::typeof(REPL.softscope), mod::Module, code::String, filename::String)",
      "    @ Base ./loading.jl:1428"
     ]
    }
   ],
   "source": [
    "###ROBUST VERSION OF MODEL\n",
    "\n",
    "model = Model(Gurobi.Optimizer)\n",
    "set_optimizer_attribute(model, \"OutputFlag\", 0) \n",
    "\n",
    "M = 1_000_000\n",
    "\n",
    "# i - candidate stations\n",
    "# j - current stations\n",
    "# k - attractions\n",
    "\n",
    "#logistic curve\n",
    "L = 1\n",
    "w = -100\n",
    "q = 0.3\n",
    "alpha = 0.5\n",
    "beta = 8\n",
    "gamma = 0.000003\n",
    "kappa = 2.5\n",
    "\n",
    "#robust\n",
    "rho = 0.3\n",
    "\n",
    "@variable(model, z[i=1:N_CANDIDATE_STATIONS], Bin) # z: binary variable to indicate whether or not station is selected\n",
    "@variable(model, t)\n",
    "@variable(model, g[i=1:N_CANDIDATE_STATIONS])\n",
    "\n",
    "# add constraint that two candidate stations cannot be too close to each other or existing stations\n",
    "\n",
    "@constraint(model, sum(z[i] for i in 1:N_CANDIDATE_STATIONS) <= N_NEW_STATIONS) #can add up to N new stations\n",
    "@constraint(model, [i=1:N_CANDIDATE_STATIONS, j=1:N_CURRENT_STATIONS], existing_distance[i, j] >= 0.1 * z[i]) #distance between existing and candidate stations must be at least 400 meters CHECK VALUE\n",
    "#@constraint(model, [i=1:N_CANDIDATE_STATIONS, j=1:N_CURRENT_STATIONS], sum(-demand[j] * z[i] * (L/(1+exp(-w*(existing_distance[i,j]-q)))) for i=1:N_CANDIDATE_STATIONS, j=1:N_CURRENT_STATIONS)+ (rho * sum(g[i] for i=1:N_CANDIDATE_STATIONS)) <= -t)#+ (rho * norm(z[i], 1)) <= -t) #robust constraint\n",
    "@constraint(model, [i=1:N_CANDIDATE_STATIONS, j=1:N_CURRENT_STATIONS], sum(-demand[j] * z[i] * (L/(1+exp(-w*(existing_distance[i,j]-q)))) for i=1:N_CANDIDATE_STATIONS, j=1:N_CURRENT_STATIONS)+ (rho * sum(g[i] * (L/(1+exp(-w*(existing_distance[i,j]-q)))))) <= -t)\n",
    "@constraint(model, [i=1:N_CANDIDATE_STATIONS, j=1:N_CURRENT_STATIONS], g[i] >= z[i]*(L/(1+exp(-w*(existing_distance[i,j]-q)))))\n",
    "@constraint(model, [i=1:N_CANDIDATE_STATIONS, j=1:N_CURRENT_STATIONS], g[i] >= -z[i]*(L/(1+exp(-w*(existing_distance[i,j]-q)))))\n",
    "\n",
    "@objective(model, Max, \n",
    "    alpha * sum((1/(existing_distance[i, j]+0.0000001)) * z[i] for i=1:N_CANDIDATE_STATIONS, j=1:N_CURRENT_STATIONS) +\n",
    "   # beta * sum(demand[j] * z[i] * (L/(1+exp(-w*(existing_distance[i,j]-q)))) for i=1:N_CANDIDATE_STATIONS, j=1:N_CURRENT_STATIONS) + #enforce that demand for stations further away from candidate stations count less\n",
    "    beta * (t) +\n",
    "    gamma * sum((1/(attraction_distance[i, k]+0.0000001)) * z[i] for i=1:N_CANDIDATE_STATIONS, k=1:N_ATTRACTIONS) + \n",
    "    kappa * sum(attraction_values[k] * z[i] * (L/(1+exp(-w*(attraction_distance[i,k]-q)))) for i=1:N_CANDIDATE_STATIONS, k=1:N_ATTRACTIONS))\n",
    "\n",
    "optimize!(model)\n",
    "\n",
    "optimal_cost = objective_value(model)\n",
    "stations_chosen = value.(z)\n",
    "\n",
    "println(\"Optimal stations: $stations_chosen\")\n",
    "\n",
    "\n",
    "# printing optimal cost\n",
    "pretty_optimal_cost = round(optimal_cost)\n",
    "println(\"Total Cost: $pretty_optimal_cost\")"
   ]
  },
  {
   "cell_type": "code",
   "execution_count": 34,
   "metadata": {},
   "outputs": [
    {
     "data": {
      "text/plain": [
       "5-element Vector{Any}:\n",
       "  48.0\n",
       "  54.0\n",
       "  80.0\n",
       "  87.0\n",
       " 106.0"
      ]
     },
     "execution_count": 34,
     "metadata": {},
     "output_type": "execute_result"
    }
   ],
   "source": [
    "candidate_addresses[findall(x -> x==1, stations_chosen)]"
   ]
  },
  {
   "cell_type": "code",
   "execution_count": null,
   "metadata": {},
   "outputs": [],
   "source": []
  }
 ],
 "metadata": {
  "kernelspec": {
   "display_name": "Julia 1.8.0",
   "language": "julia",
   "name": "julia-1.8"
  },
  "language_info": {
   "file_extension": ".jl",
   "mimetype": "application/julia",
   "name": "julia",
   "version": "1.8.0"
  },
  "vscode": {
   "interpreter": {
    "hash": "63d6f127d86314a340b3d99087fc86c7028b66270812fa264f7e46306cfcc6bd"
   }
  }
 },
 "nbformat": 4,
 "nbformat_minor": 2
}
