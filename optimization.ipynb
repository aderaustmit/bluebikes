{
 "cells": [
  {
   "cell_type": "code",
   "execution_count": 1,
   "metadata": {},
   "outputs": [],
   "source": [
    "using DataFrames, CSV\n",
    "using JuMP, Gurobi\n",
    "using LinearAlgebra\n",
    "using JSON"
   ]
  },
  {
   "cell_type": "code",
   "execution_count": 72,
   "metadata": {},
   "outputs": [],
   "source": [
    "config = JSON.parsefile(\"config.json\")\n",
    "\n",
    "existing_distance = Matrix(CSV.read(\"inputs/candidate_existing_distance.csv\", DataFrame, header = true))\n",
    "attraction_distance = Matrix(CSV.read(\"inputs/candidate_attraction_distance.csv\", DataFrame, header = true))\n",
    "demand_raw = Matrix(CSV.read(\"inputs/salem_demand.csv\", DataFrame, header = true))\n",
    "demand = demand_raw[:, 9]\n",
    "attraction_values_raw = Matrix(CSV.read(\"inputs/attractions_weights.csv\", DataFrame, header = true))\n",
    "attraction_values = attraction_values_raw[:,3]\n",
    "candidate_addresses_raw = Matrix(CSV.read(\"inputs/candidate_address.csv\", DataFrame, header = true));\n"
   ]
  },
  {
   "cell_type": "code",
   "execution_count": 73,
   "metadata": {},
   "outputs": [
    {
     "data": {
      "text/plain": [
       "142×5 Matrix{Any}:\n",
       "   1.0  …  42.5074  -70.9075\n",
       "   2.0     42.5077  -70.9046\n",
       "   3.0     42.5076  -70.9025\n",
       "   4.0     42.5076  -70.8996\n",
       "   5.0     42.5075  -70.897\n",
       "   6.0  …  42.5078  -70.8943\n",
       "   7.0     42.5078  -70.8917\n",
       "   8.0     42.5079  -70.8891\n",
       "   9.0     42.508   -70.8867\n",
       "  10.0     42.5063  -70.8872\n",
       "  11.0  …  42.5051  -70.8834\n",
       "  12.0     42.5047  -70.8738\n",
       "  13.0     42.5096  -70.9077\n",
       "   ⋮    ⋱           \n",
       " 131.0  …  42.529   -70.9081\n",
       " 132.0     42.5291  -70.9056\n",
       " 133.0     42.5293  -70.9028\n",
       " 134.0     42.5291  -70.9001\n",
       " 135.0     42.5296  -70.898\n",
       " 136.0  …  42.5295  -70.8926\n",
       " 137.0     42.5295  -70.8921\n",
       " 138.0     42.5295  -70.8895\n",
       " 139.0     42.5296  -70.8869\n",
       " 140.0     42.5297  -70.8858\n",
       " 141.0  …  42.5294  -70.8813\n",
       " 142.0     42.5297  -70.8791"
      ]
     },
     "execution_count": 73,
     "metadata": {},
     "output_type": "execute_result"
    }
   ],
   "source": [
    "row_num =  zeros(size(candidate_addresses_raw,1), 1)\n",
    "for i=1:size(candidate_addresses_raw,1)\n",
    "    row_num[i] = i\n",
    "end\n",
    "row_num\n",
    "candidate_addresses = [row_num candidate_addresses_raw]"
   ]
  },
  {
   "cell_type": "code",
   "execution_count": 43,
   "metadata": {},
   "outputs": [
    {
     "data": {
      "text/plain": [
       "13-element Vector{Any}:\n",
       " 102.27272727272727\n",
       " 133.46666666666667\n",
       " 154.45454545454547\n",
       " 242.1818181818182\n",
       " 226.69230769230768\n",
       " 101.27272727272727\n",
       " 296.55555555555554\n",
       "  70.81818181818181\n",
       "  48.18181818181818\n",
       "  23.363636363636363\n",
       "  17.181818181818183\n",
       "   4.666666666666667\n",
       "   8.181818181818182"
      ]
     },
     "execution_count": 43,
     "metadata": {},
     "output_type": "execute_result"
    }
   ],
   "source": [
    "demand"
   ]
  },
  {
   "cell_type": "code",
   "execution_count": 47,
   "metadata": {},
   "outputs": [
    {
     "data": {
      "text/plain": [
       "142×13 Matrix{Int64}:\n",
       " 1706  1121  3922  1908  3049  3031  2156  3526  2558  2557  2821  5104  2748\n",
       " 2557  2032  2377  2801  2874  2649  1775  3350  2585  2419  1883  4928  2402\n",
       " 2187  1662  2149  2431  2504  2279  1405  2980  2216  2050  1656  4559  2032\n",
       " 2382  1857  2152  2626  2699  2474  1600  3175  2410  2245  1659  4753  2227\n",
       " 2671  2448  1005  3158  2291   812  1231  2768  1995  1837   959  4346  1820\n",
       " 2755  2532   787  3242  2243   594  1314  2719  2079  1921   901  4298  1590\n",
       " 2676  2453   486  3162  2055   405  1712  2531  2000  1842   602  4109  1401\n",
       " 2884  2661   279  3371  2263   614  1822  2739  2208  2050   763  4318  1610\n",
       " 3014  2791   285  3501  2393   743  1952  2869  2338  2180   928  4447  1740\n",
       " 3455  3232   293  3942  2834  1185  2411  3310  2779  2621   947  4888  2181\n",
       " 3602  3379   441  4089  2981  1332  2559  3458  2926  2768  1094  5036  2328\n",
       " 3575  3353   414  4062  2954  1305  2532  3431  2900  2742  1068  5009  2301\n",
       " 1511   926  3727  1713  2855  2836  1961  3331  2363  2362  2627  4909  2553\n",
       "    ⋮                             ⋮                             ⋮        \n",
       " 1923  1990  3749  1113  2741  2858  2032  3217  1589  1607  3865  4661  2439\n",
       " 1684  2057  3511  1393  2502  2620  1793  2979  1351  1368  3627  4423  2201\n",
       " 1540  1913  3367  1436  2358  2475  1649  2835  1207  1224  3483  4279  2057\n",
       " 1782  2155  3608  2203  2600  2717  1891  3076  1571  1236  3724  4291  2298\n",
       " 1555  2300  3327  1877  2149  2436  1730  2752  1245   910  3443  3965  1975\n",
       " 1726  2127  3169  2047  1327  2278  1401  1779   776   698  3285  3142  1338\n",
       " 1867  2659  3255  2189  1172  2364  1933  1489   918   840  3371  2375  1424\n",
       " 2145  2553  3149  2466  1066  2258  1827  1320  1195  1520  3265  2269  1319\n",
       " 2632  2830  3426  2846  1426  2535  2104  1352  1575  1797  3542  2238  1595\n",
       " 2767  2965  3561  2981  1561  2670  2239  1487  1710  1932  3677  2373  1730\n",
       " 2678  2883  3414  3331  1171  2588  2158  1097  2060  1843  3596  1278  1620\n",
       " 2804  3009  3540  3457  1296  2714  2283  1222  2186  1969  3721  1004  1746"
      ]
     },
     "execution_count": 47,
     "metadata": {},
     "output_type": "execute_result"
    }
   ],
   "source": [
    "existing_distance"
   ]
  },
  {
   "cell_type": "code",
   "execution_count": 48,
   "metadata": {},
   "outputs": [
    {
     "data": {
      "text/plain": [
       "142×22 Matrix{Int64}:\n",
       " 2835  3162  4037  2612  2289  3096  …  2812  2724  3050  2724  1730  2599\n",
       " 2660  2986  3861  2475  2317  2920     2636  2548  2874  2587  2258  2423\n",
       " 2290  2616  3492  2105  1947  2551     2266  2178  2505  2217  1888  2053\n",
       " 2485  2811  3686  2300  2142  2746     2461  2373  2699  2412  2083  2248\n",
       " 2077  2403  3279  1893  1956  2338     2054  1966  2292  2005  2223  1841\n",
       " 2029  2355  3231  1976  2040  2290  …  2005  1917  2244  2088  2306  1792\n",
       " 1841  2167  3042  1897  1961  2101     1817  1729  2055  1926  2227  1604\n",
       " 2049  2375  3251  2106  2169  2310     2025  1937  2264  2134  2436  1812\n",
       " 2179  2505  3380  2235  2299  2440     2155  2067  2393  2264  2565  1942\n",
       " 2620  2946  3822  2676  2740  2881     2596  2508  2834  2705  3006  2383\n",
       " 2767  3093  3969  2824  2887  3028  …  2744  2655  2982  2852  3154  2530\n",
       " 2740  3066  3942  2797  2860  3001     2717  2629  2955  2826  3127  2504\n",
       " 2641  2967  3842  2417  2094  2901     2617  2529  2855  2529  1535  2404\n",
       "    ⋮                             ⋮  ⋱                             ⋮  \n",
       " 2282  2549  2845  1984  1846  2788  …  2306  2394  2742  2096  1679  2290\n",
       " 2044  2311  2607  1746  1607  2549     2067  2155  2503  1858  1440  2052\n",
       " 1899  2166  2463  1601  1463  2405     1923  2011  2359  1713  1296  1907\n",
       " 1888  2179  2475  1426  1475  2230     1911  1999  2601  1603  1538  2149\n",
       " 1561  1852  2149  1100  1149  1904     1585  1673  1698  1277  1377  1825\n",
       "  843  1030  1696   775   914  1082  …   866   954  1328   621  1465  1079\n",
       "  929   830   640   916  1056   927      952  1040  1173   763  1607  1165\n",
       "  823   724   376  1192  1639   821      846   935  1067  1012  2038  1060\n",
       " 1100  1000   465  1468  1916  1134     1424  1493  1427  1289  2314  1336\n",
       " 1235  1136   514  1603  2051  1269     1559  1628  1562  1424  2449  1471\n",
       " 1209  1199  1519  1667  1962   878  …  1168  1237  1171  1487  2361  1390\n",
       " 1334  1325  1644  1793  2088  1004     1293  1362  1297  1613  2486  1515"
      ]
     },
     "execution_count": 48,
     "metadata": {},
     "output_type": "execute_result"
    }
   ],
   "source": [
    "attraction_distance"
   ]
  },
  {
   "cell_type": "code",
   "execution_count": 39,
   "metadata": {},
   "outputs": [
    {
     "data": {
      "text/plain": [
       "22-element Vector{Any}:\n",
       " 3179\n",
       " 8542\n",
       "  151\n",
       "  354\n",
       " 3028\n",
       " 1657\n",
       " 3369\n",
       " 2968\n",
       " 1645\n",
       "  221\n",
       "   10\n",
       "  669\n",
       "  214\n",
       "  447\n",
       "   28\n",
       "  139\n",
       "   64\n",
       "  292\n",
       " 2091\n",
       " 1339\n",
       "   74\n",
       "  151"
      ]
     },
     "execution_count": 39,
     "metadata": {},
     "output_type": "execute_result"
    }
   ],
   "source": [
    "attraction_values"
   ]
  },
  {
   "cell_type": "code",
   "execution_count": 49,
   "metadata": {},
   "outputs": [
    {
     "data": {
      "text/plain": [
       "22"
      ]
     },
     "execution_count": 49,
     "metadata": {},
     "output_type": "execute_result"
    }
   ],
   "source": [
    "# parameters\n",
    "\n",
    "N_CANDIDATE_STATIONS = size(existing_distance)[1]\n",
    "N_NEW_STATIONS = config[\"N_NEW_STATIONS\"]\n",
    "DISTANCE_THRESHOLD = config[\"DISTANCE_THRESHOLD\"]\n",
    "N_CURRENT_STATIONS = size(demand)[1]\n",
    "N_ATTRACTIONS = size(attraction_distance)[2]"
   ]
  },
  {
   "cell_type": "code",
   "execution_count": 4,
   "metadata": {},
   "outputs": [
    {
     "name": "stdout",
     "output_type": "stream",
     "text": [
      "Set parameter Username\n",
      "Academic license - for non-commercial use only - expires 2023-08-16\n",
      "Optimal stations: [0.0, 0.0, 0.0, 0.0, 0.0, 0.0, 0.0, 0.0, 0.0, 0.0, 0.0, 0.0, 0.0, 0.0, 0.0, 0.0, 0.0, 0.0, 0.0, 0.0, 0.0, 0.0, 0.0, 0.0, 0.0, 0.0, 1.0, 0.0, 0.0, 0.0, 0.0, 0.0, 0.0, 0.0, 0.0, 0.0, 0.0, 0.0, 0.0, 0.0, 0.0, 0.0, 0.0, 0.0, 0.0, 0.0, 0.0, 1.0, 0.0, 0.0, 0.0, 0.0, 0.0, 0.0, 0.0, 0.0, 0.0, 1.0, 1.0, 0.0, 0.0, 0.0, 0.0, 0.0, 0.0, 0.0, 0.0, 0.0, 0.0, 0.0, 0.0, 0.0, 0.0, 0.0, 0.0, 0.0, 0.0, 0.0, 0.0, 0.0, 0.0, 0.0, 0.0, 0.0, 0.0, 0.0, 0.0, 0.0, 0.0, 0.0, 0.0, 0.0, 0.0, 0.0, 0.0, 0.0, 0.0, 0.0, 0.0, 0.0, 0.0, 0.0, 0.0, 0.0, 0.0, 0.0, 0.0, 0.0, 0.0, 0.0, 0.0, 0.0, 0.0, 0.0, 0.0, 0.0, 0.0, 0.0, 0.0, 0.0, 0.0, 0.0, 0.0, 0.0, 0.0, 0.0, 0.0, 0.0, 0.0, 0.0, 0.0, 0.0, 0.0, 0.0, 0.0, 0.0, 0.0, 1.0, 0.0, 0.0, 0.0, 0.0]\n",
      "Total Cost: -3.04235e6\n"
     ]
    }
   ],
   "source": [
    "###FIRST VERSION OF MODEL\n",
    "\n",
    "model = Model(Gurobi.Optimizer)\n",
    "set_optimizer_attribute(model, \"OutputFlag\", 0) \n",
    "\n",
    "M = 1_000_000\n",
    "\n",
    "# @variable(model, x[i=1:50, j=1:15] >= 0) # amount of waste transported\n",
    "@variable(model, z[i=1:N_CANDIDATE_STATIONS], Bin) # z: binary variable to indicate whether or not station is selected\n",
    "\n",
    "# @constraint(model, [i=1:50], sum(x[i, j] for j in 1:15) == q[i])\n",
    "# @constraint(model, [i=1:50, j=1:15], x[i, j] <= M * z[j])\n",
    "\n",
    "# add constraint that two candidate stations cannot be too close to each other or existing stations\n",
    "\n",
    "@constraint(model, sum(z[i] for i in 1:N_CANDIDATE_STATIONS) == N_NEW_STATIONS)\n",
    "@constraint(model, [i=1:N_CANDIDATE_STATIONS, j=1:N_CURRENT_STATIONS], distance[i, j] >=  1000 * z[i])\n",
    "\n",
    "@objective(model, Max, sum(-distance[i, j] * demand[j] * z[i] for i=1:N_CANDIDATE_STATIONS, j=1:N_CURRENT_STATIONS))\n",
    "\n",
    "optimize!(model)\n",
    "\n",
    "optimal_cost = objective_value(model)\n",
    "stations_chosen = value.(z)\n",
    "\n",
    "\n",
    "println(\"Optimal stations: $stations_chosen\")\n",
    "\n",
    "\n",
    "# printing optimal cost\n",
    "pretty_optimal_cost = round(optimal_cost)\n",
    "println(\"Total Cost: $pretty_optimal_cost\")"
   ]
  },
  {
   "cell_type": "code",
   "execution_count": 41,
   "metadata": {},
   "outputs": [
    {
     "data": {
      "text/plain": [
       "5-element Vector{Any}:\n",
       " \"Unnamed Road, Salem, MA 01970, USA\"\n",
       " \"91 Leach St, Salem, MA 01970, USA\"\n",
       " \"Building 4, Suite 160 Shetland Park, 45 Congress St, Salem, MA 01970, USA\"\n",
       " \"Unnamed Road, Salem, MA 01970, USA\"\n",
       " \"98 Collins St, Salem, MA 01970, USA\""
      ]
     },
     "execution_count": 41,
     "metadata": {},
     "output_type": "execute_result"
    }
   ],
   "source": [
    "candidate_station_addresses[findall(x -> x==1, stations_chosen)]"
   ]
  },
  {
   "cell_type": "code",
   "execution_count": 29,
   "metadata": {},
   "outputs": [
    {
     "ename": "LoadError",
     "evalue": "TypeError: non-boolean (Float64) used in boolean context",
     "output_type": "error",
     "traceback": [
      "TypeError: non-boolean (Float64) used in boolean context",
      "",
      "Stacktrace:",
      " [1] iterate",
      "   @ ./iterators.jl:447 [inlined]",
      " [2] iterate",
      "   @ ./generator.jl:44 [inlined]",
      " [3] grow_to!(dest::Vector{Int64}, itr::Base.Generator{Base.Iterators.Filter{Base.var\"#108#110\", Base.Pairs{Int64, Float64, LinearIndices{1, Tuple{Base.OneTo{Int64}}}, Vector{Float64}}}, Base.var\"#107#109\"})",
      "   @ Base ./array.jl:797",
      " [4] collect",
      "   @ ./array.jl:721 [inlined]",
      " [5] findall(A::Vector{Float64})",
      "   @ Base ./array.jl:2300",
      " [6] top-level scope",
      "   @ In[29]:1",
      " [7] eval",
      "   @ ./boot.jl:373 [inlined]",
      " [8] include_string(mapexpr::typeof(REPL.softscope), mod::Module, code::String, filename::String)",
      "   @ Base ./loading.jl:1196"
     ]
    }
   ],
   "source": [
    "findall(stations_chosen)"
   ]
  },
  {
   "cell_type": "markdown",
   "metadata": {},
   "source": [
    "**OPTIMIZATION FORMULATION:**\n",
    "\n",
    "Sets:\n",
    "- candidate stations $i\\in \\mathcal{I}=\\{1,\\ldots,n\\}$\n",
    "- existing stations $j\\in \\mathcal{J}=\\{1,\\ldots,m\\}$\n",
    "- attractions $k\\in \\mathcal{K}=\\{1,\\ldots,q\\}$\n",
    "\n",
    "Decision variable: $z_{i} $ = 1 if candidate station i is built, 0 otherwise\n",
    "\n",
    "Parameters:\n",
    "- $e_{ij} $ = distance between candidate station i and existing station j\n",
    "- $a_{ik} $ = distance between candidate station i and attraction k\n",
    "- $d_{j} $ = demand at existing station j\n",
    "- $v_{k} $ = number of google reviews for attraction k\n",
    "\n",
    "$$ \\max \\quad \\sum_{i = 1}^{n} \\sum_{j=1}^{m} \\frac{1}{e_{ij}} * d_{j}z_i\\ +\n",
    "\\sum_{i = 1}^{n} \\sum_{k=1}^{q} \\frac{1}{a_{ik}} * v_{k}z_i\\\\\n",
    "\n",
    "\\text{s.t.} \\quad \\sum_{i = 1}^{n} z_i <= 5\\\\\n",
    "\n",
    "e_{ij} >= 800z_i \\quad \\forall i,j\\\\\n",
    "\n",
    "z_i\\in\\{0,1\\}\n",
    "\n",
    "$$"
   ]
  },
  {
   "cell_type": "code",
   "execution_count": 50,
   "metadata": {},
   "outputs": [
    {
     "name": "stdout",
     "output_type": "stream",
     "text": [
      "Set parameter Username\n",
      "Academic license - for non-commercial use only - expires 2023-08-19\n",
      "Optimal stations: [0.0, 0.0, 0.0, 0.0, 0.0, 0.0, 0.0, 0.0, 0.0, 0.0, 0.0, 0.0, 0.0, 0.0, 0.0, 0.0, 0.0, 0.0, 0.0, 0.0, 0.0, 0.0, 0.0, 0.0, 0.0, 0.0, 0.0, 0.0, 0.0, 0.0, 0.0, 0.0, 0.0, 0.0, 0.0, 0.0, 0.0, 0.0, 0.0, 0.0, 0.0, 0.0, 0.0, 0.0, 0.0, 0.0, 0.0, 0.0, 0.0, 0.0, 0.0, 0.0, 0.0, 0.0, 0.0, 0.0, 0.0, 0.0, 0.0, 0.0, 0.0, 0.0, 0.0, 0.0, 0.0, 0.0, 0.0, 0.0, 0.0, 0.0, 0.0, 0.0, 0.0, 0.0, 0.0, 0.0, 0.0, 0.0, 0.0, 0.0, 0.0, 0.0, 0.0, 0.0, 0.0, 0.0, 0.0, 0.0, 0.0, 0.0, 0.0, 0.0, 0.0, 0.0, 0.0, 0.0, 0.0, 0.0, 0.0, 0.0, 0.0, 0.0, 0.0, 0.0, 0.0, 1.0, 0.0, 0.0, 0.0, 0.0, 0.0, 0.0, 0.0, 0.0, 1.0, 0.0, 1.0, 0.0, 0.0, 0.0, 0.0, 0.0, 0.0, 0.0, 0.0, 1.0, 1.0, 0.0, 0.0, 0.0, 0.0, 0.0, 0.0, 0.0, 0.0, 0.0, 0.0, 0.0, 0.0, 0.0, 0.0, 0.0]\n",
      "Total Cost: 183.0\n"
     ]
    }
   ],
   "source": [
    "###SECOND VERSION OF MODEL\n",
    "\n",
    "model = Model(Gurobi.Optimizer)\n",
    "set_optimizer_attribute(model, \"OutputFlag\", 0) \n",
    "\n",
    "M = 1_000_000\n",
    "\n",
    "# i - candidate stations\n",
    "# j - current stations\n",
    "# k - attractions\n",
    "\n",
    "@variable(model, z[i=1:N_CANDIDATE_STATIONS], Bin) # z: binary variable to indicate whether or not station is selected\n",
    "\n",
    "# add constraint that two candidate stations cannot be too close to each other or existing stations\n",
    "\n",
    "@constraint(model, sum(z[i] for i in 1:N_CANDIDATE_STATIONS) <= N_NEW_STATIONS) #can add up to N new stations\n",
    "@constraint(model, [i=1:N_CANDIDATE_STATIONS, j=1:N_CURRENT_STATIONS], existing_distance[i, j] >= DISTANCE_THRESHOLD * z[i]) #distance between existing and candidate stations must be at least distance threshold\n",
    "\n",
    "@objective(model, Max, \n",
    "    sum((1/existing_distance[i, j]) * demand[j] * z[i] for i=1:N_CANDIDATE_STATIONS, j=1:N_CURRENT_STATIONS) +\n",
    "    sum((1/attraction_distance[i, k]) * attraction_values[k] * z[i] for i=1:N_CANDIDATE_STATIONS, k=1:N_ATTRACTIONS))\n",
    "\n",
    "optimize!(model)\n",
    "\n",
    "optimal_cost = objective_value(model)\n",
    "stations_chosen = value.(z)\n",
    "\n",
    "\n",
    "println(\"Optimal stations: $stations_chosen\")\n",
    "\n",
    "\n",
    "# printing optimal cost\n",
    "pretty_optimal_cost = round(optimal_cost)\n",
    "println(\"Total Cost: $pretty_optimal_cost\")"
   ]
  },
  {
   "cell_type": "code",
   "execution_count": 74,
   "metadata": {},
   "outputs": [
    {
     "data": {
      "text/plain": [
       "5-element Vector{Any}:\n",
       " 106.0\n",
       " 115.0\n",
       " 117.0\n",
       " 126.0\n",
       " 127.0"
      ]
     },
     "execution_count": 74,
     "metadata": {},
     "output_type": "execute_result"
    }
   ],
   "source": [
    "candidate_addresses[findall(x -> x==1, stations_chosen)]"
   ]
  },
  {
   "cell_type": "code",
   "execution_count": 77,
   "metadata": {},
   "outputs": [
    {
     "data": {
      "text/plain": [
       "5-element Vector{Any}:\n",
       " \"23 Derby St, Salem, MA 01970, USA\"\n",
       " \"16 Briggs St, Salem, MA 01970, USA\"\n",
       " \"4 Fort Ave, Salem, MA 01970, USA\"\n",
       " \"13 Pleasant St, Salem, MA 01970, USA\"\n",
       " \"90 Webb St, Salem, MA 01970, USA\""
      ]
     },
     "execution_count": 77,
     "metadata": {},
     "output_type": "execute_result"
    }
   ],
   "source": [
    "candidate_addresses_raw[findall(x -> x==1, stations_chosen)]"
   ]
  },
  {
   "cell_type": "code",
   "execution_count": 78,
   "metadata": {},
   "outputs": [
    {
     "data": {
      "text/plain": [
       "5-element Vector{Any}:\n",
       " 106.0\n",
       "    \"23 Derby St, Salem, MA 01970, USA\"\n",
       "    \"(42.5247067, -70.8786058)\"\n",
       "  42.5247067\n",
       " -70.8786058"
      ]
     },
     "execution_count": 78,
     "metadata": {},
     "output_type": "execute_result"
    }
   ],
   "source": []
  },
  {
   "cell_type": "code",
   "execution_count": null,
   "metadata": {},
   "outputs": [],
   "source": []
  }
 ],
 "metadata": {
  "kernelspec": {
   "display_name": "Julia 1.8.0",
   "language": "julia",
   "name": "julia-1.8"
  },
  "language_info": {
   "file_extension": ".jl",
   "mimetype": "application/julia",
   "name": "julia",
   "version": "1.8.0"
  },
  "orig_nbformat": 4,
  "vscode": {
   "interpreter": {
    "hash": "63d6f127d86314a340b3d99087fc86c7028b66270812fa264f7e46306cfcc6bd"
   }
  }
 },
 "nbformat": 4,
 "nbformat_minor": 2
}
