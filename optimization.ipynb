{
 "cells": [
  {
   "cell_type": "code",
   "execution_count": 4,
   "metadata": {},
   "outputs": [],
   "source": [
    "using DataFrames, CSV\n",
    "using JuMP, Gurobi\n",
    "using LinearAlgebra\n",
    "using JSON"
   ]
  },
  {
   "cell_type": "code",
   "execution_count": 7,
   "metadata": {},
   "outputs": [],
   "source": [
    "config = JSON.parsefile(\"config.json\")\n",
    "\n",
    "distance = Matrix(CSV.read(\"inputs/distance_matrix.csv\", DataFrame, header = true))\n",
    "demand_raw = Matrix(CSV.read(\"inputs/salem_demand.csv\", DataFrame, header = true))\n",
    "demand = demand_raw[:, 9];\n"
   ]
  },
  {
   "cell_type": "code",
   "execution_count": 6,
   "metadata": {},
   "outputs": [
    {
     "ename": "LoadError",
     "evalue": "UndefVarError: demand not defined",
     "output_type": "error",
     "traceback": [
      "UndefVarError: demand not defined",
      "",
      "Stacktrace:",
      " [1] top-level scope",
      "   @ In[6]:6",
      " [2] eval",
      "   @ ./boot.jl:373 [inlined]",
      " [3] include_string(mapexpr::typeof(REPL.softscope), mod::Module, code::String, filename::String)",
      "   @ Base ./loading.jl:1196"
     ]
    }
   ],
   "source": [
    "# parameters\n",
    "\n",
    "N_CANDIDATE_STATIONS = size(distance)[1]\n",
    "N_NEW_STATIONS = config[\"N_NEW_STATIONS\"]\n",
    "DISTANCE_THRESHOLD = config[\"DISTANCE_THRESHOLD\"]\n",
    "N_CURRENT_STATIONS = size(demand)[1]"
   ]
  },
  {
   "cell_type": "code",
   "execution_count": 40,
   "metadata": {},
   "outputs": [
    {
     "name": "stdout",
     "output_type": "stream",
     "text": [
      "Set parameter Username\n",
      "Academic license - for non-commercial use only - expires 2023-08-16\n",
      "Optimal stations: [0.0, 0.0, 0.0, 0.0, 0.0, 0.0, 0.0, 0.0, 0.0, 0.0, 0.0, 0.0, 0.0, 0.0, 0.0, 0.0, 0.0, 0.0, 0.0, 0.0, 0.0, 0.0, 0.0, 0.0, 0.0, 0.0, 0.0, 0.0, 0.0, 0.0, 0.0, 0.0, 0.0, 0.0, 0.0, 0.0, 0.0, 0.0, 0.0, 0.0, 0.0, 0.0, 0.0, 0.0, 0.0, 0.0, 0.0, 0.0, 0.0, 0.0, 0.0, 0.0, 0.0, 0.0, 0.0, 0.0, 0.0, 0.0, 1.0, 1.0, 0.0, 0.0, 0.0, 0.0, 0.0, 0.0, 0.0, 0.0, 0.0, 1.0, 1.0, 0.0, 0.0, 0.0, 0.0, 0.0, 0.0, 0.0, 0.0, 0.0, 0.0, 0.0, 0.0, 0.0, 0.0, 0.0, 0.0, 0.0, 0.0, 0.0, 0.0, 0.0, 0.0, 0.0, 0.0, 0.0, 0.0, 0.0, 0.0, 0.0, 0.0, 0.0, 0.0, 0.0, 0.0, 0.0, 0.0, 0.0, 0.0, 0.0, 0.0, 0.0, 0.0, 0.0, 0.0, 0.0, 0.0, 0.0, 0.0, 0.0, 0.0, 0.0, 0.0, 0.0, 0.0, 0.0, 0.0, 0.0, 0.0, 0.0, 0.0, 0.0, 0.0, 0.0, 0.0, 0.0, 0.0, 0.0, 0.0, 0.0, 1.0, 0.0, 0.0, 0.0]\n",
      "Total Cost: -3.013348e6\n"
     ]
    }
   ],
   "source": [
    "model = Model(Gurobi.Optimizer)\n",
    "set_optimizer_attribute(model, \"OutputFlag\", 0) \n",
    "\n",
    "M = 1_000_000\n",
    "\n",
    "# @variable(model, x[i=1:50, j=1:15] >= 0) # amount of waste transported\n",
    "@variable(model, z[i=1:N_CANDIDATE_STATIONS], Bin) # z: binary variable to indicate whether or not station is selected\n",
    "\n",
    "# @constraint(model, [i=1:50], sum(x[i, j] for j in 1:15) == q[i])\n",
    "# @constraint(model, [i=1:50, j=1:15], x[i, j] <= M * z[j])\n",
    "\n",
    "# add constraint that two candidate stations cannot be too close to each other or existing stations\n",
    "\n",
    "@constraint(model, sum(z[i] for i in 1:N_CANDIDATE_STATIONS) == N_NEW_STATIONS)\n",
    "@constraint(model, [i=1:N_CANDIDATE_STATIONS, j=1:N_CURRENT_STATIONS], distance[i, j] >=  1000 * z[i])\n",
    "\n",
    "@objective(model, Max, sum(-distance[i, j] * demand[j] * z[i] for i=1:N_CANDIDATE_STATIONS, j=1:N_CURRENT_STATIONS))\n",
    "\n",
    "optimize!(model)\n",
    "\n",
    "optimal_cost = objective_value(model)\n",
    "stations_chosen = value.(z)\n",
    "\n",
    "\n",
    "println(\"Optimal stations: $stations_chosen\")\n",
    "\n",
    "\n",
    "# printing optimal cost\n",
    "pretty_optimal_cost = round(optimal_cost)\n",
    "println(\"Total Cost: $pretty_optimal_cost\")"
   ]
  },
  {
   "cell_type": "code",
   "execution_count": 41,
   "metadata": {},
   "outputs": [
    {
     "data": {
      "text/plain": [
       "5-element Vector{Any}:\n",
       " \"Unnamed Road, Salem, MA 01970, USA\"\n",
       " \"91 Leach St, Salem, MA 01970, USA\"\n",
       " \"Building 4, Suite 160 Shetland Park, 45 Congress St, Salem, MA 01970, USA\"\n",
       " \"Unnamed Road, Salem, MA 01970, USA\"\n",
       " \"98 Collins St, Salem, MA 01970, USA\""
      ]
     },
     "execution_count": 41,
     "metadata": {},
     "output_type": "execute_result"
    }
   ],
   "source": [
    "candidate_station_addresses[findall(x -> x==1, stations_chosen)]"
   ]
  },
  {
   "cell_type": "code",
   "execution_count": 29,
   "metadata": {},
   "outputs": [
    {
     "ename": "LoadError",
     "evalue": "TypeError: non-boolean (Float64) used in boolean context",
     "output_type": "error",
     "traceback": [
      "TypeError: non-boolean (Float64) used in boolean context",
      "",
      "Stacktrace:",
      " [1] iterate",
      "   @ ./iterators.jl:447 [inlined]",
      " [2] iterate",
      "   @ ./generator.jl:44 [inlined]",
      " [3] grow_to!(dest::Vector{Int64}, itr::Base.Generator{Base.Iterators.Filter{Base.var\"#108#110\", Base.Pairs{Int64, Float64, LinearIndices{1, Tuple{Base.OneTo{Int64}}}, Vector{Float64}}}, Base.var\"#107#109\"})",
      "   @ Base ./array.jl:797",
      " [4] collect",
      "   @ ./array.jl:721 [inlined]",
      " [5] findall(A::Vector{Float64})",
      "   @ Base ./array.jl:2300",
      " [6] top-level scope",
      "   @ In[29]:1",
      " [7] eval",
      "   @ ./boot.jl:373 [inlined]",
      " [8] include_string(mapexpr::typeof(REPL.softscope), mod::Module, code::String, filename::String)",
      "   @ Base ./loading.jl:1196"
     ]
    }
   ],
   "source": [
    "findall(stations_chosen)"
   ]
  },
  {
   "cell_type": "code",
   "execution_count": null,
   "metadata": {},
   "outputs": [],
   "source": []
  }
 ],
 "metadata": {
  "kernelspec": {
   "display_name": "Julia 1.7.3",
   "language": "julia",
   "name": "julia-1.7"
  },
  "language_info": {
   "file_extension": ".jl",
   "mimetype": "application/julia",
   "name": "julia",
   "version": "1.7.3"
  },
  "orig_nbformat": 4,
  "vscode": {
   "interpreter": {
    "hash": "aee8b7b246df8f9039afb4144a1f6fd8d2ca17a180786b69acc140d282b71a49"
   }
  }
 },
 "nbformat": 4,
 "nbformat_minor": 2
}
