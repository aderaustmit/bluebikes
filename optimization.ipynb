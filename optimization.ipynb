{
 "cells": [
  {
   "cell_type": "code",
   "execution_count": 30,
   "metadata": {},
   "outputs": [],
   "source": [
    "using DataFrames, CSV\n",
    "using JuMP, Gurobi\n",
    "using LinearAlgebra"
   ]
  },
  {
   "cell_type": "code",
   "execution_count": 37,
   "metadata": {},
   "outputs": [],
   "source": [
    "distance_raw = Matrix(CSV.read(\"inputs/distance_matrix.csv\", DataFrame, header = true))\n",
    "demand_raw = Matrix(CSV.read(\"inputs/salem_demand.csv\", DataFrame, header = true))\n",
    "distance = distance_raw[:, 1:14]\n",
    "demand = demand_raw[:, 9];\n"
   ]
  },
  {
   "cell_type": "code",
   "execution_count": null,
   "metadata": {},
   "outputs": [],
   "source": [
    "model = Model(Gurobi.Optimizer)\n",
    "set_optimizer_attribute(model, \"OutputFlag\", 0) \n",
    "\n",
    "M = 1_000_000\n",
    "\n",
    "@variable(model, x[i=1:50, j=1:15] >= 0) # amount of waste transported\n",
    "@variable(model, z[j=1:15], Bin) # landfill selected or not\n",
    "\n",
    "@constraint(model, [i=1:50], sum(x[i, j] for j in 1:15) == q[i])\n",
    "@constraint(model, [i=1:50, j=1:15], x[i, j] <= M * z[j])\n",
    "@constraint(model, sum(z[j] for j in 1:15) <= 5)\n",
    "\n",
    "@objective(model, Min, sum(distance[i, j] * x[i,j] for i=1:50 for j=1:15))\n",
    "\n",
    "optimize!(model)\n",
    "\n",
    "optimal_cost = objective_value(model)\n",
    "optimal_waste_transported = value.(x)\n",
    "optimal_landfills = value.(z)\n",
    "\n",
    "\n",
    "println(\"Optimal landfills: $optimal_landfills\")\n",
    "println(\"The optimal landfills built are 3, 4, 7, 13, 14\")\n",
    "\n",
    "\n",
    "# printing optimal cost\n",
    "pretty_optimal_cost = round(optimal_cost)\n",
    "println(\"Total distance traveled by the waste: $pretty_optimal_cost\")"
   ]
  }
 ],
 "metadata": {
  "kernelspec": {
   "display_name": "Julia 1.7.3",
   "language": "julia",
   "name": "julia-1.7"
  },
  "language_info": {
   "file_extension": ".jl",
   "mimetype": "application/julia",
   "name": "julia",
   "version": "1.7.3"
  },
  "orig_nbformat": 4,
  "vscode": {
   "interpreter": {
    "hash": "aee8b7b246df8f9039afb4144a1f6fd8d2ca17a180786b69acc140d282b71a49"
   }
  }
 },
 "nbformat": 4,
 "nbformat_minor": 2
}
