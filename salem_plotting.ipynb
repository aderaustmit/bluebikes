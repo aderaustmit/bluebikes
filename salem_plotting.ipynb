{
 "cells": [
  {
   "cell_type": "code",
   "execution_count": 1,
   "metadata": {},
   "outputs": [],
   "source": [
    "import numpy as np\n",
    "import matplotlib.pyplot as plt\n",
    "import pandas as pd\n",
    "import plotly.express as px\n",
    "\n",
    "# Project for UTM conversion (Universal Traverse Mercator Projection) https://github.com/Turbo87/utm\n",
    "import utm\n",
    "\n",
    "pd.set_option('display.max_columns', 500)"
   ]
  },
  {
   "cell_type": "code",
   "execution_count": 333,
   "metadata": {},
   "outputs": [],
   "source": [
    "salem_demand_raw = pd.read_csv('inputs/salem_demand.csv')\n",
    "salem_demand_raw.columns = [c.replace(' ', '_') for c in salem_demand_raw.columns]\n",
    "salem_demand_df = salem_demand_raw.drop(columns = ['Unnamed:_0'])\n",
    "\n",
    "stations_demand = pd.read_csv('data/stations.csv', header = 1)"
   ]
  },
  {
   "cell_type": "code",
   "execution_count": 334,
   "metadata": {},
   "outputs": [
    {
     "data": {
      "text/html": [
       "<div>\n",
       "<style scoped>\n",
       "    .dataframe tbody tr th:only-of-type {\n",
       "        vertical-align: middle;\n",
       "    }\n",
       "\n",
       "    .dataframe tbody tr th {\n",
       "        vertical-align: top;\n",
       "    }\n",
       "\n",
       "    .dataframe thead th {\n",
       "        text-align: right;\n",
       "    }\n",
       "</style>\n",
       "<table border=\"1\" class=\"dataframe\">\n",
       "  <thead>\n",
       "    <tr style=\"text-align: right;\">\n",
       "      <th></th>\n",
       "      <th>Number</th>\n",
       "      <th>Name</th>\n",
       "      <th>Latitude</th>\n",
       "      <th>Longitude</th>\n",
       "      <th>District</th>\n",
       "      <th>Public</th>\n",
       "      <th>Total docks</th>\n",
       "      <th>Deployment Year</th>\n",
       "    </tr>\n",
       "  </thead>\n",
       "  <tbody>\n",
       "    <tr>\n",
       "      <th>0</th>\n",
       "      <td>K32015</td>\n",
       "      <td>1200 Beacon St</td>\n",
       "      <td>42.344149</td>\n",
       "      <td>-71.114674</td>\n",
       "      <td>Brookline</td>\n",
       "      <td>Yes</td>\n",
       "      <td>15</td>\n",
       "      <td>2021</td>\n",
       "    </tr>\n",
       "    <tr>\n",
       "      <th>1</th>\n",
       "      <td>W32006</td>\n",
       "      <td>160 Arsenal</td>\n",
       "      <td>42.364664</td>\n",
       "      <td>-71.175694</td>\n",
       "      <td>Watertown</td>\n",
       "      <td>Yes</td>\n",
       "      <td>11</td>\n",
       "      <td>2021</td>\n",
       "    </tr>\n",
       "    <tr>\n",
       "      <th>2</th>\n",
       "      <td>A32019</td>\n",
       "      <td>175 N Harvard St</td>\n",
       "      <td>42.363796</td>\n",
       "      <td>-71.129164</td>\n",
       "      <td>Boston</td>\n",
       "      <td>Yes</td>\n",
       "      <td>17</td>\n",
       "      <td>2014</td>\n",
       "    </tr>\n",
       "    <tr>\n",
       "      <th>3</th>\n",
       "      <td>S32035</td>\n",
       "      <td>191 Beacon St</td>\n",
       "      <td>42.380323</td>\n",
       "      <td>-71.108786</td>\n",
       "      <td>Somerville</td>\n",
       "      <td>Yes</td>\n",
       "      <td>19</td>\n",
       "      <td>2018</td>\n",
       "    </tr>\n",
       "    <tr>\n",
       "      <th>4</th>\n",
       "      <td>C32094</td>\n",
       "      <td>2 Hummingbird Lane at Olmsted Green</td>\n",
       "      <td>42.288870</td>\n",
       "      <td>-71.095003</td>\n",
       "      <td>Boston</td>\n",
       "      <td>Yes</td>\n",
       "      <td>17</td>\n",
       "      <td>2020</td>\n",
       "    </tr>\n",
       "    <tr>\n",
       "      <th>...</th>\n",
       "      <td>...</td>\n",
       "      <td>...</td>\n",
       "      <td>...</td>\n",
       "      <td>...</td>\n",
       "      <td>...</td>\n",
       "      <td>...</td>\n",
       "      <td>...</td>\n",
       "      <td>...</td>\n",
       "    </tr>\n",
       "    <tr>\n",
       "      <th>441</th>\n",
       "      <td>N32005</td>\n",
       "      <td>West Newton</td>\n",
       "      <td>42.349601</td>\n",
       "      <td>-71.226275</td>\n",
       "      <td>Newton</td>\n",
       "      <td>Yes</td>\n",
       "      <td>14</td>\n",
       "      <td>2020</td>\n",
       "    </tr>\n",
       "    <tr>\n",
       "      <th>442</th>\n",
       "      <td>A32043</td>\n",
       "      <td>Western Ave at Richardson St</td>\n",
       "      <td>42.361787</td>\n",
       "      <td>-71.143931</td>\n",
       "      <td>Boston</td>\n",
       "      <td>Yes</td>\n",
       "      <td>0</td>\n",
       "      <td>2019</td>\n",
       "    </tr>\n",
       "    <tr>\n",
       "      <th>443</th>\n",
       "      <td>B32059</td>\n",
       "      <td>Whittier St Health Center</td>\n",
       "      <td>42.332863</td>\n",
       "      <td>-71.092189</td>\n",
       "      <td>Boston</td>\n",
       "      <td>Yes</td>\n",
       "      <td>19</td>\n",
       "      <td>2019</td>\n",
       "    </tr>\n",
       "    <tr>\n",
       "      <th>444</th>\n",
       "      <td>D32040</td>\n",
       "      <td>Williams St at Washington St</td>\n",
       "      <td>42.306539</td>\n",
       "      <td>-71.107669</td>\n",
       "      <td>Boston</td>\n",
       "      <td>Yes</td>\n",
       "      <td>23</td>\n",
       "      <td>2018</td>\n",
       "    </tr>\n",
       "    <tr>\n",
       "      <th>445</th>\n",
       "      <td>S32005</td>\n",
       "      <td>Wilson Square</td>\n",
       "      <td>42.385676</td>\n",
       "      <td>-71.114121</td>\n",
       "      <td>Somerville</td>\n",
       "      <td>Yes</td>\n",
       "      <td>15</td>\n",
       "      <td>2012</td>\n",
       "    </tr>\n",
       "  </tbody>\n",
       "</table>\n",
       "<p>446 rows × 8 columns</p>\n",
       "</div>"
      ],
      "text/plain": [
       "     Number                                 Name   Latitude  Longitude  \\\n",
       "0    K32015                       1200 Beacon St  42.344149 -71.114674   \n",
       "1    W32006                          160 Arsenal  42.364664 -71.175694   \n",
       "2    A32019                     175 N Harvard St  42.363796 -71.129164   \n",
       "3    S32035                        191 Beacon St  42.380323 -71.108786   \n",
       "4    C32094  2 Hummingbird Lane at Olmsted Green  42.288870 -71.095003   \n",
       "..      ...                                  ...        ...        ...   \n",
       "441  N32005                          West Newton  42.349601 -71.226275   \n",
       "442  A32043         Western Ave at Richardson St  42.361787 -71.143931   \n",
       "443  B32059            Whittier St Health Center  42.332863 -71.092189   \n",
       "444  D32040         Williams St at Washington St  42.306539 -71.107669   \n",
       "445  S32005                        Wilson Square  42.385676 -71.114121   \n",
       "\n",
       "       District Public  Total docks  Deployment Year  \n",
       "0     Brookline    Yes           15             2021  \n",
       "1     Watertown    Yes           11             2021  \n",
       "2        Boston    Yes           17             2014  \n",
       "3    Somerville    Yes           19             2018  \n",
       "4        Boston    Yes           17             2020  \n",
       "..          ...    ...          ...              ...  \n",
       "441      Newton    Yes           14             2020  \n",
       "442      Boston    Yes            0             2019  \n",
       "443      Boston    Yes           19             2019  \n",
       "444      Boston    Yes           23             2018  \n",
       "445  Somerville    Yes           15             2012  \n",
       "\n",
       "[446 rows x 8 columns]"
      ]
     },
     "execution_count": 334,
     "metadata": {},
     "output_type": "execute_result"
    }
   ],
   "source": [
    "stations_demand"
   ]
  },
  {
   "cell_type": "code",
   "execution_count": 340,
   "metadata": {},
   "outputs": [
    {
     "data": {
      "text/html": [
       "<div>\n",
       "<style scoped>\n",
       "    .dataframe tbody tr th:only-of-type {\n",
       "        vertical-align: middle;\n",
       "    }\n",
       "\n",
       "    .dataframe tbody tr th {\n",
       "        vertical-align: top;\n",
       "    }\n",
       "\n",
       "    .dataframe thead th {\n",
       "        text-align: right;\n",
       "    }\n",
       "</style>\n",
       "<table border=\"1\" class=\"dataframe\">\n",
       "  <thead>\n",
       "    <tr style=\"text-align: right;\">\n",
       "      <th></th>\n",
       "      <th>station_id</th>\n",
       "      <th>Number</th>\n",
       "      <th>Name</th>\n",
       "      <th>Latitude</th>\n",
       "      <th>Longitude</th>\n",
       "      <th>Total_docks</th>\n",
       "      <th>count</th>\n",
       "      <th>demand</th>\n",
       "    </tr>\n",
       "  </thead>\n",
       "  <tbody>\n",
       "    <tr>\n",
       "      <th>0</th>\n",
       "      <td>516</td>\n",
       "      <td>T32001</td>\n",
       "      <td>Salem Ferry Landing</td>\n",
       "      <td>42.521893</td>\n",
       "      <td>-70.880691</td>\n",
       "      <td>11</td>\n",
       "      <td>1125</td>\n",
       "      <td>102.272727</td>\n",
       "    </tr>\n",
       "    <tr>\n",
       "      <th>1</th>\n",
       "      <td>517</td>\n",
       "      <td>T32002</td>\n",
       "      <td>Salem Willows Park</td>\n",
       "      <td>42.534669</td>\n",
       "      <td>-70.870214</td>\n",
       "      <td>15</td>\n",
       "      <td>2002</td>\n",
       "      <td>133.466667</td>\n",
       "    </tr>\n",
       "    <tr>\n",
       "      <th>2</th>\n",
       "      <td>518</td>\n",
       "      <td>T32003</td>\n",
       "      <td>Shetland Park - Congress at Peabody St</td>\n",
       "      <td>42.518368</td>\n",
       "      <td>-70.889524</td>\n",
       "      <td>11</td>\n",
       "      <td>1699</td>\n",
       "      <td>154.454545</td>\n",
       "    </tr>\n",
       "    <tr>\n",
       "      <th>3</th>\n",
       "      <td>519</td>\n",
       "      <td>T32004</td>\n",
       "      <td>Mayor Salvo Path at Mill St</td>\n",
       "      <td>42.518035</td>\n",
       "      <td>-70.895701</td>\n",
       "      <td>11</td>\n",
       "      <td>2664</td>\n",
       "      <td>242.181818</td>\n",
       "    </tr>\n",
       "    <tr>\n",
       "      <th>4</th>\n",
       "      <td>520</td>\n",
       "      <td>T32005</td>\n",
       "      <td>Salem MBTA - Washington at Federal St</td>\n",
       "      <td>42.523452</td>\n",
       "      <td>-70.896111</td>\n",
       "      <td>13</td>\n",
       "      <td>2947</td>\n",
       "      <td>226.692308</td>\n",
       "    </tr>\n",
       "    <tr>\n",
       "      <th>5</th>\n",
       "      <td>521</td>\n",
       "      <td>T32006</td>\n",
       "      <td>Lafayette at Leach St</td>\n",
       "      <td>42.511428</td>\n",
       "      <td>-70.891833</td>\n",
       "      <td>11</td>\n",
       "      <td>1114</td>\n",
       "      <td>101.272727</td>\n",
       "    </tr>\n",
       "    <tr>\n",
       "      <th>6</th>\n",
       "      <td>562</td>\n",
       "      <td>T32008</td>\n",
       "      <td>Hawthorne Boulevard</td>\n",
       "      <td>42.522371</td>\n",
       "      <td>-70.890333</td>\n",
       "      <td>9</td>\n",
       "      <td>2669</td>\n",
       "      <td>296.555556</td>\n",
       "    </tr>\n",
       "    <tr>\n",
       "      <th>7</th>\n",
       "      <td>570</td>\n",
       "      <td>T32009</td>\n",
       "      <td>Salem State University - North Campus</td>\n",
       "      <td>42.503332</td>\n",
       "      <td>-70.891444</td>\n",
       "      <td>11</td>\n",
       "      <td>779</td>\n",
       "      <td>70.818182</td>\n",
       "    </tr>\n",
       "    <tr>\n",
       "      <th>8</th>\n",
       "      <td>571</td>\n",
       "      <td>T32010</td>\n",
       "      <td>Forest River Park</td>\n",
       "      <td>42.506395</td>\n",
       "      <td>-70.886930</td>\n",
       "      <td>11</td>\n",
       "      <td>530</td>\n",
       "      <td>48.181818</td>\n",
       "    </tr>\n",
       "    <tr>\n",
       "      <th>9</th>\n",
       "      <td>572</td>\n",
       "      <td>T32011</td>\n",
       "      <td>Essex St at Dalton Parkway</td>\n",
       "      <td>42.516223</td>\n",
       "      <td>-70.905535</td>\n",
       "      <td>11</td>\n",
       "      <td>257</td>\n",
       "      <td>23.363636</td>\n",
       "    </tr>\n",
       "    <tr>\n",
       "      <th>10</th>\n",
       "      <td>573</td>\n",
       "      <td>T32012</td>\n",
       "      <td>Salem MBTA - Lower Level</td>\n",
       "      <td>42.523994</td>\n",
       "      <td>-70.896840</td>\n",
       "      <td>11</td>\n",
       "      <td>189</td>\n",
       "      <td>17.181818</td>\n",
       "    </tr>\n",
       "    <tr>\n",
       "      <th>11</th>\n",
       "      <td>574</td>\n",
       "      <td>T32013</td>\n",
       "      <td>Community Life Center</td>\n",
       "      <td>42.520136</td>\n",
       "      <td>-70.906271</td>\n",
       "      <td>9</td>\n",
       "      <td>42</td>\n",
       "      <td>4.666667</td>\n",
       "    </tr>\n",
       "    <tr>\n",
       "      <th>12</th>\n",
       "      <td>575</td>\n",
       "      <td>T32014</td>\n",
       "      <td>Goodhue St at Grove St</td>\n",
       "      <td>42.520897</td>\n",
       "      <td>-70.910528</td>\n",
       "      <td>11</td>\n",
       "      <td>90</td>\n",
       "      <td>8.181818</td>\n",
       "    </tr>\n",
       "  </tbody>\n",
       "</table>\n",
       "</div>"
      ],
      "text/plain": [
       "    station_id  Number                                    Name   Latitude  \\\n",
       "0          516  T32001                     Salem Ferry Landing  42.521893   \n",
       "1          517  T32002                      Salem Willows Park  42.534669   \n",
       "2          518  T32003  Shetland Park - Congress at Peabody St  42.518368   \n",
       "3          519  T32004             Mayor Salvo Path at Mill St  42.518035   \n",
       "4          520  T32005   Salem MBTA - Washington at Federal St  42.523452   \n",
       "5          521  T32006                   Lafayette at Leach St  42.511428   \n",
       "6          562  T32008                     Hawthorne Boulevard  42.522371   \n",
       "7          570  T32009   Salem State University - North Campus  42.503332   \n",
       "8          571  T32010                       Forest River Park  42.506395   \n",
       "9          572  T32011              Essex St at Dalton Parkway  42.516223   \n",
       "10         573  T32012                Salem MBTA - Lower Level  42.523994   \n",
       "11         574  T32013                   Community Life Center  42.520136   \n",
       "12         575  T32014                  Goodhue St at Grove St  42.520897   \n",
       "\n",
       "    Longitude  Total_docks  count      demand  \n",
       "0  -70.880691           11   1125  102.272727  \n",
       "1  -70.870214           15   2002  133.466667  \n",
       "2  -70.889524           11   1699  154.454545  \n",
       "3  -70.895701           11   2664  242.181818  \n",
       "4  -70.896111           13   2947  226.692308  \n",
       "5  -70.891833           11   1114  101.272727  \n",
       "6  -70.890333            9   2669  296.555556  \n",
       "7  -70.891444           11    779   70.818182  \n",
       "8  -70.886930           11    530   48.181818  \n",
       "9  -70.905535           11    257   23.363636  \n",
       "10 -70.896840           11    189   17.181818  \n",
       "11 -70.906271            9     42    4.666667  \n",
       "12 -70.910528           11     90    8.181818  "
      ]
     },
     "execution_count": 340,
     "metadata": {},
     "output_type": "execute_result"
    }
   ],
   "source": [
    "salem_demand_df"
   ]
  },
  {
   "cell_type": "code",
   "execution_count": 139,
   "metadata": {},
   "outputs": [],
   "source": [
    "ball_size = 0.1\n",
    "salem_demand_df[\"Size\"] = ball_size * np.ones(len(salem_demand_df))"
   ]
  },
  {
   "cell_type": "code",
   "execution_count": 51,
   "metadata": {},
   "outputs": [
    {
     "data": {
      "text/html": [
       "<div>\n",
       "<style scoped>\n",
       "    .dataframe tbody tr th:only-of-type {\n",
       "        vertical-align: middle;\n",
       "    }\n",
       "\n",
       "    .dataframe tbody tr th {\n",
       "        vertical-align: top;\n",
       "    }\n",
       "\n",
       "    .dataframe thead th {\n",
       "        text-align: right;\n",
       "    }\n",
       "</style>\n",
       "<table border=\"1\" class=\"dataframe\">\n",
       "  <thead>\n",
       "    <tr style=\"text-align: right;\">\n",
       "      <th></th>\n",
       "      <th>station_id</th>\n",
       "      <th>Number</th>\n",
       "      <th>Name</th>\n",
       "      <th>Latitude</th>\n",
       "      <th>Longitude</th>\n",
       "      <th>Total_docks</th>\n",
       "      <th>count</th>\n",
       "      <th>demand</th>\n",
       "      <th>Colors</th>\n",
       "      <th>Size</th>\n",
       "    </tr>\n",
       "  </thead>\n",
       "  <tbody>\n",
       "    <tr>\n",
       "      <th>0</th>\n",
       "      <td>516</td>\n",
       "      <td>T32001</td>\n",
       "      <td>Salem Ferry Landing</td>\n",
       "      <td>42.521893</td>\n",
       "      <td>-70.880691</td>\n",
       "      <td>11</td>\n",
       "      <td>1125</td>\n",
       "      <td>102.272727</td>\n",
       "      <td>fuchsia</td>\n",
       "      <td>0.1</td>\n",
       "    </tr>\n",
       "    <tr>\n",
       "      <th>1</th>\n",
       "      <td>517</td>\n",
       "      <td>T32002</td>\n",
       "      <td>Salem Willows Park</td>\n",
       "      <td>42.534669</td>\n",
       "      <td>-70.870214</td>\n",
       "      <td>15</td>\n",
       "      <td>2002</td>\n",
       "      <td>133.466667</td>\n",
       "      <td>fuchsia</td>\n",
       "      <td>0.1</td>\n",
       "    </tr>\n",
       "    <tr>\n",
       "      <th>2</th>\n",
       "      <td>518</td>\n",
       "      <td>T32003</td>\n",
       "      <td>Shetland Park - Congress at Peabody St</td>\n",
       "      <td>42.518368</td>\n",
       "      <td>-70.889524</td>\n",
       "      <td>11</td>\n",
       "      <td>1699</td>\n",
       "      <td>154.454545</td>\n",
       "      <td>fuchsia</td>\n",
       "      <td>0.1</td>\n",
       "    </tr>\n",
       "    <tr>\n",
       "      <th>3</th>\n",
       "      <td>519</td>\n",
       "      <td>T32004</td>\n",
       "      <td>Mayor Salvo Path at Mill St</td>\n",
       "      <td>42.518035</td>\n",
       "      <td>-70.895701</td>\n",
       "      <td>11</td>\n",
       "      <td>2664</td>\n",
       "      <td>242.181818</td>\n",
       "      <td>fuchsia</td>\n",
       "      <td>0.1</td>\n",
       "    </tr>\n",
       "    <tr>\n",
       "      <th>4</th>\n",
       "      <td>520</td>\n",
       "      <td>T32005</td>\n",
       "      <td>Salem MBTA - Washington at Federal St</td>\n",
       "      <td>42.523452</td>\n",
       "      <td>-70.896111</td>\n",
       "      <td>13</td>\n",
       "      <td>2947</td>\n",
       "      <td>226.692308</td>\n",
       "      <td>fuchsia</td>\n",
       "      <td>0.1</td>\n",
       "    </tr>\n",
       "    <tr>\n",
       "      <th>5</th>\n",
       "      <td>521</td>\n",
       "      <td>T32006</td>\n",
       "      <td>Lafayette at Leach St</td>\n",
       "      <td>42.511428</td>\n",
       "      <td>-70.891833</td>\n",
       "      <td>11</td>\n",
       "      <td>1114</td>\n",
       "      <td>101.272727</td>\n",
       "      <td>fuchsia</td>\n",
       "      <td>0.1</td>\n",
       "    </tr>\n",
       "    <tr>\n",
       "      <th>6</th>\n",
       "      <td>562</td>\n",
       "      <td>T32008</td>\n",
       "      <td>Hawthorne Boulevard</td>\n",
       "      <td>42.522371</td>\n",
       "      <td>-70.890333</td>\n",
       "      <td>9</td>\n",
       "      <td>2669</td>\n",
       "      <td>296.555556</td>\n",
       "      <td>fuchsia</td>\n",
       "      <td>0.1</td>\n",
       "    </tr>\n",
       "    <tr>\n",
       "      <th>7</th>\n",
       "      <td>570</td>\n",
       "      <td>T32009</td>\n",
       "      <td>Salem State University - North Campus</td>\n",
       "      <td>42.503332</td>\n",
       "      <td>-70.891444</td>\n",
       "      <td>11</td>\n",
       "      <td>779</td>\n",
       "      <td>70.818182</td>\n",
       "      <td>fuchsia</td>\n",
       "      <td>0.1</td>\n",
       "    </tr>\n",
       "    <tr>\n",
       "      <th>8</th>\n",
       "      <td>571</td>\n",
       "      <td>T32010</td>\n",
       "      <td>Forest River Park</td>\n",
       "      <td>42.506395</td>\n",
       "      <td>-70.886930</td>\n",
       "      <td>11</td>\n",
       "      <td>530</td>\n",
       "      <td>48.181818</td>\n",
       "      <td>fuchsia</td>\n",
       "      <td>0.1</td>\n",
       "    </tr>\n",
       "    <tr>\n",
       "      <th>9</th>\n",
       "      <td>572</td>\n",
       "      <td>T32011</td>\n",
       "      <td>Essex St at Dalton Parkway</td>\n",
       "      <td>42.516223</td>\n",
       "      <td>-70.905535</td>\n",
       "      <td>11</td>\n",
       "      <td>257</td>\n",
       "      <td>23.363636</td>\n",
       "      <td>fuchsia</td>\n",
       "      <td>0.1</td>\n",
       "    </tr>\n",
       "    <tr>\n",
       "      <th>10</th>\n",
       "      <td>573</td>\n",
       "      <td>T32012</td>\n",
       "      <td>Salem MBTA - Lower Level</td>\n",
       "      <td>42.523994</td>\n",
       "      <td>-70.896840</td>\n",
       "      <td>11</td>\n",
       "      <td>189</td>\n",
       "      <td>17.181818</td>\n",
       "      <td>fuchsia</td>\n",
       "      <td>0.1</td>\n",
       "    </tr>\n",
       "    <tr>\n",
       "      <th>11</th>\n",
       "      <td>574</td>\n",
       "      <td>T32013</td>\n",
       "      <td>Community Life Center</td>\n",
       "      <td>42.520136</td>\n",
       "      <td>-70.906271</td>\n",
       "      <td>9</td>\n",
       "      <td>42</td>\n",
       "      <td>4.666667</td>\n",
       "      <td>fuchsia</td>\n",
       "      <td>0.1</td>\n",
       "    </tr>\n",
       "    <tr>\n",
       "      <th>12</th>\n",
       "      <td>575</td>\n",
       "      <td>T32014</td>\n",
       "      <td>Goodhue St at Grove St</td>\n",
       "      <td>42.520897</td>\n",
       "      <td>-70.910528</td>\n",
       "      <td>11</td>\n",
       "      <td>90</td>\n",
       "      <td>8.181818</td>\n",
       "      <td>fuchsia</td>\n",
       "      <td>0.1</td>\n",
       "    </tr>\n",
       "  </tbody>\n",
       "</table>\n",
       "</div>"
      ],
      "text/plain": [
       "    station_id  Number                                    Name   Latitude  \\\n",
       "0          516  T32001                     Salem Ferry Landing  42.521893   \n",
       "1          517  T32002                      Salem Willows Park  42.534669   \n",
       "2          518  T32003  Shetland Park - Congress at Peabody St  42.518368   \n",
       "3          519  T32004             Mayor Salvo Path at Mill St  42.518035   \n",
       "4          520  T32005   Salem MBTA - Washington at Federal St  42.523452   \n",
       "5          521  T32006                   Lafayette at Leach St  42.511428   \n",
       "6          562  T32008                     Hawthorne Boulevard  42.522371   \n",
       "7          570  T32009   Salem State University - North Campus  42.503332   \n",
       "8          571  T32010                       Forest River Park  42.506395   \n",
       "9          572  T32011              Essex St at Dalton Parkway  42.516223   \n",
       "10         573  T32012                Salem MBTA - Lower Level  42.523994   \n",
       "11         574  T32013                   Community Life Center  42.520136   \n",
       "12         575  T32014                  Goodhue St at Grove St  42.520897   \n",
       "\n",
       "    Longitude  Total_docks  count      demand   Colors  Size  \n",
       "0  -70.880691           11   1125  102.272727  fuchsia   0.1  \n",
       "1  -70.870214           15   2002  133.466667  fuchsia   0.1  \n",
       "2  -70.889524           11   1699  154.454545  fuchsia   0.1  \n",
       "3  -70.895701           11   2664  242.181818  fuchsia   0.1  \n",
       "4  -70.896111           13   2947  226.692308  fuchsia   0.1  \n",
       "5  -70.891833           11   1114  101.272727  fuchsia   0.1  \n",
       "6  -70.890333            9   2669  296.555556  fuchsia   0.1  \n",
       "7  -70.891444           11    779   70.818182  fuchsia   0.1  \n",
       "8  -70.886930           11    530   48.181818  fuchsia   0.1  \n",
       "9  -70.905535           11    257   23.363636  fuchsia   0.1  \n",
       "10 -70.896840           11    189   17.181818  fuchsia   0.1  \n",
       "11 -70.906271            9     42    4.666667  fuchsia   0.1  \n",
       "12 -70.910528           11     90    8.181818  fuchsia   0.1  "
      ]
     },
     "execution_count": 51,
     "metadata": {},
     "output_type": "execute_result"
    }
   ],
   "source": [
    "salem_demand_df"
   ]
  },
  {
   "cell_type": "code",
   "execution_count": 140,
   "metadata": {},
   "outputs": [
    {
     "data": {
      "image/png": "[encoded data removed]",
      "text/plain": [
       "<Figure size 640x480 with 1 Axes>"
      ]
     },
     "metadata": {},
     "output_type": "display_data"
    }
   ],
   "source": [
    "def add_x_y(input_df):\n",
    "    if \"x\" in input_df.keys() or \"y\" in input_df.keys():\n",
    "        return input_df\n",
    "    \n",
    "    def rule(row):\n",
    "        x, y, zone_number, zone_letter = utm.from_latlon(row[\"Latitude\"], row[\"Longitude\"])\n",
    "        return pd.Series({\"x\": x, \"y\": y, \"zone_number\": zone_number, \"zone_letter\": zone_letter})\n",
    "    output_df = input_df.merge(input_df.apply(rule, axis=1), left_index=True, right_index=True)\n",
    "    \n",
    "    def rule2(row):\n",
    "        xnew, ynew = row[\"x\"]-output_df[\"x\"].min(),row[\"y\"]-output_df[\"y\"].min()\n",
    "        return pd.Series({\"xnew\": xnew, \"ynew\": ynew})\n",
    "    output_df = output_df.merge(output_df.apply(rule2, axis=1), left_index=True, right_index=True)\n",
    "    return output_df\n",
    "    \n",
    "salem_demand_df = add_x_y(salem_demand_df)\n",
    "x_list = salem_demand_df[\"xnew\"].values\n",
    "y_list = salem_demand_df[\"ynew\"].values\n",
    "plt.scatter(x_list, y_list)\n",
    "plt.show()"
   ]
  },
  {
   "cell_type": "code",
   "execution_count": 335,
   "metadata": {},
   "outputs": [
    {
     "data": {
      "image/png": "[encoded data removed]",
      "text/plain": [
       "<Figure size 640x480 with 1 Axes>"
      ]
     },
     "metadata": {},
     "output_type": "display_data"
    }
   ],
   "source": [
    "stations_demand = add_x_y(stations_demand)\n",
    "x_list = stations_demand[\"xnew\"].values\n",
    "y_list = stations_demand[\"ynew\"].values\n",
    "plt.scatter(x_list, y_list)\n",
    "plt.show()"
   ]
  },
  {
   "cell_type": "code",
   "execution_count": 348,
   "metadata": {},
   "outputs": [
    {
     "data": {
      "text/html": [
       "<div>\n",
       "<style scoped>\n",
       "    .dataframe tbody tr th:only-of-type {\n",
       "        vertical-align: middle;\n",
       "    }\n",
       "\n",
       "    .dataframe tbody tr th {\n",
       "        vertical-align: top;\n",
       "    }\n",
       "\n",
       "    .dataframe thead th {\n",
       "        text-align: right;\n",
       "    }\n",
       "</style>\n",
       "<table border=\"1\" class=\"dataframe\">\n",
       "  <thead>\n",
       "    <tr style=\"text-align: right;\">\n",
       "      <th></th>\n",
       "      <th>Unnamed: 0</th>\n",
       "      <th>station_id</th>\n",
       "      <th>Number</th>\n",
       "      <th>Name</th>\n",
       "      <th>Latitude</th>\n",
       "      <th>Longitude</th>\n",
       "      <th>Total_docks</th>\n",
       "      <th>count</th>\n",
       "      <th>demand</th>\n",
       "      <th>Size</th>\n",
       "      <th>x</th>\n",
       "      <th>y</th>\n",
       "      <th>zone_number</th>\n",
       "      <th>zone_letter</th>\n",
       "      <th>xnew</th>\n",
       "      <th>ynew</th>\n",
       "      <th>norm</th>\n",
       "      <th>Group</th>\n",
       "    </tr>\n",
       "  </thead>\n",
       "  <tbody>\n",
       "    <tr>\n",
       "      <th>0</th>\n",
       "      <td>0</td>\n",
       "      <td>516</td>\n",
       "      <td>T32001</td>\n",
       "      <td>Salem Ferry Landing</td>\n",
       "      <td>42.521893</td>\n",
       "      <td>-70.880691</td>\n",
       "      <td>11</td>\n",
       "      <td>1125</td>\n",
       "      <td>102.272727</td>\n",
       "      <td>0.1</td>\n",
       "      <td>345522.357606</td>\n",
       "      <td>4.709438e+06</td>\n",
       "      <td>19</td>\n",
       "      <td>T</td>\n",
       "      <td>2453.337725</td>\n",
       "      <td>2041.414775</td>\n",
       "      <td>0.334395</td>\n",
       "      <td>Existing Stations</td>\n",
       "    </tr>\n",
       "    <tr>\n",
       "      <th>1</th>\n",
       "      <td>1</td>\n",
       "      <td>517</td>\n",
       "      <td>T32002</td>\n",
       "      <td>Salem Willows Park</td>\n",
       "      <td>42.534669</td>\n",
       "      <td>-70.870214</td>\n",
       "      <td>15</td>\n",
       "      <td>2002</td>\n",
       "      <td>133.466667</td>\n",
       "      <td>0.1</td>\n",
       "      <td>346414.242823</td>\n",
       "      <td>4.710838e+06</td>\n",
       "      <td>19</td>\n",
       "      <td>T</td>\n",
       "      <td>3345.222942</td>\n",
       "      <td>3441.101549</td>\n",
       "      <td>0.441264</td>\n",
       "      <td>Existing Stations</td>\n",
       "    </tr>\n",
       "    <tr>\n",
       "      <th>2</th>\n",
       "      <td>2</td>\n",
       "      <td>518</td>\n",
       "      <td>T32003</td>\n",
       "      <td>Shetland Park - Congress at Peabody St</td>\n",
       "      <td>42.518368</td>\n",
       "      <td>-70.889524</td>\n",
       "      <td>11</td>\n",
       "      <td>1699</td>\n",
       "      <td>154.454545</td>\n",
       "      <td>0.1</td>\n",
       "      <td>344788.114754</td>\n",
       "      <td>4.709063e+06</td>\n",
       "      <td>19</td>\n",
       "      <td>T</td>\n",
       "      <td>1719.094873</td>\n",
       "      <td>1666.127317</td>\n",
       "      <td>0.513167</td>\n",
       "      <td>Existing Stations</td>\n",
       "    </tr>\n",
       "    <tr>\n",
       "      <th>3</th>\n",
       "      <td>3</td>\n",
       "      <td>519</td>\n",
       "      <td>T32004</td>\n",
       "      <td>Mayor Salvo Path at Mill St</td>\n",
       "      <td>42.518035</td>\n",
       "      <td>-70.895701</td>\n",
       "      <td>11</td>\n",
       "      <td>2664</td>\n",
       "      <td>242.181818</td>\n",
       "      <td>0.1</td>\n",
       "      <td>344279.862496</td>\n",
       "      <td>4.709037e+06</td>\n",
       "      <td>19</td>\n",
       "      <td>T</td>\n",
       "      <td>1210.842615</td>\n",
       "      <td>1640.517085</td>\n",
       "      <td>0.813718</td>\n",
       "      <td>Existing Stations</td>\n",
       "    </tr>\n",
       "    <tr>\n",
       "      <th>4</th>\n",
       "      <td>4</td>\n",
       "      <td>520</td>\n",
       "      <td>T32005</td>\n",
       "      <td>Salem MBTA - Washington at Federal St</td>\n",
       "      <td>42.523452</td>\n",
       "      <td>-70.896111</td>\n",
       "      <td>13</td>\n",
       "      <td>2947</td>\n",
       "      <td>226.692308</td>\n",
       "      <td>0.1</td>\n",
       "      <td>344259.610632</td>\n",
       "      <td>4.709639e+06</td>\n",
       "      <td>19</td>\n",
       "      <td>T</td>\n",
       "      <td>1190.590751</td>\n",
       "      <td>2242.819490</td>\n",
       "      <td>0.760651</td>\n",
       "      <td>Existing Stations</td>\n",
       "    </tr>\n",
       "    <tr>\n",
       "      <th>5</th>\n",
       "      <td>5</td>\n",
       "      <td>521</td>\n",
       "      <td>T32006</td>\n",
       "      <td>Lafayette at Leach St</td>\n",
       "      <td>42.511428</td>\n",
       "      <td>-70.891833</td>\n",
       "      <td>11</td>\n",
       "      <td>1114</td>\n",
       "      <td>101.272727</td>\n",
       "      <td>0.1</td>\n",
       "      <td>344581.206188</td>\n",
       "      <td>4.708296e+06</td>\n",
       "      <td>19</td>\n",
       "      <td>T</td>\n",
       "      <td>1512.186307</td>\n",
       "      <td>899.708322</td>\n",
       "      <td>0.330969</td>\n",
       "      <td>Existing Stations</td>\n",
       "    </tr>\n",
       "    <tr>\n",
       "      <th>6</th>\n",
       "      <td>6</td>\n",
       "      <td>562</td>\n",
       "      <td>T32008</td>\n",
       "      <td>Hawthorne Boulevard</td>\n",
       "      <td>42.522371</td>\n",
       "      <td>-70.890333</td>\n",
       "      <td>9</td>\n",
       "      <td>2669</td>\n",
       "      <td>296.555556</td>\n",
       "      <td>0.1</td>\n",
       "      <td>344731.536647</td>\n",
       "      <td>4.709509e+06</td>\n",
       "      <td>19</td>\n",
       "      <td>T</td>\n",
       "      <td>1662.516766</td>\n",
       "      <td>2112.178240</td>\n",
       "      <td>1.000000</td>\n",
       "      <td>Existing Stations</td>\n",
       "    </tr>\n",
       "    <tr>\n",
       "      <th>7</th>\n",
       "      <td>7</td>\n",
       "      <td>570</td>\n",
       "      <td>T32009</td>\n",
       "      <td>Salem State University - North Campus</td>\n",
       "      <td>42.503332</td>\n",
       "      <td>-70.891444</td>\n",
       "      <td>11</td>\n",
       "      <td>779</td>\n",
       "      <td>70.818182</td>\n",
       "      <td>0.1</td>\n",
       "      <td>344593.105338</td>\n",
       "      <td>4.707396e+06</td>\n",
       "      <td>19</td>\n",
       "      <td>T</td>\n",
       "      <td>1524.085457</td>\n",
       "      <td>0.000000</td>\n",
       "      <td>0.226633</td>\n",
       "      <td>Existing Stations</td>\n",
       "    </tr>\n",
       "    <tr>\n",
       "      <th>8</th>\n",
       "      <td>8</td>\n",
       "      <td>571</td>\n",
       "      <td>T32010</td>\n",
       "      <td>Forest River Park</td>\n",
       "      <td>42.506395</td>\n",
       "      <td>-70.886930</td>\n",
       "      <td>11</td>\n",
       "      <td>530</td>\n",
       "      <td>48.181818</td>\n",
       "      <td>0.1</td>\n",
       "      <td>344971.572526</td>\n",
       "      <td>4.707728e+06</td>\n",
       "      <td>19</td>\n",
       "      <td>T</td>\n",
       "      <td>1902.552645</td>\n",
       "      <td>331.862199</td>\n",
       "      <td>0.149081</td>\n",
       "      <td>Existing Stations</td>\n",
       "    </tr>\n",
       "    <tr>\n",
       "      <th>9</th>\n",
       "      <td>9</td>\n",
       "      <td>572</td>\n",
       "      <td>T32011</td>\n",
       "      <td>Essex St at Dalton Parkway</td>\n",
       "      <td>42.516223</td>\n",
       "      <td>-70.905535</td>\n",
       "      <td>11</td>\n",
       "      <td>257</td>\n",
       "      <td>23.363636</td>\n",
       "      <td>0.1</td>\n",
       "      <td>343467.488614</td>\n",
       "      <td>4.708854e+06</td>\n",
       "      <td>19</td>\n",
       "      <td>T</td>\n",
       "      <td>398.468733</td>\n",
       "      <td>1457.399937</td>\n",
       "      <td>0.064055</td>\n",
       "      <td>Existing Stations</td>\n",
       "    </tr>\n",
       "    <tr>\n",
       "      <th>10</th>\n",
       "      <td>10</td>\n",
       "      <td>573</td>\n",
       "      <td>T32012</td>\n",
       "      <td>Salem MBTA - Lower Level</td>\n",
       "      <td>42.523994</td>\n",
       "      <td>-70.896840</td>\n",
       "      <td>11</td>\n",
       "      <td>189</td>\n",
       "      <td>17.181818</td>\n",
       "      <td>0.1</td>\n",
       "      <td>344201.087965</td>\n",
       "      <td>4.709701e+06</td>\n",
       "      <td>19</td>\n",
       "      <td>T</td>\n",
       "      <td>1132.068085</td>\n",
       "      <td>2304.302112</td>\n",
       "      <td>0.042876</td>\n",
       "      <td>Existing Stations</td>\n",
       "    </tr>\n",
       "    <tr>\n",
       "      <th>11</th>\n",
       "      <td>11</td>\n",
       "      <td>574</td>\n",
       "      <td>T32013</td>\n",
       "      <td>Community Life Center</td>\n",
       "      <td>42.520136</td>\n",
       "      <td>-70.906271</td>\n",
       "      <td>9</td>\n",
       "      <td>42</td>\n",
       "      <td>4.666667</td>\n",
       "      <td>0.1</td>\n",
       "      <td>343416.800817</td>\n",
       "      <td>4.709290e+06</td>\n",
       "      <td>19</td>\n",
       "      <td>T</td>\n",
       "      <td>347.780936</td>\n",
       "      <td>1893.276141</td>\n",
       "      <td>0.000000</td>\n",
       "      <td>Existing Stations</td>\n",
       "    </tr>\n",
       "    <tr>\n",
       "      <th>12</th>\n",
       "      <td>12</td>\n",
       "      <td>575</td>\n",
       "      <td>T32014</td>\n",
       "      <td>Goodhue St at Grove St</td>\n",
       "      <td>42.520897</td>\n",
       "      <td>-70.910528</td>\n",
       "      <td>11</td>\n",
       "      <td>90</td>\n",
       "      <td>8.181818</td>\n",
       "      <td>0.1</td>\n",
       "      <td>343069.019881</td>\n",
       "      <td>4.709382e+06</td>\n",
       "      <td>19</td>\n",
       "      <td>T</td>\n",
       "      <td>0.000000</td>\n",
       "      <td>1985.655682</td>\n",
       "      <td>0.012043</td>\n",
       "      <td>Existing Stations</td>\n",
       "    </tr>\n",
       "  </tbody>\n",
       "</table>\n",
       "</div>"
      ],
      "text/plain": [
       "    Unnamed: 0  station_id  Number                                    Name  \\\n",
       "0            0         516  T32001                     Salem Ferry Landing   \n",
       "1            1         517  T32002                      Salem Willows Park   \n",
       "2            2         518  T32003  Shetland Park - Congress at Peabody St   \n",
       "3            3         519  T32004             Mayor Salvo Path at Mill St   \n",
       "4            4         520  T32005   Salem MBTA - Washington at Federal St   \n",
       "5            5         521  T32006                   Lafayette at Leach St   \n",
       "6            6         562  T32008                     Hawthorne Boulevard   \n",
       "7            7         570  T32009   Salem State University - North Campus   \n",
       "8            8         571  T32010                       Forest River Park   \n",
       "9            9         572  T32011              Essex St at Dalton Parkway   \n",
       "10          10         573  T32012                Salem MBTA - Lower Level   \n",
       "11          11         574  T32013                   Community Life Center   \n",
       "12          12         575  T32014                  Goodhue St at Grove St   \n",
       "\n",
       "     Latitude  Longitude  Total_docks  count      demand  Size              x  \\\n",
       "0   42.521893 -70.880691           11   1125  102.272727   0.1  345522.357606   \n",
       "1   42.534669 -70.870214           15   2002  133.466667   0.1  346414.242823   \n",
       "2   42.518368 -70.889524           11   1699  154.454545   0.1  344788.114754   \n",
       "3   42.518035 -70.895701           11   2664  242.181818   0.1  344279.862496   \n",
       "4   42.523452 -70.896111           13   2947  226.692308   0.1  344259.610632   \n",
       "5   42.511428 -70.891833           11   1114  101.272727   0.1  344581.206188   \n",
       "6   42.522371 -70.890333            9   2669  296.555556   0.1  344731.536647   \n",
       "7   42.503332 -70.891444           11    779   70.818182   0.1  344593.105338   \n",
       "8   42.506395 -70.886930           11    530   48.181818   0.1  344971.572526   \n",
       "9   42.516223 -70.905535           11    257   23.363636   0.1  343467.488614   \n",
       "10  42.523994 -70.896840           11    189   17.181818   0.1  344201.087965   \n",
       "11  42.520136 -70.906271            9     42    4.666667   0.1  343416.800817   \n",
       "12  42.520897 -70.910528           11     90    8.181818   0.1  343069.019881   \n",
       "\n",
       "               y  zone_number zone_letter         xnew         ynew      norm  \\\n",
       "0   4.709438e+06           19           T  2453.337725  2041.414775  0.334395   \n",
       "1   4.710838e+06           19           T  3345.222942  3441.101549  0.441264   \n",
       "2   4.709063e+06           19           T  1719.094873  1666.127317  0.513167   \n",
       "3   4.709037e+06           19           T  1210.842615  1640.517085  0.813718   \n",
       "4   4.709639e+06           19           T  1190.590751  2242.819490  0.760651   \n",
       "5   4.708296e+06           19           T  1512.186307   899.708322  0.330969   \n",
       "6   4.709509e+06           19           T  1662.516766  2112.178240  1.000000   \n",
       "7   4.707396e+06           19           T  1524.085457     0.000000  0.226633   \n",
       "8   4.707728e+06           19           T  1902.552645   331.862199  0.149081   \n",
       "9   4.708854e+06           19           T   398.468733  1457.399937  0.064055   \n",
       "10  4.709701e+06           19           T  1132.068085  2304.302112  0.042876   \n",
       "11  4.709290e+06           19           T   347.780936  1893.276141  0.000000   \n",
       "12  4.709382e+06           19           T     0.000000  1985.655682  0.012043   \n",
       "\n",
       "                Group  \n",
       "0   Existing Stations  \n",
       "1   Existing Stations  \n",
       "2   Existing Stations  \n",
       "3   Existing Stations  \n",
       "4   Existing Stations  \n",
       "5   Existing Stations  \n",
       "6   Existing Stations  \n",
       "7   Existing Stations  \n",
       "8   Existing Stations  \n",
       "9   Existing Stations  \n",
       "10  Existing Stations  \n",
       "11  Existing Stations  \n",
       "12  Existing Stations  "
      ]
     },
     "execution_count": 348,
     "metadata": {},
     "output_type": "execute_result"
    }
   ],
   "source": [
    "standardized_demand = pd.read_csv('inputs/standardized_salem_demand.csv')\n",
    "standardized_demand"
   ]
  },
  {
   "cell_type": "code",
   "execution_count": 365,
   "metadata": {},
   "outputs": [
    {
     "data": {
      "application/vnd.plotly.v1+json": {
       "config": {
        "plotlyServerURL": "https://plot.ly"
       },
       "data": [
        {
         "customdata": [
          [
           "T32001",
           11
          ],
          [
           "T32002",
           15
          ],
          [
           "T32003",
           11
          ],
          [
           "T32004",
           11
          ],
          [
           "T32005",
           13
          ],
          [
           "T32006",
           11
          ],
          [
           "T32008",
           9
          ],
          [
           "T32009",
           11
          ],
          [
           "T32010",
           11
          ],
          [
           "T32011",
           11
          ],
          [
           "T32012",
           11
          ],
          [
           "T32013",
           9
          ],
          [
           "T32014",
           11
          ]
         ],
         "hovertemplate": "<b>%{hovertext}</b><br><br>norm=%{marker.size}<br>Latitude=%{lat}<br>Longitude=%{lon}<br>Number=%{customdata[0]}<br>Total_docks=%{customdata[1]}<extra></extra>",
         "hovertext": [
          "Salem Ferry Landing",
          "Salem Willows Park",
          "Shetland Park - Congress at Peabody St",
          "Mayor Salvo Path at Mill St",
          "Salem MBTA - Washington at Federal St",
          "Lafayette at Leach St",
          "Hawthorne Boulevard",
          "Salem State University - North Campus",
          "Forest River Park",
          "Essex St at Dalton Parkway",
          "Salem MBTA - Lower Level",
          "Community Life Center",
          "Goodhue St at Grove St"
         ],
         "lat": [
          42.52189284,
          42.53466911,
          42.51836788,
          42.5180352,
          42.52345239,
          42.51142784,
          42.5223714,
          42.503332,
          42.506395,
          42.516223,
          42.523994,
          42.520136,
          42.520897
         ],
         "legendgroup": "",
         "lon": [
          -70.88069111,
          -70.8702144,
          -70.88952363,
          -70.89570075,
          -70.89611113,
          -70.89183301,
          -70.8903331,
          -70.891444,
          -70.88693,
          -70.905535,
          -70.89684,
          -70.906271,
          -70.910528
         ],
         "marker": {
          "color": "blue",
          "size": [
           0.3343945738311936,
           0.4412637990102779,
           0.5131674568294288,
           0.8137176869571238,
           0.7606512254399579,
           0.3309686126587535,
           1,
           0.2266325224071702,
           0.1490812195037547,
           0.0640550922241063,
           0.0428764231581133,
           0,
           0.0120427726061528
          ],
          "sizemode": "area",
          "sizeref": 0.0025
         },
         "mode": "markers",
         "name": "",
         "showlegend": false,
         "subplot": "mapbox",
         "type": "scattermapbox"
        }
       ],
       "layout": {
        "height": 900,
        "legend": {
         "itemsizing": "constant",
         "tracegroupgap": 0
        },
        "mapbox": {
         "center": {
          "lat": 42.51855335846154,
          "lon": -70.89322731769231
         },
         "domain": {
          "x": [
           0,
           1
          ],
          "y": [
           0,
           1
          ]
         },
         "style": "open-street-map",
         "zoom": 12
        },
        "margin": {
         "b": 0,
         "l": 0,
         "r": 0,
         "t": 0
        },
        "template": {
         "data": {
          "bar": [
           {
            "error_x": {
             "color": "#2a3f5f"
            },
            "error_y": {
             "color": "#2a3f5f"
            },
            "marker": {
             "line": {
              "color": "#E5ECF6",
              "width": 0.5
             },
             "pattern": {
              "fillmode": "overlay",
              "size": 10,
              "solidity": 0.2
             }
            },
            "type": "bar"
           }
          ],
          "barpolar": [
           {
            "marker": {
             "line": {
              "color": "#E5ECF6",
              "width": 0.5
             },
             "pattern": {
              "fillmode": "overlay",
              "size": 10,
              "solidity": 0.2
             }
            },
            "type": "barpolar"
           }
          ],
          "carpet": [
           {
            "aaxis": {
             "endlinecolor": "#2a3f5f",
             "gridcolor": "white",
             "linecolor": "white",
             "minorgridcolor": "white",
             "startlinecolor": "#2a3f5f"
            },
            "baxis": {
             "endlinecolor": "#2a3f5f",
             "gridcolor": "white",
             "linecolor": "white",
             "minorgridcolor": "white",
             "startlinecolor": "#2a3f5f"
            },
            "type": "carpet"
           }
          ],
          "choropleth": [
           {
            "colorbar": {
             "outlinewidth": 0,
             "ticks": ""
            },
            "type": "choropleth"
           }
          ],
          "contour": [
           {
            "colorbar": {
             "outlinewidth": 0,
             "ticks": ""
            },
            "colorscale": [
             [
              0,
              "#0d0887"
             ],
             [
              0.1111111111111111,
              "#46039f"
             ],
             [
              0.2222222222222222,
              "#7201a8"
             ],
             [
              0.3333333333333333,
              "#9c179e"
             ],
             [
              0.4444444444444444,
              "#bd3786"
             ],
             [
              0.5555555555555556,
              "#d8576b"
             ],
             [
              0.6666666666666666,
              "#ed7953"
             ],
             [
              0.7777777777777778,
              "#fb9f3a"
             ],
             [
              0.8888888888888888,
              "#fdca26"
             ],
             [
              1,
              "#f0f921"
             ]
            ],
            "type": "contour"
           }
          ],
          "contourcarpet": [
           {
            "colorbar": {
             "outlinewidth": 0,
             "ticks": ""
            },
            "type": "contourcarpet"
           }
          ],
          "heatmap": [
           {
            "colorbar": {
             "outlinewidth": 0,
             "ticks": ""
            },
            "colorscale": [
             [
              0,
              "#0d0887"
             ],
             [
              0.1111111111111111,
              "#46039f"
             ],
             [
              0.2222222222222222,
              "#7201a8"
             ],
             [
              0.3333333333333333,
              "#9c179e"
             ],
             [
              0.4444444444444444,
              "#bd3786"
             ],
             [
              0.5555555555555556,
              "#d8576b"
             ],
             [
              0.6666666666666666,
              "#ed7953"
             ],
             [
              0.7777777777777778,
              "#fb9f3a"
             ],
             [
              0.8888888888888888,
              "#fdca26"
             ],
             [
              1,
              "#f0f921"
             ]
            ],
            "type": "heatmap"
           }
          ],
          "heatmapgl": [
           {
            "colorbar": {
             "outlinewidth": 0,
             "ticks": ""
            },
            "colorscale": [
             [
              0,
              "#0d0887"
             ],
             [
              0.1111111111111111,
              "#46039f"
             ],
             [
              0.2222222222222222,
              "#7201a8"
             ],
             [
              0.3333333333333333,
              "#9c179e"
             ],
             [
              0.4444444444444444,
              "#bd3786"
             ],
             [
              0.5555555555555556,
              "#d8576b"
             ],
             [
              0.6666666666666666,
              "#ed7953"
             ],
             [
              0.7777777777777778,
              "#fb9f3a"
             ],
             [
              0.8888888888888888,
              "#fdca26"
             ],
             [
              1,
              "#f0f921"
             ]
            ],
            "type": "heatmapgl"
           }
          ],
          "histogram": [
           {
            "marker": {
             "pattern": {
              "fillmode": "overlay",
              "size": 10,
              "solidity": 0.2
             }
            },
            "type": "histogram"
           }
          ],
          "histogram2d": [
           {
            "colorbar": {
             "outlinewidth": 0,
             "ticks": ""
            },
            "colorscale": [
             [
              0,
              "#0d0887"
             ],
             [
              0.1111111111111111,
              "#46039f"
             ],
             [
              0.2222222222222222,
              "#7201a8"
             ],
             [
              0.3333333333333333,
              "#9c179e"
             ],
             [
              0.4444444444444444,
              "#bd3786"
             ],
             [
              0.5555555555555556,
              "#d8576b"
             ],
             [
              0.6666666666666666,
              "#ed7953"
             ],
             [
              0.7777777777777778,
              "#fb9f3a"
             ],
             [
              0.8888888888888888,
              "#fdca26"
             ],
             [
              1,
              "#f0f921"
             ]
            ],
            "type": "histogram2d"
           }
          ],
          "histogram2dcontour": [
           {
            "colorbar": {
             "outlinewidth": 0,
             "ticks": ""
            },
            "colorscale": [
             [
              0,
              "#0d0887"
             ],
             [
              0.1111111111111111,
              "#46039f"
             ],
             [
              0.2222222222222222,
              "#7201a8"
             ],
             [
              0.3333333333333333,
              "#9c179e"
             ],
             [
              0.4444444444444444,
              "#bd3786"
             ],
             [
              0.5555555555555556,
              "#d8576b"
             ],
             [
              0.6666666666666666,
              "#ed7953"
             ],
             [
              0.7777777777777778,
              "#fb9f3a"
             ],
             [
              0.8888888888888888,
              "#fdca26"
             ],
             [
              1,
              "#f0f921"
             ]
            ],
            "type": "histogram2dcontour"
           }
          ],
          "mesh3d": [
           {
            "colorbar": {
             "outlinewidth": 0,
             "ticks": ""
            },
            "type": "mesh3d"
           }
          ],
          "parcoords": [
           {
            "line": {
             "colorbar": {
              "outlinewidth": 0,
              "ticks": ""
             }
            },
            "type": "parcoords"
           }
          ],
          "pie": [
           {
            "automargin": true,
            "type": "pie"
           }
          ],
          "scatter": [
           {
            "fillpattern": {
             "fillmode": "overlay",
             "size": 10,
             "solidity": 0.2
            },
            "type": "scatter"
           }
          ],
          "scatter3d": [
           {
            "line": {
             "colorbar": {
              "outlinewidth": 0,
              "ticks": ""
             }
            },
            "marker": {
             "colorbar": {
              "outlinewidth": 0,
              "ticks": ""
             }
            },
            "type": "scatter3d"
           }
          ],
          "scattercarpet": [
           {
            "marker": {
             "colorbar": {
              "outlinewidth": 0,
              "ticks": ""
             }
            },
            "type": "scattercarpet"
           }
          ],
          "scattergeo": [
           {
            "marker": {
             "colorbar": {
              "outlinewidth": 0,
              "ticks": ""
             }
            },
            "type": "scattergeo"
           }
          ],
          "scattergl": [
           {
            "marker": {
             "colorbar": {
              "outlinewidth": 0,
              "ticks": ""
             }
            },
            "type": "scattergl"
           }
          ],
          "scattermapbox": [
           {
            "marker": {
             "colorbar": {
              "outlinewidth": 0,
              "ticks": ""
             }
            },
            "type": "scattermapbox"
           }
          ],
          "scatterpolar": [
           {
            "marker": {
             "colorbar": {
              "outlinewidth": 0,
              "ticks": ""
             }
            },
            "type": "scatterpolar"
           }
          ],
          "scatterpolargl": [
           {
            "marker": {
             "colorbar": {
              "outlinewidth": 0,
              "ticks": ""
             }
            },
            "type": "scatterpolargl"
           }
          ],
          "scatterternary": [
           {
            "marker": {
             "colorbar": {
              "outlinewidth": 0,
              "ticks": ""
             }
            },
            "type": "scatterternary"
           }
          ],
          "surface": [
           {
            "colorbar": {
             "outlinewidth": 0,
             "ticks": ""
            },
            "colorscale": [
             [
              0,
              "#0d0887"
             ],
             [
              0.1111111111111111,
              "#46039f"
             ],
             [
              0.2222222222222222,
              "#7201a8"
             ],
             [
              0.3333333333333333,
              "#9c179e"
             ],
             [
              0.4444444444444444,
              "#bd3786"
             ],
             [
              0.5555555555555556,
              "#d8576b"
             ],
             [
              0.6666666666666666,
              "#ed7953"
             ],
             [
              0.7777777777777778,
              "#fb9f3a"
             ],
             [
              0.8888888888888888,
              "#fdca26"
             ],
             [
              1,
              "#f0f921"
             ]
            ],
            "type": "surface"
           }
          ],
          "table": [
           {
            "cells": {
             "fill": {
              "color": "#EBF0F8"
             },
             "line": {
              "color": "white"
             }
            },
            "header": {
             "fill": {
              "color": "#C8D4E3"
             },
             "line": {
              "color": "white"
             }
            },
            "type": "table"
           }
          ]
         },
         "layout": {
          "annotationdefaults": {
           "arrowcolor": "#2a3f5f",
           "arrowhead": 0,
           "arrowwidth": 1
          },
          "autotypenumbers": "strict",
          "coloraxis": {
           "colorbar": {
            "outlinewidth": 0,
            "ticks": ""
           }
          },
          "colorscale": {
           "diverging": [
            [
             0,
             "#8e0152"
            ],
            [
             0.1,
             "#c51b7d"
            ],
            [
             0.2,
             "#de77ae"
            ],
            [
             0.3,
             "#f1b6da"
            ],
            [
             0.4,
             "#fde0ef"
            ],
            [
             0.5,
             "#f7f7f7"
            ],
            [
             0.6,
             "#e6f5d0"
            ],
            [
             0.7,
             "#b8e186"
            ],
            [
             0.8,
             "#7fbc41"
            ],
            [
             0.9,
             "#4d9221"
            ],
            [
             1,
             "#276419"
            ]
           ],
           "sequential": [
            [
             0,
             "#0d0887"
            ],
            [
             0.1111111111111111,
             "#46039f"
            ],
            [
             0.2222222222222222,
             "#7201a8"
            ],
            [
             0.3333333333333333,
             "#9c179e"
            ],
            [
             0.4444444444444444,
             "#bd3786"
            ],
            [
             0.5555555555555556,
             "#d8576b"
            ],
            [
             0.6666666666666666,
             "#ed7953"
            ],
            [
             0.7777777777777778,
             "#fb9f3a"
            ],
            [
             0.8888888888888888,
             "#fdca26"
            ],
            [
             1,
             "#f0f921"
            ]
           ],
           "sequentialminus": [
            [
             0,
             "#0d0887"
            ],
            [
             0.1111111111111111,
             "#46039f"
            ],
            [
             0.2222222222222222,
             "#7201a8"
            ],
            [
             0.3333333333333333,
             "#9c179e"
            ],
            [
             0.4444444444444444,
             "#bd3786"
            ],
            [
             0.5555555555555556,
             "#d8576b"
            ],
            [
             0.6666666666666666,
             "#ed7953"
            ],
            [
             0.7777777777777778,
             "#fb9f3a"
            ],
            [
             0.8888888888888888,
             "#fdca26"
            ],
            [
             1,
             "#f0f921"
            ]
           ]
          },
          "colorway": [
           "#636efa",
           "#EF553B",
           "#00cc96",
           "#ab63fa",
           "#FFA15A",
           "#19d3f3",
           "#FF6692",
           "#B6E880",
           "#FF97FF",
           "#FECB52"
          ],
          "font": {
           "color": "#2a3f5f"
          },
          "geo": {
           "bgcolor": "white",
           "lakecolor": "white",
           "landcolor": "#E5ECF6",
           "showlakes": true,
           "showland": true,
           "subunitcolor": "white"
          },
          "hoverlabel": {
           "align": "left"
          },
          "hovermode": "closest",
          "mapbox": {
           "style": "light"
          },
          "paper_bgcolor": "white",
          "plot_bgcolor": "#E5ECF6",
          "polar": {
           "angularaxis": {
            "gridcolor": "white",
            "linecolor": "white",
            "ticks": ""
           },
           "bgcolor": "#E5ECF6",
           "radialaxis": {
            "gridcolor": "white",
            "linecolor": "white",
            "ticks": ""
           }
          },
          "scene": {
           "xaxis": {
            "backgroundcolor": "#E5ECF6",
            "gridcolor": "white",
            "gridwidth": 2,
            "linecolor": "white",
            "showbackground": true,
            "ticks": "",
            "zerolinecolor": "white"
           },
           "yaxis": {
            "backgroundcolor": "#E5ECF6",
            "gridcolor": "white",
            "gridwidth": 2,
            "linecolor": "white",
            "showbackground": true,
            "ticks": "",
            "zerolinecolor": "white"
           },
           "zaxis": {
            "backgroundcolor": "#E5ECF6",
            "gridcolor": "white",
            "gridwidth": 2,
            "linecolor": "white",
            "showbackground": true,
            "ticks": "",
            "zerolinecolor": "white"
           }
          },
          "shapedefaults": {
           "line": {
            "color": "#2a3f5f"
           }
          },
          "ternary": {
           "aaxis": {
            "gridcolor": "white",
            "linecolor": "white",
            "ticks": ""
           },
           "baxis": {
            "gridcolor": "white",
            "linecolor": "white",
            "ticks": ""
           },
           "bgcolor": "#E5ECF6",
           "caxis": {
            "gridcolor": "white",
            "linecolor": "white",
            "ticks": ""
           }
          },
          "title": {
           "x": 0.05
          },
          "xaxis": {
           "automargin": true,
           "gridcolor": "white",
           "linecolor": "white",
           "ticks": "",
           "title": {
            "standoff": 15
           },
           "zerolinecolor": "white",
           "zerolinewidth": 2
          },
          "yaxis": {
           "automargin": true,
           "gridcolor": "white",
           "linecolor": "white",
           "ticks": "",
           "title": {
            "standoff": 15
           },
           "zerolinecolor": "white",
           "zerolinewidth": 2
          }
         }
        }
       }
      }
     },
     "metadata": {},
     "output_type": "display_data"
    }
   ],
   "source": [
    "# Plot a map of the stations\n",
    "fig = px.scatter_mapbox(standardized_demand, lat=\"Latitude\", lon=\"Longitude\", hover_name=\"Name\", hover_data=[\"Number\", \"Total_docks\"], color_discrete_sequence=[\"blue\"], zoom=12, height=900, size=standardized_demand[\"norm\"], size_max=20)\n",
    "fig.update_layout(mapbox_style=\"open-street-map\")\n",
    "fig.update_layout(margin={\"r\":0,\"t\":0,\"l\":0,\"b\":0})\n",
    "fig.show()"
   ]
  },
  {
   "cell_type": "code",
   "execution_count": 169,
   "metadata": {},
   "outputs": [
    {
     "data": {
      "text/html": [
       "<div>\n",
       "<style scoped>\n",
       "    .dataframe tbody tr th:only-of-type {\n",
       "        vertical-align: middle;\n",
       "    }\n",
       "\n",
       "    .dataframe tbody tr th {\n",
       "        vertical-align: top;\n",
       "    }\n",
       "\n",
       "    .dataframe thead th {\n",
       "        text-align: right;\n",
       "    }\n",
       "</style>\n",
       "<table border=\"1\" class=\"dataframe\">\n",
       "  <thead>\n",
       "    <tr style=\"text-align: right;\">\n",
       "      <th></th>\n",
       "      <th>Address</th>\n",
       "      <th>Coordinates</th>\n",
       "      <th>lat</th>\n",
       "      <th>lng</th>\n",
       "      <th>Latitude</th>\n",
       "      <th>Longitude</th>\n",
       "    </tr>\n",
       "  </thead>\n",
       "  <tbody>\n",
       "    <tr>\n",
       "      <th>0</th>\n",
       "      <td>90 Willson St, Salem, MA 01970, USA</td>\n",
       "      <td>(42.507436, -70.907488)</td>\n",
       "      <td>42.507436</td>\n",
       "      <td>-70.907488</td>\n",
       "      <td>42.507436</td>\n",
       "      <td>-70.907488</td>\n",
       "    </tr>\n",
       "    <tr>\n",
       "      <th>1</th>\n",
       "      <td>29 Horton St, Salem, MA 01970, USA</td>\n",
       "      <td>(42.507694, -70.9046388)</td>\n",
       "      <td>42.507694</td>\n",
       "      <td>-70.904639</td>\n",
       "      <td>42.507694</td>\n",
       "      <td>-70.904639</td>\n",
       "    </tr>\n",
       "    <tr>\n",
       "      <th>2</th>\n",
       "      <td>2 Laurent Rd, Salem, MA 01970, USA</td>\n",
       "      <td>(42.5076135, -70.90245589999999)</td>\n",
       "      <td>42.507613</td>\n",
       "      <td>-70.902456</td>\n",
       "      <td>42.507613</td>\n",
       "      <td>-70.902456</td>\n",
       "    </tr>\n",
       "    <tr>\n",
       "      <th>3</th>\n",
       "      <td>13 Brooks St, Salem, MA 01970, USA</td>\n",
       "      <td>(42.5076347, -70.89957629999999)</td>\n",
       "      <td>42.507635</td>\n",
       "      <td>-70.899576</td>\n",
       "      <td>42.507635</td>\n",
       "      <td>-70.899576</td>\n",
       "    </tr>\n",
       "    <tr>\n",
       "      <th>4</th>\n",
       "      <td>3 Broadway, Salem, MA 01970, USA</td>\n",
       "      <td>(42.5075076, -70.89699960000002)</td>\n",
       "      <td>42.507508</td>\n",
       "      <td>-70.897000</td>\n",
       "      <td>42.507508</td>\n",
       "      <td>-70.897000</td>\n",
       "    </tr>\n",
       "    <tr>\n",
       "      <th>...</th>\n",
       "      <td>...</td>\n",
       "      <td>...</td>\n",
       "      <td>...</td>\n",
       "      <td>...</td>\n",
       "      <td>...</td>\n",
       "      <td>...</td>\n",
       "    </tr>\n",
       "    <tr>\n",
       "      <th>104</th>\n",
       "      <td>24 Saunders St, Salem, MA 01970, USA</td>\n",
       "      <td>(42.529489, -70.89210299999999)</td>\n",
       "      <td>42.529489</td>\n",
       "      <td>-70.892103</td>\n",
       "      <td>42.529489</td>\n",
       "      <td>-70.892103</td>\n",
       "    </tr>\n",
       "    <tr>\n",
       "      <th>105</th>\n",
       "      <td>89 Bridge St, Salem, MA 01970, USA</td>\n",
       "      <td>(42.5294607, -70.889544)</td>\n",
       "      <td>42.529461</td>\n",
       "      <td>-70.889544</td>\n",
       "      <td>42.529461</td>\n",
       "      <td>-70.889544</td>\n",
       "    </tr>\n",
       "    <tr>\n",
       "      <th>106</th>\n",
       "      <td>Collins Cove Playground, 32 Collins St, Salem,...</td>\n",
       "      <td>(42.5296097, -70.8868734)</td>\n",
       "      <td>42.529610</td>\n",
       "      <td>-70.886873</td>\n",
       "      <td>42.529610</td>\n",
       "      <td>-70.886873</td>\n",
       "    </tr>\n",
       "    <tr>\n",
       "      <th>107</th>\n",
       "      <td>13 Settlers Way, Salem, MA 01970, USA</td>\n",
       "      <td>(42.52943190000001, -70.8813462)</td>\n",
       "      <td>42.529432</td>\n",
       "      <td>-70.881346</td>\n",
       "      <td>42.529432</td>\n",
       "      <td>-70.881346</td>\n",
       "    </tr>\n",
       "    <tr>\n",
       "      <th>108</th>\n",
       "      <td>40 Memorial Dr, Salem, MA 01970, USA</td>\n",
       "      <td>(42.52965289999999, -70.8790935)</td>\n",
       "      <td>42.529653</td>\n",
       "      <td>-70.879093</td>\n",
       "      <td>42.529653</td>\n",
       "      <td>-70.879093</td>\n",
       "    </tr>\n",
       "  </tbody>\n",
       "</table>\n",
       "<p>109 rows × 6 columns</p>\n",
       "</div>"
      ],
      "text/plain": [
       "                                               Address  \\\n",
       "0                  90 Willson St, Salem, MA 01970, USA   \n",
       "1                   29 Horton St, Salem, MA 01970, USA   \n",
       "2                   2 Laurent Rd, Salem, MA 01970, USA   \n",
       "3                   13 Brooks St, Salem, MA 01970, USA   \n",
       "4                     3 Broadway, Salem, MA 01970, USA   \n",
       "..                                                 ...   \n",
       "104               24 Saunders St, Salem, MA 01970, USA   \n",
       "105                 89 Bridge St, Salem, MA 01970, USA   \n",
       "106  Collins Cove Playground, 32 Collins St, Salem,...   \n",
       "107              13 Settlers Way, Salem, MA 01970, USA   \n",
       "108               40 Memorial Dr, Salem, MA 01970, USA   \n",
       "\n",
       "                          Coordinates        lat        lng   Latitude  \\\n",
       "0             (42.507436, -70.907488)  42.507436 -70.907488  42.507436   \n",
       "1            (42.507694, -70.9046388)  42.507694 -70.904639  42.507694   \n",
       "2    (42.5076135, -70.90245589999999)  42.507613 -70.902456  42.507613   \n",
       "3    (42.5076347, -70.89957629999999)  42.507635 -70.899576  42.507635   \n",
       "4    (42.5075076, -70.89699960000002)  42.507508 -70.897000  42.507508   \n",
       "..                                ...        ...        ...        ...   \n",
       "104   (42.529489, -70.89210299999999)  42.529489 -70.892103  42.529489   \n",
       "105          (42.5294607, -70.889544)  42.529461 -70.889544  42.529461   \n",
       "106         (42.5296097, -70.8868734)  42.529610 -70.886873  42.529610   \n",
       "107  (42.52943190000001, -70.8813462)  42.529432 -70.881346  42.529432   \n",
       "108  (42.52965289999999, -70.8790935)  42.529653 -70.879093  42.529653   \n",
       "\n",
       "     Longitude  \n",
       "0   -70.907488  \n",
       "1   -70.904639  \n",
       "2   -70.902456  \n",
       "3   -70.899576  \n",
       "4   -70.897000  \n",
       "..         ...  \n",
       "104 -70.892103  \n",
       "105 -70.889544  \n",
       "106 -70.886873  \n",
       "107 -70.881346  \n",
       "108 -70.879093  \n",
       "\n",
       "[109 rows x 6 columns]"
      ]
     },
     "execution_count": 169,
     "metadata": {},
     "output_type": "execute_result"
    }
   ],
   "source": [
    "#candidates_df = pd.read_csv('inputs/candidate_stations.csv', header=0)\n",
    "candidates_df = pd.read_csv('inputs/candidate_address.csv', header=0)\n",
    "candidates_df[\"Latitude\"] = candidates_df[\"lat\"]\n",
    "candidates_df[\"Longitude\"] = candidates_df[\"lng\"]"
   ]
  },
  {
   "cell_type": "code",
   "execution_count": 143,
   "metadata": {},
   "outputs": [
    {
     "data": {
      "text/html": [
       "<div>\n",
       "<style scoped>\n",
       "    .dataframe tbody tr th:only-of-type {\n",
       "        vertical-align: middle;\n",
       "    }\n",
       "\n",
       "    .dataframe tbody tr th {\n",
       "        vertical-align: top;\n",
       "    }\n",
       "\n",
       "    .dataframe thead th {\n",
       "        text-align: right;\n",
       "    }\n",
       "</style>\n",
       "<table border=\"1\" class=\"dataframe\">\n",
       "  <thead>\n",
       "    <tr style=\"text-align: right;\">\n",
       "      <th></th>\n",
       "      <th>Index</th>\n",
       "      <th>Attraction</th>\n",
       "      <th>Latitude</th>\n",
       "      <th>Longitude</th>\n",
       "      <th>Google Reviews</th>\n",
       "    </tr>\n",
       "  </thead>\n",
       "  <tbody>\n",
       "    <tr>\n",
       "      <th>0</th>\n",
       "      <td>1</td>\n",
       "      <td>Peabody Essex Museum</td>\n",
       "      <td>42.522718</td>\n",
       "      <td>-70.891017</td>\n",
       "      <td>3179</td>\n",
       "    </tr>\n",
       "    <tr>\n",
       "      <th>1</th>\n",
       "      <td>2</td>\n",
       "      <td>Salem Witch Museum</td>\n",
       "      <td>42.525314</td>\n",
       "      <td>-70.890798</td>\n",
       "      <td>8542</td>\n",
       "    </tr>\n",
       "    <tr>\n",
       "      <th>2</th>\n",
       "      <td>3</td>\n",
       "      <td>The Satanic Temple at Salem Art gallery</td>\n",
       "      <td>42.532459</td>\n",
       "      <td>-70.889641</td>\n",
       "      <td>151</td>\n",
       "    </tr>\n",
       "    <tr>\n",
       "      <th>3</th>\n",
       "      <td>4</td>\n",
       "      <td>Bewitched Statue</td>\n",
       "      <td>42.523167</td>\n",
       "      <td>-70.895331</td>\n",
       "      <td>354</td>\n",
       "    </tr>\n",
       "    <tr>\n",
       "      <th>4</th>\n",
       "      <td>5</td>\n",
       "      <td>Witch House</td>\n",
       "      <td>42.523108</td>\n",
       "      <td>-70.898031</td>\n",
       "      <td>3028</td>\n",
       "    </tr>\n",
       "    <tr>\n",
       "      <th>5</th>\n",
       "      <td>6</td>\n",
       "      <td>Salem Maritime National Historic Site</td>\n",
       "      <td>42.522753</td>\n",
       "      <td>-70.886814</td>\n",
       "      <td>1657</td>\n",
       "    </tr>\n",
       "    <tr>\n",
       "      <th>6</th>\n",
       "      <td>7</td>\n",
       "      <td>The House of the Seven Gables</td>\n",
       "      <td>42.523021</td>\n",
       "      <td>-70.880399</td>\n",
       "      <td>3369</td>\n",
       "    </tr>\n",
       "    <tr>\n",
       "      <th>7</th>\n",
       "      <td>8</td>\n",
       "      <td>Salem Willows Park</td>\n",
       "      <td>42.536436</td>\n",
       "      <td>-70.870417</td>\n",
       "      <td>2968</td>\n",
       "    </tr>\n",
       "    <tr>\n",
       "      <th>8</th>\n",
       "      <td>9</td>\n",
       "      <td>Witch Dungeon Museum</td>\n",
       "      <td>42.523589</td>\n",
       "      <td>-70.896128</td>\n",
       "      <td>1645</td>\n",
       "    </tr>\n",
       "    <tr>\n",
       "      <th>9</th>\n",
       "      <td>10</td>\n",
       "      <td>Salem Willows Arcade</td>\n",
       "      <td>42.535313</td>\n",
       "      <td>-70.868533</td>\n",
       "      <td>221</td>\n",
       "    </tr>\n",
       "    <tr>\n",
       "      <th>10</th>\n",
       "      <td>11</td>\n",
       "      <td>Joshua Ward House</td>\n",
       "      <td>42.521346</td>\n",
       "      <td>-70.893894</td>\n",
       "      <td>10</td>\n",
       "    </tr>\n",
       "    <tr>\n",
       "      <th>11</th>\n",
       "      <td>12</td>\n",
       "      <td>Count Orlok’s Nightmare Gallery</td>\n",
       "      <td>42.522018</td>\n",
       "      <td>-70.891871</td>\n",
       "      <td>669</td>\n",
       "    </tr>\n",
       "    <tr>\n",
       "      <th>12</th>\n",
       "      <td>13</td>\n",
       "      <td>Black Veil Shoppe of Drear &amp; Wonder</td>\n",
       "      <td>42.522989</td>\n",
       "      <td>-70.915182</td>\n",
       "      <td>214</td>\n",
       "    </tr>\n",
       "    <tr>\n",
       "      <th>13</th>\n",
       "      <td>14</td>\n",
       "      <td>Crow Haven Corner</td>\n",
       "      <td>42.523307</td>\n",
       "      <td>-70.890443</td>\n",
       "      <td>447</td>\n",
       "    </tr>\n",
       "    <tr>\n",
       "      <th>14</th>\n",
       "      <td>15</td>\n",
       "      <td>Herb Mackey’s Metal Sculpture Yard</td>\n",
       "      <td>42.524134</td>\n",
       "      <td>-70.882213</td>\n",
       "      <td>28</td>\n",
       "    </tr>\n",
       "    <tr>\n",
       "      <th>15</th>\n",
       "      <td>16</td>\n",
       "      <td>Harbor Sweets</td>\n",
       "      <td>42.515355</td>\n",
       "      <td>-70.887948</td>\n",
       "      <td>139</td>\n",
       "    </tr>\n",
       "    <tr>\n",
       "      <th>16</th>\n",
       "      <td>17</td>\n",
       "      <td>Salem Witch Board Museum</td>\n",
       "      <td>42.522561</td>\n",
       "      <td>-70.890411</td>\n",
       "      <td>64</td>\n",
       "    </tr>\n",
       "    <tr>\n",
       "      <th>17</th>\n",
       "      <td>18</td>\n",
       "      <td>New England Pirate Museum</td>\n",
       "      <td>42.521777</td>\n",
       "      <td>-70.890257</td>\n",
       "      <td>292</td>\n",
       "    </tr>\n",
       "    <tr>\n",
       "      <th>18</th>\n",
       "      <td>19</td>\n",
       "      <td>Salem Witch Trials Memorial</td>\n",
       "      <td>42.522066</td>\n",
       "      <td>-70.889778</td>\n",
       "      <td>2091</td>\n",
       "    </tr>\n",
       "    <tr>\n",
       "      <th>19</th>\n",
       "      <td>20</td>\n",
       "      <td>witch city mall</td>\n",
       "      <td>42.523265</td>\n",
       "      <td>-70.893021</td>\n",
       "      <td>1339</td>\n",
       "    </tr>\n",
       "    <tr>\n",
       "      <th>20</th>\n",
       "      <td>21</td>\n",
       "      <td>Historic New England Phillips House</td>\n",
       "      <td>42.520705</td>\n",
       "      <td>-70.901737</td>\n",
       "      <td>74</td>\n",
       "    </tr>\n",
       "    <tr>\n",
       "      <th>21</th>\n",
       "      <td>22</td>\n",
       "      <td>Pickering Wharf</td>\n",
       "      <td>42.520736</td>\n",
       "      <td>-70.890231</td>\n",
       "      <td>151</td>\n",
       "    </tr>\n",
       "  </tbody>\n",
       "</table>\n",
       "</div>"
      ],
      "text/plain": [
       "    Index                               Attraction   Latitude  Longitude  \\\n",
       "0       1                     Peabody Essex Museum  42.522718 -70.891017   \n",
       "1       2                       Salem Witch Museum  42.525314 -70.890798   \n",
       "2       3  The Satanic Temple at Salem Art gallery  42.532459 -70.889641   \n",
       "3       4                         Bewitched Statue  42.523167 -70.895331   \n",
       "4       5                              Witch House  42.523108 -70.898031   \n",
       "5       6    Salem Maritime National Historic Site  42.522753 -70.886814   \n",
       "6       7            The House of the Seven Gables  42.523021 -70.880399   \n",
       "7       8                       Salem Willows Park  42.536436 -70.870417   \n",
       "8       9                     Witch Dungeon Museum  42.523589 -70.896128   \n",
       "9      10                     Salem Willows Arcade  42.535313 -70.868533   \n",
       "10     11                        Joshua Ward House  42.521346 -70.893894   \n",
       "11     12          Count Orlok’s Nightmare Gallery  42.522018 -70.891871   \n",
       "12     13      Black Veil Shoppe of Drear & Wonder  42.522989 -70.915182   \n",
       "13     14                        Crow Haven Corner  42.523307 -70.890443   \n",
       "14     15       Herb Mackey’s Metal Sculpture Yard  42.524134 -70.882213   \n",
       "15     16                            Harbor Sweets  42.515355 -70.887948   \n",
       "16     17                 Salem Witch Board Museum  42.522561 -70.890411   \n",
       "17     18                New England Pirate Museum  42.521777 -70.890257   \n",
       "18     19              Salem Witch Trials Memorial  42.522066 -70.889778   \n",
       "19     20                          witch city mall  42.523265 -70.893021   \n",
       "20     21      Historic New England Phillips House  42.520705 -70.901737   \n",
       "21     22                          Pickering Wharf  42.520736 -70.890231   \n",
       "\n",
       "    Google Reviews  \n",
       "0             3179  \n",
       "1             8542  \n",
       "2              151  \n",
       "3              354  \n",
       "4             3028  \n",
       "5             1657  \n",
       "6             3369  \n",
       "7             2968  \n",
       "8             1645  \n",
       "9              221  \n",
       "10              10  \n",
       "11             669  \n",
       "12             214  \n",
       "13             447  \n",
       "14              28  \n",
       "15             139  \n",
       "16              64  \n",
       "17             292  \n",
       "18            2091  \n",
       "19            1339  \n",
       "20              74  \n",
       "21             151  "
      ]
     },
     "execution_count": 143,
     "metadata": {},
     "output_type": "execute_result"
    }
   ],
   "source": [
    "attractions_df = pd.read_csv('inputs/attractions_locations.csv', header=0)\n",
    "attractions_df\n",
    "attractions_weights = pd.read_csv('inputs/attractions_weights.csv', header=0).drop(columns=['Attraction','Index'])\n",
    "attractions_weights\n",
    "\n",
    "attractions_df = pd.concat([attractions_df, attractions_weights], axis=1)\n",
    "attractions_df"
   ]
  },
  {
   "cell_type": "markdown",
   "metadata": {},
   "source": [
    "Standardize weights"
   ]
  },
  {
   "cell_type": "code",
   "execution_count": 155,
   "metadata": {},
   "outputs": [
    {
     "data": {
      "text/html": [
       "<div>\n",
       "<style scoped>\n",
       "    .dataframe tbody tr th:only-of-type {\n",
       "        vertical-align: middle;\n",
       "    }\n",
       "\n",
       "    .dataframe tbody tr th {\n",
       "        vertical-align: top;\n",
       "    }\n",
       "\n",
       "    .dataframe thead th {\n",
       "        text-align: right;\n",
       "    }\n",
       "</style>\n",
       "<table border=\"1\" class=\"dataframe\">\n",
       "  <thead>\n",
       "    <tr style=\"text-align: right;\">\n",
       "      <th></th>\n",
       "      <th>station_id</th>\n",
       "      <th>Number</th>\n",
       "      <th>Name</th>\n",
       "      <th>Latitude</th>\n",
       "      <th>Longitude</th>\n",
       "      <th>Total_docks</th>\n",
       "      <th>count</th>\n",
       "      <th>demand</th>\n",
       "      <th>Size</th>\n",
       "      <th>x</th>\n",
       "      <th>y</th>\n",
       "      <th>zone_number</th>\n",
       "      <th>zone_letter</th>\n",
       "      <th>xnew</th>\n",
       "      <th>ynew</th>\n",
       "      <th>norm</th>\n",
       "      <th>Group</th>\n",
       "    </tr>\n",
       "  </thead>\n",
       "  <tbody>\n",
       "    <tr>\n",
       "      <th>0</th>\n",
       "      <td>516</td>\n",
       "      <td>T32001</td>\n",
       "      <td>Salem Ferry Landing</td>\n",
       "      <td>42.521893</td>\n",
       "      <td>-70.880691</td>\n",
       "      <td>11</td>\n",
       "      <td>1125</td>\n",
       "      <td>102.272727</td>\n",
       "      <td>0.1</td>\n",
       "      <td>345522.357606</td>\n",
       "      <td>4.709438e+06</td>\n",
       "      <td>19</td>\n",
       "      <td>T</td>\n",
       "      <td>2453.337725</td>\n",
       "      <td>2041.414775</td>\n",
       "      <td>0.334395</td>\n",
       "      <td>Existing Stations</td>\n",
       "    </tr>\n",
       "    <tr>\n",
       "      <th>1</th>\n",
       "      <td>517</td>\n",
       "      <td>T32002</td>\n",
       "      <td>Salem Willows Park</td>\n",
       "      <td>42.534669</td>\n",
       "      <td>-70.870214</td>\n",
       "      <td>15</td>\n",
       "      <td>2002</td>\n",
       "      <td>133.466667</td>\n",
       "      <td>0.1</td>\n",
       "      <td>346414.242823</td>\n",
       "      <td>4.710838e+06</td>\n",
       "      <td>19</td>\n",
       "      <td>T</td>\n",
       "      <td>3345.222942</td>\n",
       "      <td>3441.101549</td>\n",
       "      <td>0.441264</td>\n",
       "      <td>Existing Stations</td>\n",
       "    </tr>\n",
       "    <tr>\n",
       "      <th>2</th>\n",
       "      <td>518</td>\n",
       "      <td>T32003</td>\n",
       "      <td>Shetland Park - Congress at Peabody St</td>\n",
       "      <td>42.518368</td>\n",
       "      <td>-70.889524</td>\n",
       "      <td>11</td>\n",
       "      <td>1699</td>\n",
       "      <td>154.454545</td>\n",
       "      <td>0.1</td>\n",
       "      <td>344788.114754</td>\n",
       "      <td>4.709063e+06</td>\n",
       "      <td>19</td>\n",
       "      <td>T</td>\n",
       "      <td>1719.094873</td>\n",
       "      <td>1666.127317</td>\n",
       "      <td>0.513167</td>\n",
       "      <td>Existing Stations</td>\n",
       "    </tr>\n",
       "    <tr>\n",
       "      <th>3</th>\n",
       "      <td>519</td>\n",
       "      <td>T32004</td>\n",
       "      <td>Mayor Salvo Path at Mill St</td>\n",
       "      <td>42.518035</td>\n",
       "      <td>-70.895701</td>\n",
       "      <td>11</td>\n",
       "      <td>2664</td>\n",
       "      <td>242.181818</td>\n",
       "      <td>0.1</td>\n",
       "      <td>344279.862496</td>\n",
       "      <td>4.709037e+06</td>\n",
       "      <td>19</td>\n",
       "      <td>T</td>\n",
       "      <td>1210.842615</td>\n",
       "      <td>1640.517085</td>\n",
       "      <td>0.813718</td>\n",
       "      <td>Existing Stations</td>\n",
       "    </tr>\n",
       "    <tr>\n",
       "      <th>4</th>\n",
       "      <td>520</td>\n",
       "      <td>T32005</td>\n",
       "      <td>Salem MBTA - Washington at Federal St</td>\n",
       "      <td>42.523452</td>\n",
       "      <td>-70.896111</td>\n",
       "      <td>13</td>\n",
       "      <td>2947</td>\n",
       "      <td>226.692308</td>\n",
       "      <td>0.1</td>\n",
       "      <td>344259.610632</td>\n",
       "      <td>4.709639e+06</td>\n",
       "      <td>19</td>\n",
       "      <td>T</td>\n",
       "      <td>1190.590751</td>\n",
       "      <td>2242.819490</td>\n",
       "      <td>0.760651</td>\n",
       "      <td>Existing Stations</td>\n",
       "    </tr>\n",
       "    <tr>\n",
       "      <th>5</th>\n",
       "      <td>521</td>\n",
       "      <td>T32006</td>\n",
       "      <td>Lafayette at Leach St</td>\n",
       "      <td>42.511428</td>\n",
       "      <td>-70.891833</td>\n",
       "      <td>11</td>\n",
       "      <td>1114</td>\n",
       "      <td>101.272727</td>\n",
       "      <td>0.1</td>\n",
       "      <td>344581.206188</td>\n",
       "      <td>4.708296e+06</td>\n",
       "      <td>19</td>\n",
       "      <td>T</td>\n",
       "      <td>1512.186307</td>\n",
       "      <td>899.708322</td>\n",
       "      <td>0.330969</td>\n",
       "      <td>Existing Stations</td>\n",
       "    </tr>\n",
       "    <tr>\n",
       "      <th>6</th>\n",
       "      <td>562</td>\n",
       "      <td>T32008</td>\n",
       "      <td>Hawthorne Boulevard</td>\n",
       "      <td>42.522371</td>\n",
       "      <td>-70.890333</td>\n",
       "      <td>9</td>\n",
       "      <td>2669</td>\n",
       "      <td>296.555556</td>\n",
       "      <td>0.1</td>\n",
       "      <td>344731.536647</td>\n",
       "      <td>4.709509e+06</td>\n",
       "      <td>19</td>\n",
       "      <td>T</td>\n",
       "      <td>1662.516766</td>\n",
       "      <td>2112.178240</td>\n",
       "      <td>1.000000</td>\n",
       "      <td>Existing Stations</td>\n",
       "    </tr>\n",
       "    <tr>\n",
       "      <th>7</th>\n",
       "      <td>570</td>\n",
       "      <td>T32009</td>\n",
       "      <td>Salem State University - North Campus</td>\n",
       "      <td>42.503332</td>\n",
       "      <td>-70.891444</td>\n",
       "      <td>11</td>\n",
       "      <td>779</td>\n",
       "      <td>70.818182</td>\n",
       "      <td>0.1</td>\n",
       "      <td>344593.105338</td>\n",
       "      <td>4.707396e+06</td>\n",
       "      <td>19</td>\n",
       "      <td>T</td>\n",
       "      <td>1524.085457</td>\n",
       "      <td>0.000000</td>\n",
       "      <td>0.226633</td>\n",
       "      <td>Existing Stations</td>\n",
       "    </tr>\n",
       "    <tr>\n",
       "      <th>8</th>\n",
       "      <td>571</td>\n",
       "      <td>T32010</td>\n",
       "      <td>Forest River Park</td>\n",
       "      <td>42.506395</td>\n",
       "      <td>-70.886930</td>\n",
       "      <td>11</td>\n",
       "      <td>530</td>\n",
       "      <td>48.181818</td>\n",
       "      <td>0.1</td>\n",
       "      <td>344971.572526</td>\n",
       "      <td>4.707728e+06</td>\n",
       "      <td>19</td>\n",
       "      <td>T</td>\n",
       "      <td>1902.552645</td>\n",
       "      <td>331.862199</td>\n",
       "      <td>0.149081</td>\n",
       "      <td>Existing Stations</td>\n",
       "    </tr>\n",
       "    <tr>\n",
       "      <th>9</th>\n",
       "      <td>572</td>\n",
       "      <td>T32011</td>\n",
       "      <td>Essex St at Dalton Parkway</td>\n",
       "      <td>42.516223</td>\n",
       "      <td>-70.905535</td>\n",
       "      <td>11</td>\n",
       "      <td>257</td>\n",
       "      <td>23.363636</td>\n",
       "      <td>0.1</td>\n",
       "      <td>343467.488614</td>\n",
       "      <td>4.708854e+06</td>\n",
       "      <td>19</td>\n",
       "      <td>T</td>\n",
       "      <td>398.468733</td>\n",
       "      <td>1457.399937</td>\n",
       "      <td>0.064055</td>\n",
       "      <td>Existing Stations</td>\n",
       "    </tr>\n",
       "    <tr>\n",
       "      <th>10</th>\n",
       "      <td>573</td>\n",
       "      <td>T32012</td>\n",
       "      <td>Salem MBTA - Lower Level</td>\n",
       "      <td>42.523994</td>\n",
       "      <td>-70.896840</td>\n",
       "      <td>11</td>\n",
       "      <td>189</td>\n",
       "      <td>17.181818</td>\n",
       "      <td>0.1</td>\n",
       "      <td>344201.087965</td>\n",
       "      <td>4.709701e+06</td>\n",
       "      <td>19</td>\n",
       "      <td>T</td>\n",
       "      <td>1132.068085</td>\n",
       "      <td>2304.302112</td>\n",
       "      <td>0.042876</td>\n",
       "      <td>Existing Stations</td>\n",
       "    </tr>\n",
       "    <tr>\n",
       "      <th>11</th>\n",
       "      <td>574</td>\n",
       "      <td>T32013</td>\n",
       "      <td>Community Life Center</td>\n",
       "      <td>42.520136</td>\n",
       "      <td>-70.906271</td>\n",
       "      <td>9</td>\n",
       "      <td>42</td>\n",
       "      <td>4.666667</td>\n",
       "      <td>0.1</td>\n",
       "      <td>343416.800817</td>\n",
       "      <td>4.709290e+06</td>\n",
       "      <td>19</td>\n",
       "      <td>T</td>\n",
       "      <td>347.780936</td>\n",
       "      <td>1893.276141</td>\n",
       "      <td>0.000000</td>\n",
       "      <td>Existing Stations</td>\n",
       "    </tr>\n",
       "    <tr>\n",
       "      <th>12</th>\n",
       "      <td>575</td>\n",
       "      <td>T32014</td>\n",
       "      <td>Goodhue St at Grove St</td>\n",
       "      <td>42.520897</td>\n",
       "      <td>-70.910528</td>\n",
       "      <td>11</td>\n",
       "      <td>90</td>\n",
       "      <td>8.181818</td>\n",
       "      <td>0.1</td>\n",
       "      <td>343069.019881</td>\n",
       "      <td>4.709382e+06</td>\n",
       "      <td>19</td>\n",
       "      <td>T</td>\n",
       "      <td>0.000000</td>\n",
       "      <td>1985.655682</td>\n",
       "      <td>0.012043</td>\n",
       "      <td>Existing Stations</td>\n",
       "    </tr>\n",
       "  </tbody>\n",
       "</table>\n",
       "</div>"
      ],
      "text/plain": [
       "    station_id  Number                                    Name   Latitude  \\\n",
       "0          516  T32001                     Salem Ferry Landing  42.521893   \n",
       "1          517  T32002                      Salem Willows Park  42.534669   \n",
       "2          518  T32003  Shetland Park - Congress at Peabody St  42.518368   \n",
       "3          519  T32004             Mayor Salvo Path at Mill St  42.518035   \n",
       "4          520  T32005   Salem MBTA - Washington at Federal St  42.523452   \n",
       "5          521  T32006                   Lafayette at Leach St  42.511428   \n",
       "6          562  T32008                     Hawthorne Boulevard  42.522371   \n",
       "7          570  T32009   Salem State University - North Campus  42.503332   \n",
       "8          571  T32010                       Forest River Park  42.506395   \n",
       "9          572  T32011              Essex St at Dalton Parkway  42.516223   \n",
       "10         573  T32012                Salem MBTA - Lower Level  42.523994   \n",
       "11         574  T32013                   Community Life Center  42.520136   \n",
       "12         575  T32014                  Goodhue St at Grove St  42.520897   \n",
       "\n",
       "    Longitude  Total_docks  count      demand  Size              x  \\\n",
       "0  -70.880691           11   1125  102.272727   0.1  345522.357606   \n",
       "1  -70.870214           15   2002  133.466667   0.1  346414.242823   \n",
       "2  -70.889524           11   1699  154.454545   0.1  344788.114754   \n",
       "3  -70.895701           11   2664  242.181818   0.1  344279.862496   \n",
       "4  -70.896111           13   2947  226.692308   0.1  344259.610632   \n",
       "5  -70.891833           11   1114  101.272727   0.1  344581.206188   \n",
       "6  -70.890333            9   2669  296.555556   0.1  344731.536647   \n",
       "7  -70.891444           11    779   70.818182   0.1  344593.105338   \n",
       "8  -70.886930           11    530   48.181818   0.1  344971.572526   \n",
       "9  -70.905535           11    257   23.363636   0.1  343467.488614   \n",
       "10 -70.896840           11    189   17.181818   0.1  344201.087965   \n",
       "11 -70.906271            9     42    4.666667   0.1  343416.800817   \n",
       "12 -70.910528           11     90    8.181818   0.1  343069.019881   \n",
       "\n",
       "               y  zone_number zone_letter         xnew         ynew      norm  \\\n",
       "0   4.709438e+06           19           T  2453.337725  2041.414775  0.334395   \n",
       "1   4.710838e+06           19           T  3345.222942  3441.101549  0.441264   \n",
       "2   4.709063e+06           19           T  1719.094873  1666.127317  0.513167   \n",
       "3   4.709037e+06           19           T  1210.842615  1640.517085  0.813718   \n",
       "4   4.709639e+06           19           T  1190.590751  2242.819490  0.760651   \n",
       "5   4.708296e+06           19           T  1512.186307   899.708322  0.330969   \n",
       "6   4.709509e+06           19           T  1662.516766  2112.178240  1.000000   \n",
       "7   4.707396e+06           19           T  1524.085457     0.000000  0.226633   \n",
       "8   4.707728e+06           19           T  1902.552645   331.862199  0.149081   \n",
       "9   4.708854e+06           19           T   398.468733  1457.399937  0.064055   \n",
       "10  4.709701e+06           19           T  1132.068085  2304.302112  0.042876   \n",
       "11  4.709290e+06           19           T   347.780936  1893.276141  0.000000   \n",
       "12  4.709382e+06           19           T     0.000000  1985.655682  0.012043   \n",
       "\n",
       "                Group  \n",
       "0   Existing Stations  \n",
       "1   Existing Stations  \n",
       "2   Existing Stations  \n",
       "3   Existing Stations  \n",
       "4   Existing Stations  \n",
       "5   Existing Stations  \n",
       "6   Existing Stations  \n",
       "7   Existing Stations  \n",
       "8   Existing Stations  \n",
       "9   Existing Stations  \n",
       "10  Existing Stations  \n",
       "11  Existing Stations  \n",
       "12  Existing Stations  "
      ]
     },
     "execution_count": 155,
     "metadata": {},
     "output_type": "execute_result"
    }
   ],
   "source": [
    "#standardize attraction and demand weights\n",
    "#attraction_weights_raw = pd.read_csv('inputs/attractions_weights.csv')\n",
    "#attraction_weights = attraction_weights_raw[\"Google Reviews\"]\n",
    "attraction_weights = attractions_df[\"Google Reviews\"]\n",
    "\n",
    "demand_weights = salem_demand_df[\"demand\"]\n",
    "\n",
    "attractions_df[\"log\"] = np.log10(attraction_weights)\n",
    "attractions_df[\"norm\"] = (attractions_df[\"log\"] - min(attractions_df[\"log\"]))/(max(attractions_df[\"log\"]) - min(attractions_df[\"log\"]))\n",
    "attractions_df\n",
    "\n",
    "#salem_demand_df.describe()\n",
    "salem_demand_df[\"norm\"] = (demand_weights - min(demand_weights))/(max(demand_weights) - min(demand_weights))\n",
    "salem_demand_df\n",
    "\n",
    "#first see distributions\n",
    "#demand_weights.hist()\n",
    "#attraction_weights.hist()\n",
    "\n",
    "#attraction_weights.plot(kind='hist', logx=True, bins=10)\n",
    "\n",
    "#write to csv\n",
    "#attractions_df.to_csv('inputs/standardized_attractions_weights.csv')\n",
    "#salem_demand_df.to_csv('inputs/standardized_salem_demand.csv')"
   ]
  },
  {
   "cell_type": "markdown",
   "metadata": {},
   "source": [
    "Standardize distances"
   ]
  },
  {
   "cell_type": "code",
   "execution_count": 229,
   "metadata": {},
   "outputs": [
    {
     "name": "stdout",
     "output_type": "stream",
     "text": [
      "mean 1935.2420606916019\n",
      "std 948.201199349726\n",
      "1.1972586213454992\n",
      "0.2006853446636252\n"
     ]
    },
    {
     "data": {
      "image/png": "[encoded data removed]",
      "text/plain": [
       "<Figure size 640x480 with 1 Axes>"
      ]
     },
     "metadata": {},
     "output_type": "display_data"
    }
   ],
   "source": [
    "attraction_distances = pd.read_csv('inputs/candidate_attraction_distance.csv', header=0)\n",
    "existing_distances_raw = pd.read_csv('inputs/candidate_existing_distance.csv', header=0)\n",
    "existing_distances = existing_distances_raw.reindex(sorted(existing_distances_raw.columns), axis=1)\n",
    "\n",
    "###constraint threshold\n",
    "threshold = 800\n",
    "\n",
    "#plot histograms\n",
    "#plt.hist(attraction_distances.values.flatten()) #normal distribution\n",
    "#plt.hist(existing_distances.values.flatten()) #normal distribution\n",
    "\n",
    "###existing distances\n",
    "existing_distances_flat = existing_distances.values.flatten()\n",
    "\n",
    "#compute new threshold\n",
    "print(\"mean\",existing_distances_flat.mean())\n",
    "print(\"std\",existing_distances_flat.std())\n",
    "threshold_mult = (existing_distances_flat.mean() - threshold) / existing_distances_flat.std()\n",
    "print(threshold_mult)\n",
    "print((2-threshold_mult)/4)\n",
    "\n",
    "#plt.hist(existing_distances.values.flatten(), bins=20)\n",
    "\n",
    "existing_distances_stand = (existing_distances - existing_distances_flat.mean())/(existing_distances_flat.std())\n",
    "existing_distances_stand -= existing_distances_stand.min()\n",
    "existing_distances_stand /= 4 #account for only 2 left standard deviations and 2 right standard deviations\n",
    "existing_distances_stand = np.clip(existing_distances_stand,0,1)\n",
    "\n",
    "#plt.hist(existing_distances_stand.values.flatten(), bins=20)\n",
    "\n",
    "###attraction distances\n",
    "attraction_distances_flat = attraction_distances.values.flatten()\n",
    "\n",
    "attraction_distances_stand = (attraction_distances - attraction_distances_flat.mean())/(attraction_distances_flat.std())\n",
    "attraction_distances_stand -= attraction_distances_stand.min()\n",
    "attraction_distances_stand /= 4 #account for only 2 left standard deviations and 2 right standard deviations\n",
    "attraction_distances_stand = np.clip(attraction_distances_stand,0,1)\n",
    "\n",
    "#plt.hist(attraction_distances_stand.values.flatten())\n",
    "\n",
    "#write to csv\n",
    "#attraction_distances_stand.to_csv('inputs/standardized_attractions_distance.csv')\n",
    "#existing_distances_stand.to_csv('inputs/standardized_existing_distance.csv')"
   ]
  },
  {
   "cell_type": "markdown",
   "metadata": {},
   "source": [
    "Post optimization plotting"
   ]
  },
  {
   "cell_type": "code",
   "execution_count": 326,
   "metadata": {},
   "outputs": [],
   "source": [
    "salem_demand_df['Group'] = [\"Existing Stations\" for _ in range(len(salem_demand_df))]\n",
    "attractions_df['Group'] = [\"Attractions\" for _ in range(len(attractions_df))]\n",
    "\n",
    "candidates_df['index'] = np.arange(len(candidates_df))\n",
    "\n",
    "stations_chosen = (47,53,79,86,105) #fourth form full opt\n",
    "#stations_chosen = (16,38,47,52,53) #fourth form only existing distance\n",
    "#stations_chosen = (38,47,53,86,97) #fourth form only demand\n",
    "#stations_chosen = (52,53,79,86,105) #fourth form only attraction distance\n",
    "#station_chosen = (47,86,87,97,104) #fourth only values\n",
    "#stations_chosen = (47,86,96,97,104) #second formulation\n",
    "#stations_chosen = (86,96,97,104,105) #second form only attractions\n",
    "#stations_chosen = (38,46,47,53,86) #second form only existing\n",
    "#stations_chosen = (47,53,86,96,97) #third formulation\n",
    "#stations_chosen = (38,46,47,52,53) #third form only existing distance\n",
    "#stations_chosen = (38,47,53,86,97) #third form only demand\n",
    "#stations_chosen = (47,86,96,97,104) #third form only attraction distance\n",
    "#stations_chosen = (47,86,87,97,104) #third form only values\n",
    "\n",
    "candidates_df['Group'] = np.where(candidates_df['index'].isin(stations_chosen), \"Chosen Stations\", \"Not Chosen Stations\")\n",
    "candidates_df['norm'] = 0.5\n",
    "candidates_df[\"Size\"] = ball_size * np.ones(len(candidates_df))\n",
    "attractions_df['Size'] = ball_size * np.ones(len(attractions_df))\n",
    "\n",
    "candidates_plot = candidates_df[[\"Address\",\"Latitude\",\"Longitude\",\"index\",\"Group\",\"Size\",\"norm\"]]\n",
    "salem_demand_plot = salem_demand_df[[\"Name\",\"Latitude\",\"Longitude\",\"station_id\",\"Group\",\"Size\",\"norm\"]]\n",
    "attractions_plot = attractions_df[[\"Attraction\",\"Latitude\",\"Longitude\",\"Index\",\"Group\",\"Size\",\"norm\"]]\n",
    "all_map_data = pd.concat([candidates_plot,salem_demand_plot,attractions_plot])"
   ]
  },
  {
   "cell_type": "code",
   "execution_count": 368,
   "metadata": {},
   "outputs": [
    {
     "data": {
      "application/vnd.plotly.v1+json": {
       "config": {
        "plotlyServerURL": "https://plot.ly"
       },
       "data": [
        {
         "hovertemplate": "<b>%{hovertext}</b><br><br>Group=Not Chosen Stations<br>norm=%{marker.size}<br>Latitude=%{lat}<br>Longitude=%{lon}<extra></extra>",
         "hovertext": [
          0.5,
          0.5,
          0.5,
          0.5,
          0.5,
          0.5,
          0.5,
          0.5,
          0.5,
          0.5,
          0.5,
          0.5,
          0.5,
          0.5,
          0.5,
          0.5,
          0.5,
          0.5,
          0.5,
          0.5,
          0.5,
          0.5,
          0.5,
          0.5,
          0.5,
          0.5,
          0.5,
          0.5,
          0.5,
          0.5,
          0.5,
          0.5,
          0.5,
          0.5,
          0.5,
          0.5,
          0.5,
          0.5,
          0.5,
          0.5,
          0.5,
          0.5,
          0.5,
          0.5,
          0.5,
          0.5,
          0.5,
          0.5,
          0.5,
          0.5,
          0.5,
          0.5,
          0.5,
          0.5,
          0.5,
          0.5,
          0.5,
          0.5,
          0.5,
          0.5,
          0.5,
          0.5,
          0.5,
          0.5,
          0.5,
          0.5,
          0.5,
          0.5,
          0.5,
          0.5,
          0.5,
          0.5,
          0.5,
          0.5,
          0.5,
          0.5,
          0.5,
          0.5,
          0.5,
          0.5,
          0.5,
          0.5,
          0.5,
          0.5,
          0.5,
          0.5,
          0.5,
          0.5,
          0.5,
          0.5,
          0.5,
          0.5,
          0.5,
          0.5,
          0.5,
          0.5,
          0.5,
          0.5,
          0.5,
          0.5,
          0.5,
          0.5,
          0.5,
          0.5
         ],
         "lat": [
          42.507436,
          42.507694,
          42.5076135,
          42.5076347,
          42.5075076,
          42.5078389,
          42.5078405,
          42.507903,
          42.5079959,
          42.5095542,
          42.508767,
          42.5093847,
          42.5099401,
          42.509552,
          42.5096304,
          42.509665,
          42.5098022,
          42.5117136,
          42.5117673,
          42.511967,
          42.5119678,
          42.5117146,
          42.5117466,
          42.5116306,
          42.513343,
          42.5127115,
          42.5134625,
          42.5136473,
          42.5147135,
          42.5136619,
          42.5136393,
          42.513982,
          42.5151933,
          42.51571,
          42.5154998,
          42.5154463,
          42.5157005,
          42.5156523,
          42.5157135,
          42.5156184,
          42.515617,
          42.5162923,
          42.5173392,
          42.517365,
          42.5174189,
          42.5173972,
          42.5175032,
          42.5176588,
          42.5182039,
          42.5190886,
          42.5192848,
          42.51925110000001,
          42.519633,
          42.5192108,
          42.5197395,
          42.519662,
          42.5214192,
          42.5212621,
          42.521359,
          42.5212337,
          42.5216077,
          42.5214744,
          42.52151749999999,
          42.5214933,
          42.521693,
          42.5215504,
          42.5238008,
          42.5234063,
          42.52330449999999,
          42.5231594,
          42.5233735,
          42.5234745,
          42.5236081,
          42.5238019,
          42.5237083,
          42.52356080000001,
          42.5218354,
          42.5253832,
          42.5253126,
          42.5252994,
          42.5254249,
          42.5251502,
          42.5254807,
          42.5255892,
          42.5255567,
          42.52549399999999,
          42.5251058,
          42.52720619999999,
          42.52723839999999,
          42.5273124,
          42.5272786,
          42.5273477,
          42.5273664,
          42.5273772,
          42.5279338,
          42.5277883,
          42.52899790000001,
          42.5291466,
          42.529297,
          42.5290952,
          42.529489,
          42.5296097,
          42.52943190000001,
          42.52965289999999
         ],
         "legendgroup": "Not Chosen Stations",
         "lon": [
          -70.907488,
          -70.9046388,
          -70.90245589999999,
          -70.89957629999999,
          -70.89699960000002,
          -70.894328,
          -70.89165729999999,
          -70.88912599999999,
          -70.88666429999999,
          -70.9077041,
          -70.903593,
          -70.9015734,
          -70.8996263,
          -70.89656819999999,
          -70.89442090000001,
          -70.891571,
          -70.8889867,
          -70.9068894,
          -70.9055514,
          -70.9021772,
          -70.89659879999999,
          -70.89428149999999,
          -70.89168049999999,
          -70.8890796,
          -70.907797,
          -70.9047781,
          -70.9022701,
          -70.89937549999999,
          -70.8973005,
          -70.89442090000001,
          -70.8916109,
          -70.88931099999999,
          -70.9086339,
          -70.9048736,
          -70.9025023,
          -70.89981879999999,
          -70.89733249999999,
          -70.8945172,
          -70.8918431,
          -70.88914919999999,
          -70.887889,
          -70.9076345,
          -70.9051265,
          -70.9025952,
          -70.899935,
          -70.8972076,
          -70.8946066,
          -70.8890796,
          -70.8876428,
          -70.9076577,
          -70.9051497,
          -70.9025952,
          -70.897126,
          -70.894537,
          -70.8920289,
          -70.889544,
          -70.9077157,
          -70.9051806,
          -70.9025952,
          -70.8998317,
          -70.89732959999999,
          -70.89456679999999,
          -70.8922189,
          -70.889335,
          -70.8865876,
          -70.8839356,
          -70.9087314,
          -70.9051166,
          -70.9026658,
          -70.9002301,
          -70.8972308,
          -70.8948156,
          -70.8920395,
          -70.889695,
          -70.8868501,
          -70.8841214,
          -70.8867108,
          -70.9077041,
          -70.9051497,
          -70.9026271,
          -70.90022650000002,
          -70.89402609999999,
          -70.8921915,
          -70.8870359,
          -70.8840633,
          -70.88168499999999,
          -70.8774911,
          -70.9079828,
          -70.9053819,
          -70.9027517,
          -70.90004069999999,
          -70.89788570000002,
          -70.8921915,
          -70.8896834,
          -70.8810211,
          -70.8790006,
          -70.9081337,
          -70.9056492,
          -70.9027926,
          -70.90012200000001,
          -70.89210299999999,
          -70.8868734,
          -70.8813462,
          -70.8790935
         ],
         "marker": {
          "color": "gray",
          "size": [
           0.5,
           0.5,
           0.5,
           0.5,
           0.5,
           0.5,
           0.5,
           0.5,
           0.5,
           0.5,
           0.5,
           0.5,
           0.5,
           0.5,
           0.5,
           0.5,
           0.5,
           0.5,
           0.5,
           0.5,
           0.5,
           0.5,
           0.5,
           0.5,
           0.5,
           0.5,
           0.5,
           0.5,
           0.5,
           0.5,
           0.5,
           0.5,
           0.5,
           0.5,
           0.5,
           0.5,
           0.5,
           0.5,
           0.5,
           0.5,
           0.5,
           0.5,
           0.5,
           0.5,
           0.5,
           0.5,
           0.5,
           0.5,
           0.5,
           0.5,
           0.5,
           0.5,
           0.5,
           0.5,
           0.5,
           0.5,
           0.5,
           0.5,
           0.5,
           0.5,
           0.5,
           0.5,
           0.5,
           0.5,
           0.5,
           0.5,
           0.5,
           0.5,
           0.5,
           0.5,
           0.5,
           0.5,
           0.5,
           0.5,
           0.5,
           0.5,
           0.5,
           0.5,
           0.5,
           0.5,
           0.5,
           0.5,
           0.5,
           0.5,
           0.5,
           0.5,
           0.5,
           0.5,
           0.5,
           0.5,
           0.5,
           0.5,
           0.5,
           0.5,
           0.5,
           0.5,
           0.5,
           0.5,
           0.5,
           0.5,
           0.5,
           0.5,
           0.5,
           0.5
          ],
          "sizemode": "area",
          "sizeref": 0.00390625
         },
         "mode": "markers",
         "name": "Not Chosen Stations",
         "showlegend": true,
         "subplot": "mapbox",
         "type": "scattermapbox"
        },
        {
         "hovertemplate": "<b>%{hovertext}</b><br><br>Group=Chosen Stations<br>norm=%{marker.size}<br>Latitude=%{lat}<br>Longitude=%{lon}<extra></extra>",
         "hovertext": [
          0.5,
          0.5,
          0.5,
          0.5,
          0.5
         ],
         "lat": [
          42.5173696,
          42.5195101,
          42.5247067,
          42.525371,
          42.5294607
         ],
         "legendgroup": "Chosen Stations",
         "lon": [
          -70.8917967,
          -70.89980849999999,
          -70.8786058,
          -70.889444,
          -70.889544
         ],
         "marker": {
          "color": "darkgreen",
          "size": [
           0.5,
           0.5,
           0.5,
           0.5,
           0.5
          ],
          "sizemode": "area",
          "sizeref": 0.00390625
         },
         "mode": "markers",
         "name": "Chosen Stations",
         "showlegend": true,
         "subplot": "mapbox",
         "type": "scattermapbox"
        },
        {
         "hovertemplate": "<b>%{hovertext}</b><br><br>Group=Existing Stations<br>norm=%{marker.size}<br>Latitude=%{lat}<br>Longitude=%{lon}<extra></extra>",
         "hovertext": [
          0.3343945738311936,
          0.44126379901027796,
          0.5131674568294288,
          0.8137176869571238,
          0.7606512254399579,
          0.33096861265875355,
          1,
          0.22663252240717027,
          0.14908121950375472,
          0.06405509222410631,
          0.042876423158113304,
          0,
          0.012042772606152887
         ],
         "lat": [
          42.52189284,
          42.53466911,
          42.51836788,
          42.5180352,
          42.52345239,
          42.51142784,
          42.5223714,
          42.503332,
          42.506395,
          42.516223,
          42.523994,
          42.520136,
          42.520897
         ],
         "legendgroup": "Existing Stations",
         "lon": [
          -70.88069111,
          -70.8702144,
          -70.88952363,
          -70.89570075,
          -70.89611113,
          -70.89183301,
          -70.8903331,
          -70.891444,
          -70.88693,
          -70.905535,
          -70.89684,
          -70.906271,
          -70.910528
         ],
         "marker": {
          "color": "blue",
          "size": [
           0.3343945738311936,
           0.44126379901027796,
           0.5131674568294288,
           0.8137176869571238,
           0.7606512254399579,
           0.33096861265875355,
           1,
           0.22663252240717027,
           0.14908121950375472,
           0.06405509222410631,
           0.042876423158113304,
           0,
           0.012042772606152887
          ],
          "sizemode": "area",
          "sizeref": 0.00390625
         },
         "mode": "markers",
         "name": "Existing Stations",
         "showlegend": true,
         "subplot": "mapbox",
         "type": "scattermapbox"
        },
        {
         "hovertemplate": "<b>%{hovertext}</b><br><br>Group=Attractions<br>norm=%{marker.size}<br>Latitude=%{lat}<br>Longitude=%{lon}<extra></extra>",
         "hovertext": [
          0.8535697367384464,
          1,
          0.402167146978068,
          0.5283888069049109,
          0.8463603805568455,
          0.7570449986188506,
          0.8621694197704257,
          0.8433954146326935,
          0.755968231778163,
          0.45859285575399256,
          0,
          0.6226808891280088,
          0.45382457456576775,
          0.5629452465022411,
          0.1525324732821192,
          0.3898999062087589,
          0.2750003728506587,
          0.4998646003644476,
          0.7915084035356388,
          0.7254775242798713,
          0.29650829186240163,
          0.402167146978068
         ],
         "lat": [
          42.52271808,
          42.52531387,
          42.5324589,
          42.52316706,
          42.52310773,
          42.52275332,
          42.52302129,
          42.53643556,
          42.52358859,
          42.53531334,
          42.52134577,
          42.52201802,
          42.52298861,
          42.52330735,
          42.5241337,
          42.5153545,
          42.52256134,
          42.52177708,
          42.52206569,
          42.52326491,
          42.52070477,
          42.5207361
         ],
         "legendgroup": "Attractions",
         "lon": [
          -70.8910174,
          -70.89079761,
          -70.88964111,
          -70.89533074,
          -70.89803062,
          -70.8868143,
          -70.88039902,
          -70.87041662,
          -70.89612846,
          -70.86853292,
          -70.89389379,
          -70.89187125,
          -70.91518228,
          -70.89044291,
          -70.88221337,
          -70.88794809,
          -70.89041052,
          -70.89025654,
          -70.88977752,
          -70.8930214,
          -70.90173702,
          -70.89023077
         ],
         "marker": {
          "color": "fuchsia",
          "size": [
           0.8535697367384464,
           1,
           0.402167146978068,
           0.5283888069049109,
           0.8463603805568455,
           0.7570449986188506,
           0.8621694197704257,
           0.8433954146326935,
           0.755968231778163,
           0.45859285575399256,
           0,
           0.6226808891280088,
           0.45382457456576775,
           0.5629452465022411,
           0.1525324732821192,
           0.3898999062087589,
           0.2750003728506587,
           0.4998646003644476,
           0.7915084035356388,
           0.7254775242798713,
           0.29650829186240163,
           0.402167146978068
          ],
          "sizemode": "area",
          "sizeref": 0.00390625
         },
         "mode": "markers",
         "name": "Attractions",
         "showlegend": true,
         "subplot": "mapbox",
         "type": "scattermapbox"
        }
       ],
       "layout": {
        "height": 900,
        "legend": {
         "font": {
          "color": "black",
          "size": 20
         },
         "itemsizing": "constant",
         "title": {
          "font": {
           "color": "Black",
           "size": 20
          },
          "text": "Group"
         },
         "tracegroupgap": 0
        },
        "mapbox": {
         "center": {
          "lat": 42.51975961555556,
          "lon": -70.89497313604166
         },
         "domain": {
          "x": [
           0,
           1
          ],
          "y": [
           0,
           1
          ]
         },
         "style": "open-street-map",
         "zoom": 12
        },
        "margin": {
         "b": 0,
         "l": 0,
         "r": 0,
         "t": 0
        },
        "template": {
         "data": {
          "bar": [
           {
            "error_x": {
             "color": "#2a3f5f"
            },
            "error_y": {
             "color": "#2a3f5f"
            },
            "marker": {
             "line": {
              "color": "#E5ECF6",
              "width": 0.5
             },
             "pattern": {
              "fillmode": "overlay",
              "size": 10,
              "solidity": 0.2
             }
            },
            "type": "bar"
           }
          ],
          "barpolar": [
           {
            "marker": {
             "line": {
              "color": "#E5ECF6",
              "width": 0.5
             },
             "pattern": {
              "fillmode": "overlay",
              "size": 10,
              "solidity": 0.2
             }
            },
            "type": "barpolar"
           }
          ],
          "carpet": [
           {
            "aaxis": {
             "endlinecolor": "#2a3f5f",
             "gridcolor": "white",
             "linecolor": "white",
             "minorgridcolor": "white",
             "startlinecolor": "#2a3f5f"
            },
            "baxis": {
             "endlinecolor": "#2a3f5f",
             "gridcolor": "white",
             "linecolor": "white",
             "minorgridcolor": "white",
             "startlinecolor": "#2a3f5f"
            },
            "type": "carpet"
           }
          ],
          "choropleth": [
           {
            "colorbar": {
             "outlinewidth": 0,
             "ticks": ""
            },
            "type": "choropleth"
           }
          ],
          "contour": [
           {
            "colorbar": {
             "outlinewidth": 0,
             "ticks": ""
            },
            "colorscale": [
             [
              0,
              "#0d0887"
             ],
             [
              0.1111111111111111,
              "#46039f"
             ],
             [
              0.2222222222222222,
              "#7201a8"
             ],
             [
              0.3333333333333333,
              "#9c179e"
             ],
             [
              0.4444444444444444,
              "#bd3786"
             ],
             [
              0.5555555555555556,
              "#d8576b"
             ],
             [
              0.6666666666666666,
              "#ed7953"
             ],
             [
              0.7777777777777778,
              "#fb9f3a"
             ],
             [
              0.8888888888888888,
              "#fdca26"
             ],
             [
              1,
              "#f0f921"
             ]
            ],
            "type": "contour"
           }
          ],
          "contourcarpet": [
           {
            "colorbar": {
             "outlinewidth": 0,
             "ticks": ""
            },
            "type": "contourcarpet"
           }
          ],
          "heatmap": [
           {
            "colorbar": {
             "outlinewidth": 0,
             "ticks": ""
            },
            "colorscale": [
             [
              0,
              "#0d0887"
             ],
             [
              0.1111111111111111,
              "#46039f"
             ],
             [
              0.2222222222222222,
              "#7201a8"
             ],
             [
              0.3333333333333333,
              "#9c179e"
             ],
             [
              0.4444444444444444,
              "#bd3786"
             ],
             [
              0.5555555555555556,
              "#d8576b"
             ],
             [
              0.6666666666666666,
              "#ed7953"
             ],
             [
              0.7777777777777778,
              "#fb9f3a"
             ],
             [
              0.8888888888888888,
              "#fdca26"
             ],
             [
              1,
              "#f0f921"
             ]
            ],
            "type": "heatmap"
           }
          ],
          "heatmapgl": [
           {
            "colorbar": {
             "outlinewidth": 0,
             "ticks": ""
            },
            "colorscale": [
             [
              0,
              "#0d0887"
             ],
             [
              0.1111111111111111,
              "#46039f"
             ],
             [
              0.2222222222222222,
              "#7201a8"
             ],
             [
              0.3333333333333333,
              "#9c179e"
             ],
             [
              0.4444444444444444,
              "#bd3786"
             ],
             [
              0.5555555555555556,
              "#d8576b"
             ],
             [
              0.6666666666666666,
              "#ed7953"
             ],
             [
              0.7777777777777778,
              "#fb9f3a"
             ],
             [
              0.8888888888888888,
              "#fdca26"
             ],
             [
              1,
              "#f0f921"
             ]
            ],
            "type": "heatmapgl"
           }
          ],
          "histogram": [
           {
            "marker": {
             "pattern": {
              "fillmode": "overlay",
              "size": 10,
              "solidity": 0.2
             }
            },
            "type": "histogram"
           }
          ],
          "histogram2d": [
           {
            "colorbar": {
             "outlinewidth": 0,
             "ticks": ""
            },
            "colorscale": [
             [
              0,
              "#0d0887"
             ],
             [
              0.1111111111111111,
              "#46039f"
             ],
             [
              0.2222222222222222,
              "#7201a8"
             ],
             [
              0.3333333333333333,
              "#9c179e"
             ],
             [
              0.4444444444444444,
              "#bd3786"
             ],
             [
              0.5555555555555556,
              "#d8576b"
             ],
             [
              0.6666666666666666,
              "#ed7953"
             ],
             [
              0.7777777777777778,
              "#fb9f3a"
             ],
             [
              0.8888888888888888,
              "#fdca26"
             ],
             [
              1,
              "#f0f921"
             ]
            ],
            "type": "histogram2d"
           }
          ],
          "histogram2dcontour": [
           {
            "colorbar": {
             "outlinewidth": 0,
             "ticks": ""
            },
            "colorscale": [
             [
              0,
              "#0d0887"
             ],
             [
              0.1111111111111111,
              "#46039f"
             ],
             [
              0.2222222222222222,
              "#7201a8"
             ],
             [
              0.3333333333333333,
              "#9c179e"
             ],
             [
              0.4444444444444444,
              "#bd3786"
             ],
             [
              0.5555555555555556,
              "#d8576b"
             ],
             [
              0.6666666666666666,
              "#ed7953"
             ],
             [
              0.7777777777777778,
              "#fb9f3a"
             ],
             [
              0.8888888888888888,
              "#fdca26"
             ],
             [
              1,
              "#f0f921"
             ]
            ],
            "type": "histogram2dcontour"
           }
          ],
          "mesh3d": [
           {
            "colorbar": {
             "outlinewidth": 0,
             "ticks": ""
            },
            "type": "mesh3d"
           }
          ],
          "parcoords": [
           {
            "line": {
             "colorbar": {
              "outlinewidth": 0,
              "ticks": ""
             }
            },
            "type": "parcoords"
           }
          ],
          "pie": [
           {
            "automargin": true,
            "type": "pie"
           }
          ],
          "scatter": [
           {
            "fillpattern": {
             "fillmode": "overlay",
             "size": 10,
             "solidity": 0.2
            },
            "type": "scatter"
           }
          ],
          "scatter3d": [
           {
            "line": {
             "colorbar": {
              "outlinewidth": 0,
              "ticks": ""
             }
            },
            "marker": {
             "colorbar": {
              "outlinewidth": 0,
              "ticks": ""
             }
            },
            "type": "scatter3d"
           }
          ],
          "scattercarpet": [
           {
            "marker": {
             "colorbar": {
              "outlinewidth": 0,
              "ticks": ""
             }
            },
            "type": "scattercarpet"
           }
          ],
          "scattergeo": [
           {
            "marker": {
             "colorbar": {
              "outlinewidth": 0,
              "ticks": ""
             }
            },
            "type": "scattergeo"
           }
          ],
          "scattergl": [
           {
            "marker": {
             "colorbar": {
              "outlinewidth": 0,
              "ticks": ""
             }
            },
            "type": "scattergl"
           }
          ],
          "scattermapbox": [
           {
            "marker": {
             "colorbar": {
              "outlinewidth": 0,
              "ticks": ""
             }
            },
            "type": "scattermapbox"
           }
          ],
          "scatterpolar": [
           {
            "marker": {
             "colorbar": {
              "outlinewidth": 0,
              "ticks": ""
             }
            },
            "type": "scatterpolar"
           }
          ],
          "scatterpolargl": [
           {
            "marker": {
             "colorbar": {
              "outlinewidth": 0,
              "ticks": ""
             }
            },
            "type": "scatterpolargl"
           }
          ],
          "scatterternary": [
           {
            "marker": {
             "colorbar": {
              "outlinewidth": 0,
              "ticks": ""
             }
            },
            "type": "scatterternary"
           }
          ],
          "surface": [
           {
            "colorbar": {
             "outlinewidth": 0,
             "ticks": ""
            },
            "colorscale": [
             [
              0,
              "#0d0887"
             ],
             [
              0.1111111111111111,
              "#46039f"
             ],
             [
              0.2222222222222222,
              "#7201a8"
             ],
             [
              0.3333333333333333,
              "#9c179e"
             ],
             [
              0.4444444444444444,
              "#bd3786"
             ],
             [
              0.5555555555555556,
              "#d8576b"
             ],
             [
              0.6666666666666666,
              "#ed7953"
             ],
             [
              0.7777777777777778,
              "#fb9f3a"
             ],
             [
              0.8888888888888888,
              "#fdca26"
             ],
             [
              1,
              "#f0f921"
             ]
            ],
            "type": "surface"
           }
          ],
          "table": [
           {
            "cells": {
             "fill": {
              "color": "#EBF0F8"
             },
             "line": {
              "color": "white"
             }
            },
            "header": {
             "fill": {
              "color": "#C8D4E3"
             },
             "line": {
              "color": "white"
             }
            },
            "type": "table"
           }
          ]
         },
         "layout": {
          "annotationdefaults": {
           "arrowcolor": "#2a3f5f",
           "arrowhead": 0,
           "arrowwidth": 1
          },
          "autotypenumbers": "strict",
          "coloraxis": {
           "colorbar": {
            "outlinewidth": 0,
            "ticks": ""
           }
          },
          "colorscale": {
           "diverging": [
            [
             0,
             "#8e0152"
            ],
            [
             0.1,
             "#c51b7d"
            ],
            [
             0.2,
             "#de77ae"
            ],
            [
             0.3,
             "#f1b6da"
            ],
            [
             0.4,
             "#fde0ef"
            ],
            [
             0.5,
             "#f7f7f7"
            ],
            [
             0.6,
             "#e6f5d0"
            ],
            [
             0.7,
             "#b8e186"
            ],
            [
             0.8,
             "#7fbc41"
            ],
            [
             0.9,
             "#4d9221"
            ],
            [
             1,
             "#276419"
            ]
           ],
           "sequential": [
            [
             0,
             "#0d0887"
            ],
            [
             0.1111111111111111,
             "#46039f"
            ],
            [
             0.2222222222222222,
             "#7201a8"
            ],
            [
             0.3333333333333333,
             "#9c179e"
            ],
            [
             0.4444444444444444,
             "#bd3786"
            ],
            [
             0.5555555555555556,
             "#d8576b"
            ],
            [
             0.6666666666666666,
             "#ed7953"
            ],
            [
             0.7777777777777778,
             "#fb9f3a"
            ],
            [
             0.8888888888888888,
             "#fdca26"
            ],
            [
             1,
             "#f0f921"
            ]
           ],
           "sequentialminus": [
            [
             0,
             "#0d0887"
            ],
            [
             0.1111111111111111,
             "#46039f"
            ],
            [
             0.2222222222222222,
             "#7201a8"
            ],
            [
             0.3333333333333333,
             "#9c179e"
            ],
            [
             0.4444444444444444,
             "#bd3786"
            ],
            [
             0.5555555555555556,
             "#d8576b"
            ],
            [
             0.6666666666666666,
             "#ed7953"
            ],
            [
             0.7777777777777778,
             "#fb9f3a"
            ],
            [
             0.8888888888888888,
             "#fdca26"
            ],
            [
             1,
             "#f0f921"
            ]
           ]
          },
          "colorway": [
           "#636efa",
           "#EF553B",
           "#00cc96",
           "#ab63fa",
           "#FFA15A",
           "#19d3f3",
           "#FF6692",
           "#B6E880",
           "#FF97FF",
           "#FECB52"
          ],
          "font": {
           "color": "#2a3f5f"
          },
          "geo": {
           "bgcolor": "white",
           "lakecolor": "white",
           "landcolor": "#E5ECF6",
           "showlakes": true,
           "showland": true,
           "subunitcolor": "white"
          },
          "hoverlabel": {
           "align": "left"
          },
          "hovermode": "closest",
          "mapbox": {
           "style": "light"
          },
          "paper_bgcolor": "white",
          "plot_bgcolor": "#E5ECF6",
          "polar": {
           "angularaxis": {
            "gridcolor": "white",
            "linecolor": "white",
            "ticks": ""
           },
           "bgcolor": "#E5ECF6",
           "radialaxis": {
            "gridcolor": "white",
            "linecolor": "white",
            "ticks": ""
           }
          },
          "scene": {
           "xaxis": {
            "backgroundcolor": "#E5ECF6",
            "gridcolor": "white",
            "gridwidth": 2,
            "linecolor": "white",
            "showbackground": true,
            "ticks": "",
            "zerolinecolor": "white"
           },
           "yaxis": {
            "backgroundcolor": "#E5ECF6",
            "gridcolor": "white",
            "gridwidth": 2,
            "linecolor": "white",
            "showbackground": true,
            "ticks": "",
            "zerolinecolor": "white"
           },
           "zaxis": {
            "backgroundcolor": "#E5ECF6",
            "gridcolor": "white",
            "gridwidth": 2,
            "linecolor": "white",
            "showbackground": true,
            "ticks": "",
            "zerolinecolor": "white"
           }
          },
          "shapedefaults": {
           "line": {
            "color": "#2a3f5f"
           }
          },
          "ternary": {
           "aaxis": {
            "gridcolor": "white",
            "linecolor": "white",
            "ticks": ""
           },
           "baxis": {
            "gridcolor": "white",
            "linecolor": "white",
            "ticks": ""
           },
           "bgcolor": "#E5ECF6",
           "caxis": {
            "gridcolor": "white",
            "linecolor": "white",
            "ticks": ""
           }
          },
          "title": {
           "x": 0.05
          },
          "xaxis": {
           "automargin": true,
           "gridcolor": "white",
           "linecolor": "white",
           "ticks": "",
           "title": {
            "standoff": 15
           },
           "zerolinecolor": "white",
           "zerolinewidth": 2
          },
          "yaxis": {
           "automargin": true,
           "gridcolor": "white",
           "linecolor": "white",
           "ticks": "",
           "title": {
            "standoff": 15
           },
           "zerolinecolor": "white",
           "zerolinewidth": 2
          }
         }
        }
       }
      }
     },
     "metadata": {},
     "output_type": "display_data"
    }
   ],
   "source": [
    "# Plot a map of the potential stations\n",
    "#fig = px.scatter_mapbox(pd.concat([candidates_df,salem_demand_df,attractions_df]), lat=\"Latitude\", lon=\"Longitude\", hover_name = \"norm\", color=\"Group\", zoom=12, height=900, size=\"Size\", size_max=15)\n",
    "fig = px.scatter_mapbox(all_map_data, lat=\"Latitude\", lon=\"Longitude\", hover_name = \"norm\", color=\"Group\", zoom=12, height=900, size=all_map_data[\"norm\"], size_max=16, color_discrete_sequence=['gray','darkgreen','blue','fuchsia'])\n",
    "fig.update_layout(mapbox_style=\"open-street-map\")\n",
    "fig.update_layout(margin={\"r\":0,\"t\":0,\"l\":0,\"b\":0})\n",
    "fig.update_layout(legend = dict(font = dict(size = 20, color = \"black\")),\n",
    "                  legend_title = dict(font = dict(size = 20, color = \"Black\")))\n",
    "fig.show()"
   ]
  },
  {
   "cell_type": "code",
   "execution_count": 361,
   "metadata": {},
   "outputs": [
    {
     "data": {
      "text/html": [
       "<div>\n",
       "<style scoped>\n",
       "    .dataframe tbody tr th:only-of-type {\n",
       "        vertical-align: middle;\n",
       "    }\n",
       "\n",
       "    .dataframe tbody tr th {\n",
       "        vertical-align: top;\n",
       "    }\n",
       "\n",
       "    .dataframe thead th {\n",
       "        text-align: right;\n",
       "    }\n",
       "</style>\n",
       "<table border=\"1\" class=\"dataframe\">\n",
       "  <thead>\n",
       "    <tr style=\"text-align: right;\">\n",
       "      <th></th>\n",
       "      <th>Index</th>\n",
       "      <th>Attraction</th>\n",
       "      <th>Latitude</th>\n",
       "      <th>Longitude</th>\n",
       "      <th>Google Reviews</th>\n",
       "      <th>Group</th>\n",
       "      <th>Size</th>\n",
       "      <th>log</th>\n",
       "      <th>norm</th>\n",
       "    </tr>\n",
       "  </thead>\n",
       "  <tbody>\n",
       "    <tr>\n",
       "      <th>0</th>\n",
       "      <td>1</td>\n",
       "      <td>Peabody Essex Museum</td>\n",
       "      <td>42.522718</td>\n",
       "      <td>-70.891017</td>\n",
       "      <td>3179</td>\n",
       "      <td>Attractions</td>\n",
       "      <td>0.1</td>\n",
       "      <td>3.502291</td>\n",
       "      <td>0.853570</td>\n",
       "    </tr>\n",
       "    <tr>\n",
       "      <th>1</th>\n",
       "      <td>2</td>\n",
       "      <td>Salem Witch Museum</td>\n",
       "      <td>42.525314</td>\n",
       "      <td>-70.890798</td>\n",
       "      <td>8542</td>\n",
       "      <td>Attractions</td>\n",
       "      <td>0.1</td>\n",
       "      <td>3.931560</td>\n",
       "      <td>1.000000</td>\n",
       "    </tr>\n",
       "    <tr>\n",
       "      <th>2</th>\n",
       "      <td>3</td>\n",
       "      <td>The Satanic Temple at Salem Art gallery</td>\n",
       "      <td>42.532459</td>\n",
       "      <td>-70.889641</td>\n",
       "      <td>151</td>\n",
       "      <td>Attractions</td>\n",
       "      <td>0.1</td>\n",
       "      <td>2.178977</td>\n",
       "      <td>0.402167</td>\n",
       "    </tr>\n",
       "    <tr>\n",
       "      <th>3</th>\n",
       "      <td>4</td>\n",
       "      <td>Bewitched Statue</td>\n",
       "      <td>42.523167</td>\n",
       "      <td>-70.895331</td>\n",
       "      <td>354</td>\n",
       "      <td>Attractions</td>\n",
       "      <td>0.1</td>\n",
       "      <td>2.549003</td>\n",
       "      <td>0.528389</td>\n",
       "    </tr>\n",
       "    <tr>\n",
       "      <th>4</th>\n",
       "      <td>5</td>\n",
       "      <td>Witch House</td>\n",
       "      <td>42.523108</td>\n",
       "      <td>-70.898031</td>\n",
       "      <td>3028</td>\n",
       "      <td>Attractions</td>\n",
       "      <td>0.1</td>\n",
       "      <td>3.481156</td>\n",
       "      <td>0.846360</td>\n",
       "    </tr>\n",
       "    <tr>\n",
       "      <th>5</th>\n",
       "      <td>6</td>\n",
       "      <td>Salem Maritime National Historic Site</td>\n",
       "      <td>42.522753</td>\n",
       "      <td>-70.886814</td>\n",
       "      <td>1657</td>\n",
       "      <td>Attractions</td>\n",
       "      <td>0.1</td>\n",
       "      <td>3.219323</td>\n",
       "      <td>0.757045</td>\n",
       "    </tr>\n",
       "    <tr>\n",
       "      <th>6</th>\n",
       "      <td>7</td>\n",
       "      <td>The House of the Seven Gables</td>\n",
       "      <td>42.523021</td>\n",
       "      <td>-70.880399</td>\n",
       "      <td>3369</td>\n",
       "      <td>Attractions</td>\n",
       "      <td>0.1</td>\n",
       "      <td>3.527501</td>\n",
       "      <td>0.862169</td>\n",
       "    </tr>\n",
       "    <tr>\n",
       "      <th>7</th>\n",
       "      <td>8</td>\n",
       "      <td>Salem Willows Park</td>\n",
       "      <td>42.536436</td>\n",
       "      <td>-70.870417</td>\n",
       "      <td>2968</td>\n",
       "      <td>Attractions</td>\n",
       "      <td>0.1</td>\n",
       "      <td>3.472464</td>\n",
       "      <td>0.843395</td>\n",
       "    </tr>\n",
       "    <tr>\n",
       "      <th>8</th>\n",
       "      <td>9</td>\n",
       "      <td>Witch Dungeon Museum</td>\n",
       "      <td>42.523589</td>\n",
       "      <td>-70.896128</td>\n",
       "      <td>1645</td>\n",
       "      <td>Attractions</td>\n",
       "      <td>0.1</td>\n",
       "      <td>3.216166</td>\n",
       "      <td>0.755968</td>\n",
       "    </tr>\n",
       "    <tr>\n",
       "      <th>9</th>\n",
       "      <td>10</td>\n",
       "      <td>Salem Willows Arcade</td>\n",
       "      <td>42.535313</td>\n",
       "      <td>-70.868533</td>\n",
       "      <td>221</td>\n",
       "      <td>Attractions</td>\n",
       "      <td>0.1</td>\n",
       "      <td>2.344392</td>\n",
       "      <td>0.458593</td>\n",
       "    </tr>\n",
       "    <tr>\n",
       "      <th>10</th>\n",
       "      <td>11</td>\n",
       "      <td>Joshua Ward House</td>\n",
       "      <td>42.521346</td>\n",
       "      <td>-70.893894</td>\n",
       "      <td>10</td>\n",
       "      <td>Attractions</td>\n",
       "      <td>0.1</td>\n",
       "      <td>1.000000</td>\n",
       "      <td>0.000000</td>\n",
       "    </tr>\n",
       "    <tr>\n",
       "      <th>11</th>\n",
       "      <td>12</td>\n",
       "      <td>Count Orlok’s Nightmare Gallery</td>\n",
       "      <td>42.522018</td>\n",
       "      <td>-70.891871</td>\n",
       "      <td>669</td>\n",
       "      <td>Attractions</td>\n",
       "      <td>0.1</td>\n",
       "      <td>2.825426</td>\n",
       "      <td>0.622681</td>\n",
       "    </tr>\n",
       "    <tr>\n",
       "      <th>12</th>\n",
       "      <td>13</td>\n",
       "      <td>Black Veil Shoppe of Drear &amp; Wonder</td>\n",
       "      <td>42.522989</td>\n",
       "      <td>-70.915182</td>\n",
       "      <td>214</td>\n",
       "      <td>Attractions</td>\n",
       "      <td>0.1</td>\n",
       "      <td>2.330414</td>\n",
       "      <td>0.453825</td>\n",
       "    </tr>\n",
       "    <tr>\n",
       "      <th>13</th>\n",
       "      <td>14</td>\n",
       "      <td>Crow Haven Corner</td>\n",
       "      <td>42.523307</td>\n",
       "      <td>-70.890443</td>\n",
       "      <td>447</td>\n",
       "      <td>Attractions</td>\n",
       "      <td>0.1</td>\n",
       "      <td>2.650308</td>\n",
       "      <td>0.562945</td>\n",
       "    </tr>\n",
       "    <tr>\n",
       "      <th>14</th>\n",
       "      <td>15</td>\n",
       "      <td>Herb Mackey’s Metal Sculpture Yard</td>\n",
       "      <td>42.524134</td>\n",
       "      <td>-70.882213</td>\n",
       "      <td>28</td>\n",
       "      <td>Attractions</td>\n",
       "      <td>0.1</td>\n",
       "      <td>1.447158</td>\n",
       "      <td>0.152532</td>\n",
       "    </tr>\n",
       "    <tr>\n",
       "      <th>15</th>\n",
       "      <td>16</td>\n",
       "      <td>Harbor Sweets</td>\n",
       "      <td>42.515355</td>\n",
       "      <td>-70.887948</td>\n",
       "      <td>139</td>\n",
       "      <td>Attractions</td>\n",
       "      <td>0.1</td>\n",
       "      <td>2.143015</td>\n",
       "      <td>0.389900</td>\n",
       "    </tr>\n",
       "    <tr>\n",
       "      <th>16</th>\n",
       "      <td>17</td>\n",
       "      <td>Salem Witch Board Museum</td>\n",
       "      <td>42.522561</td>\n",
       "      <td>-70.890411</td>\n",
       "      <td>64</td>\n",
       "      <td>Attractions</td>\n",
       "      <td>0.1</td>\n",
       "      <td>1.806180</td>\n",
       "      <td>0.275000</td>\n",
       "    </tr>\n",
       "    <tr>\n",
       "      <th>17</th>\n",
       "      <td>18</td>\n",
       "      <td>New England Pirate Museum</td>\n",
       "      <td>42.521777</td>\n",
       "      <td>-70.890257</td>\n",
       "      <td>292</td>\n",
       "      <td>Attractions</td>\n",
       "      <td>0.1</td>\n",
       "      <td>2.465383</td>\n",
       "      <td>0.499865</td>\n",
       "    </tr>\n",
       "    <tr>\n",
       "      <th>18</th>\n",
       "      <td>19</td>\n",
       "      <td>Salem Witch Trials Memorial</td>\n",
       "      <td>42.522066</td>\n",
       "      <td>-70.889778</td>\n",
       "      <td>2091</td>\n",
       "      <td>Attractions</td>\n",
       "      <td>0.1</td>\n",
       "      <td>3.320354</td>\n",
       "      <td>0.791508</td>\n",
       "    </tr>\n",
       "    <tr>\n",
       "      <th>19</th>\n",
       "      <td>20</td>\n",
       "      <td>witch city mall</td>\n",
       "      <td>42.523265</td>\n",
       "      <td>-70.893021</td>\n",
       "      <td>1339</td>\n",
       "      <td>Attractions</td>\n",
       "      <td>0.1</td>\n",
       "      <td>3.126781</td>\n",
       "      <td>0.725478</td>\n",
       "    </tr>\n",
       "    <tr>\n",
       "      <th>20</th>\n",
       "      <td>21</td>\n",
       "      <td>Historic New England Phillips House</td>\n",
       "      <td>42.520705</td>\n",
       "      <td>-70.901737</td>\n",
       "      <td>74</td>\n",
       "      <td>Attractions</td>\n",
       "      <td>0.1</td>\n",
       "      <td>1.869232</td>\n",
       "      <td>0.296508</td>\n",
       "    </tr>\n",
       "    <tr>\n",
       "      <th>21</th>\n",
       "      <td>22</td>\n",
       "      <td>Pickering Wharf</td>\n",
       "      <td>42.520736</td>\n",
       "      <td>-70.890231</td>\n",
       "      <td>151</td>\n",
       "      <td>Attractions</td>\n",
       "      <td>0.1</td>\n",
       "      <td>2.178977</td>\n",
       "      <td>0.402167</td>\n",
       "    </tr>\n",
       "  </tbody>\n",
       "</table>\n",
       "</div>"
      ],
      "text/plain": [
       "    Index                               Attraction   Latitude  Longitude  \\\n",
       "0       1                     Peabody Essex Museum  42.522718 -70.891017   \n",
       "1       2                       Salem Witch Museum  42.525314 -70.890798   \n",
       "2       3  The Satanic Temple at Salem Art gallery  42.532459 -70.889641   \n",
       "3       4                         Bewitched Statue  42.523167 -70.895331   \n",
       "4       5                              Witch House  42.523108 -70.898031   \n",
       "5       6    Salem Maritime National Historic Site  42.522753 -70.886814   \n",
       "6       7            The House of the Seven Gables  42.523021 -70.880399   \n",
       "7       8                       Salem Willows Park  42.536436 -70.870417   \n",
       "8       9                     Witch Dungeon Museum  42.523589 -70.896128   \n",
       "9      10                     Salem Willows Arcade  42.535313 -70.868533   \n",
       "10     11                        Joshua Ward House  42.521346 -70.893894   \n",
       "11     12          Count Orlok’s Nightmare Gallery  42.522018 -70.891871   \n",
       "12     13      Black Veil Shoppe of Drear & Wonder  42.522989 -70.915182   \n",
       "13     14                        Crow Haven Corner  42.523307 -70.890443   \n",
       "14     15       Herb Mackey’s Metal Sculpture Yard  42.524134 -70.882213   \n",
       "15     16                            Harbor Sweets  42.515355 -70.887948   \n",
       "16     17                 Salem Witch Board Museum  42.522561 -70.890411   \n",
       "17     18                New England Pirate Museum  42.521777 -70.890257   \n",
       "18     19              Salem Witch Trials Memorial  42.522066 -70.889778   \n",
       "19     20                          witch city mall  42.523265 -70.893021   \n",
       "20     21      Historic New England Phillips House  42.520705 -70.901737   \n",
       "21     22                          Pickering Wharf  42.520736 -70.890231   \n",
       "\n",
       "    Google Reviews        Group  Size       log      norm  \n",
       "0             3179  Attractions   0.1  3.502291  0.853570  \n",
       "1             8542  Attractions   0.1  3.931560  1.000000  \n",
       "2              151  Attractions   0.1  2.178977  0.402167  \n",
       "3              354  Attractions   0.1  2.549003  0.528389  \n",
       "4             3028  Attractions   0.1  3.481156  0.846360  \n",
       "5             1657  Attractions   0.1  3.219323  0.757045  \n",
       "6             3369  Attractions   0.1  3.527501  0.862169  \n",
       "7             2968  Attractions   0.1  3.472464  0.843395  \n",
       "8             1645  Attractions   0.1  3.216166  0.755968  \n",
       "9              221  Attractions   0.1  2.344392  0.458593  \n",
       "10              10  Attractions   0.1  1.000000  0.000000  \n",
       "11             669  Attractions   0.1  2.825426  0.622681  \n",
       "12             214  Attractions   0.1  2.330414  0.453825  \n",
       "13             447  Attractions   0.1  2.650308  0.562945  \n",
       "14              28  Attractions   0.1  1.447158  0.152532  \n",
       "15             139  Attractions   0.1  2.143015  0.389900  \n",
       "16              64  Attractions   0.1  1.806180  0.275000  \n",
       "17             292  Attractions   0.1  2.465383  0.499865  \n",
       "18            2091  Attractions   0.1  3.320354  0.791508  \n",
       "19            1339  Attractions   0.1  3.126781  0.725478  \n",
       "20              74  Attractions   0.1  1.869232  0.296508  \n",
       "21             151  Attractions   0.1  2.178977  0.402167  "
      ]
     },
     "execution_count": 361,
     "metadata": {},
     "output_type": "execute_result"
    }
   ],
   "source": [
    "attractions_df"
   ]
  },
  {
   "cell_type": "code",
   "execution_count": 370,
   "metadata": {},
   "outputs": [
    {
     "data": {
      "application/vnd.plotly.v1+json": {
       "config": {
        "plotlyServerURL": "https://plot.ly"
       },
       "data": [
        {
         "hovertemplate": "<b>%{hovertext}</b><br><br>norm=%{marker.size}<br>Latitude=%{lat}<br>Longitude=%{lon}<extra></extra>",
         "hovertext": [
          "Peabody Essex Museum",
          "Salem Witch Museum",
          "The Satanic Temple at Salem Art gallery",
          "Bewitched Statue",
          "Witch House",
          "Salem Maritime National Historic Site",
          "The House of the Seven Gables",
          "Salem Willows Park",
          "Witch Dungeon Museum",
          "Salem Willows Arcade",
          "Joshua Ward House",
          "Count Orlok’s Nightmare Gallery",
          "Black Veil Shoppe of Drear & Wonder",
          "Crow Haven Corner",
          "Herb Mackey’s Metal Sculpture Yard",
          "Harbor Sweets",
          "Salem Witch Board Museum",
          "New England Pirate Museum",
          "Salem Witch Trials Memorial",
          "witch city mall",
          "Historic New England Phillips House",
          "Pickering Wharf"
         ],
         "lat": [
          42.52271808,
          42.52531387,
          42.5324589,
          42.52316706,
          42.52310773,
          42.52275332,
          42.52302129,
          42.53643556,
          42.52358859,
          42.53531334,
          42.52134577,
          42.52201802,
          42.52298861,
          42.52330735,
          42.5241337,
          42.5153545,
          42.52256134,
          42.52177708,
          42.52206569,
          42.52326491,
          42.52070477,
          42.5207361
         ],
         "legendgroup": "",
         "lon": [
          -70.8910174,
          -70.89079761,
          -70.88964111,
          -70.89533074,
          -70.89803062,
          -70.8868143,
          -70.88039902,
          -70.87041662,
          -70.89612846,
          -70.86853292,
          -70.89389379,
          -70.89187125,
          -70.91518228,
          -70.89044291,
          -70.88221337,
          -70.88794809,
          -70.89041052,
          -70.89025654,
          -70.88977752,
          -70.8930214,
          -70.90173702,
          -70.89023077
         ],
         "marker": {
          "color": "fuchsia",
          "size": [
           0.8535697367384464,
           1,
           0.402167146978068,
           0.5283888069049109,
           0.8463603805568455,
           0.7570449986188506,
           0.8621694197704257,
           0.8433954146326935,
           0.755968231778163,
           0.45859285575399256,
           0,
           0.6226808891280088,
           0.45382457456576775,
           0.5629452465022411,
           0.1525324732821192,
           0.3898999062087589,
           0.2750003728506587,
           0.4998646003644476,
           0.7915084035356388,
           0.7254775242798713,
           0.29650829186240163,
           0.402167146978068
          ],
          "sizemode": "area",
          "sizeref": 0.0025
         },
         "mode": "markers",
         "name": "",
         "showlegend": false,
         "subplot": "mapbox",
         "type": "scattermapbox"
        }
       ],
       "layout": {
        "height": 900,
        "legend": {
         "itemsizing": "constant",
         "tracegroupgap": 0
        },
        "mapbox": {
         "center": {
          "lat": 42.52400616272727,
          "lon": -70.89018610272727
         },
         "domain": {
          "x": [
           0,
           1
          ],
          "y": [
           0,
           1
          ]
         },
         "style": "open-street-map",
         "zoom": 12
        },
        "margin": {
         "b": 0,
         "l": 0,
         "r": 0,
         "t": 0
        },
        "template": {
         "data": {
          "bar": [
           {
            "error_x": {
             "color": "#2a3f5f"
            },
            "error_y": {
             "color": "#2a3f5f"
            },
            "marker": {
             "line": {
              "color": "#E5ECF6",
              "width": 0.5
             },
             "pattern": {
              "fillmode": "overlay",
              "size": 10,
              "solidity": 0.2
             }
            },
            "type": "bar"
           }
          ],
          "barpolar": [
           {
            "marker": {
             "line": {
              "color": "#E5ECF6",
              "width": 0.5
             },
             "pattern": {
              "fillmode": "overlay",
              "size": 10,
              "solidity": 0.2
             }
            },
            "type": "barpolar"
           }
          ],
          "carpet": [
           {
            "aaxis": {
             "endlinecolor": "#2a3f5f",
             "gridcolor": "white",
             "linecolor": "white",
             "minorgridcolor": "white",
             "startlinecolor": "#2a3f5f"
            },
            "baxis": {
             "endlinecolor": "#2a3f5f",
             "gridcolor": "white",
             "linecolor": "white",
             "minorgridcolor": "white",
             "startlinecolor": "#2a3f5f"
            },
            "type": "carpet"
           }
          ],
          "choropleth": [
           {
            "colorbar": {
             "outlinewidth": 0,
             "ticks": ""
            },
            "type": "choropleth"
           }
          ],
          "contour": [
           {
            "colorbar": {
             "outlinewidth": 0,
             "ticks": ""
            },
            "colorscale": [
             [
              0,
              "#0d0887"
             ],
             [
              0.1111111111111111,
              "#46039f"
             ],
             [
              0.2222222222222222,
              "#7201a8"
             ],
             [
              0.3333333333333333,
              "#9c179e"
             ],
             [
              0.4444444444444444,
              "#bd3786"
             ],
             [
              0.5555555555555556,
              "#d8576b"
             ],
             [
              0.6666666666666666,
              "#ed7953"
             ],
             [
              0.7777777777777778,
              "#fb9f3a"
             ],
             [
              0.8888888888888888,
              "#fdca26"
             ],
             [
              1,
              "#f0f921"
             ]
            ],
            "type": "contour"
           }
          ],
          "contourcarpet": [
           {
            "colorbar": {
             "outlinewidth": 0,
             "ticks": ""
            },
            "type": "contourcarpet"
           }
          ],
          "heatmap": [
           {
            "colorbar": {
             "outlinewidth": 0,
             "ticks": ""
            },
            "colorscale": [
             [
              0,
              "#0d0887"
             ],
             [
              0.1111111111111111,
              "#46039f"
             ],
             [
              0.2222222222222222,
              "#7201a8"
             ],
             [
              0.3333333333333333,
              "#9c179e"
             ],
             [
              0.4444444444444444,
              "#bd3786"
             ],
             [
              0.5555555555555556,
              "#d8576b"
             ],
             [
              0.6666666666666666,
              "#ed7953"
             ],
             [
              0.7777777777777778,
              "#fb9f3a"
             ],
             [
              0.8888888888888888,
              "#fdca26"
             ],
             [
              1,
              "#f0f921"
             ]
            ],
            "type": "heatmap"
           }
          ],
          "heatmapgl": [
           {
            "colorbar": {
             "outlinewidth": 0,
             "ticks": ""
            },
            "colorscale": [
             [
              0,
              "#0d0887"
             ],
             [
              0.1111111111111111,
              "#46039f"
             ],
             [
              0.2222222222222222,
              "#7201a8"
             ],
             [
              0.3333333333333333,
              "#9c179e"
             ],
             [
              0.4444444444444444,
              "#bd3786"
             ],
             [
              0.5555555555555556,
              "#d8576b"
             ],
             [
              0.6666666666666666,
              "#ed7953"
             ],
             [
              0.7777777777777778,
              "#fb9f3a"
             ],
             [
              0.8888888888888888,
              "#fdca26"
             ],
             [
              1,
              "#f0f921"
             ]
            ],
            "type": "heatmapgl"
           }
          ],
          "histogram": [
           {
            "marker": {
             "pattern": {
              "fillmode": "overlay",
              "size": 10,
              "solidity": 0.2
             }
            },
            "type": "histogram"
           }
          ],
          "histogram2d": [
           {
            "colorbar": {
             "outlinewidth": 0,
             "ticks": ""
            },
            "colorscale": [
             [
              0,
              "#0d0887"
             ],
             [
              0.1111111111111111,
              "#46039f"
             ],
             [
              0.2222222222222222,
              "#7201a8"
             ],
             [
              0.3333333333333333,
              "#9c179e"
             ],
             [
              0.4444444444444444,
              "#bd3786"
             ],
             [
              0.5555555555555556,
              "#d8576b"
             ],
             [
              0.6666666666666666,
              "#ed7953"
             ],
             [
              0.7777777777777778,
              "#fb9f3a"
             ],
             [
              0.8888888888888888,
              "#fdca26"
             ],
             [
              1,
              "#f0f921"
             ]
            ],
            "type": "histogram2d"
           }
          ],
          "histogram2dcontour": [
           {
            "colorbar": {
             "outlinewidth": 0,
             "ticks": ""
            },
            "colorscale": [
             [
              0,
              "#0d0887"
             ],
             [
              0.1111111111111111,
              "#46039f"
             ],
             [
              0.2222222222222222,
              "#7201a8"
             ],
             [
              0.3333333333333333,
              "#9c179e"
             ],
             [
              0.4444444444444444,
              "#bd3786"
             ],
             [
              0.5555555555555556,
              "#d8576b"
             ],
             [
              0.6666666666666666,
              "#ed7953"
             ],
             [
              0.7777777777777778,
              "#fb9f3a"
             ],
             [
              0.8888888888888888,
              "#fdca26"
             ],
             [
              1,
              "#f0f921"
             ]
            ],
            "type": "histogram2dcontour"
           }
          ],
          "mesh3d": [
           {
            "colorbar": {
             "outlinewidth": 0,
             "ticks": ""
            },
            "type": "mesh3d"
           }
          ],
          "parcoords": [
           {
            "line": {
             "colorbar": {
              "outlinewidth": 0,
              "ticks": ""
             }
            },
            "type": "parcoords"
           }
          ],
          "pie": [
           {
            "automargin": true,
            "type": "pie"
           }
          ],
          "scatter": [
           {
            "fillpattern": {
             "fillmode": "overlay",
             "size": 10,
             "solidity": 0.2
            },
            "type": "scatter"
           }
          ],
          "scatter3d": [
           {
            "line": {
             "colorbar": {
              "outlinewidth": 0,
              "ticks": ""
             }
            },
            "marker": {
             "colorbar": {
              "outlinewidth": 0,
              "ticks": ""
             }
            },
            "type": "scatter3d"
           }
          ],
          "scattercarpet": [
           {
            "marker": {
             "colorbar": {
              "outlinewidth": 0,
              "ticks": ""
             }
            },
            "type": "scattercarpet"
           }
          ],
          "scattergeo": [
           {
            "marker": {
             "colorbar": {
              "outlinewidth": 0,
              "ticks": ""
             }
            },
            "type": "scattergeo"
           }
          ],
          "scattergl": [
           {
            "marker": {
             "colorbar": {
              "outlinewidth": 0,
              "ticks": ""
             }
            },
            "type": "scattergl"
           }
          ],
          "scattermapbox": [
           {
            "marker": {
             "colorbar": {
              "outlinewidth": 0,
              "ticks": ""
             }
            },
            "type": "scattermapbox"
           }
          ],
          "scatterpolar": [
           {
            "marker": {
             "colorbar": {
              "outlinewidth": 0,
              "ticks": ""
             }
            },
            "type": "scatterpolar"
           }
          ],
          "scatterpolargl": [
           {
            "marker": {
             "colorbar": {
              "outlinewidth": 0,
              "ticks": ""
             }
            },
            "type": "scatterpolargl"
           }
          ],
          "scatterternary": [
           {
            "marker": {
             "colorbar": {
              "outlinewidth": 0,
              "ticks": ""
             }
            },
            "type": "scatterternary"
           }
          ],
          "surface": [
           {
            "colorbar": {
             "outlinewidth": 0,
             "ticks": ""
            },
            "colorscale": [
             [
              0,
              "#0d0887"
             ],
             [
              0.1111111111111111,
              "#46039f"
             ],
             [
              0.2222222222222222,
              "#7201a8"
             ],
             [
              0.3333333333333333,
              "#9c179e"
             ],
             [
              0.4444444444444444,
              "#bd3786"
             ],
             [
              0.5555555555555556,
              "#d8576b"
             ],
             [
              0.6666666666666666,
              "#ed7953"
             ],
             [
              0.7777777777777778,
              "#fb9f3a"
             ],
             [
              0.8888888888888888,
              "#fdca26"
             ],
             [
              1,
              "#f0f921"
             ]
            ],
            "type": "surface"
           }
          ],
          "table": [
           {
            "cells": {
             "fill": {
              "color": "#EBF0F8"
             },
             "line": {
              "color": "white"
             }
            },
            "header": {
             "fill": {
              "color": "#C8D4E3"
             },
             "line": {
              "color": "white"
             }
            },
            "type": "table"
           }
          ]
         },
         "layout": {
          "annotationdefaults": {
           "arrowcolor": "#2a3f5f",
           "arrowhead": 0,
           "arrowwidth": 1
          },
          "autotypenumbers": "strict",
          "coloraxis": {
           "colorbar": {
            "outlinewidth": 0,
            "ticks": ""
           }
          },
          "colorscale": {
           "diverging": [
            [
             0,
             "#8e0152"
            ],
            [
             0.1,
             "#c51b7d"
            ],
            [
             0.2,
             "#de77ae"
            ],
            [
             0.3,
             "#f1b6da"
            ],
            [
             0.4,
             "#fde0ef"
            ],
            [
             0.5,
             "#f7f7f7"
            ],
            [
             0.6,
             "#e6f5d0"
            ],
            [
             0.7,
             "#b8e186"
            ],
            [
             0.8,
             "#7fbc41"
            ],
            [
             0.9,
             "#4d9221"
            ],
            [
             1,
             "#276419"
            ]
           ],
           "sequential": [
            [
             0,
             "#0d0887"
            ],
            [
             0.1111111111111111,
             "#46039f"
            ],
            [
             0.2222222222222222,
             "#7201a8"
            ],
            [
             0.3333333333333333,
             "#9c179e"
            ],
            [
             0.4444444444444444,
             "#bd3786"
            ],
            [
             0.5555555555555556,
             "#d8576b"
            ],
            [
             0.6666666666666666,
             "#ed7953"
            ],
            [
             0.7777777777777778,
             "#fb9f3a"
            ],
            [
             0.8888888888888888,
             "#fdca26"
            ],
            [
             1,
             "#f0f921"
            ]
           ],
           "sequentialminus": [
            [
             0,
             "#0d0887"
            ],
            [
             0.1111111111111111,
             "#46039f"
            ],
            [
             0.2222222222222222,
             "#7201a8"
            ],
            [
             0.3333333333333333,
             "#9c179e"
            ],
            [
             0.4444444444444444,
             "#bd3786"
            ],
            [
             0.5555555555555556,
             "#d8576b"
            ],
            [
             0.6666666666666666,
             "#ed7953"
            ],
            [
             0.7777777777777778,
             "#fb9f3a"
            ],
            [
             0.8888888888888888,
             "#fdca26"
            ],
            [
             1,
             "#f0f921"
            ]
           ]
          },
          "colorway": [
           "#636efa",
           "#EF553B",
           "#00cc96",
           "#ab63fa",
           "#FFA15A",
           "#19d3f3",
           "#FF6692",
           "#B6E880",
           "#FF97FF",
           "#FECB52"
          ],
          "font": {
           "color": "#2a3f5f"
          },
          "geo": {
           "bgcolor": "white",
           "lakecolor": "white",
           "landcolor": "#E5ECF6",
           "showlakes": true,
           "showland": true,
           "subunitcolor": "white"
          },
          "hoverlabel": {
           "align": "left"
          },
          "hovermode": "closest",
          "mapbox": {
           "style": "light"
          },
          "paper_bgcolor": "white",
          "plot_bgcolor": "#E5ECF6",
          "polar": {
           "angularaxis": {
            "gridcolor": "white",
            "linecolor": "white",
            "ticks": ""
           },
           "bgcolor": "#E5ECF6",
           "radialaxis": {
            "gridcolor": "white",
            "linecolor": "white",
            "ticks": ""
           }
          },
          "scene": {
           "xaxis": {
            "backgroundcolor": "#E5ECF6",
            "gridcolor": "white",
            "gridwidth": 2,
            "linecolor": "white",
            "showbackground": true,
            "ticks": "",
            "zerolinecolor": "white"
           },
           "yaxis": {
            "backgroundcolor": "#E5ECF6",
            "gridcolor": "white",
            "gridwidth": 2,
            "linecolor": "white",
            "showbackground": true,
            "ticks": "",
            "zerolinecolor": "white"
           },
           "zaxis": {
            "backgroundcolor": "#E5ECF6",
            "gridcolor": "white",
            "gridwidth": 2,
            "linecolor": "white",
            "showbackground": true,
            "ticks": "",
            "zerolinecolor": "white"
           }
          },
          "shapedefaults": {
           "line": {
            "color": "#2a3f5f"
           }
          },
          "ternary": {
           "aaxis": {
            "gridcolor": "white",
            "linecolor": "white",
            "ticks": ""
           },
           "baxis": {
            "gridcolor": "white",
            "linecolor": "white",
            "ticks": ""
           },
           "bgcolor": "#E5ECF6",
           "caxis": {
            "gridcolor": "white",
            "linecolor": "white",
            "ticks": ""
           }
          },
          "title": {
           "x": 0.05
          },
          "xaxis": {
           "automargin": true,
           "gridcolor": "white",
           "linecolor": "white",
           "ticks": "",
           "title": {
            "standoff": 15
           },
           "zerolinecolor": "white",
           "zerolinewidth": 2
          },
          "yaxis": {
           "automargin": true,
           "gridcolor": "white",
           "linecolor": "white",
           "ticks": "",
           "title": {
            "standoff": 15
           },
           "zerolinecolor": "white",
           "zerolinewidth": 2
          }
         }
        }
       }
      }
     },
     "metadata": {},
     "output_type": "display_data"
    }
   ],
   "source": [
    "#plot attractions with values for report\n",
    "fig = px.scatter_mapbox(attractions_df, lat=\"Latitude\", lon=\"Longitude\", hover_name=\"Attraction\", color_discrete_sequence=[\"fuchsia\"], zoom=12, height=900, size=attractions_df[\"norm\"], size_max=20)\n",
    "fig.update_layout(mapbox_style=\"open-street-map\")\n",
    "fig.update_layout(margin={\"r\":0,\"t\":0,\"l\":0,\"b\":0})\n",
    "fig.show()"
   ]
  },
  {
   "cell_type": "code",
   "execution_count": 374,
   "metadata": {},
   "outputs": [
    {
     "data": {
      "text/html": [
       "<div>\n",
       "<style scoped>\n",
       "    .dataframe tbody tr th:only-of-type {\n",
       "        vertical-align: middle;\n",
       "    }\n",
       "\n",
       "    .dataframe tbody tr th {\n",
       "        vertical-align: top;\n",
       "    }\n",
       "\n",
       "    .dataframe thead th {\n",
       "        text-align: right;\n",
       "    }\n",
       "</style>\n",
       "<table border=\"1\" class=\"dataframe\">\n",
       "  <thead>\n",
       "    <tr style=\"text-align: right;\">\n",
       "      <th></th>\n",
       "      <th>Address</th>\n",
       "      <th>Coordinates</th>\n",
       "      <th>lat</th>\n",
       "      <th>lng</th>\n",
       "      <th>Latitude</th>\n",
       "      <th>Longitude</th>\n",
       "      <th>index</th>\n",
       "      <th>Group</th>\n",
       "      <th>Size</th>\n",
       "      <th>norm</th>\n",
       "    </tr>\n",
       "  </thead>\n",
       "  <tbody>\n",
       "    <tr>\n",
       "      <th>0</th>\n",
       "      <td>90 Willson St, Salem, MA 01970, USA</td>\n",
       "      <td>(42.507436, -70.907488)</td>\n",
       "      <td>42.507436</td>\n",
       "      <td>-70.907488</td>\n",
       "      <td>42.507436</td>\n",
       "      <td>-70.907488</td>\n",
       "      <td>0</td>\n",
       "      <td>Not Chosen Stations</td>\n",
       "      <td>0.1</td>\n",
       "      <td>0.5</td>\n",
       "    </tr>\n",
       "    <tr>\n",
       "      <th>1</th>\n",
       "      <td>29 Horton St, Salem, MA 01970, USA</td>\n",
       "      <td>(42.507694, -70.9046388)</td>\n",
       "      <td>42.507694</td>\n",
       "      <td>-70.904639</td>\n",
       "      <td>42.507694</td>\n",
       "      <td>-70.904639</td>\n",
       "      <td>1</td>\n",
       "      <td>Not Chosen Stations</td>\n",
       "      <td>0.1</td>\n",
       "      <td>0.5</td>\n",
       "    </tr>\n",
       "    <tr>\n",
       "      <th>2</th>\n",
       "      <td>2 Laurent Rd, Salem, MA 01970, USA</td>\n",
       "      <td>(42.5076135, -70.90245589999999)</td>\n",
       "      <td>42.507613</td>\n",
       "      <td>-70.902456</td>\n",
       "      <td>42.507613</td>\n",
       "      <td>-70.902456</td>\n",
       "      <td>2</td>\n",
       "      <td>Not Chosen Stations</td>\n",
       "      <td>0.1</td>\n",
       "      <td>0.5</td>\n",
       "    </tr>\n",
       "    <tr>\n",
       "      <th>3</th>\n",
       "      <td>13 Brooks St, Salem, MA 01970, USA</td>\n",
       "      <td>(42.5076347, -70.89957629999999)</td>\n",
       "      <td>42.507635</td>\n",
       "      <td>-70.899576</td>\n",
       "      <td>42.507635</td>\n",
       "      <td>-70.899576</td>\n",
       "      <td>3</td>\n",
       "      <td>Not Chosen Stations</td>\n",
       "      <td>0.1</td>\n",
       "      <td>0.5</td>\n",
       "    </tr>\n",
       "    <tr>\n",
       "      <th>4</th>\n",
       "      <td>3 Broadway, Salem, MA 01970, USA</td>\n",
       "      <td>(42.5075076, -70.89699960000002)</td>\n",
       "      <td>42.507508</td>\n",
       "      <td>-70.897000</td>\n",
       "      <td>42.507508</td>\n",
       "      <td>-70.897000</td>\n",
       "      <td>4</td>\n",
       "      <td>Not Chosen Stations</td>\n",
       "      <td>0.1</td>\n",
       "      <td>0.5</td>\n",
       "    </tr>\n",
       "    <tr>\n",
       "      <th>...</th>\n",
       "      <td>...</td>\n",
       "      <td>...</td>\n",
       "      <td>...</td>\n",
       "      <td>...</td>\n",
       "      <td>...</td>\n",
       "      <td>...</td>\n",
       "      <td>...</td>\n",
       "      <td>...</td>\n",
       "      <td>...</td>\n",
       "      <td>...</td>\n",
       "    </tr>\n",
       "    <tr>\n",
       "      <th>104</th>\n",
       "      <td>24 Saunders St, Salem, MA 01970, USA</td>\n",
       "      <td>(42.529489, -70.89210299999999)</td>\n",
       "      <td>42.529489</td>\n",
       "      <td>-70.892103</td>\n",
       "      <td>42.529489</td>\n",
       "      <td>-70.892103</td>\n",
       "      <td>104</td>\n",
       "      <td>Not Chosen Stations</td>\n",
       "      <td>0.1</td>\n",
       "      <td>0.5</td>\n",
       "    </tr>\n",
       "    <tr>\n",
       "      <th>105</th>\n",
       "      <td>89 Bridge St, Salem, MA 01970, USA</td>\n",
       "      <td>(42.5294607, -70.889544)</td>\n",
       "      <td>42.529461</td>\n",
       "      <td>-70.889544</td>\n",
       "      <td>42.529461</td>\n",
       "      <td>-70.889544</td>\n",
       "      <td>105</td>\n",
       "      <td>Chosen Stations</td>\n",
       "      <td>0.1</td>\n",
       "      <td>0.5</td>\n",
       "    </tr>\n",
       "    <tr>\n",
       "      <th>106</th>\n",
       "      <td>Collins Cove Playground, 32 Collins St, Salem,...</td>\n",
       "      <td>(42.5296097, -70.8868734)</td>\n",
       "      <td>42.529610</td>\n",
       "      <td>-70.886873</td>\n",
       "      <td>42.529610</td>\n",
       "      <td>-70.886873</td>\n",
       "      <td>106</td>\n",
       "      <td>Not Chosen Stations</td>\n",
       "      <td>0.1</td>\n",
       "      <td>0.5</td>\n",
       "    </tr>\n",
       "    <tr>\n",
       "      <th>107</th>\n",
       "      <td>13 Settlers Way, Salem, MA 01970, USA</td>\n",
       "      <td>(42.52943190000001, -70.8813462)</td>\n",
       "      <td>42.529432</td>\n",
       "      <td>-70.881346</td>\n",
       "      <td>42.529432</td>\n",
       "      <td>-70.881346</td>\n",
       "      <td>107</td>\n",
       "      <td>Not Chosen Stations</td>\n",
       "      <td>0.1</td>\n",
       "      <td>0.5</td>\n",
       "    </tr>\n",
       "    <tr>\n",
       "      <th>108</th>\n",
       "      <td>40 Memorial Dr, Salem, MA 01970, USA</td>\n",
       "      <td>(42.52965289999999, -70.8790935)</td>\n",
       "      <td>42.529653</td>\n",
       "      <td>-70.879093</td>\n",
       "      <td>42.529653</td>\n",
       "      <td>-70.879093</td>\n",
       "      <td>108</td>\n",
       "      <td>Not Chosen Stations</td>\n",
       "      <td>0.1</td>\n",
       "      <td>0.5</td>\n",
       "    </tr>\n",
       "  </tbody>\n",
       "</table>\n",
       "<p>109 rows × 10 columns</p>\n",
       "</div>"
      ],
      "text/plain": [
       "                                               Address  \\\n",
       "0                  90 Willson St, Salem, MA 01970, USA   \n",
       "1                   29 Horton St, Salem, MA 01970, USA   \n",
       "2                   2 Laurent Rd, Salem, MA 01970, USA   \n",
       "3                   13 Brooks St, Salem, MA 01970, USA   \n",
       "4                     3 Broadway, Salem, MA 01970, USA   \n",
       "..                                                 ...   \n",
       "104               24 Saunders St, Salem, MA 01970, USA   \n",
       "105                 89 Bridge St, Salem, MA 01970, USA   \n",
       "106  Collins Cove Playground, 32 Collins St, Salem,...   \n",
       "107              13 Settlers Way, Salem, MA 01970, USA   \n",
       "108               40 Memorial Dr, Salem, MA 01970, USA   \n",
       "\n",
       "                          Coordinates        lat        lng   Latitude  \\\n",
       "0             (42.507436, -70.907488)  42.507436 -70.907488  42.507436   \n",
       "1            (42.507694, -70.9046388)  42.507694 -70.904639  42.507694   \n",
       "2    (42.5076135, -70.90245589999999)  42.507613 -70.902456  42.507613   \n",
       "3    (42.5076347, -70.89957629999999)  42.507635 -70.899576  42.507635   \n",
       "4    (42.5075076, -70.89699960000002)  42.507508 -70.897000  42.507508   \n",
       "..                                ...        ...        ...        ...   \n",
       "104   (42.529489, -70.89210299999999)  42.529489 -70.892103  42.529489   \n",
       "105          (42.5294607, -70.889544)  42.529461 -70.889544  42.529461   \n",
       "106         (42.5296097, -70.8868734)  42.529610 -70.886873  42.529610   \n",
       "107  (42.52943190000001, -70.8813462)  42.529432 -70.881346  42.529432   \n",
       "108  (42.52965289999999, -70.8790935)  42.529653 -70.879093  42.529653   \n",
       "\n",
       "     Longitude  index                Group  Size  norm  \n",
       "0   -70.907488      0  Not Chosen Stations   0.1   0.5  \n",
       "1   -70.904639      1  Not Chosen Stations   0.1   0.5  \n",
       "2   -70.902456      2  Not Chosen Stations   0.1   0.5  \n",
       "3   -70.899576      3  Not Chosen Stations   0.1   0.5  \n",
       "4   -70.897000      4  Not Chosen Stations   0.1   0.5  \n",
       "..         ...    ...                  ...   ...   ...  \n",
       "104 -70.892103    104  Not Chosen Stations   0.1   0.5  \n",
       "105 -70.889544    105      Chosen Stations   0.1   0.5  \n",
       "106 -70.886873    106  Not Chosen Stations   0.1   0.5  \n",
       "107 -70.881346    107  Not Chosen Stations   0.1   0.5  \n",
       "108 -70.879093    108  Not Chosen Stations   0.1   0.5  \n",
       "\n",
       "[109 rows x 10 columns]"
      ]
     },
     "execution_count": 374,
     "metadata": {},
     "output_type": "execute_result"
    }
   ],
   "source": [
    "candidates_df"
   ]
  },
  {
   "cell_type": "code",
   "execution_count": 381,
   "metadata": {},
   "outputs": [
    {
     "data": {
      "application/vnd.plotly.v1+json": {
       "config": {
        "plotlyServerURL": "https://plot.ly"
       },
       "data": [
        {
         "hovertemplate": "Size=%{marker.size}<br>Latitude=%{lat}<br>Longitude=%{lon}<extra></extra>",
         "lat": [
          42.507436,
          42.507694,
          42.5076135,
          42.5076347,
          42.5075076,
          42.5078389,
          42.5078405,
          42.507903,
          42.5079959,
          42.5095542,
          42.508767,
          42.5093847,
          42.5099401,
          42.509552,
          42.5096304,
          42.509665,
          42.5098022,
          42.5117136,
          42.5117673,
          42.511967,
          42.5119678,
          42.5117146,
          42.5117466,
          42.5116306,
          42.513343,
          42.5127115,
          42.5134625,
          42.5136473,
          42.5147135,
          42.5136619,
          42.5136393,
          42.513982,
          42.5151933,
          42.51571,
          42.5154998,
          42.5154463,
          42.5157005,
          42.5156523,
          42.5157135,
          42.5156184,
          42.515617,
          42.5162923,
          42.5173392,
          42.517365,
          42.5174189,
          42.5173972,
          42.5175032,
          42.5173696,
          42.5176588,
          42.5182039,
          42.5190886,
          42.5192848,
          42.51925110000001,
          42.5195101,
          42.519633,
          42.5192108,
          42.5197395,
          42.519662,
          42.5214192,
          42.5212621,
          42.521359,
          42.5212337,
          42.5216077,
          42.5214744,
          42.52151749999999,
          42.5214933,
          42.521693,
          42.5215504,
          42.5238008,
          42.5234063,
          42.52330449999999,
          42.5231594,
          42.5233735,
          42.5234745,
          42.5236081,
          42.5238019,
          42.5237083,
          42.52356080000001,
          42.5218354,
          42.5247067,
          42.5253832,
          42.5253126,
          42.5252994,
          42.5254249,
          42.5251502,
          42.5254807,
          42.525371,
          42.5255892,
          42.5255567,
          42.52549399999999,
          42.5251058,
          42.52720619999999,
          42.52723839999999,
          42.5273124,
          42.5272786,
          42.5273477,
          42.5273664,
          42.5273772,
          42.5279338,
          42.5277883,
          42.52899790000001,
          42.5291466,
          42.529297,
          42.5290952,
          42.529489,
          42.5294607,
          42.5296097,
          42.52943190000001,
          42.52965289999999
         ],
         "legendgroup": "",
         "lon": [
          -70.907488,
          -70.9046388,
          -70.90245589999999,
          -70.89957629999999,
          -70.89699960000002,
          -70.894328,
          -70.89165729999999,
          -70.88912599999999,
          -70.88666429999999,
          -70.9077041,
          -70.903593,
          -70.9015734,
          -70.8996263,
          -70.89656819999999,
          -70.89442090000001,
          -70.891571,
          -70.8889867,
          -70.9068894,
          -70.9055514,
          -70.9021772,
          -70.89659879999999,
          -70.89428149999999,
          -70.89168049999999,
          -70.8890796,
          -70.907797,
          -70.9047781,
          -70.9022701,
          -70.89937549999999,
          -70.8973005,
          -70.89442090000001,
          -70.8916109,
          -70.88931099999999,
          -70.9086339,
          -70.9048736,
          -70.9025023,
          -70.89981879999999,
          -70.89733249999999,
          -70.8945172,
          -70.8918431,
          -70.88914919999999,
          -70.887889,
          -70.9076345,
          -70.9051265,
          -70.9025952,
          -70.899935,
          -70.8972076,
          -70.8946066,
          -70.8917967,
          -70.8890796,
          -70.8876428,
          -70.9076577,
          -70.9051497,
          -70.9025952,
          -70.89980849999999,
          -70.897126,
          -70.894537,
          -70.8920289,
          -70.889544,
          -70.9077157,
          -70.9051806,
          -70.9025952,
          -70.8998317,
          -70.89732959999999,
          -70.89456679999999,
          -70.8922189,
          -70.889335,
          -70.8865876,
          -70.8839356,
          -70.9087314,
          -70.9051166,
          -70.9026658,
          -70.9002301,
          -70.8972308,
          -70.8948156,
          -70.8920395,
          -70.889695,
          -70.8868501,
          -70.8841214,
          -70.8867108,
          -70.8786058,
          -70.9077041,
          -70.9051497,
          -70.9026271,
          -70.90022650000002,
          -70.89402609999999,
          -70.8921915,
          -70.889444,
          -70.8870359,
          -70.8840633,
          -70.88168499999999,
          -70.8774911,
          -70.9079828,
          -70.9053819,
          -70.9027517,
          -70.90004069999999,
          -70.89788570000002,
          -70.8921915,
          -70.8896834,
          -70.8810211,
          -70.8790006,
          -70.9081337,
          -70.9056492,
          -70.9027926,
          -70.90012200000001,
          -70.89210299999999,
          -70.889544,
          -70.8868734,
          -70.8813462,
          -70.8790935
         ],
         "marker": {
          "color": "grey",
          "size": [
           0.1,
           0.1,
           0.1,
           0.1,
           0.1,
           0.1,
           0.1,
           0.1,
           0.1,
           0.1,
           0.1,
           0.1,
           0.1,
           0.1,
           0.1,
           0.1,
           0.1,
           0.1,
           0.1,
           0.1,
           0.1,
           0.1,
           0.1,
           0.1,
           0.1,
           0.1,
           0.1,
           0.1,
           0.1,
           0.1,
           0.1,
           0.1,
           0.1,
           0.1,
           0.1,
           0.1,
           0.1,
           0.1,
           0.1,
           0.1,
           0.1,
           0.1,
           0.1,
           0.1,
           0.1,
           0.1,
           0.1,
           0.1,
           0.1,
           0.1,
           0.1,
           0.1,
           0.1,
           0.1,
           0.1,
           0.1,
           0.1,
           0.1,
           0.1,
           0.1,
           0.1,
           0.1,
           0.1,
           0.1,
           0.1,
           0.1,
           0.1,
           0.1,
           0.1,
           0.1,
           0.1,
           0.1,
           0.1,
           0.1,
           0.1,
           0.1,
           0.1,
           0.1,
           0.1,
           0.1,
           0.1,
           0.1,
           0.1,
           0.1,
           0.1,
           0.1,
           0.1,
           0.1,
           0.1,
           0.1,
           0.1,
           0.1,
           0.1,
           0.1,
           0.1,
           0.1,
           0.1,
           0.1,
           0.1,
           0.1,
           0.1,
           0.1,
           0.1,
           0.1,
           0.1,
           0.1,
           0.1,
           0.1,
           0.1
          ],
          "sizemode": "area",
          "sizeref": 0.001
         },
         "mode": "markers",
         "name": "",
         "showlegend": false,
         "subplot": "mapbox",
         "type": "scattermapbox"
        }
       ],
       "layout": {
        "height": 900,
        "legend": {
         "itemsizing": "constant",
         "tracegroupgap": 0
        },
        "mapbox": {
         "center": {
          "lat": 42.5190463798165,
          "lon": -70.89614754311926
         },
         "domain": {
          "x": [
           0,
           1
          ],
          "y": [
           0,
           1
          ]
         },
         "style": "open-street-map",
         "zoom": 12
        },
        "margin": {
         "b": 0,
         "l": 0,
         "r": 0,
         "t": 0
        },
        "template": {
         "data": {
          "bar": [
           {
            "error_x": {
             "color": "#2a3f5f"
            },
            "error_y": {
             "color": "#2a3f5f"
            },
            "marker": {
             "line": {
              "color": "#E5ECF6",
              "width": 0.5
             },
             "pattern": {
              "fillmode": "overlay",
              "size": 10,
              "solidity": 0.2
             }
            },
            "type": "bar"
           }
          ],
          "barpolar": [
           {
            "marker": {
             "line": {
              "color": "#E5ECF6",
              "width": 0.5
             },
             "pattern": {
              "fillmode": "overlay",
              "size": 10,
              "solidity": 0.2
             }
            },
            "type": "barpolar"
           }
          ],
          "carpet": [
           {
            "aaxis": {
             "endlinecolor": "#2a3f5f",
             "gridcolor": "white",
             "linecolor": "white",
             "minorgridcolor": "white",
             "startlinecolor": "#2a3f5f"
            },
            "baxis": {
             "endlinecolor": "#2a3f5f",
             "gridcolor": "white",
             "linecolor": "white",
             "minorgridcolor": "white",
             "startlinecolor": "#2a3f5f"
            },
            "type": "carpet"
           }
          ],
          "choropleth": [
           {
            "colorbar": {
             "outlinewidth": 0,
             "ticks": ""
            },
            "type": "choropleth"
           }
          ],
          "contour": [
           {
            "colorbar": {
             "outlinewidth": 0,
             "ticks": ""
            },
            "colorscale": [
             [
              0,
              "#0d0887"
             ],
             [
              0.1111111111111111,
              "#46039f"
             ],
             [
              0.2222222222222222,
              "#7201a8"
             ],
             [
              0.3333333333333333,
              "#9c179e"
             ],
             [
              0.4444444444444444,
              "#bd3786"
             ],
             [
              0.5555555555555556,
              "#d8576b"
             ],
             [
              0.6666666666666666,
              "#ed7953"
             ],
             [
              0.7777777777777778,
              "#fb9f3a"
             ],
             [
              0.8888888888888888,
              "#fdca26"
             ],
             [
              1,
              "#f0f921"
             ]
            ],
            "type": "contour"
           }
          ],
          "contourcarpet": [
           {
            "colorbar": {
             "outlinewidth": 0,
             "ticks": ""
            },
            "type": "contourcarpet"
           }
          ],
          "heatmap": [
           {
            "colorbar": {
             "outlinewidth": 0,
             "ticks": ""
            },
            "colorscale": [
             [
              0,
              "#0d0887"
             ],
             [
              0.1111111111111111,
              "#46039f"
             ],
             [
              0.2222222222222222,
              "#7201a8"
             ],
             [
              0.3333333333333333,
              "#9c179e"
             ],
             [
              0.4444444444444444,
              "#bd3786"
             ],
             [
              0.5555555555555556,
              "#d8576b"
             ],
             [
              0.6666666666666666,
              "#ed7953"
             ],
             [
              0.7777777777777778,
              "#fb9f3a"
             ],
             [
              0.8888888888888888,
              "#fdca26"
             ],
             [
              1,
              "#f0f921"
             ]
            ],
            "type": "heatmap"
           }
          ],
          "heatmapgl": [
           {
            "colorbar": {
             "outlinewidth": 0,
             "ticks": ""
            },
            "colorscale": [
             [
              0,
              "#0d0887"
             ],
             [
              0.1111111111111111,
              "#46039f"
             ],
             [
              0.2222222222222222,
              "#7201a8"
             ],
             [
              0.3333333333333333,
              "#9c179e"
             ],
             [
              0.4444444444444444,
              "#bd3786"
             ],
             [
              0.5555555555555556,
              "#d8576b"
             ],
             [
              0.6666666666666666,
              "#ed7953"
             ],
             [
              0.7777777777777778,
              "#fb9f3a"
             ],
             [
              0.8888888888888888,
              "#fdca26"
             ],
             [
              1,
              "#f0f921"
             ]
            ],
            "type": "heatmapgl"
           }
          ],
          "histogram": [
           {
            "marker": {
             "pattern": {
              "fillmode": "overlay",
              "size": 10,
              "solidity": 0.2
             }
            },
            "type": "histogram"
           }
          ],
          "histogram2d": [
           {
            "colorbar": {
             "outlinewidth": 0,
             "ticks": ""
            },
            "colorscale": [
             [
              0,
              "#0d0887"
             ],
             [
              0.1111111111111111,
              "#46039f"
             ],
             [
              0.2222222222222222,
              "#7201a8"
             ],
             [
              0.3333333333333333,
              "#9c179e"
             ],
             [
              0.4444444444444444,
              "#bd3786"
             ],
             [
              0.5555555555555556,
              "#d8576b"
             ],
             [
              0.6666666666666666,
              "#ed7953"
             ],
             [
              0.7777777777777778,
              "#fb9f3a"
             ],
             [
              0.8888888888888888,
              "#fdca26"
             ],
             [
              1,
              "#f0f921"
             ]
            ],
            "type": "histogram2d"
           }
          ],
          "histogram2dcontour": [
           {
            "colorbar": {
             "outlinewidth": 0,
             "ticks": ""
            },
            "colorscale": [
             [
              0,
              "#0d0887"
             ],
             [
              0.1111111111111111,
              "#46039f"
             ],
             [
              0.2222222222222222,
              "#7201a8"
             ],
             [
              0.3333333333333333,
              "#9c179e"
             ],
             [
              0.4444444444444444,
              "#bd3786"
             ],
             [
              0.5555555555555556,
              "#d8576b"
             ],
             [
              0.6666666666666666,
              "#ed7953"
             ],
             [
              0.7777777777777778,
              "#fb9f3a"
             ],
             [
              0.8888888888888888,
              "#fdca26"
             ],
             [
              1,
              "#f0f921"
             ]
            ],
            "type": "histogram2dcontour"
           }
          ],
          "mesh3d": [
           {
            "colorbar": {
             "outlinewidth": 0,
             "ticks": ""
            },
            "type": "mesh3d"
           }
          ],
          "parcoords": [
           {
            "line": {
             "colorbar": {
              "outlinewidth": 0,
              "ticks": ""
             }
            },
            "type": "parcoords"
           }
          ],
          "pie": [
           {
            "automargin": true,
            "type": "pie"
           }
          ],
          "scatter": [
           {
            "fillpattern": {
             "fillmode": "overlay",
             "size": 10,
             "solidity": 0.2
            },
            "type": "scatter"
           }
          ],
          "scatter3d": [
           {
            "line": {
             "colorbar": {
              "outlinewidth": 0,
              "ticks": ""
             }
            },
            "marker": {
             "colorbar": {
              "outlinewidth": 0,
              "ticks": ""
             }
            },
            "type": "scatter3d"
           }
          ],
          "scattercarpet": [
           {
            "marker": {
             "colorbar": {
              "outlinewidth": 0,
              "ticks": ""
             }
            },
            "type": "scattercarpet"
           }
          ],
          "scattergeo": [
           {
            "marker": {
             "colorbar": {
              "outlinewidth": 0,
              "ticks": ""
             }
            },
            "type": "scattergeo"
           }
          ],
          "scattergl": [
           {
            "marker": {
             "colorbar": {
              "outlinewidth": 0,
              "ticks": ""
             }
            },
            "type": "scattergl"
           }
          ],
          "scattermapbox": [
           {
            "marker": {
             "colorbar": {
              "outlinewidth": 0,
              "ticks": ""
             }
            },
            "type": "scattermapbox"
           }
          ],
          "scatterpolar": [
           {
            "marker": {
             "colorbar": {
              "outlinewidth": 0,
              "ticks": ""
             }
            },
            "type": "scatterpolar"
           }
          ],
          "scatterpolargl": [
           {
            "marker": {
             "colorbar": {
              "outlinewidth": 0,
              "ticks": ""
             }
            },
            "type": "scatterpolargl"
           }
          ],
          "scatterternary": [
           {
            "marker": {
             "colorbar": {
              "outlinewidth": 0,
              "ticks": ""
             }
            },
            "type": "scatterternary"
           }
          ],
          "surface": [
           {
            "colorbar": {
             "outlinewidth": 0,
             "ticks": ""
            },
            "colorscale": [
             [
              0,
              "#0d0887"
             ],
             [
              0.1111111111111111,
              "#46039f"
             ],
             [
              0.2222222222222222,
              "#7201a8"
             ],
             [
              0.3333333333333333,
              "#9c179e"
             ],
             [
              0.4444444444444444,
              "#bd3786"
             ],
             [
              0.5555555555555556,
              "#d8576b"
             ],
             [
              0.6666666666666666,
              "#ed7953"
             ],
             [
              0.7777777777777778,
              "#fb9f3a"
             ],
             [
              0.8888888888888888,
              "#fdca26"
             ],
             [
              1,
              "#f0f921"
             ]
            ],
            "type": "surface"
           }
          ],
          "table": [
           {
            "cells": {
             "fill": {
              "color": "#EBF0F8"
             },
             "line": {
              "color": "white"
             }
            },
            "header": {
             "fill": {
              "color": "#C8D4E3"
             },
             "line": {
              "color": "white"
             }
            },
            "type": "table"
           }
          ]
         },
         "layout": {
          "annotationdefaults": {
           "arrowcolor": "#2a3f5f",
           "arrowhead": 0,
           "arrowwidth": 1
          },
          "autotypenumbers": "strict",
          "coloraxis": {
           "colorbar": {
            "outlinewidth": 0,
            "ticks": ""
           }
          },
          "colorscale": {
           "diverging": [
            [
             0,
             "#8e0152"
            ],
            [
             0.1,
             "#c51b7d"
            ],
            [
             0.2,
             "#de77ae"
            ],
            [
             0.3,
             "#f1b6da"
            ],
            [
             0.4,
             "#fde0ef"
            ],
            [
             0.5,
             "#f7f7f7"
            ],
            [
             0.6,
             "#e6f5d0"
            ],
            [
             0.7,
             "#b8e186"
            ],
            [
             0.8,
             "#7fbc41"
            ],
            [
             0.9,
             "#4d9221"
            ],
            [
             1,
             "#276419"
            ]
           ],
           "sequential": [
            [
             0,
             "#0d0887"
            ],
            [
             0.1111111111111111,
             "#46039f"
            ],
            [
             0.2222222222222222,
             "#7201a8"
            ],
            [
             0.3333333333333333,
             "#9c179e"
            ],
            [
             0.4444444444444444,
             "#bd3786"
            ],
            [
             0.5555555555555556,
             "#d8576b"
            ],
            [
             0.6666666666666666,
             "#ed7953"
            ],
            [
             0.7777777777777778,
             "#fb9f3a"
            ],
            [
             0.8888888888888888,
             "#fdca26"
            ],
            [
             1,
             "#f0f921"
            ]
           ],
           "sequentialminus": [
            [
             0,
             "#0d0887"
            ],
            [
             0.1111111111111111,
             "#46039f"
            ],
            [
             0.2222222222222222,
             "#7201a8"
            ],
            [
             0.3333333333333333,
             "#9c179e"
            ],
            [
             0.4444444444444444,
             "#bd3786"
            ],
            [
             0.5555555555555556,
             "#d8576b"
            ],
            [
             0.6666666666666666,
             "#ed7953"
            ],
            [
             0.7777777777777778,
             "#fb9f3a"
            ],
            [
             0.8888888888888888,
             "#fdca26"
            ],
            [
             1,
             "#f0f921"
            ]
           ]
          },
          "colorway": [
           "#636efa",
           "#EF553B",
           "#00cc96",
           "#ab63fa",
           "#FFA15A",
           "#19d3f3",
           "#FF6692",
           "#B6E880",
           "#FF97FF",
           "#FECB52"
          ],
          "font": {
           "color": "#2a3f5f"
          },
          "geo": {
           "bgcolor": "white",
           "lakecolor": "white",
           "landcolor": "#E5ECF6",
           "showlakes": true,
           "showland": true,
           "subunitcolor": "white"
          },
          "hoverlabel": {
           "align": "left"
          },
          "hovermode": "closest",
          "mapbox": {
           "style": "light"
          },
          "paper_bgcolor": "white",
          "plot_bgcolor": "#E5ECF6",
          "polar": {
           "angularaxis": {
            "gridcolor": "white",
            "linecolor": "white",
            "ticks": ""
           },
           "bgcolor": "#E5ECF6",
           "radialaxis": {
            "gridcolor": "white",
            "linecolor": "white",
            "ticks": ""
           }
          },
          "scene": {
           "xaxis": {
            "backgroundcolor": "#E5ECF6",
            "gridcolor": "white",
            "gridwidth": 2,
            "linecolor": "white",
            "showbackground": true,
            "ticks": "",
            "zerolinecolor": "white"
           },
           "yaxis": {
            "backgroundcolor": "#E5ECF6",
            "gridcolor": "white",
            "gridwidth": 2,
            "linecolor": "white",
            "showbackground": true,
            "ticks": "",
            "zerolinecolor": "white"
           },
           "zaxis": {
            "backgroundcolor": "#E5ECF6",
            "gridcolor": "white",
            "gridwidth": 2,
            "linecolor": "white",
            "showbackground": true,
            "ticks": "",
            "zerolinecolor": "white"
           }
          },
          "shapedefaults": {
           "line": {
            "color": "#2a3f5f"
           }
          },
          "ternary": {
           "aaxis": {
            "gridcolor": "white",
            "linecolor": "white",
            "ticks": ""
           },
           "baxis": {
            "gridcolor": "white",
            "linecolor": "white",
            "ticks": ""
           },
           "bgcolor": "#E5ECF6",
           "caxis": {
            "gridcolor": "white",
            "linecolor": "white",
            "ticks": ""
           }
          },
          "title": {
           "x": 0.05
          },
          "xaxis": {
           "automargin": true,
           "gridcolor": "white",
           "linecolor": "white",
           "ticks": "",
           "title": {
            "standoff": 15
           },
           "zerolinecolor": "white",
           "zerolinewidth": 2
          },
          "yaxis": {
           "automargin": true,
           "gridcolor": "white",
           "linecolor": "white",
           "ticks": "",
           "title": {
            "standoff": 15
           },
           "zerolinecolor": "white",
           "zerolinewidth": 2
          }
         }
        }
       }
      }
     },
     "metadata": {},
     "output_type": "display_data"
    }
   ],
   "source": [
    "#plot attractions with values for report\n",
    "fig = px.scatter_mapbox(candidates_df, lat=\"Latitude\", lon=\"Longitude\", color_discrete_sequence=[\"grey\"], zoom=12, height=900, size=candidates_df[\"Size\"], size_max=10)\n",
    "fig.update_layout(mapbox_style=\"open-street-map\")\n",
    "fig.update_layout(margin={\"r\":0,\"t\":0,\"l\":0,\"b\":0})\n",
    "fig.show()"
   ]
  },
  {
   "cell_type": "code",
   "execution_count": null,
   "metadata": {},
   "outputs": [],
   "source": []
  }
 ],
 "metadata": {
  "kernelspec": {
   "display_name": "Python 3.9.13 ('base')",
   "language": "python",
   "name": "python3"
  },
  "language_info": {
   "codemirror_mode": {
    "name": "ipython",
    "version": 3
   },
   "file_extension": ".py",
   "mimetype": "text/x-python",
   "name": "python",
   "nbconvert_exporter": "python",
   "pygments_lexer": "ipython3",
   "version": "3.9.13"
  },
  "orig_nbformat": 4,
  "vscode": {
   "interpreter": {
    "hash": "63d6f127d86314a340b3d99087fc86c7028b66270812fa264f7e46306cfcc6bd"
   }
  }
 },
 "nbformat": 4,
 "nbformat_minor": 2
}
